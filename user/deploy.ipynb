{
 "cells": [
  {
   "cell_type": "markdown",
   "metadata": {},
   "source": [
    "# Deploying\n",
    "\n",
    "You can copy the built result to any of your favorite places that can serve content online. Otherwise `d2lbook` provides two ways to deploy your build results: deploying through [Github](http://github.com/) or through [AWS](https://aws.amazon.com/).\n",
    "\n",
    "## Deploying Through Github\n",
    "\n",
    "[Github Pages](https://pages.github.com/) allow us to host a website through a Github repo. To do so, we first need to create a github repo, for example we created [d2l-ai/d2l-book-deploy-demo](https://github.com/d2l-ai/d2l-book-deploy-demo) for this example. Then enable serving from the master branch in `Settings -> GitHub Pages`. You will get a URL to access it. It is [d2l-ai.github.io/d2l-book-deploy-demo](https://d2l-ai.github.io/d2l-book-deploy-demo/) for this example. You can add anything to `README.md`, which will not show on the website.\n",
    "\n",
    "![Enable serving from master branch at Github](../img/github_pages.png)\n",
    "\n",
    ":width:`400px`\n",
    "\n",
    "\n",
    "Now let's create a project with `[deploy] github_repo` specified and build both HTML and PDF. You will see a large amount of logging information thanks to LaTeX,  more exactly, `xelatex`."
   ]
  },
  {
   "cell_type": "code",
   "execution_count": 1,
   "metadata": {},
   "outputs": [],
   "source": [
    "!mkdir -p deploy"
   ]
  },
  {
   "cell_type": "code",
   "execution_count": 2,
   "metadata": {},
   "outputs": [
    {
     "name": "stdout",
     "output_type": "stream",
     "text": [
      "Writing deploy/index.md\n"
     ]
    }
   ],
   "source": [
    "%%writefile deploy/index.md\n",
    "# Deploying Demo for d2lbook\n",
    "\n",
    "This is a demo to deploy on Github.\n",
    "\n",
    "````toc\n",
    "get_started\n",
    "````"
   ]
  },
  {
   "cell_type": "code",
   "execution_count": 3,
   "metadata": {},
   "outputs": [
    {
     "name": "stdout",
     "output_type": "stream",
     "text": [
      "Writing deploy/get_started.md\n"
     ]
    }
   ],
   "source": [
    "%%writefile deploy/get_started.md\n",
    "# Getting Started\n",
    "\n",
    "Please first install my favorite package `numpy`."
   ]
  },
  {
   "cell_type": "code",
   "execution_count": 4,
   "metadata": {},
   "outputs": [
    {
     "name": "stdout",
     "output_type": "stream",
     "text": [
      "Writing deploy/config.ini\n"
     ]
    }
   ],
   "source": [
    "%%writefile deploy/config.ini\n",
    "[project]\n",
    "name = deply-demo\n",
    "\n",
    "[html]\n",
    "header_links = PDF, https://https://d2l-ai.github.io/d2l-book-deploy-demo/deply-demo.pdf, fas fa-file-pdf\n",
    "\n",
    "[deploy]\n",
    "github_repo = d2l-ai/d2l-book-deploy-demo"
   ]
  },
  {
   "cell_type": "code",
   "execution_count": 5,
   "metadata": {},
   "outputs": [
    {
     "name": "stdout",
     "output_type": "stream",
     "text": [
      "[d2lbook:config.py:L12] INFO   Load configure from config.ini\r\n",
      "[d2lbook:build.py:L110] INFO   2 notebooks are outdated\r\n",
      "[d2lbook:build.py:L112] INFO   [1] ./get_started.md\r\n",
      "[d2lbook:build.py:L112] INFO   [2] ./index.md\r\n",
      "[d2lbook:build.py:L117] INFO   [1/2, 00:00:00] Evaluating ./get_started.md, save as _build/eval/get_started.ipynb\r\n"
     ]
    },
    {
     "name": "stdout",
     "output_type": "stream",
     "text": [
      "[d2lbook:execute.py:L404] INFO   Executing notebook with kernel: python\r\n"
     ]
    },
    {
     "name": "stdout",
     "output_type": "stream",
     "text": [
      "[d2lbook:build.py:L117] INFO   [2/2, 00:00:01] Evaluating ./index.md, save as _build/eval/index.ipynb\r\n"
     ]
    },
    {
     "name": "stdout",
     "output_type": "stream",
     "text": [
      "[d2lbook:execute.py:L404] INFO   Executing notebook with kernel: python\r\n"
     ]
    },
    {
     "name": "stdout",
     "output_type": "stream",
     "text": [
      "[d2lbook:build.py:L58] INFO   === Finished \"d2lbook build eval\" in 00:00:01\r\n",
      "[d2lbook:build.py:L183] INFO   2 rst files are outdated\r\n",
      "[d2lbook:build.py:L185] INFO   Convert _build/eval/get_started.ipynb to _build/rst/get_started.rst\r\n"
     ]
    },
    {
     "name": "stdout",
     "output_type": "stream",
     "text": [
      "[d2lbook:build.py:L185] INFO   Convert _build/eval/index.ipynb to _build/rst/index.rst\r\n"
     ]
    },
    {
     "name": "stdout",
     "output_type": "stream",
     "text": [
      "[d2lbook:build.py:L58] INFO   === Finished \"d2lbook build rst\" in 00:00:02\r\n",
      "[d2lbook:build.py:L58] INFO   === Finished \"d2lbook build ipynb\" in 00:00:00\r\n",
      "[d2lbook:build.py:L58] INFO   === Finished \"d2lbook build colab\" in 00:00:00\r\n",
      "[d2lbook:build.py:L58] INFO   === Finished \"d2lbook build sagemaker\" in 00:00:00\r\n"
     ]
    },
    {
     "name": "stdout",
     "output_type": "stream",
     "text": [
      "\u001b[01mRunning Sphinx v2.3.1\u001b[39;49;00m\r\n"
     ]
    },
    {
     "name": "stdout",
     "output_type": "stream",
     "text": [
      "\u001b[01mmaking output directory... \u001b[39;49;00mdone\r\n",
      "\u001b[01mbuilding [mo]: \u001b[39;49;00mtargets for 0 po files that are out of date\r\n",
      "\u001b[01mbuilding [html]: \u001b[39;49;00mtargets for 2 source files that are out of date\r\n",
      "\u001b[01mupdating environment: \u001b[39;49;00m[new config] 2 added, 0 changed, 0 removed\r\n",
      "\u001b[01mreading sources... \u001b[39;49;00m[ 50%] \u001b[35mget_started\u001b[39;49;00m                                           \r"
     ]
    },
    {
     "name": "stdout",
     "output_type": "stream",
     "text": [
      "\u001b[01mreading sources... \u001b[39;49;00m[100%] \u001b[35mindex\u001b[39;49;00m                                                 \r",
      "\r\n",
      "\u001b[01mlooking for now-outdated files... \u001b[39;49;00mnone found\r\n",
      "\u001b[01mpickling environment... \u001b[39;49;00mdone\r\n",
      "\u001b[01mchecking consistency... \u001b[39;49;00mdone\r\n",
      "\u001b[01mpreparing documents... \u001b[39;49;00mdone\r\n"
     ]
    },
    {
     "name": "stdout",
     "output_type": "stream",
     "text": [
      "\u001b[01mwriting output... \u001b[39;49;00m[100%] \u001b[32mindex\u001b[39;49;00m                                                  \r"
     ]
    },
    {
     "name": "stdout",
     "output_type": "stream",
     "text": [
      "\r\n",
      "\u001b[01mwaiting for workers...\u001b[39;49;00m\r\n",
      "\u001b[01mgenerating indices... \u001b[39;49;00m genindex"
     ]
    },
    {
     "name": "stdout",
     "output_type": "stream",
     "text": [
      "done\r\n",
      "\u001b[01mwriting additional pages... \u001b[39;49;00m searchdone\r\n",
      "\u001b[01mcopying static files... ... \u001b[39;49;00m"
     ]
    },
    {
     "name": "stdout",
     "output_type": "stream",
     "text": [
      "done\r\n",
      "\u001b[01mcopying extra files... \u001b[39;49;00mdone\r\n",
      "\u001b[01mdumping search index in English (code: en)... \u001b[39;49;00mdone\r\n",
      "\u001b[01mdumping object inventory... \u001b[39;49;00m"
     ]
    },
    {
     "name": "stdout",
     "output_type": "stream",
     "text": [
      "done\r\n",
      "\u001b[01mbuild succeeded.\u001b[39;49;00m\r\n",
      "\r\n",
      "The HTML pages are in _build/html.\r\n"
     ]
    },
    {
     "name": "stdout",
     "output_type": "stream",
     "text": [
      "[d2lbook:build.py:L58] INFO   === Finished \"d2lbook build html\" in 00:00:02\r\n"
     ]
    },
    {
     "name": "stdout",
     "output_type": "stream",
     "text": [
      "\u001b[01mRunning Sphinx v2.3.1\u001b[39;49;00m\r\n"
     ]
    },
    {
     "name": "stdout",
     "output_type": "stream",
     "text": [
      "\u001b[01mmaking output directory... \u001b[39;49;00mdone\r\n",
      "\u001b[01mbuilding [mo]: \u001b[39;49;00mtargets for 0 po files that are out of date\r\n",
      "\u001b[01mbuilding [latex]: \u001b[39;49;00mall documents\r\n",
      "\u001b[01mupdating environment: \u001b[39;49;00m[new config] 2 added, 0 changed, 0 removed\r\n",
      "\u001b[01mreading sources... \u001b[39;49;00m[ 50%] \u001b[35mget_started\u001b[39;49;00m                                           \r"
     ]
    },
    {
     "name": "stdout",
     "output_type": "stream",
     "text": [
      "\u001b[01mreading sources... \u001b[39;49;00m[100%] \u001b[35mindex\u001b[39;49;00m                                                 \r",
      "\r\n",
      "\u001b[01mlooking for now-outdated files... \u001b[39;49;00mnone found\r\n",
      "\u001b[01mpickling environment... \u001b[39;49;00mdone\r\n",
      "\u001b[01mchecking consistency... \u001b[39;49;00mdone\r\n",
      "\u001b[01mprocessing deply-demo.tex... \u001b[39;49;00m\u001b[32mindex\u001b[39;49;00m \u001b[32mget_started\u001b[39;49;00m \r\n",
      "resolving references...\r\n",
      "done\r\n",
      "\u001b[01mwriting... \u001b[39;49;00mdone\r\n",
      "\u001b[01mcopying TeX support files... \u001b[39;49;00m\u001b[01mcopying TeX support files...\u001b[39;49;00m\r\n"
     ]
    },
    {
     "name": "stdout",
     "output_type": "stream",
     "text": [
      "done\r\n",
      "\u001b[01mbuild succeeded.\u001b[39;49;00m\r\n",
      "\r\n",
      "The LaTeX files are in _build/pdf.\r\n",
      "Run 'make' in that directory to run these through (pdf)latex\r\n",
      "(use `make latexpdf' here to do that automatically).\r\n"
     ]
    },
    {
     "name": "stdout",
     "output_type": "stream",
     "text": [
      "latexmk -pdf -dvi- -ps-  'deply-demo.tex'\r\n"
     ]
    },
    {
     "name": "stdout",
     "output_type": "stream",
     "text": [
      "Latexmk: This is Latexmk, John Collins, 1 January 2015, version: 4.41.\r\n",
      "Latexmk: applying rule 'pdflatex'...\r\n",
      "Rule 'pdflatex': Rules & subrules not known to be previously run:\r\n",
      "   pdflatex\r\n",
      "Rule 'pdflatex': The following rules & subrules became out-of-date:\r\n",
      "      'pdflatex'\r\n",
      "------------\r\n",
      "Run number 1 of rule 'pdflatex'\r\n",
      "------------\r\n",
      "------------\r\n",
      "Running 'xelatex   -recorder  \"deply-demo.tex\"'\r\n",
      "------------\r\n"
     ]
    },
    {
     "name": "stdout",
     "output_type": "stream",
     "text": [
      "This is XeTeX, Version 3.14159265-2.6-0.99992 (TeX Live 2015/Debian) (preloaded format=xelatex)\r\n",
      " restricted \\write18 enabled.\r\n"
     ]
    },
    {
     "name": "stdout",
     "output_type": "stream",
     "text": [
      "entering extended mode\r\n",
      "(./deply-demo.tex\r\n",
      "LaTeX2e <2016/02/01>\r\n",
      "Babel <3.9q> and hyphenation patterns for 81 language(s) loaded.\r\n",
      "(./sphinxmanual.cls\r\n",
      "Document Class: sphinxmanual 2019/12/01 v2.3.0 Document class (Sphinx manual)\r\n",
      "(/usr/share/texlive/texmf-dist/tex/latex/base/report.cls\r\n",
      "Document Class: report 2014/09/29 v1.4h Standard LaTeX document class\r\n",
      "(/usr/share/texlive/texmf-dist/tex/latex/base/size11.clo)))\r\n",
      "(/usr/share/texlive/texmf-dist/tex/latex/cmap/cmap.sty\r\n",
      "\r\n",
      "Package cmap Warning: pdftex not detected - exiting.\r\n",
      "\r\n",
      ") (/usr/share/texlive/texmf-dist/tex/latex/fontspec/fontspec.sty\r\n",
      "(/usr/share/texlive/texmf-dist/tex/latex/l3kernel/expl3.sty\r\n",
      "(/usr/share/texlive/texmf-dist/tex/latex/l3kernel/expl3-code.tex"
     ]
    },
    {
     "name": "stdout",
     "output_type": "stream",
     "text": [
      ")\r\n",
      "(/usr/share/texlive/texmf-dist/tex/latex/l3kernel/l3xdvipdfmx.def))\r\n",
      "(/usr/share/texlive/texmf-dist/tex/latex/l3packages/xparse/xparse.sty)\r\n",
      "(/usr/share/texlive/texmf-dist/tex/latex/fontspec/fontspec-xetex.sty\r\n",
      "(/usr/share/texlive/texmf-dist/tex/latex/base/fontenc.sty\r\n",
      "(/usr/share/texlive/texmf-dist/tex/latex/euenc/eu1enc.def)\r\n",
      "(/usr/share/texlive/texmf-dist/tex/latex/euenc/eu1lmr.fd)"
     ]
    },
    {
     "name": "stdout",
     "output_type": "stream",
     "text": [
      ")\r\n",
      "(/usr/share/texlive/texmf-dist/tex/xelatex/xunicode/xunicode.sty\r\n",
      "(/usr/share/texmf/tex/latex/tipa/t3enc.def\r\n",
      "(/usr/share/texlive/texmf-dist/tex/latex/euenc/eu1lmss.fd))\r\n",
      "(/usr/share/texlive/texmf-dist/tex/latex/graphics/graphicx.sty\r\n",
      "(/usr/share/texlive/texmf-dist/tex/latex/graphics/keyval.sty)\r\n",
      "(/usr/share/texlive/texmf-dist/tex/latex/graphics/graphics.sty\r\n",
      "(/usr/share/texlive/texmf-dist/tex/latex/graphics/trig.sty)\r\n",
      "(/usr/share/texlive/texmf-dist/tex/latex/latexconfig/graphics.cfg)\r\n",
      "(/usr/share/texlive/texmf-dist/tex/xelatex/xetex-def/xetex.def\r\n",
      "(/usr/share/texlive/texmf-dist/tex/generic/oberdiek/infwarerr.sty)\r\n",
      "(/usr/share/texlive/texmf-dist/tex/generic/oberdiek/ltxcmds.sty)))))"
     ]
    },
    {
     "name": "stdout",
     "output_type": "stream",
     "text": [
      "\r\n",
      "(/usr/share/texlive/texmf-dist/tex/latex/fontspec/fontspec.cfg)))\r\n",
      "(/usr/share/texlive/texmf-dist/tex/latex/amsmath/amsmath.sty\r\n",
      "For additional information on amsmath, use the `?' option.\r\n",
      "(/usr/share/texlive/texmf-dist/tex/latex/amsmath/amstext.sty\r\n",
      "(/usr/share/texlive/texmf-dist/tex/latex/amsmath/amsgen.sty))\r\n",
      "(/usr/share/texlive/texmf-dist/tex/latex/amsmath/amsbsy.sty)\r\n",
      "(/usr/share/texlive/texmf-dist/tex/latex/amsmath/amsopn.sty))\r\n",
      "(/usr/share/texlive/texmf-dist/tex/latex/amsfonts/amssymb.sty\r\n",
      "(/usr/share/texlive/texmf-dist/tex/latex/amsfonts/amsfonts.sty))\r\n",
      "(/usr/share/texlive/texmf-dist/tex/latex/polyglossia/polyglossia.sty\r\n",
      "(/usr/share/texlive/texmf-dist/tex/latex/etoolbox/etoolbox.sty)\r\n",
      "(/usr/share/texlive/texmf-dist/tex/latex/makecmds/makecmds.sty)\r\n",
      "(/usr/share/texlive/texmf-dist/tex/latex/xkeyval/xkeyval.sty\r\n",
      "(/usr/share/texlive/texmf-dist/tex/generic/xkeyval/xkeyval.tex\r\n",
      "(/usr/share/texlive/texmf-dist/tex/generic/xkeyval/xkvutils.tex)))\r\n",
      "(/usr/share/texlive/texmf-dist/tex/generic/oberdiek/ifluatex.sty)\r\n",
      "(/usr/share/texlive/texmf-dist/tex/generic/ifxetex/ifxetex.sty))\r\n",
      "(/usr/share/texlive/texmf-dist/tex/latex/polyglossia/gloss-english.ldf)"
     ]
    },
    {
     "name": "stdout",
     "output_type": "stream",
     "text": [
      "\r\n",
      "(/usr/share/texlive/texmf-dist/tex/latex/fncychap/fncychap.sty) (./sphinx.sty\r\n",
      "(/usr/share/texlive/texmf-dist/tex/latex/fancyhdr/fancyhdr.sty)\r\n",
      "(/usr/share/texlive/texmf-dist/tex/latex/base/textcomp.sty\r\n",
      "(/usr/share/texlive/texmf-dist/tex/latex/base/ts1enc.def))\r\n",
      "(/usr/share/texlive/texmf-dist/tex/latex/titlesec/titlesec.sty)\r\n",
      "\r\n",
      " Package Sphinx Info: \r\n",
      " **** titlesec 2.10.1 successfully patched for bugfix ****\r\n",
      "\r\n",
      "(/usr/share/texlive/texmf-dist/tex/latex/tabulary/tabulary.sty\r\n",
      "(/usr/share/texlive/texmf-dist/tex/latex/tools/array.sty))\r\n",
      "(/usr/share/texlive/texmf-dist/tex/latex/tools/longtable.sty)\r\n",
      "(/usr/share/texlive/texmf-dist/tex/latex/varwidth/varwidth.sty)\r\n",
      "(./sphinxmulticell.sty)\r\n",
      "(/usr/share/texlive/texmf-dist/tex/latex/base/makeidx.sty)\r\n",
      "(/usr/share/texlive/texmf-dist/tex/latex/framed/framed.sty)\r\n",
      "(/usr/share/texlive/texmf-dist/tex/latex/xcolor/xcolor.sty\r\n",
      "(/usr/share/texlive/texmf-dist/tex/latex/latexconfig/color.cfg))\r\n",
      "(/usr/share/texlive/texmf-dist/tex/latex/fancyvrb/fancyvrb.sty\r\n",
      "Style option: `fancyvrb' v2.7a, with DG/SPQR fixes, and firstline=lastline fix \r\n",
      "<2008/02/07> (tvz)"
     ]
    },
    {
     "name": "stdout",
     "output_type": "stream",
     "text": [
      ") (./footnotehyper-sphinx.sty)\r\n",
      "(/usr/share/texlive/texmf-dist/tex/latex/float/float.sty)\r\n",
      "(/usr/share/texlive/texmf-dist/tex/latex/wrapfig/wrapfig.sty)\r\n",
      "(/usr/share/texlive/texmf-dist/tex/latex/parskip/parskip.sty)\r\n",
      "(/usr/share/texlive/texmf-dist/tex/latex/base/alltt.sty)\r\n",
      "(/usr/share/texlive/texmf-dist/tex/latex/upquote/upquote.sty)\r\n",
      "(/usr/share/texlive/texmf-dist/tex/latex/capt-of/capt-of.sty)\r\n",
      "(/usr/share/texlive/texmf-dist/tex/latex/needspace/needspace.sty)\r\n",
      "(/usr/share/texlive/texmf-dist/tex/latex/carlisle/remreset.sty)\r\n",
      "(./sphinxhighlight.sty)\r\n",
      "(/usr/share/texlive/texmf-dist/tex/latex/oberdiek/kvoptions.sty\r\n",
      "(/usr/share/texlive/texmf-dist/tex/generic/oberdiek/kvsetkeys.sty\r\n",
      "(/usr/share/texlive/texmf-dist/tex/generic/oberdiek/etexcmds.sty))))\r\n",
      "(/usr/share/texlive/texmf-dist/tex/latex/geometry/geometry.sty\r\n",
      "(/usr/share/texlive/texmf-dist/tex/generic/oberdiek/ifpdf.sty)\r\n",
      "(/usr/share/texlive/texmf-dist/tex/generic/oberdiek/ifvtex.sty))\r\n",
      "(/usr/share/texlive/texmf-dist/tex/latex/hyperref/hyperref.sty\r\n",
      "(/usr/share/texlive/texmf-dist/tex/generic/oberdiek/hobsub-hyperref.sty\r\n",
      "(/usr/share/texlive/texmf-dist/tex/generic/oberdiek/hobsub-generic.sty))\r\n",
      "(/usr/share/texlive/texmf-dist/tex/latex/oberdiek/auxhook.sty)\r\n",
      "(/usr/share/texlive/texmf-dist/tex/latex/hyperref/pd1enc.def)\r\n",
      "(/usr/share/texlive/texmf-dist/tex/latex/latexconfig/hyperref.cfg)\r\n",
      "(/usr/share/texlive/texmf-dist/tex/latex/hyperref/puenc.def"
     ]
    },
    {
     "name": "stdout",
     "output_type": "stream",
     "text": [
      ")\r\n",
      "(/usr/share/texlive/texmf-dist/tex/latex/url/url.sty))\r\n",
      "\r\n",
      "Package hyperref Message: Driver (autodetected): hxetex.\r\n",
      "\r\n",
      "(/usr/share/texlive/texmf-dist/tex/latex/hyperref/hxetex.def\r\n",
      "(/usr/share/texlive/texmf-dist/tex/generic/oberdiek/stringenc.sty)\r\n",
      "(/usr/share/texlive/texmf-dist/tex/latex/oberdiek/rerunfilecheck.sty))\r\n",
      "(/usr/share/texlive/texmf-dist/tex/latex/oberdiek/hypcap.sty)\r\n",
      "(./sphinxmessages.sty)\r\n",
      "(/usr/share/texlive/texmf-dist/tex/latex/blindtext/blindtext.sty\r\n",
      "(/usr/share/texlive/texmf-dist/tex/latex/tools/xspace.sty))\r\n",
      "(/usr/share/texlive/texmf-dist/tex/latex/natbib/natbib.sty)\r\n",
      "(/usr/share/texlive/texmf-dist/tex/latex/minted/minted.sty\r\n",
      "(/usr/share/texlive/texmf-dist/tex/latex/base/ifthen.sty)\r\n",
      "(/usr/share/texlive/texmf-dist/tex/latex/tools/calc.sty)\r\n",
      "(/usr/share/texlive/texmf-dist/tex/latex/ifplatform/ifplatform.sty\r\n",
      "(/usr/share/texlive/texmf-dist/tex/generic/oberdiek/catchfile.sty)\r\n",
      "\r\n",
      "Package ifplatform Warning: \r\n",
      "    shell escape is disabled, so I can only detect \\ifwindows.\r\n",
      "\r\n",
      ") (/usr/share/texlive/texmf-dist/tex/generic/xstring/xstring.sty\r\n",
      "(/usr/share/texlive/texmf-dist/tex/generic/xstring/xstring.tex))\r\n",
      "(/usr/share/texlive/texmf-dist/tex/latex/lineno/lineno.sty"
     ]
    },
    {
     "name": "stdout",
     "output_type": "stream",
     "text": [
      "))\r\n",
      "Writing index file deply-demo.idx\r\n",
      "(./deply-demo.aux) (/usr/share/texmf/tex/latex/tipa/t3cmr.fd)\r\n",
      "(/usr/share/texlive/texmf-dist/tex/latex/base/ts1cmr.fd)\r\n",
      "*geometry* driver: auto-detecting\r\n",
      "*geometry* detected driver: xetex\r\n",
      "(/usr/share/texlive/texmf-dist/tex/latex/hyperref/nameref.sty\r\n",
      "(/usr/share/texlive/texmf-dist/tex/generic/oberdiek/gettitlestring.sty))\r\n",
      "\r\n",
      "Package hyperref Warning: Rerun to get /PageLabels entry.\r\n",
      "\r\n",
      "(/usr/share/texlive/texmf-dist/tex/latex/amsfonts/umsa.fd)\r\n",
      "(/usr/share/texlive/texmf-dist/tex/latex/amsfonts/umsb.fd) [1] [2] [1] [2]\r\n",
      "[1] [2]\r\n",
      "Chapter 1.\r\n",
      "No file deply-demo.ind.\r\n",
      "[3"
     ]
    },
    {
     "name": "stdout",
     "output_type": "stream",
     "text": [
      "] (./deply-demo.aux)\r\n",
      "\r\n",
      "LaTeX Warning: Label(s) may have changed. Rerun to get cross-references right.\r\n",
      "\r\n",
      " )\r\n"
     ]
    },
    {
     "name": "stdout",
     "output_type": "stream",
     "text": [
      "(see the transcript file for additional information)\r\n",
      "Output written on deply-demo.pdf (7 pages).\r\n",
      "Transcript written on deply-demo.log.\r\n"
     ]
    },
    {
     "name": "stdout",
     "output_type": "stream",
     "text": [
      "Latexmk: Index file 'deply-demo.idx' was written\r\n",
      "Latexmk: References changed.\r\n",
      "Latexmk: Missing input file: 'deply-demo.ind' from line\r\n",
      "  'No file deply-demo.ind.'\r\n",
      "Latexmk: References changed.\r\n",
      "Latexmk: Log file says output to 'deply-demo.pdf'\r\n"
     ]
    },
    {
     "name": "stdout",
     "output_type": "stream",
     "text": [
      "Latexmk: applying rule 'makeindex deply-demo.idx'...\r\n",
      "Rule 'makeindex deply-demo.idx': File changes, etc:\r\n",
      "   Non-existent destination files:\r\n",
      "      'deply-demo.ind'\r\n",
      "------------\r\n",
      "Run number 1 of rule 'makeindex deply-demo.idx'\r\n",
      "------------\r\n",
      "------------\r\n",
      "Running 'internal xindy -L english -C utf8  -M sphinx.xdy  -o \"deply-demo.ind\" \"deply-demo.idx\"'\r\n",
      "------------\r\n",
      "Latexmk: calling xindy( -L english -C utf8 -M sphinx.xdy -o deply-demo.ind deply-demo.idx )\r\n",
      "Latexmk: applying rule 'pdflatex'...\r\n",
      "Rule 'pdflatex': File changes, etc:\r\n",
      "   Changed files, or newly in use since previous run(s):\r\n",
      "      'deply-demo.aux'\r\n",
      "      'deply-demo.ind'\r\n",
      "------------\r\n",
      "Run number 2 of rule 'pdflatex'\r\n",
      "------------\r\n",
      "------------\r\n",
      "Running 'xelatex   -recorder  \"deply-demo.tex\"'\r\n",
      "------------\r\n"
     ]
    },
    {
     "name": "stdout",
     "output_type": "stream",
     "text": [
      "This is XeTeX, Version 3.14159265-2.6-0.99992 (TeX Live 2015/Debian) (preloaded format=xelatex)\r\n",
      " restricted \\write18 enabled.\r\n"
     ]
    },
    {
     "name": "stdout",
     "output_type": "stream",
     "text": [
      "entering extended mode\r\n",
      "(./deply-demo.tex\r\n",
      "LaTeX2e <2016/02/01>\r\n",
      "Babel <3.9q> and hyphenation patterns for 81 language(s) loaded.\r\n",
      "(./sphinxmanual.cls\r\n",
      "Document Class: sphinxmanual 2019/12/01 v2.3.0 Document class (Sphinx manual)\r\n",
      "(/usr/share/texlive/texmf-dist/tex/latex/base/report.cls\r\n",
      "Document Class: report 2014/09/29 v1.4h Standard LaTeX document class\r\n",
      "(/usr/share/texlive/texmf-dist/tex/latex/base/size11.clo)))\r\n",
      "(/usr/share/texlive/texmf-dist/tex/latex/cmap/cmap.sty\r\n",
      "\r\n",
      "Package cmap Warning: pdftex not detected - exiting.\r\n",
      "\r\n",
      ") (/usr/share/texlive/texmf-dist/tex/latex/fontspec/fontspec.sty\r\n",
      "(/usr/share/texlive/texmf-dist/tex/latex/l3kernel/expl3.sty\r\n",
      "(/usr/share/texlive/texmf-dist/tex/latex/l3kernel/expl3-code.tex"
     ]
    },
    {
     "name": "stdout",
     "output_type": "stream",
     "text": [
      ")\r\n",
      "(/usr/share/texlive/texmf-dist/tex/latex/l3kernel/l3xdvipdfmx.def))\r\n",
      "(/usr/share/texlive/texmf-dist/tex/latex/l3packages/xparse/xparse.sty)\r\n",
      "(/usr/share/texlive/texmf-dist/tex/latex/fontspec/fontspec-xetex.sty\r\n",
      "(/usr/share/texlive/texmf-dist/tex/latex/base/fontenc.sty\r\n",
      "(/usr/share/texlive/texmf-dist/tex/latex/euenc/eu1enc.def)\r\n",
      "(/usr/share/texlive/texmf-dist/tex/latex/euenc/eu1lmr.fd)"
     ]
    },
    {
     "name": "stdout",
     "output_type": "stream",
     "text": [
      ")\r\n",
      "(/usr/share/texlive/texmf-dist/tex/xelatex/xunicode/xunicode.sty\r\n",
      "(/usr/share/texmf/tex/latex/tipa/t3enc.def\r\n",
      "(/usr/share/texlive/texmf-dist/tex/latex/euenc/eu1lmss.fd))\r\n",
      "(/usr/share/texlive/texmf-dist/tex/latex/graphics/graphicx.sty\r\n",
      "(/usr/share/texlive/texmf-dist/tex/latex/graphics/keyval.sty)\r\n",
      "(/usr/share/texlive/texmf-dist/tex/latex/graphics/graphics.sty\r\n",
      "(/usr/share/texlive/texmf-dist/tex/latex/graphics/trig.sty)\r\n",
      "(/usr/share/texlive/texmf-dist/tex/latex/latexconfig/graphics.cfg)\r\n",
      "(/usr/share/texlive/texmf-dist/tex/xelatex/xetex-def/xetex.def\r\n",
      "(/usr/share/texlive/texmf-dist/tex/generic/oberdiek/infwarerr.sty)\r\n",
      "(/usr/share/texlive/texmf-dist/tex/generic/oberdiek/ltxcmds.sty)))))"
     ]
    },
    {
     "name": "stdout",
     "output_type": "stream",
     "text": [
      "\r\n",
      "(/usr/share/texlive/texmf-dist/tex/latex/fontspec/fontspec.cfg)))\r\n",
      "(/usr/share/texlive/texmf-dist/tex/latex/amsmath/amsmath.sty\r\n",
      "For additional information on amsmath, use the `?' option.\r\n",
      "(/usr/share/texlive/texmf-dist/tex/latex/amsmath/amstext.sty\r\n",
      "(/usr/share/texlive/texmf-dist/tex/latex/amsmath/amsgen.sty))\r\n",
      "(/usr/share/texlive/texmf-dist/tex/latex/amsmath/amsbsy.sty)\r\n",
      "(/usr/share/texlive/texmf-dist/tex/latex/amsmath/amsopn.sty))\r\n",
      "(/usr/share/texlive/texmf-dist/tex/latex/amsfonts/amssymb.sty\r\n",
      "(/usr/share/texlive/texmf-dist/tex/latex/amsfonts/amsfonts.sty))\r\n",
      "(/usr/share/texlive/texmf-dist/tex/latex/polyglossia/polyglossia.sty\r\n",
      "(/usr/share/texlive/texmf-dist/tex/latex/etoolbox/etoolbox.sty)\r\n",
      "(/usr/share/texlive/texmf-dist/tex/latex/makecmds/makecmds.sty)\r\n",
      "(/usr/share/texlive/texmf-dist/tex/latex/xkeyval/xkeyval.sty\r\n",
      "(/usr/share/texlive/texmf-dist/tex/generic/xkeyval/xkeyval.tex\r\n",
      "(/usr/share/texlive/texmf-dist/tex/generic/xkeyval/xkvutils.tex)))\r\n",
      "(/usr/share/texlive/texmf-dist/tex/generic/oberdiek/ifluatex.sty)\r\n",
      "(/usr/share/texlive/texmf-dist/tex/generic/ifxetex/ifxetex.sty))\r\n",
      "(/usr/share/texlive/texmf-dist/tex/latex/polyglossia/gloss-english.ldf)"
     ]
    },
    {
     "name": "stdout",
     "output_type": "stream",
     "text": [
      "\r\n",
      "(/usr/share/texlive/texmf-dist/tex/latex/fncychap/fncychap.sty) (./sphinx.sty\r\n",
      "(/usr/share/texlive/texmf-dist/tex/latex/fancyhdr/fancyhdr.sty)\r\n",
      "(/usr/share/texlive/texmf-dist/tex/latex/base/textcomp.sty\r\n",
      "(/usr/share/texlive/texmf-dist/tex/latex/base/ts1enc.def))\r\n",
      "(/usr/share/texlive/texmf-dist/tex/latex/titlesec/titlesec.sty)\r\n",
      "\r\n",
      " Package Sphinx Info: \r\n",
      " **** titlesec 2.10.1 successfully patched for bugfix ****\r\n",
      "\r\n",
      "(/usr/share/texlive/texmf-dist/tex/latex/tabulary/tabulary.sty\r\n",
      "(/usr/share/texlive/texmf-dist/tex/latex/tools/array.sty))\r\n",
      "(/usr/share/texlive/texmf-dist/tex/latex/tools/longtable.sty)\r\n",
      "(/usr/share/texlive/texmf-dist/tex/latex/varwidth/varwidth.sty)\r\n",
      "(./sphinxmulticell.sty)\r\n",
      "(/usr/share/texlive/texmf-dist/tex/latex/base/makeidx.sty)\r\n",
      "(/usr/share/texlive/texmf-dist/tex/latex/framed/framed.sty)\r\n",
      "(/usr/share/texlive/texmf-dist/tex/latex/xcolor/xcolor.sty\r\n",
      "(/usr/share/texlive/texmf-dist/tex/latex/latexconfig/color.cfg))\r\n",
      "(/usr/share/texlive/texmf-dist/tex/latex/fancyvrb/fancyvrb.sty\r\n",
      "Style option: `fancyvrb' v2.7a, with DG/SPQR fixes, and firstline=lastline fix \r\n",
      "<2008/02/07> (tvz)"
     ]
    },
    {
     "name": "stdout",
     "output_type": "stream",
     "text": [
      ") (./footnotehyper-sphinx.sty)\r\n",
      "(/usr/share/texlive/texmf-dist/tex/latex/float/float.sty)\r\n",
      "(/usr/share/texlive/texmf-dist/tex/latex/wrapfig/wrapfig.sty)\r\n",
      "(/usr/share/texlive/texmf-dist/tex/latex/parskip/parskip.sty)\r\n",
      "(/usr/share/texlive/texmf-dist/tex/latex/base/alltt.sty)\r\n",
      "(/usr/share/texlive/texmf-dist/tex/latex/upquote/upquote.sty)\r\n",
      "(/usr/share/texlive/texmf-dist/tex/latex/capt-of/capt-of.sty)\r\n",
      "(/usr/share/texlive/texmf-dist/tex/latex/needspace/needspace.sty)\r\n",
      "(/usr/share/texlive/texmf-dist/tex/latex/carlisle/remreset.sty)\r\n",
      "(./sphinxhighlight.sty)\r\n",
      "(/usr/share/texlive/texmf-dist/tex/latex/oberdiek/kvoptions.sty\r\n",
      "(/usr/share/texlive/texmf-dist/tex/generic/oberdiek/kvsetkeys.sty\r\n",
      "(/usr/share/texlive/texmf-dist/tex/generic/oberdiek/etexcmds.sty))))\r\n",
      "(/usr/share/texlive/texmf-dist/tex/latex/geometry/geometry.sty\r\n",
      "(/usr/share/texlive/texmf-dist/tex/generic/oberdiek/ifpdf.sty)\r\n",
      "(/usr/share/texlive/texmf-dist/tex/generic/oberdiek/ifvtex.sty))\r\n",
      "(/usr/share/texlive/texmf-dist/tex/latex/hyperref/hyperref.sty\r\n",
      "(/usr/share/texlive/texmf-dist/tex/generic/oberdiek/hobsub-hyperref.sty\r\n",
      "(/usr/share/texlive/texmf-dist/tex/generic/oberdiek/hobsub-generic.sty))\r\n",
      "(/usr/share/texlive/texmf-dist/tex/latex/oberdiek/auxhook.sty)\r\n",
      "(/usr/share/texlive/texmf-dist/tex/latex/hyperref/pd1enc.def)\r\n",
      "(/usr/share/texlive/texmf-dist/tex/latex/latexconfig/hyperref.cfg)\r\n",
      "(/usr/share/texlive/texmf-dist/tex/latex/hyperref/puenc.def"
     ]
    },
    {
     "name": "stdout",
     "output_type": "stream",
     "text": [
      ")\r\n",
      "(/usr/share/texlive/texmf-dist/tex/latex/url/url.sty))\r\n",
      "\r\n",
      "Package hyperref Message: Driver (autodetected): hxetex.\r\n",
      "\r\n",
      "(/usr/share/texlive/texmf-dist/tex/latex/hyperref/hxetex.def\r\n",
      "(/usr/share/texlive/texmf-dist/tex/generic/oberdiek/stringenc.sty)\r\n",
      "(/usr/share/texlive/texmf-dist/tex/latex/oberdiek/rerunfilecheck.sty))\r\n",
      "(/usr/share/texlive/texmf-dist/tex/latex/oberdiek/hypcap.sty)\r\n",
      "(./sphinxmessages.sty)\r\n",
      "(/usr/share/texlive/texmf-dist/tex/latex/blindtext/blindtext.sty\r\n",
      "(/usr/share/texlive/texmf-dist/tex/latex/tools/xspace.sty))\r\n",
      "(/usr/share/texlive/texmf-dist/tex/latex/natbib/natbib.sty)\r\n",
      "(/usr/share/texlive/texmf-dist/tex/latex/minted/minted.sty\r\n",
      "(/usr/share/texlive/texmf-dist/tex/latex/base/ifthen.sty)\r\n",
      "(/usr/share/texlive/texmf-dist/tex/latex/tools/calc.sty)\r\n",
      "(/usr/share/texlive/texmf-dist/tex/latex/ifplatform/ifplatform.sty\r\n",
      "(/usr/share/texlive/texmf-dist/tex/generic/oberdiek/catchfile.sty)\r\n",
      "\r\n",
      "Package ifplatform Warning: \r\n",
      "    shell escape is disabled, so I can only detect \\ifwindows.\r\n",
      "\r\n",
      ") (/usr/share/texlive/texmf-dist/tex/generic/xstring/xstring.sty\r\n",
      "(/usr/share/texlive/texmf-dist/tex/generic/xstring/xstring.tex))\r\n",
      "(/usr/share/texlive/texmf-dist/tex/latex/lineno/lineno.sty)"
     ]
    },
    {
     "name": "stdout",
     "output_type": "stream",
     "text": [
      ")\r\n",
      "Writing index file deply-demo.idx\r\n",
      "(./deply-demo.aux) (/usr/share/texmf/tex/latex/tipa/t3cmr.fd)\r\n",
      "(/usr/share/texlive/texmf-dist/tex/latex/base/ts1cmr.fd)\r\n",
      "*geometry* driver: auto-detecting\r\n",
      "*geometry* detected driver: xetex\r\n",
      "(/usr/share/texlive/texmf-dist/tex/latex/hyperref/nameref.sty\r\n",
      "(/usr/share/texlive/texmf-dist/tex/generic/oberdiek/gettitlestring.sty))\r\n",
      "(./deply-demo.out) (./deply-demo.out)\r\n",
      "(/usr/share/texlive/texmf-dist/tex/latex/amsfonts/umsa.fd)\r\n",
      "(/usr/share/texlive/texmf-dist/tex/latex/amsfonts/umsb.fd) [1] [2]\r\n",
      "(./deply-demo.toc) [1] [2] [1] [2]\r\n",
      "Chapter 1.\r\n"
     ]
    },
    {
     "name": "stdout",
     "output_type": "stream",
     "text": [
      "(./deply-demo.ind) [3] (./deply-demo.aux) )\r\n"
     ]
    },
    {
     "name": "stdout",
     "output_type": "stream",
     "text": [
      "(see the transcript file for additional information)\r\n",
      "Output written on deply-demo.pdf (7 pages).\r\n",
      "Transcript written on deply-demo.log.\r\n"
     ]
    },
    {
     "name": "stdout",
     "output_type": "stream",
     "text": [
      "Latexmk: Index file 'deply-demo.idx' was written\r\n",
      "Latexmk: Log file says output to 'deply-demo.pdf'\r\n"
     ]
    },
    {
     "name": "stdout",
     "output_type": "stream",
     "text": [
      "Latexmk: applying rule 'pdflatex'...\r\n",
      "Rule 'pdflatex': File changes, etc:\r\n",
      "   Changed files, or newly in use since previous run(s):\r\n",
      "      'deply-demo.out'\r\n",
      "      'deply-demo.toc'\r\n",
      "------------\r\n",
      "Run number 3 of rule 'pdflatex'\r\n",
      "------------\r\n",
      "------------\r\n",
      "Running 'xelatex   -recorder  \"deply-demo.tex\"'\r\n",
      "------------\r\n"
     ]
    },
    {
     "name": "stdout",
     "output_type": "stream",
     "text": [
      "This is XeTeX, Version 3.14159265-2.6-0.99992 (TeX Live 2015/Debian) (preloaded format=xelatex)\r\n",
      " restricted \\write18 enabled.\r\n"
     ]
    },
    {
     "name": "stdout",
     "output_type": "stream",
     "text": [
      "entering extended mode\r\n",
      "(./deply-demo.tex\r\n",
      "LaTeX2e <2016/02/01>\r\n",
      "Babel <3.9q> and hyphenation patterns for 81 language(s) loaded.\r\n",
      "(./sphinxmanual.cls\r\n",
      "Document Class: sphinxmanual 2019/12/01 v2.3.0 Document class (Sphinx manual)\r\n",
      "(/usr/share/texlive/texmf-dist/tex/latex/base/report.cls\r\n",
      "Document Class: report 2014/09/29 v1.4h Standard LaTeX document class\r\n",
      "(/usr/share/texlive/texmf-dist/tex/latex/base/size11.clo)))\r\n",
      "(/usr/share/texlive/texmf-dist/tex/latex/cmap/cmap.sty\r\n",
      "\r\n",
      "Package cmap Warning: pdftex not detected - exiting.\r\n",
      "\r\n",
      ") (/usr/share/texlive/texmf-dist/tex/latex/fontspec/fontspec.sty\r\n",
      "(/usr/share/texlive/texmf-dist/tex/latex/l3kernel/expl3.sty\r\n",
      "(/usr/share/texlive/texmf-dist/tex/latex/l3kernel/expl3-code.tex"
     ]
    },
    {
     "name": "stdout",
     "output_type": "stream",
     "text": [
      ")\r\n",
      "(/usr/share/texlive/texmf-dist/tex/latex/l3kernel/l3xdvipdfmx.def))\r\n",
      "(/usr/share/texlive/texmf-dist/tex/latex/l3packages/xparse/xparse.sty)\r\n",
      "(/usr/share/texlive/texmf-dist/tex/latex/fontspec/fontspec-xetex.sty\r\n",
      "(/usr/share/texlive/texmf-dist/tex/latex/base/fontenc.sty\r\n",
      "(/usr/share/texlive/texmf-dist/tex/latex/euenc/eu1enc.def)\r\n",
      "(/usr/share/texlive/texmf-dist/tex/latex/euenc/eu1lmr.fd))\r\n",
      "(/usr/share/texlive/texmf-dist/tex/xelatex/xunicode/xunicode.sty\r\n",
      "(/usr/share/texmf/tex/latex/tipa/t3enc.def\r\n",
      "(/usr/share/texlive/texmf-dist/tex/latex/euenc/eu1lmss.fd))\r\n",
      "(/usr/share/texlive/texmf-dist/tex/latex/graphics/graphicx.sty\r\n",
      "(/usr/share/texlive/texmf-dist/tex/latex/graphics/keyval.sty)\r\n",
      "(/usr/share/texlive/texmf-dist/tex/latex/graphics/graphics.sty\r\n",
      "(/usr/share/texlive/texmf-dist/tex/latex/graphics/trig.sty)\r\n",
      "(/usr/share/texlive/texmf-dist/tex/latex/latexconfig/graphics.cfg)\r\n",
      "(/usr/share/texlive/texmf-dist/tex/xelatex/xetex-def/xetex.def\r\n",
      "(/usr/share/texlive/texmf-dist/tex/generic/oberdiek/infwarerr.sty)\r\n",
      "(/usr/share/texlive/texmf-dist/tex/generic/oberdiek/ltxcmds.sty))))"
     ]
    },
    {
     "name": "stdout",
     "output_type": "stream",
     "text": [
      ")"
     ]
    },
    {
     "name": "stdout",
     "output_type": "stream",
     "text": [
      "\r\n",
      "(/usr/share/texlive/texmf-dist/tex/latex/fontspec/fontspec.cfg)))\r\n",
      "(/usr/share/texlive/texmf-dist/tex/latex/amsmath/amsmath.sty\r\n",
      "For additional information on amsmath, use the `?' option.\r\n",
      "(/usr/share/texlive/texmf-dist/tex/latex/amsmath/amstext.sty\r\n",
      "(/usr/share/texlive/texmf-dist/tex/latex/amsmath/amsgen.sty))\r\n",
      "(/usr/share/texlive/texmf-dist/tex/latex/amsmath/amsbsy.sty)\r\n",
      "(/usr/share/texlive/texmf-dist/tex/latex/amsmath/amsopn.sty))"
     ]
    },
    {
     "name": "stdout",
     "output_type": "stream",
     "text": [
      "\r\n",
      "(/usr/share/texlive/texmf-dist/tex/latex/amsfonts/amssymb.sty\r\n",
      "(/usr/share/texlive/texmf-dist/tex/latex/amsfonts/amsfonts.sty))\r\n",
      "(/usr/share/texlive/texmf-dist/tex/latex/polyglossia/polyglossia.sty\r\n",
      "(/usr/share/texlive/texmf-dist/tex/latex/etoolbox/etoolbox.sty)\r\n",
      "(/usr/share/texlive/texmf-dist/tex/latex/makecmds/makecmds.sty)\r\n",
      "(/usr/share/texlive/texmf-dist/tex/latex/xkeyval/xkeyval.sty\r\n",
      "(/usr/share/texlive/texmf-dist/tex/generic/xkeyval/xkeyval.tex\r\n",
      "(/usr/share/texlive/texmf-dist/tex/generic/xkeyval/xkvutils.tex)))\r\n",
      "(/usr/share/texlive/texmf-dist/tex/generic/oberdiek/ifluatex.sty)\r\n",
      "(/usr/share/texlive/texmf-dist/tex/generic/ifxetex/ifxetex.sty))\r\n",
      "(/usr/share/texlive/texmf-dist/tex/latex/polyglossia/gloss-english.ldf)"
     ]
    },
    {
     "name": "stdout",
     "output_type": "stream",
     "text": [
      "\r\n",
      "(/usr/share/texlive/texmf-dist/tex/latex/fncychap/fncychap.sty) (./sphinx.sty\r\n",
      "(/usr/share/texlive/texmf-dist/tex/latex/fancyhdr/fancyhdr.sty)\r\n",
      "(/usr/share/texlive/texmf-dist/tex/latex/base/textcomp.sty\r\n",
      "(/usr/share/texlive/texmf-dist/tex/latex/base/ts1enc.def))\r\n",
      "(/usr/share/texlive/texmf-dist/tex/latex/titlesec/titlesec.sty)\r\n",
      "\r\n",
      " Package Sphinx Info: \r\n",
      " **** titlesec 2.10.1 successfully patched for bugfix ****\r\n",
      "\r\n",
      "(/usr/share/texlive/texmf-dist/tex/latex/tabulary/tabulary.sty\r\n",
      "(/usr/share/texlive/texmf-dist/tex/latex/tools/array.sty))\r\n",
      "(/usr/share/texlive/texmf-dist/tex/latex/tools/longtable.sty)\r\n",
      "(/usr/share/texlive/texmf-dist/tex/latex/varwidth/varwidth.sty)\r\n",
      "(./sphinxmulticell.sty)\r\n",
      "(/usr/share/texlive/texmf-dist/tex/latex/base/makeidx.sty)\r\n",
      "(/usr/share/texlive/texmf-dist/tex/latex/framed/framed.sty)\r\n",
      "(/usr/share/texlive/texmf-dist/tex/latex/xcolor/xcolor.sty\r\n",
      "(/usr/share/texlive/texmf-dist/tex/latex/latexconfig/color.cfg))\r\n",
      "(/usr/share/texlive/texmf-dist/tex/latex/fancyvrb/fancyvrb.sty\r\n",
      "Style option: `fancyvrb' v2.7a, with DG/SPQR fixes, and firstline=lastline fix \r\n",
      "<2008/02/07> (tvz)) (./footnotehyper-sphinx.sty)\r\n",
      "(/usr/share/texlive/texmf-dist/tex/latex/float/float.sty)\r\n",
      "(/usr/share/texlive/texmf-dist/tex/latex/wrapfig/wrapfig.sty)\r\n",
      "(/usr/share/texlive/texmf-dist/tex/latex/parskip/parskip.sty)\r\n",
      "(/usr/share/texlive/texmf-dist/tex/latex/base/alltt.sty)\r\n",
      "(/usr/share/texlive/texmf-dist/tex/latex/upquote/upquote.sty)\r\n",
      "(/usr/share/texlive/texmf-dist/tex/latex/capt-of/capt-of.sty)\r\n",
      "(/usr/share/texlive/texmf-dist/tex/latex/needspace/needspace.sty)\r\n",
      "(/usr/share/texlive/texmf-dist/tex/latex/carlisle/remreset.sty)\r\n",
      "(./sphinxhighlight.sty)\r\n",
      "(/usr/share/texlive/texmf-dist/tex/latex/oberdiek/kvoptions.sty\r\n",
      "(/usr/share/texlive/texmf-dist/tex/generic/oberdiek/kvsetkeys.sty\r\n",
      "(/usr/share/texlive/texmf-dist/tex/generic/oberdiek/etexcmds.sty))))\r\n",
      "(/usr/share/texlive/texmf-dist/tex/latex/geometry/geometry.sty\r\n",
      "(/usr/share/texlive/texmf-dist/tex/generic/oberdiek/ifpdf.sty"
     ]
    },
    {
     "name": "stdout",
     "output_type": "stream",
     "text": [
      ")\r\n",
      "(/usr/share/texlive/texmf-dist/tex/generic/oberdiek/ifvtex.sty))\r\n",
      "(/usr/share/texlive/texmf-dist/tex/latex/hyperref/hyperref.sty\r\n",
      "(/usr/share/texlive/texmf-dist/tex/generic/oberdiek/hobsub-hyperref.sty\r\n",
      "(/usr/share/texlive/texmf-dist/tex/generic/oberdiek/hobsub-generic.sty))\r\n",
      "(/usr/share/texlive/texmf-dist/tex/latex/oberdiek/auxhook.sty)\r\n",
      "(/usr/share/texlive/texmf-dist/tex/latex/hyperref/pd1enc.def)\r\n",
      "(/usr/share/texlive/texmf-dist/tex/latex/latexconfig/hyperref.cfg)\r\n",
      "(/usr/share/texlive/texmf-dist/tex/latex/hyperref/puenc.def)\r\n",
      "(/usr/share/texlive/texmf-dist/tex/latex/url/url.sty))\r\n",
      "\r\n",
      "Package hyperref Message: Driver (autodetected): hxetex.\r\n",
      "\r\n",
      "(/usr/share/texlive/texmf-dist/tex/latex/hyperref/hxetex.def\r\n",
      "(/usr/share/texlive/texmf-dist/tex/generic/oberdiek/stringenc.sty)"
     ]
    },
    {
     "name": "stdout",
     "output_type": "stream",
     "text": [
      "\r\n",
      "(/usr/share/texlive/texmf-dist/tex/latex/oberdiek/rerunfilecheck.sty))\r\n",
      "(/usr/share/texlive/texmf-dist/tex/latex/oberdiek/hypcap.sty)\r\n",
      "(./sphinxmessages.sty)\r\n",
      "(/usr/share/texlive/texmf-dist/tex/latex/blindtext/blindtext.sty\r\n",
      "(/usr/share/texlive/texmf-dist/tex/latex/tools/xspace.sty))\r\n",
      "(/usr/share/texlive/texmf-dist/tex/latex/natbib/natbib.sty)\r\n",
      "(/usr/share/texlive/texmf-dist/tex/latex/minted/minted.sty\r\n",
      "(/usr/share/texlive/texmf-dist/tex/latex/base/ifthen.sty)\r\n",
      "(/usr/share/texlive/texmf-dist/tex/latex/tools/calc.sty)\r\n",
      "(/usr/share/texlive/texmf-dist/tex/latex/ifplatform/ifplatform.sty\r\n",
      "(/usr/share/texlive/texmf-dist/tex/generic/oberdiek/catchfile.sty)\r\n",
      "\r\n",
      "Package ifplatform Warning: \r\n",
      "    shell escape is disabled, so I can only detect \\ifwindows.\r\n",
      "\r\n",
      ") (/usr/share/texlive/texmf-dist/tex/generic/xstring/xstring.sty\r\n",
      "(/usr/share/texlive/texmf-dist/tex/generic/xstring/xstring.tex))\r\n",
      "(/usr/share/texlive/texmf-dist/tex/latex/lineno/lineno.sty))\r\n",
      "Writing index file deply-demo.idx\r\n",
      "(./deply-demo.aux) (/usr/share/texmf/tex/latex/tipa/t3cmr.fd)\r\n",
      "(/usr/share/texlive/texmf-dist/tex/latex/base/ts1cmr.fd)\r\n",
      "*geometry* driver: auto-detecting\r\n",
      "*geometry* detected driver: xetex\r\n",
      "(/usr/share/texlive/texmf-dist/tex/latex/hyperref/nameref.sty\r\n",
      "(/usr/share/texlive/texmf-dist/tex/generic/oberdiek/gettitlestring.sty))"
     ]
    },
    {
     "name": "stdout",
     "output_type": "stream",
     "text": [
      "\r\n",
      "(./deply-demo.out) (./deply-demo.out)\r\n",
      "(/usr/share/texlive/texmf-dist/tex/latex/amsfonts/umsa.fd)\r\n",
      "(/usr/share/texlive/texmf-dist/tex/latex/amsfonts/umsb.fd) [1] [2]\r\n",
      "(./deply-demo.toc) [1] [2] [1] [2]\r\n",
      "Chapter 1.\r\n",
      "(./deply-demo.ind) [3] (./deply-demo.aux) )\r\n"
     ]
    },
    {
     "name": "stdout",
     "output_type": "stream",
     "text": [
      "(see the transcript file for additional information)\r\n",
      "Output written on deply-demo.pdf (7 pages).\r\n",
      "Transcript written on deply-demo.log.\r\n"
     ]
    },
    {
     "name": "stdout",
     "output_type": "stream",
     "text": [
      "Latexmk: Index file 'deply-demo.idx' was written\r\n",
      "Latexmk: Log file says output to 'deply-demo.pdf'\r\n",
      "Latexmk: All targets (deply-demo.pdf) are up-to-date\r\n",
      "[d2lbook:build.py:L58] INFO   === Finished \"d2lbook build pdf\" in 00:00:04\r\n"
     ]
    }
   ],
   "source": [
    "!cd deploy; d2lbook build html pdf"
   ]
  },
  {
   "cell_type": "markdown",
   "metadata": {},
   "source": [
    "To deploy to Github, you need to have your machine's [SSH key imported to Github](https://github.com/settings/keys). Otherwise, you may need to type in your account and password. When it is done, you can assess the results online in one or two minutes. For this example, the URL is [/d2l-ai.github.io/d2l-book-deploy-demo/](https://d2l-ai.github.io/d2l-book-deploy-demo/)."
   ]
  },
  {
   "cell_type": "code",
   "execution_count": 6,
   "metadata": {},
   "outputs": [
    {
     "name": "stdout",
     "output_type": "stream",
     "text": [
      "[d2lbook:config.py:L12] INFO   Load configure from config.ini\r\n"
     ]
    },
    {
     "name": "stdout",
     "output_type": "stream",
     "text": [
      "Cloning into '/var/lib/jenkins/workspace/d2l-book/docs/_build/eval/user/deploy/_build/github_deploy-git'...\r\n"
     ]
    },
    {
     "name": "stdout",
     "output_type": "stream",
     "text": [
      "remote: Enumerating objects: 473, done.\u001b[K\r\n",
      "remote: Counting objects:   0% (1/473)\u001b[K\r",
      "remote: Counting objects:   1% (5/473)\u001b[K\r",
      "remote: Counting objects:   2% (10/473)\u001b[K\r",
      "remote: Counting objects:   3% (15/473)\u001b[K\r",
      "remote: Counting objects:   4% (19/473)\u001b[K\r",
      "remote: Counting objects:   5% (24/473)\u001b[K\r",
      "remote: Counting objects:   6% (29/473)\u001b[K\r",
      "remote: Counting objects:   7% (34/473)\u001b[K\r",
      "remote: Counting objects:   8% (38/473)\u001b[K\r",
      "remote: Counting objects:   9% (43/473)\u001b[K\r",
      "remote: Counting objects:  10% (48/473)\u001b[K\r",
      "remote: Counting objects:  11% (53/473)\u001b[K\r",
      "remote: Counting objects:  12% (57/473)\u001b[K\r",
      "remote: Counting objects:  13% (62/473)\u001b[K\r",
      "remote: Counting objects:  14% (67/473)\u001b[K\r",
      "remote: Counting objects:  15% (71/473)\u001b[K\r",
      "remote: Counting objects:  16% (76/473)\u001b[K\r",
      "remote: Counting objects:  17% (81/473)\u001b[K\r",
      "remote: Counting objects:  18% (86/473)\u001b[K\r",
      "remote: Counting objects:  19% (90/473)\u001b[K\r",
      "remote: Counting objects:  20% (95/473)\u001b[K\r",
      "remote: Counting objects:  21% (100/473)\u001b[K\r",
      "remote: Counting objects:  22% (105/473)\u001b[K\r",
      "remote: Counting objects:  23% (109/473)\u001b[K\r",
      "remote: Counting objects:  24% (114/473)\u001b[K\r",
      "remote: Counting objects:  25% (119/473)\u001b[K\r",
      "remote: Counting objects:  26% (123/473)\u001b[K\r",
      "remote: Counting objects:  27% (128/473)\u001b[K\r",
      "remote: Counting objects:  28% (133/473)\u001b[K\r",
      "remote: Counting objects:  29% (138/473)\u001b[K\r",
      "remote: Counting objects:  30% (142/473)\u001b[K\r",
      "remote: Counting objects:  31% (147/473)\u001b[K\r",
      "remote: Counting objects:  32% (152/473)\u001b[K\r",
      "remote: Counting objects:  33% (157/473)\u001b[K\r",
      "remote: Counting objects:  34% (161/473)\u001b[K\r",
      "remote: Counting objects:  35% (166/473)\u001b[K\r",
      "remote: Counting objects:  36% (171/473)\u001b[K\r",
      "remote: Counting objects:  37% (176/473)\u001b[K\r",
      "remote: Counting objects:  38% (180/473)\u001b[K\r",
      "remote: Counting objects:  39% (185/473)\u001b[K\r",
      "remote: Counting objects:  40% (190/473)\u001b[K\r",
      "remote: Counting objects:  41% (194/473)\u001b[K\r",
      "remote: Counting objects:  42% (199/473)\u001b[K\r",
      "remote: Counting objects:  43% (204/473)\u001b[K\r",
      "remote: Counting objects:  44% (209/473)\u001b[K\r",
      "remote: Counting objects:  45% (213/473)\u001b[K\r",
      "remote: Counting objects:  46% (218/473)\u001b[K\r",
      "remote: Counting objects:  47% (223/473)\u001b[K\r",
      "remote: Counting objects:  48% (228/473)\u001b[K\r",
      "remote: Counting objects:  49% (232/473)\u001b[K\r",
      "remote: Counting objects:  50% (237/473)\u001b[K\r",
      "remote: Counting objects:  51% (242/473)\u001b[K\r",
      "remote: Counting objects:  52% (246/473)\u001b[K\r",
      "remote: Counting objects:  53% (251/473)\u001b[K\r",
      "remote: Counting objects:  54% (256/473)\u001b[K\r",
      "remote: Counting objects:  55% (261/473)\u001b[K\r",
      "remote: Counting objects:  56% (265/473)\u001b[K\r",
      "remote: Counting objects:  57% (270/473)\u001b[K\r",
      "remote: Counting objects:  58% (275/473)\u001b[K\r",
      "remote: Counting objects:  59% (280/473)\u001b[K\r",
      "remote: Counting objects:  60% (284/473)\u001b[K\r",
      "remote: Counting objects:  61% (289/473)\u001b[K\r",
      "remote: Counting objects:  62% (294/473)\u001b[K\r",
      "remote: Counting objects:  63% (298/473)\u001b[K\r",
      "remote: Counting objects:  64% (303/473)\u001b[K\r",
      "remote: Counting objects:  65% (308/473)\u001b[K\r",
      "remote: Counting objects:  66% (313/473)\u001b[K\r",
      "remote: Counting objects:  67% (317/473)\u001b[K\r",
      "remote: Counting objects:  68% (322/473)\u001b[K\r",
      "remote: Counting objects:  69% (327/473)\u001b[K\r",
      "remote: Counting objects:  70% (332/473)\u001b[K\r",
      "remote: Counting objects:  71% (336/473)\u001b[K\r",
      "remote: Counting objects:  72% (341/473)\u001b[K\r",
      "remote: Counting objects:  73% (346/473)\u001b[K\r",
      "remote: Counting objects:  74% (351/473)\u001b[K\r",
      "remote: Counting objects:  75% (355/473)\u001b[K\r",
      "remote: Counting objects:  76% (360/473)\u001b[K\r",
      "remote: Counting objects:  77% (365/473)\u001b[K\r",
      "remote: Counting objects:  78% (369/473)\u001b[K\r",
      "remote: Counting objects:  79% (374/473)\u001b[K\r",
      "remote: Counting objects:  80% (379/473)\u001b[K\r",
      "remote: Counting objects:  81% (384/473)\u001b[K\r",
      "remote: Counting objects:  82% (388/473)\u001b[K\r",
      "remote: Counting objects:  83% (393/473)\u001b[K\r",
      "remote: Counting objects:  84% (398/473)\u001b[K\r",
      "remote: Counting objects:  85% (403/473)\u001b[K\r",
      "remote: Counting objects:  86% (407/473)\u001b[K\r"
     ]
    },
    {
     "name": "stdout",
     "output_type": "stream",
     "text": [
      "remote: Counting objects:  87% (412/473)\u001b[K\r",
      "remote: Counting objects:  88% (417/473)\u001b[K\r",
      "remote: Counting objects:  89% (421/473)\u001b[K\r",
      "remote: Counting objects:  90% (426/473)\u001b[K\r",
      "remote: Counting objects:  91% (431/473)\u001b[K\r",
      "remote: Counting objects:  92% (436/473)\u001b[K\r",
      "remote: Counting objects:  93% (440/473)\u001b[K\r",
      "remote: Counting objects:  94% (445/473)\u001b[K\r",
      "remote: Counting objects:  95% (450/473)\u001b[K\r",
      "remote: Counting objects:  96% (455/473)\u001b[K\r",
      "remote: Counting objects:  97% (459/473)\u001b[K\r",
      "remote: Counting objects:  98% (464/473)\u001b[K\r",
      "remote: Counting objects:  99% (469/473)\u001b[K\r",
      "remote: Counting objects: 100% (473/473)\u001b[K\r",
      "remote: Counting objects: 100% (473/473), done.\u001b[K\r\n",
      "remote: Compressing objects:   0% (1/162)\u001b[K\r",
      "remote: Compressing objects:   1% (2/162)\u001b[K\r",
      "remote: Compressing objects:   2% (4/162)\u001b[K\r",
      "remote: Compressing objects:   3% (5/162)\u001b[K\r",
      "remote: Compressing objects:   4% (7/162)\u001b[K\r",
      "remote: Compressing objects:   5% (9/162)\u001b[K\r",
      "remote: Compressing objects:   6% (10/162)\u001b[K\r",
      "remote: Compressing objects:   7% (12/162)\u001b[K\r",
      "remote: Compressing objects:   8% (13/162)\u001b[K\r",
      "remote: Compressing objects:   9% (15/162)\u001b[K\r",
      "remote: Compressing objects:  10% (17/162)\u001b[K\r",
      "remote: Compressing objects:  11% (18/162)\u001b[K\r",
      "remote: Compressing objects:  12% (20/162)\u001b[K\r",
      "remote: Compressing objects:  13% (22/162)\u001b[K\r",
      "remote: Compressing objects:  14% (23/162)\u001b[K\r",
      "remote: Compressing objects:  15% (25/162)\u001b[K\r",
      "remote: Compressing objects:  16% (26/162)\u001b[K\r",
      "remote: Compressing objects:  17% (28/162)\u001b[K\r",
      "remote: Compressing objects:  18% (30/162)\u001b[K\r",
      "remote: Compressing objects:  19% (31/162)\u001b[K\r",
      "remote: Compressing objects:  20% (33/162)\u001b[K\r",
      "remote: Compressing objects:  21% (35/162)\u001b[K\r",
      "remote: Compressing objects:  22% (36/162)\u001b[K\r",
      "remote: Compressing objects:  23% (38/162)\u001b[K\r",
      "remote: Compressing objects:  24% (39/162)\u001b[K\r",
      "remote: Compressing objects:  25% (41/162)\u001b[K\r",
      "remote: Compressing objects:  26% (43/162)\u001b[K\r",
      "remote: Compressing objects:  27% (44/162)\u001b[K\r",
      "remote: Compressing objects:  28% (46/162)\u001b[K\r",
      "remote: Compressing objects:  29% (47/162)\u001b[K\r",
      "remote: Compressing objects:  30% (49/162)\u001b[K\r",
      "remote: Compressing objects:  31% (51/162)\u001b[K\r",
      "remote: Compressing objects:  32% (52/162)\u001b[K\r",
      "remote: Compressing objects:  33% (54/162)\u001b[K\r",
      "remote: Compressing objects:  34% (56/162)\u001b[K\r",
      "remote: Compressing objects:  35% (57/162)\u001b[K\r",
      "remote: Compressing objects:  36% (59/162)\u001b[K\r",
      "remote: Compressing objects:  37% (60/162)\u001b[K\r",
      "remote: Compressing objects:  38% (62/162)\u001b[K\r",
      "remote: Compressing objects:  39% (64/162)\u001b[K\r",
      "remote: Compressing objects:  40% (65/162)\u001b[K\r",
      "remote: Compressing objects:  41% (67/162)\u001b[K\r"
     ]
    },
    {
     "name": "stdout",
     "output_type": "stream",
     "text": [
      "remote: Compressing objects:  42% (69/162)\u001b[K\r",
      "remote: Compressing objects:  43% (70/162)\u001b[K\r",
      "remote: Compressing objects:  44% (72/162)\u001b[K\r",
      "remote: Compressing objects:  45% (73/162)\u001b[K\r",
      "remote: Compressing objects:  46% (75/162)\u001b[K\r",
      "remote: Compressing objects:  47% (77/162)\u001b[K\r",
      "remote: Compressing objects:  48% (78/162)\u001b[K\r",
      "remote: Compressing objects:  49% (80/162)\u001b[K\r",
      "remote: Compressing objects:  50% (81/162)\u001b[K\r",
      "remote: Compressing objects:  51% (83/162)\u001b[K\r",
      "remote: Compressing objects:  52% (85/162)\u001b[K\r",
      "remote: Compressing objects:  53% (86/162)\u001b[K\r",
      "remote: Compressing objects:  54% (88/162)\u001b[K\r",
      "remote: Compressing objects:  55% (90/162)\u001b[K\r",
      "remote: Compressing objects:  56% (91/162)\u001b[K\r",
      "remote: Compressing objects:  57% (93/162)\u001b[K\r",
      "remote: Compressing objects:  58% (94/162)\u001b[K\r",
      "remote: Compressing objects:  59% (96/162)\u001b[K\r"
     ]
    },
    {
     "name": "stdout",
     "output_type": "stream",
     "text": [
      "remote: Compressing objects:  60% (98/162)\u001b[K\r",
      "remote: Compressing objects:  61% (99/162)\u001b[K\r",
      "remote: Compressing objects:  62% (101/162)\u001b[K\r",
      "remote: Compressing objects:  63% (103/162)\u001b[K\r",
      "remote: Compressing objects:  64% (104/162)\u001b[K\r",
      "remote: Compressing objects:  65% (106/162)\u001b[K\r",
      "remote: Compressing objects:  66% (107/162)\u001b[K\r",
      "remote: Compressing objects:  67% (109/162)\u001b[K\r",
      "remote: Compressing objects:  68% (111/162)\u001b[K\r",
      "remote: Compressing objects:  69% (112/162)\u001b[K\r",
      "remote: Compressing objects:  70% (114/162)\u001b[K\r",
      "remote: Compressing objects:  71% (116/162)\u001b[K\r",
      "remote: Compressing objects:  72% (117/162)\u001b[K\r",
      "remote: Compressing objects:  73% (119/162)\u001b[K\r",
      "remote: Compressing objects:  74% (120/162)\u001b[K\r",
      "remote: Compressing objects:  75% (122/162)\u001b[K\r",
      "remote: Compressing objects:  76% (124/162)\u001b[K\r",
      "remote: Compressing objects:  77% (125/162)\u001b[K\r",
      "remote: Compressing objects:  78% (127/162)\u001b[K\r",
      "remote: Compressing objects:  79% (128/162)\u001b[K\r",
      "remote: Compressing objects:  80% (130/162)\u001b[K\r",
      "remote: Compressing objects:  81% (132/162)\u001b[K\r",
      "remote: Compressing objects:  82% (133/162)\u001b[K\r",
      "remote: Compressing objects:  83% (135/162)\u001b[K\r",
      "remote: Compressing objects:  84% (137/162)\u001b[K\r",
      "remote: Compressing objects:  85% (138/162)\u001b[K\r",
      "remote: Compressing objects:  86% (140/162)\u001b[K\r",
      "remote: Compressing objects:  87% (141/162)\u001b[K\r",
      "remote: Compressing objects:  88% (143/162)\u001b[K\r",
      "remote: Compressing objects:  89% (145/162)\u001b[K\r",
      "remote: Compressing objects:  90% (146/162)\u001b[K\r",
      "remote: Compressing objects:  91% (148/162)\u001b[K\r",
      "remote: Compressing objects:  92% (150/162)\u001b[K\r",
      "remote: Compressing objects:  93% (151/162)\u001b[K\r",
      "remote: Compressing objects:  94% (153/162)\u001b[K\r",
      "remote: Compressing objects:  95% (154/162)\u001b[K\r",
      "remote: Compressing objects:  96% (156/162)\u001b[K\r",
      "remote: Compressing objects:  97% (158/162)\u001b[K\r",
      "remote: Compressing objects:  98% (159/162)\u001b[K\r",
      "remote: Compressing objects:  99% (161/162)\u001b[K\r",
      "remote: Compressing objects: 100% (162/162)\u001b[K\r",
      "remote: Compressing objects: 100% (162/162), done.\u001b[K\r\n",
      "Receiving objects:   0% (1/473)   \r",
      "Receiving objects:   1% (5/473)   \r",
      "Receiving objects:   2% (10/473)   \r",
      "Receiving objects:   3% (15/473)   \r",
      "Receiving objects:   4% (19/473)   \r",
      "Receiving objects:   5% (24/473)   \r",
      "Receiving objects:   6% (29/473)   \r",
      "Receiving objects:   7% (34/473)   \r",
      "Receiving objects:   8% (38/473)   \r",
      "Receiving objects:   9% (43/473)   \r",
      "Receiving objects:  10% (48/473)   \r",
      "Receiving objects:  11% (53/473)   \r",
      "Receiving objects:  12% (57/473)   \r"
     ]
    },
    {
     "name": "stdout",
     "output_type": "stream",
     "text": [
      "Receiving objects:  13% (62/473)   \r",
      "Receiving objects:  14% (67/473)   \r",
      "Receiving objects:  15% (71/473)   \r"
     ]
    },
    {
     "name": "stdout",
     "output_type": "stream",
     "text": [
      "Receiving objects:  16% (76/473)   \r",
      "Receiving objects:  17% (81/473)   \r",
      "Receiving objects:  18% (86/473)   \r",
      "Receiving objects:  19% (90/473)   \r",
      "Receiving objects:  20% (95/473)   \r",
      "Receiving objects:  21% (100/473)   \r",
      "Receiving objects:  22% (105/473)   \r",
      "Receiving objects:  23% (109/473)   \r",
      "Receiving objects:  24% (114/473)   \r",
      "Receiving objects:  25% (119/473)   \r",
      "Receiving objects:  26% (123/473)   \r",
      "Receiving objects:  27% (128/473)   \r",
      "Receiving objects:  28% (133/473)   \r",
      "Receiving objects:  29% (138/473)   \r",
      "Receiving objects:  30% (142/473)   \r",
      "Receiving objects:  31% (147/473)   \r",
      "Receiving objects:  32% (152/473)   \r",
      "Receiving objects:  33% (157/473)   \r",
      "Receiving objects:  34% (161/473)   \r",
      "Receiving objects:  35% (166/473)   \r",
      "Receiving objects:  36% (171/473)   \r",
      "Receiving objects:  37% (176/473)   \r",
      "Receiving objects:  38% (180/473)   \r",
      "Receiving objects:  39% (185/473)   \r",
      "Receiving objects:  40% (190/473)   \r",
      "Receiving objects:  41% (194/473)   \r",
      "Receiving objects:  42% (199/473)   \r",
      "Receiving objects:  43% (204/473)   \r",
      "Receiving objects:  44% (209/473)   \r",
      "Receiving objects:  45% (213/473)   \r",
      "Receiving objects:  46% (218/473)   \r",
      "Receiving objects:  47% (223/473)   \r",
      "Receiving objects:  48% (228/473)   \r",
      "Receiving objects:  49% (232/473)   \r",
      "Receiving objects:  50% (237/473)   \r",
      "Receiving objects:  51% (242/473)   \r",
      "Receiving objects:  52% (246/473)   \r",
      "Receiving objects:  53% (251/473)   \r",
      "Receiving objects:  54% (256/473)   \r",
      "Receiving objects:  55% (261/473)   \r",
      "Receiving objects:  56% (265/473)   \r",
      "Receiving objects:  57% (270/473)   \r",
      "Receiving objects:  58% (275/473)   \r",
      "Receiving objects:  59% (280/473)   \r",
      "Receiving objects:  60% (284/473)   \r",
      "Receiving objects:  61% (289/473)   \r",
      "Receiving objects:  62% (294/473)   \r",
      "Receiving objects:  63% (298/473)   \r",
      "Receiving objects:  64% (303/473)   \r",
      "Receiving objects:  65% (308/473)   \r",
      "Receiving objects:  66% (313/473)   \r",
      "Receiving objects:  67% (317/473)   \r",
      "Receiving objects:  68% (322/473)   \r",
      "Receiving objects:  69% (327/473)   \r",
      "Receiving objects:  70% (332/473)   \r",
      "Receiving objects:  71% (336/473)   \r",
      "Receiving objects:  72% (341/473)   \r",
      "Receiving objects:  73% (346/473)   \r",
      "Receiving objects:  74% (351/473)   \r",
      "Receiving objects:  75% (355/473)   \r",
      "Receiving objects:  76% (360/473)   \r",
      "Receiving objects:  77% (365/473)   \r",
      "Receiving objects:  78% (369/473)   \r",
      "Receiving objects:  79% (374/473)   \r"
     ]
    },
    {
     "name": "stdout",
     "output_type": "stream",
     "text": [
      "Receiving objects:  80% (379/473)   \r",
      "Receiving objects:  81% (384/473)   \r",
      "Receiving objects:  82% (388/473)   \r"
     ]
    },
    {
     "name": "stdout",
     "output_type": "stream",
     "text": [
      "Receiving objects:  83% (393/473)   \r",
      "Receiving objects:  84% (398/473)   \r",
      "Receiving objects:  85% (403/473)   \r",
      "Receiving objects:  86% (407/473)   \r",
      "Receiving objects:  87% (412/473)   \r",
      "Receiving objects:  88% (417/473)   \r",
      "Receiving objects:  89% (421/473)   \r",
      "Receiving objects:  90% (426/473)   \r",
      "Receiving objects:  91% (431/473)   \r",
      "Receiving objects:  92% (436/473)   \r",
      "Receiving objects:  93% (440/473)   \r",
      "Receiving objects:  94% (445/473)   \r",
      "Receiving objects:  95% (450/473)   \r",
      "Receiving objects:  96% (455/473)   \r",
      "remote: Total 473 (delta 335), reused 440 (delta 305), pack-reused 0\u001b[K\r\n",
      "Receiving objects:  97% (459/473)   \r",
      "Receiving objects:  98% (464/473)   \r",
      "Receiving objects:  99% (469/473)   \r",
      "Receiving objects: 100% (473/473)   \r",
      "Receiving objects: 100% (473/473), 3.00 MiB | 0 bytes/s, done.\r\n",
      "Resolving deltas:   0% (0/335)   \r",
      "Resolving deltas:   6% (23/335)   \r",
      "Resolving deltas:   7% (24/335)   \r",
      "Resolving deltas:   8% (28/335)   \r",
      "Resolving deltas:   9% (31/335)   \r"
     ]
    },
    {
     "name": "stdout",
     "output_type": "stream",
     "text": [
      "Resolving deltas:  34% (117/335)   \r",
      "Resolving deltas:  45% (153/335)   \r",
      "Resolving deltas:  60% (204/335)   \r",
      "Resolving deltas:  66% (222/335)   \r",
      "Resolving deltas:  76% (256/335)   \r",
      "Resolving deltas:  79% (267/335)   \r",
      "Resolving deltas:  88% (295/335)   \r",
      "Resolving deltas:  91% (307/335)   \r",
      "Resolving deltas:  92% (309/335)   \r",
      "Resolving deltas:  93% (312/335)   \r",
      "Resolving deltas:  94% (315/335)   \r",
      "Resolving deltas: 100% (335/335)   \r",
      "Resolving deltas: 100% (335/335), done.\r\n"
     ]
    },
    {
     "name": "stdout",
     "output_type": "stream",
     "text": [
      "Checking connectivity... done.\r\n"
     ]
    },
    {
     "name": "stdout",
     "output_type": "stream",
     "text": [
      "[master ec31f70] Uploaded by d2lbook\r\n",
      " 1 file changed, 0 insertions(+), 0 deletions(-)\r\n"
     ]
    },
    {
     "name": "stdout",
     "output_type": "stream",
     "text": [
      "Counting objects: 3, done.\r\n",
      "Delta compression using up to 32 threads.\r\n",
      "Compressing objects:  33% (1/3)   \r",
      "Compressing objects:  66% (2/3)   \r",
      "Compressing objects: 100% (3/3)   \r",
      "Compressing objects: 100% (3/3), done.\r\n",
      "Writing objects:  33% (1/3)   \r",
      "Writing objects:  66% (2/3)   \r",
      "Writing objects: 100% (3/3)   \r",
      "Writing objects: 100% (3/3), 13.32 KiB | 0 bytes/s, done.\r\n",
      "Total 3 (delta 1), reused 0 (delta 0)\r\n"
     ]
    },
    {
     "name": "stdout",
     "output_type": "stream",
     "text": [
      "remote: Resolving deltas:   0% (0/1)\u001b[K\r"
     ]
    },
    {
     "name": "stdout",
     "output_type": "stream",
     "text": [
      "remote: Resolving deltas: 100% (1/1)\u001b[K\r",
      "remote: Resolving deltas: 100% (1/1), completed with 1 local object.\u001b[K\r\n"
     ]
    },
    {
     "name": "stdout",
     "output_type": "stream",
     "text": [
      "To git@github.com:d2l-ai/d2l-book-deploy-demo.git\r\n",
      "   72d19f1..ec31f70  master -> master\r\n"
     ]
    }
   ],
   "source": [
    "!cd deploy; d2lbook deploy html pdf"
   ]
  },
  {
   "cell_type": "markdown",
   "metadata": {},
   "source": [
    "Lastly, let's clean our workspace."
   ]
  },
  {
   "cell_type": "code",
   "execution_count": 7,
   "metadata": {},
   "outputs": [],
   "source": [
    "!rm -rf deploy"
   ]
  },
  {
   "cell_type": "markdown",
   "metadata": {},
   "source": [
    "## Deploying Through AWS\n",
    "\n",
    "Another supported option is deploying through AWS. This option provides more flexibility but requires you to know the basic usage of AWS.\n",
    "\n",
    "We recommend the following procedure for the deployment:\n",
    "\n",
    "1. Copying results into [S3](https://aws.amazon.com/s3/).\n",
    "2. Serving with a [CDN](https://en.wikipedia.org/wiki/Content_delivery_network) by using [CloudFront](https://aws.amazon.com/cloudfront/) to reduce the latency.\n",
    "3. Buying and adding a customized domain at [Route 53](https://aws.amazon.com/route53/)\n",
    "\n",
    "Now let's walk through these three steps one-by-one. Before getting started, you need to have a valid AWS account and type in your [AWS access key](https://docs.aws.amazon.com/IAM/latest/UserGuide/id_credentials_access-keys.html) by running `aws configure`.\n",
    "\n",
    "First, create a S3 bucket. You can use the targeted domain name as your bucket name. For example, this site is deployed at book.d2l.ai, then we created a bucket with the name `book.d2l.ai`. In addition, we need to disable blocking public access through ACLs when creating this bucket, see :numref:`fig_s3-acl` and enable static website hosting, see :numref:`fig_s3-web-hosting`. Then you will get a URL to access this bucket. In our example, it's http://book.d2l.ai.s3-website-us-west-2.amazonaws.com/.\n",
    "\n",
    "![Disable blocking public access through ACLs](../img/s3-acl.png)\n",
    "\n",
    ":label:`fig_s3-acl`\n",
    ":width:`500px`\n",
    "\n",
    "![Enable static web hosting](../img/s3-web-hosting.png)\n",
    "\n",
    ":label:`fig_s3-web-hosting`\n",
    ":width:`500px`\n",
    "\n",
    "Second, create a new CloudFront distribution, by specifying the following options:\n",
    "- Origin Domain Name: the previous S3 URL without `http://`, e.g. `book.d2l.ai.s3-website-us-west-2.amazonaws.com`\n",
    "- Default Root Object: `index.html`\n",
    "- [optional] Alternate Domain Names (CNAMEs): your target domain name, e.g. `book.d2l.ai`\n",
    "- [optional] SSL Certificate: you can create one in [Certificate Manager](https://aws.amazon.com/certificate-manager/) and then select it.\n",
    "\n",
    "After a few minute, we will obtain the domain name such as `d1y0wi2ibwmzrt.cloudfront.net`.\n",
    "\n",
    "Third, you can either buy a domain at Route 53 or add Route 53's DNS into your existing domain. After that, create a \"Hosted Zone\" and then a Type-A Record Set with the CoundFront domain name as the alias target, see :numref:`fig_record-set` for an example.\n",
    "\n",
    "![Create a Record Set](../img/record-set.png)\n",
    "\n",
    ":label:`fig_record-set`\n",
    ":width:`350px`\n",
    "\n",
    "Once you are done, specify your S3 bucket name in the following `config.ini` entry."
   ]
  },
  {
   "cell_type": "markdown",
   "metadata": {},
   "source": [
    "```bash\n",
    "[deploy]\n",
    "s3_bucket = s3://book.d2l.ai\n",
    "```\n"
   ]
  },
  {
   "cell_type": "markdown",
   "metadata": {},
   "source": [
    "Each time you run `d2lbook deploy`, all results will be synchronized to this bucket and deployed automatically. Note that since we enabled a CDN, any new change may take a while to be shown in your URL (e.g. http://book.d2l.ai). But you can check the S3 bucket URL (e.g. http://book.d2l.ai.s3-website-us-west-2.amazonaws.com) to review the changes immediately."
   ]
  }
 ],
 "metadata": {
  "kernelspec": {
   "display_name": "conda_python3",
   "name": "conda_python3"
  },
  "language_info": {
   "name": "python"
  }
 },
 "nbformat": 4,
 "nbformat_minor": 4
}