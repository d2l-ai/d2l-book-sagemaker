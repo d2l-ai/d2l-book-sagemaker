{
 "cells": [
  {
   "cell_type": "markdown",
   "metadata": {},
   "source": [
    "# Deploying\n",
    "\n",
    "You can copy the built result to any your favorite place that can server contents online. Otherwise `d2lbook` provides two ways to deploy your build results: deploying through [Github](http://github.com/) or through [AWS](https://aws.amazon.com/).\n",
    "\n",
    "## Deploying Through Github\n",
    "\n",
    "[Github Pages](https://pages.github.com/) allow us to host a website through a Github repo. To do so, we first need to create a github repo, for example we created [d2l-ai/d2l-book-deploy-demo](https://github.com/d2l-ai/d2l-book-deploy-demo) for this example. Then enable serving from the master branch in `Settings -> GitHub Pages`. You will get a URL to access it. It is [d2l-ai.github.io/d2l-book-deploy-demo](https://d2l-ai.github.io/d2l-book-deploy-demo/) for this example. You can add anything to `README.md`, which will not show on the website.\n",
    "\n",
    "![Enable serving from master branch at Github](../img/github_pages.png)\n",
    "\n",
    ":width:`400px`\n",
    "\n",
    "\n",
    "Now let's create a project with `[deploy] github_repo` specified and build both HTML and PDF. You will see a large amount of logging information thanks to LaTeX,  more exactly, `xelatex`."
   ]
  },
  {
   "cell_type": "code",
   "execution_count": 1,
   "metadata": {},
   "outputs": [],
   "source": [
    "!mkdir -p deploy"
   ]
  },
  {
   "cell_type": "code",
   "execution_count": 2,
   "metadata": {},
   "outputs": [
    {
     "name": "stdout",
     "output_type": "stream",
     "text": [
      "Writing deploy/index.md\n"
     ]
    }
   ],
   "source": [
    "%%writefile deploy/index.md\n",
    "# Deploying Demo for d2lbook\n",
    "\n",
    "This is a demo to deploy on Github.\n",
    "\n",
    "````toc\n",
    "get_started\n",
    "````"
   ]
  },
  {
   "cell_type": "code",
   "execution_count": 3,
   "metadata": {},
   "outputs": [
    {
     "name": "stdout",
     "output_type": "stream",
     "text": [
      "Writing deploy/get_started.md\n"
     ]
    }
   ],
   "source": [
    "%%writefile deploy/get_started.md\n",
    "# Getting Started\n",
    "\n",
    "Please first install my favorite package `numpy`."
   ]
  },
  {
   "cell_type": "code",
   "execution_count": 4,
   "metadata": {},
   "outputs": [
    {
     "name": "stdout",
     "output_type": "stream",
     "text": [
      "Writing deploy/config.ini\n"
     ]
    }
   ],
   "source": [
    "%%writefile deploy/config.ini\n",
    "[project]\n",
    "name = deply-demo\n",
    "\n",
    "[html]\n",
    "header_links = PDF, https://https://d2l-ai.github.io/d2l-book-deploy-demo/deply-demo.pdf, fas fa-file-pdf\n",
    "\n",
    "[deploy]\n",
    "github_repo = d2l-ai/d2l-book-deploy-demo"
   ]
  },
  {
   "cell_type": "code",
   "execution_count": 5,
   "metadata": {},
   "outputs": [
    {
     "name": "stdout",
     "output_type": "stream",
     "text": [
      "[d2lbook:config.py:L12] INFO   Load configure from config.ini\r\n",
      "[d2lbook:build.py:L98] INFO   2 notebooks are outdated\r\n",
      "[d2lbook:build.py:L100] INFO   [1] ./get_started.md\r\n",
      "[d2lbook:build.py:L100] INFO   [2] ./index.md\r\n",
      "[d2lbook:build.py:L105] INFO   [1/2, 00:00:00] Evaluating ./get_started.md, save as _build/eval/get_started.ipynb\r\n"
     ]
    },
    {
     "name": "stdout",
     "output_type": "stream",
     "text": [
      "[d2lbook:execute.py:L404] INFO   Executing notebook with kernel: python\r\n"
     ]
    },
    {
     "name": "stdout",
     "output_type": "stream",
     "text": [
      "[d2lbook:build.py:L112] INFO   Finished in 00:00:01\r\n",
      "[d2lbook:build.py:L105] INFO   [2/2, 00:00:01] Evaluating ./index.md, save as _build/eval/index.ipynb\r\n"
     ]
    },
    {
     "name": "stdout",
     "output_type": "stream",
     "text": [
      "[d2lbook:execute.py:L404] INFO   Executing notebook with kernel: python\r\n"
     ]
    },
    {
     "name": "stdout",
     "output_type": "stream",
     "text": [
      "[d2lbook:build.py:L112] INFO   Finished in 00:00:00\r\n",
      "[d2lbook:build.py:L120] INFO   \"d2lbook build eval\" finished in 00:00:01\r\n",
      "[d2lbook:build.py:L177] INFO   2 rst files are outdated\r\n",
      "[d2lbook:build.py:L179] INFO   Convert _build/eval/get_started.ipynb to _build/rst/get_started.rst\r\n"
     ]
    },
    {
     "name": "stdout",
     "output_type": "stream",
     "text": [
      "[d2lbook:build.py:L179] INFO   Convert _build/eval/index.ipynb to _build/rst/index.rst\r\n"
     ]
    },
    {
     "name": "stdout",
     "output_type": "stream",
     "text": [
      "[d2lbook:utils.py:L124] INFO   Run \"sphinx-build _build/rst _build/html -b html -c _build/rst -j 4\"\r\n"
     ]
    },
    {
     "name": "stdout",
     "output_type": "stream",
     "text": [
      "\u001b[01mRunning Sphinx v2.3.0\u001b[39;49;00m\r\n"
     ]
    },
    {
     "name": "stdout",
     "output_type": "stream",
     "text": [
      "\u001b[01mmaking output directory... \u001b[39;49;00mdone\r\n",
      "\u001b[01mbuilding [mo]: \u001b[39;49;00mtargets for 0 po files that are out of date\r\n",
      "\u001b[01mbuilding [html]: \u001b[39;49;00mtargets for 2 source files that are out of date\r\n",
      "\u001b[01mupdating environment: \u001b[39;49;00m[new config] 2 added, 0 changed, 0 removed\r\n",
      "\u001b[01mreading sources... \u001b[39;49;00m[ 50%] \u001b[35mget_started\u001b[39;49;00m                                           \r"
     ]
    },
    {
     "name": "stdout",
     "output_type": "stream",
     "text": [
      "\u001b[01mreading sources... \u001b[39;49;00m[100%] \u001b[35mindex\u001b[39;49;00m                                                 \r",
      "\r\n",
      "\u001b[01mlooking for now-outdated files... \u001b[39;49;00mnone found\r\n",
      "\u001b[01mpickling environment... \u001b[39;49;00mdone\r\n",
      "\u001b[01mchecking consistency... \u001b[39;49;00mdone\r\n",
      "\u001b[01mpreparing documents... \u001b[39;49;00mdone\r\n"
     ]
    },
    {
     "name": "stdout",
     "output_type": "stream",
     "text": [
      "\u001b[01mwriting output... \u001b[39;49;00m[100%] \u001b[32mindex\u001b[39;49;00m                                                  \r"
     ]
    },
    {
     "name": "stdout",
     "output_type": "stream",
     "text": [
      "\r\n",
      "\u001b[01mwaiting for workers...\u001b[39;49;00m\r\n",
      "\u001b[01mgenerating indices... \u001b[39;49;00m genindex"
     ]
    },
    {
     "name": "stdout",
     "output_type": "stream",
     "text": [
      "done\r\n",
      "\u001b[01mwriting additional pages... \u001b[39;49;00m searchdone\r\n",
      "\u001b[01mcopying static files... ... \u001b[39;49;00m"
     ]
    },
    {
     "name": "stdout",
     "output_type": "stream",
     "text": [
      "done\r\n",
      "\u001b[01mcopying extra files... \u001b[39;49;00mdone\r\n",
      "\u001b[01mdumping search index in English (code: en)... \u001b[39;49;00mdone\r\n",
      "\u001b[01mdumping object inventory... \u001b[39;49;00mdone\r\n",
      "\u001b[01mbuild succeeded.\u001b[39;49;00m\r\n",
      "\r\n",
      "The HTML pages are in _build/html.\r\n"
     ]
    },
    {
     "name": "stdout",
     "output_type": "stream",
     "text": [
      "[d2lbook:build.py:L204] INFO   \"d2lbook build html\" finished in 00:00:02\r\n",
      "[d2lbook:utils.py:L124] INFO   Run \"sphinx-build  _build/rst _build/pdf -b latex -c _build/rst -j 4\"\r\n"
     ]
    },
    {
     "name": "stdout",
     "output_type": "stream",
     "text": [
      "\u001b[01mRunning Sphinx v2.3.0\u001b[39;49;00m\r\n"
     ]
    },
    {
     "name": "stdout",
     "output_type": "stream",
     "text": [
      "\u001b[01mmaking output directory... \u001b[39;49;00mdone\r\n",
      "\u001b[01mbuilding [mo]: \u001b[39;49;00mtargets for 0 po files that are out of date\r\n",
      "\u001b[01mbuilding [latex]: \u001b[39;49;00mall documents\r\n",
      "\u001b[01mupdating environment: \u001b[39;49;00m[new config] 2 added, 0 changed, 0 removed\r\n",
      "\u001b[01mreading sources... \u001b[39;49;00m[ 50%] \u001b[35mget_started\u001b[39;49;00m                                           \r"
     ]
    },
    {
     "name": "stdout",
     "output_type": "stream",
     "text": [
      "\u001b[01mreading sources... \u001b[39;49;00m[100%] \u001b[35mindex\u001b[39;49;00m                                                 \r",
      "\r\n",
      "\u001b[01mlooking for now-outdated files... \u001b[39;49;00mnone found\r\n",
      "\u001b[01mpickling environment... \u001b[39;49;00mdone\r\n",
      "\u001b[01mchecking consistency... \u001b[39;49;00mdone\r\n",
      "\u001b[01mprocessing deply-demo.tex... \u001b[39;49;00m\u001b[32mindex\u001b[39;49;00m \u001b[32mget_started\u001b[39;49;00m \r\n",
      "resolving references...\r\n",
      "done\r\n",
      "\u001b[01mwriting... \u001b[39;49;00mdone\r\n",
      "\u001b[01mcopying TeX support files... \u001b[39;49;00m\u001b[01mcopying TeX support files...\u001b[39;49;00m\r\n",
      "done\r\n",
      "\u001b[01mbuild succeeded.\u001b[39;49;00m\r\n",
      "\r\n",
      "The LaTeX files are in _build/pdf.\r\n",
      "Run 'make' in that directory to run these through (pdf)latex\r\n",
      "(use `make latexpdf' here to do that automatically).\r\n"
     ]
    },
    {
     "name": "stdout",
     "output_type": "stream",
     "text": [
      "[d2lbook:utils.py:L124] INFO   Run \"cd _build/pdf && make\"\r\n"
     ]
    },
    {
     "name": "stdout",
     "output_type": "stream",
     "text": [
      "latexmk -pdf -dvi- -ps-  'deply-demo.tex'\r\n"
     ]
    },
    {
     "name": "stdout",
     "output_type": "stream",
     "text": [
      "Latexmk: This is Latexmk, John Collins, 1 January 2015, version: 4.41.\r\n",
      "Latexmk: applying rule 'pdflatex'...\r\n",
      "Rule 'pdflatex': Rules & subrules not known to be previously run:\r\n",
      "   pdflatex\r\n",
      "Rule 'pdflatex': The following rules & subrules became out-of-date:\r\n",
      "      'pdflatex'\r\n",
      "------------\r\n",
      "Run number 1 of rule 'pdflatex'\r\n",
      "------------\r\n",
      "------------\r\n",
      "Running 'xelatex   -recorder  \"deply-demo.tex\"'\r\n",
      "------------\r\n"
     ]
    },
    {
     "name": "stdout",
     "output_type": "stream",
     "text": [
      "This is XeTeX, Version 3.14159265-2.6-0.99992 (TeX Live 2015/Debian) (preloaded format=xelatex)\r\n",
      " restricted \\write18 enabled.\r\n"
     ]
    },
    {
     "name": "stdout",
     "output_type": "stream",
     "text": [
      "entering extended mode\r\n",
      "(./deply-demo.tex\r\n",
      "LaTeX2e <2016/02/01>\r\n",
      "Babel <3.9q> and hyphenation patterns for 81 language(s) loaded.\r\n",
      "(./sphinxmanual.cls\r\n",
      "Document Class: sphinxmanual 2019/12/01 v2.3.0 Document class (Sphinx manual)\r\n",
      "(/usr/share/texlive/texmf-dist/tex/latex/base/report.cls\r\n",
      "Document Class: report 2014/09/29 v1.4h Standard LaTeX document class\r\n",
      "(/usr/share/texlive/texmf-dist/tex/latex/base/size11.clo)))\r\n",
      "(/usr/share/texlive/texmf-dist/tex/latex/cmap/cmap.sty\r\n",
      "\r\n",
      "Package cmap Warning: pdftex not detected - exiting.\r\n",
      "\r\n",
      ") (/usr/share/texlive/texmf-dist/tex/latex/fontspec/fontspec.sty\r\n",
      "(/usr/share/texlive/texmf-dist/tex/latex/l3kernel/expl3.sty\r\n",
      "(/usr/share/texlive/texmf-dist/tex/latex/l3kernel/expl3-code.tex"
     ]
    },
    {
     "name": "stdout",
     "output_type": "stream",
     "text": [
      ")\r\n",
      "(/usr/share/texlive/texmf-dist/tex/latex/l3kernel/l3xdvipdfmx.def))\r\n",
      "(/usr/share/texlive/texmf-dist/tex/latex/l3packages/xparse/xparse.sty)\r\n",
      "(/usr/share/texlive/texmf-dist/tex/latex/fontspec/fontspec-xetex.sty\r\n",
      "(/usr/share/texlive/texmf-dist/tex/latex/base/fontenc.sty\r\n",
      "(/usr/share/texlive/texmf-dist/tex/latex/euenc/eu1enc.def)\r\n",
      "(/usr/share/texlive/texmf-dist/tex/latex/euenc/eu1lmr.fd))\r\n",
      "(/usr/share/texlive/texmf-dist/tex/xelatex/xunicode/xunicode.sty\r\n",
      "(/usr/share/texmf/tex/latex/tipa/t3enc.def\r\n",
      "(/usr/share/texlive/texmf-dist/tex/latex/euenc/eu1lmss.fd))"
     ]
    },
    {
     "name": "stdout",
     "output_type": "stream",
     "text": [
      "\r\n",
      "(/usr/share/texlive/texmf-dist/tex/latex/graphics/graphicx.sty\r\n",
      "(/usr/share/texlive/texmf-dist/tex/latex/graphics/keyval.sty)\r\n",
      "(/usr/share/texlive/texmf-dist/tex/latex/graphics/graphics.sty\r\n",
      "(/usr/share/texlive/texmf-dist/tex/latex/graphics/trig.sty)\r\n",
      "(/usr/share/texlive/texmf-dist/tex/latex/latexconfig/graphics.cfg)\r\n",
      "(/usr/share/texlive/texmf-dist/tex/xelatex/xetex-def/xetex.def\r\n",
      "(/usr/share/texlive/texmf-dist/tex/generic/oberdiek/infwarerr.sty)\r\n",
      "(/usr/share/texlive/texmf-dist/tex/generic/oberdiek/ltxcmds.sty)))))"
     ]
    },
    {
     "name": "stdout",
     "output_type": "stream",
     "text": [
      "\r\n",
      "(/usr/share/texlive/texmf-dist/tex/latex/fontspec/fontspec.cfg)))\r\n",
      "(/usr/share/texlive/texmf-dist/tex/latex/amsmath/amsmath.sty\r\n",
      "For additional information on amsmath, use the `?' option.\r\n",
      "(/usr/share/texlive/texmf-dist/tex/latex/amsmath/amstext.sty\r\n",
      "(/usr/share/texlive/texmf-dist/tex/latex/amsmath/amsgen.sty))\r\n",
      "(/usr/share/texlive/texmf-dist/tex/latex/amsmath/amsbsy.sty)\r\n",
      "(/usr/share/texlive/texmf-dist/tex/latex/amsmath/amsopn.sty))\r\n",
      "(/usr/share/texlive/texmf-dist/tex/latex/amsfonts/amssymb.sty\r\n",
      "(/usr/share/texlive/texmf-dist/tex/latex/amsfonts/amsfonts.sty))\r\n",
      "(/usr/share/texlive/texmf-dist/tex/latex/polyglossia/polyglossia.sty\r\n",
      "(/usr/share/texlive/texmf-dist/tex/latex/etoolbox/etoolbox.sty)\r\n",
      "(/usr/share/texlive/texmf-dist/tex/latex/makecmds/makecmds.sty)\r\n",
      "(/usr/share/texlive/texmf-dist/tex/latex/xkeyval/xkeyval.sty\r\n",
      "(/usr/share/texlive/texmf-dist/tex/generic/xkeyval/xkeyval.tex\r\n",
      "(/usr/share/texlive/texmf-dist/tex/generic/xkeyval/xkvutils.tex)))\r\n",
      "(/usr/share/texlive/texmf-dist/tex/generic/oberdiek/ifluatex.sty)\r\n",
      "(/usr/share/texlive/texmf-dist/tex/generic/ifxetex/ifxetex.sty))\r\n",
      "(/usr/share/texlive/texmf-dist/tex/latex/polyglossia/gloss-english.ldf)"
     ]
    },
    {
     "name": "stdout",
     "output_type": "stream",
     "text": [
      "\r\n",
      "(/usr/share/texlive/texmf-dist/tex/latex/fncychap/fncychap.sty) (./sphinx.sty\r\n",
      "(/usr/share/texlive/texmf-dist/tex/latex/fancyhdr/fancyhdr.sty)\r\n",
      "(/usr/share/texlive/texmf-dist/tex/latex/base/textcomp.sty\r\n",
      "(/usr/share/texlive/texmf-dist/tex/latex/base/ts1enc.def))\r\n",
      "(/usr/share/texlive/texmf-dist/tex/latex/titlesec/titlesec.sty)\r\n",
      "\r\n",
      " Package Sphinx Info: \r\n",
      " **** titlesec 2.10.1 successfully patched for bugfix ****\r\n",
      "\r\n",
      "(/usr/share/texlive/texmf-dist/tex/latex/tabulary/tabulary.sty\r\n",
      "(/usr/share/texlive/texmf-dist/tex/latex/tools/array.sty))\r\n",
      "(/usr/share/texlive/texmf-dist/tex/latex/tools/longtable.sty)\r\n",
      "(/usr/share/texlive/texmf-dist/tex/latex/varwidth/varwidth.sty)\r\n",
      "(./sphinxmulticell.sty)\r\n",
      "(/usr/share/texlive/texmf-dist/tex/latex/base/makeidx.sty)\r\n",
      "(/usr/share/texlive/texmf-dist/tex/latex/framed/framed.sty)\r\n",
      "(/usr/share/texlive/texmf-dist/tex/latex/xcolor/xcolor.sty\r\n",
      "(/usr/share/texlive/texmf-dist/tex/latex/latexconfig/color.cfg))\r\n",
      "(/usr/share/texlive/texmf-dist/tex/latex/fancyvrb/fancyvrb.sty\r\n",
      "Style option: `fancyvrb' v2.7a, with DG/SPQR fixes, and firstline=lastline fix \r\n",
      "<2008/02/07> (tvz)) (./footnotehyper-sphinx.sty)\r\n",
      "(/usr/share/texlive/texmf-dist/tex/latex/float/float.sty)\r\n",
      "(/usr/share/texlive/texmf-dist/tex/latex/wrapfig/wrapfig.sty"
     ]
    },
    {
     "name": "stdout",
     "output_type": "stream",
     "text": [
      ")\r\n",
      "(/usr/share/texlive/texmf-dist/tex/latex/parskip/parskip.sty)\r\n",
      "(/usr/share/texlive/texmf-dist/tex/latex/base/alltt.sty)\r\n",
      "(/usr/share/texlive/texmf-dist/tex/latex/upquote/upquote.sty)\r\n",
      "(/usr/share/texlive/texmf-dist/tex/latex/capt-of/capt-of.sty)\r\n",
      "(/usr/share/texlive/texmf-dist/tex/latex/needspace/needspace.sty)\r\n",
      "(/usr/share/texlive/texmf-dist/tex/latex/carlisle/remreset.sty)\r\n",
      "(./sphinxhighlight.sty)\r\n",
      "(/usr/share/texlive/texmf-dist/tex/latex/oberdiek/kvoptions.sty\r\n",
      "(/usr/share/texlive/texmf-dist/tex/generic/oberdiek/kvsetkeys.sty\r\n",
      "(/usr/share/texlive/texmf-dist/tex/generic/oberdiek/etexcmds.sty))))\r\n",
      "(/usr/share/texlive/texmf-dist/tex/latex/geometry/geometry.sty\r\n",
      "(/usr/share/texlive/texmf-dist/tex/generic/oberdiek/ifpdf.sty)\r\n",
      "(/usr/share/texlive/texmf-dist/tex/generic/oberdiek/ifvtex.sty))\r\n",
      "(/usr/share/texlive/texmf-dist/tex/latex/hyperref/hyperref.sty\r\n",
      "(/usr/share/texlive/texmf-dist/tex/generic/oberdiek/hobsub-hyperref.sty\r\n",
      "(/usr/share/texlive/texmf-dist/tex/generic/oberdiek/hobsub-generic.sty))\r\n",
      "(/usr/share/texlive/texmf-dist/tex/latex/oberdiek/auxhook.sty)\r\n",
      "(/usr/share/texlive/texmf-dist/tex/latex/hyperref/pd1enc.def)\r\n",
      "(/usr/share/texlive/texmf-dist/tex/latex/latexconfig/hyperref.cfg)\r\n",
      "(/usr/share/texlive/texmf-dist/tex/latex/hyperref/puenc.def"
     ]
    },
    {
     "name": "stdout",
     "output_type": "stream",
     "text": [
      ")\r\n",
      "(/usr/share/texlive/texmf-dist/tex/latex/url/url.sty))\r\n",
      "\r\n",
      "Package hyperref Message: Driver (autodetected): hxetex.\r\n",
      "\r\n",
      "(/usr/share/texlive/texmf-dist/tex/latex/hyperref/hxetex.def\r\n",
      "(/usr/share/texlive/texmf-dist/tex/generic/oberdiek/stringenc.sty)\r\n",
      "(/usr/share/texlive/texmf-dist/tex/latex/oberdiek/rerunfilecheck.sty))\r\n",
      "(/usr/share/texlive/texmf-dist/tex/latex/oberdiek/hypcap.sty)\r\n",
      "(./sphinxmessages.sty)\r\n",
      "(/usr/share/texlive/texmf-dist/tex/latex/blindtext/blindtext.sty\r\n",
      "(/usr/share/texlive/texmf-dist/tex/latex/tools/xspace.sty))\r\n",
      "(/usr/share/texlive/texmf-dist/tex/latex/natbib/natbib.sty)\r\n",
      "(/usr/share/texlive/texmf-dist/tex/latex/minted/minted.sty\r\n",
      "(/usr/share/texlive/texmf-dist/tex/latex/base/ifthen.sty)\r\n",
      "(/usr/share/texlive/texmf-dist/tex/latex/tools/calc.sty)\r\n",
      "(/usr/share/texlive/texmf-dist/tex/latex/ifplatform/ifplatform.sty\r\n",
      "(/usr/share/texlive/texmf-dist/tex/generic/oberdiek/catchfile.sty)\r\n",
      "\r\n",
      "Package ifplatform Warning: \r\n",
      "    shell escape is disabled, so I can only detect \\ifwindows.\r\n",
      "\r\n",
      ") (/usr/share/texlive/texmf-dist/tex/generic/xstring/xstring.sty\r\n",
      "(/usr/share/texlive/texmf-dist/tex/generic/xstring/xstring.tex))\r\n",
      "(/usr/share/texlive/texmf-dist/tex/latex/lineno/lineno.sty)"
     ]
    },
    {
     "name": "stdout",
     "output_type": "stream",
     "text": [
      ")\r\n",
      "Writing index file deply-demo.idx\r\n",
      "(./deply-demo.aux) (/usr/share/texmf/tex/latex/tipa/t3cmr.fd)\r\n",
      "(/usr/share/texlive/texmf-dist/tex/latex/base/ts1cmr.fd)\r\n",
      "*geometry* driver: auto-detecting\r\n",
      "*geometry* detected driver: xetex\r\n",
      "(/usr/share/texlive/texmf-dist/tex/latex/hyperref/nameref.sty\r\n",
      "(/usr/share/texlive/texmf-dist/tex/generic/oberdiek/gettitlestring.sty))\r\n",
      "\r\n",
      "Package hyperref Warning: Rerun to get /PageLabels entry.\r\n",
      "\r\n",
      "(/usr/share/texlive/texmf-dist/tex/latex/amsfonts/umsa.fd)\r\n",
      "(/usr/share/texlive/texmf-dist/tex/latex/amsfonts/umsb.fd) [1] [2] [1] [2]\r\n",
      "[1] [2]\r\n",
      "Chapter 1.\r\n",
      "No file deply-demo.ind.\r\n",
      "[3] (./deply-demo.aux)\r\n",
      "\r\n",
      "LaTeX Warning: Label(s) may have changed. Rerun to get cross-references right.\r\n",
      "\r\n",
      " )\r\n"
     ]
    },
    {
     "name": "stdout",
     "output_type": "stream",
     "text": [
      "(see the transcript file for additional information)\r\n",
      "Output written on deply-demo.pdf (7 pages).\r\n",
      "Transcript written on deply-demo.log.\r\n"
     ]
    },
    {
     "name": "stdout",
     "output_type": "stream",
     "text": [
      "Latexmk: Index file 'deply-demo.idx' was written\r\n",
      "Latexmk: References changed.\r\n",
      "Latexmk: Missing input file: 'deply-demo.ind' from line\r\n",
      "  'No file deply-demo.ind.'\r\n",
      "Latexmk: References changed.\r\n",
      "Latexmk: Log file says output to 'deply-demo.pdf'\r\n"
     ]
    },
    {
     "name": "stdout",
     "output_type": "stream",
     "text": [
      "Latexmk: applying rule 'makeindex deply-demo.idx'...\r\n",
      "Rule 'makeindex deply-demo.idx': File changes, etc:\r\n",
      "   Non-existent destination files:\r\n",
      "      'deply-demo.ind'\r\n",
      "------------\r\n",
      "Run number 1 of rule 'makeindex deply-demo.idx'\r\n",
      "------------\r\n",
      "------------\r\n",
      "Running 'internal xindy -L english -C utf8  -M sphinx.xdy  -o \"deply-demo.ind\" \"deply-demo.idx\"'\r\n",
      "------------\r\n",
      "Latexmk: calling xindy( -L english -C utf8 -M sphinx.xdy -o deply-demo.ind deply-demo.idx )\r\n",
      "Latexmk: applying rule 'pdflatex'...\r\n",
      "Rule 'pdflatex': File changes, etc:\r\n",
      "   Changed files, or newly in use since previous run(s):\r\n",
      "      'deply-demo.aux'\r\n",
      "      'deply-demo.ind'\r\n",
      "------------\r\n",
      "Run number 2 of rule 'pdflatex'\r\n",
      "------------\r\n",
      "------------\r\n",
      "Running 'xelatex   -recorder  \"deply-demo.tex\"'\r\n",
      "------------\r\n"
     ]
    },
    {
     "name": "stdout",
     "output_type": "stream",
     "text": [
      "This is XeTeX, Version 3.14159265-2.6-0.99992 (TeX Live 2015/Debian) (preloaded format=xelatex)\r\n",
      " restricted \\write18 enabled.\r\n"
     ]
    },
    {
     "name": "stdout",
     "output_type": "stream",
     "text": [
      "entering extended mode\r\n",
      "(./deply-demo.tex\r\n",
      "LaTeX2e <2016/02/01>\r\n",
      "Babel <3.9q> and hyphenation patterns for 81 language(s) loaded.\r\n",
      "(./sphinxmanual.cls\r\n",
      "Document Class: sphinxmanual 2019/12/01 v2.3.0 Document class (Sphinx manual)\r\n",
      "(/usr/share/texlive/texmf-dist/tex/latex/base/report.cls\r\n",
      "Document Class: report 2014/09/29 v1.4h Standard LaTeX document class\r\n",
      "(/usr/share/texlive/texmf-dist/tex/latex/base/size11.clo)))\r\n",
      "(/usr/share/texlive/texmf-dist/tex/latex/cmap/cmap.sty\r\n",
      "\r\n",
      "Package cmap Warning: pdftex not detected - exiting.\r\n",
      "\r\n",
      ") (/usr/share/texlive/texmf-dist/tex/latex/fontspec/fontspec.sty\r\n",
      "(/usr/share/texlive/texmf-dist/tex/latex/l3kernel/expl3.sty\r\n",
      "(/usr/share/texlive/texmf-dist/tex/latex/l3kernel/expl3-code.tex"
     ]
    },
    {
     "name": "stdout",
     "output_type": "stream",
     "text": [
      ")\r\n",
      "(/usr/share/texlive/texmf-dist/tex/latex/l3kernel/l3xdvipdfmx.def))\r\n",
      "(/usr/share/texlive/texmf-dist/tex/latex/l3packages/xparse/xparse.sty)\r\n",
      "(/usr/share/texlive/texmf-dist/tex/latex/fontspec/fontspec-xetex.sty\r\n",
      "(/usr/share/texlive/texmf-dist/tex/latex/base/fontenc.sty\r\n",
      "(/usr/share/texlive/texmf-dist/tex/latex/euenc/eu1enc.def)\r\n",
      "(/usr/share/texlive/texmf-dist/tex/latex/euenc/eu1lmr.fd))\r\n",
      "(/usr/share/texlive/texmf-dist/tex/xelatex/xunicode/xunicode.sty\r\n",
      "(/usr/share/texmf/tex/latex/tipa/t3enc.def"
     ]
    },
    {
     "name": "stdout",
     "output_type": "stream",
     "text": [
      "\r\n",
      "(/usr/share/texlive/texmf-dist/tex/latex/euenc/eu1lmss.fd))\r\n",
      "(/usr/share/texlive/texmf-dist/tex/latex/graphics/graphicx.sty\r\n",
      "(/usr/share/texlive/texmf-dist/tex/latex/graphics/keyval.sty)\r\n",
      "(/usr/share/texlive/texmf-dist/tex/latex/graphics/graphics.sty\r\n",
      "(/usr/share/texlive/texmf-dist/tex/latex/graphics/trig.sty)\r\n",
      "(/usr/share/texlive/texmf-dist/tex/latex/latexconfig/graphics.cfg)\r\n",
      "(/usr/share/texlive/texmf-dist/tex/xelatex/xetex-def/xetex.def\r\n",
      "(/usr/share/texlive/texmf-dist/tex/generic/oberdiek/infwarerr.sty)\r\n",
      "(/usr/share/texlive/texmf-dist/tex/generic/oberdiek/ltxcmds.sty)))))"
     ]
    },
    {
     "name": "stdout",
     "output_type": "stream",
     "text": [
      "\r\n",
      "(/usr/share/texlive/texmf-dist/tex/latex/fontspec/fontspec.cfg)))\r\n",
      "(/usr/share/texlive/texmf-dist/tex/latex/amsmath/amsmath.sty\r\n",
      "For additional information on amsmath, use the `?' option.\r\n",
      "(/usr/share/texlive/texmf-dist/tex/latex/amsmath/amstext.sty\r\n",
      "(/usr/share/texlive/texmf-dist/tex/latex/amsmath/amsgen.sty))\r\n",
      "(/usr/share/texlive/texmf-dist/tex/latex/amsmath/amsbsy.sty)\r\n",
      "(/usr/share/texlive/texmf-dist/tex/latex/amsmath/amsopn.sty))\r\n",
      "(/usr/share/texlive/texmf-dist/tex/latex/amsfonts/amssymb.sty\r\n",
      "(/usr/share/texlive/texmf-dist/tex/latex/amsfonts/amsfonts.sty))\r\n",
      "(/usr/share/texlive/texmf-dist/tex/latex/polyglossia/polyglossia.sty\r\n",
      "(/usr/share/texlive/texmf-dist/tex/latex/etoolbox/etoolbox.sty)\r\n",
      "(/usr/share/texlive/texmf-dist/tex/latex/makecmds/makecmds.sty)\r\n",
      "(/usr/share/texlive/texmf-dist/tex/latex/xkeyval/xkeyval.sty\r\n",
      "(/usr/share/texlive/texmf-dist/tex/generic/xkeyval/xkeyval.tex\r\n",
      "(/usr/share/texlive/texmf-dist/tex/generic/xkeyval/xkvutils.tex)))\r\n",
      "(/usr/share/texlive/texmf-dist/tex/generic/oberdiek/ifluatex.sty)\r\n",
      "(/usr/share/texlive/texmf-dist/tex/generic/ifxetex/ifxetex.sty))\r\n",
      "(/usr/share/texlive/texmf-dist/tex/latex/polyglossia/gloss-english.ldf)"
     ]
    },
    {
     "name": "stdout",
     "output_type": "stream",
     "text": [
      "\r\n",
      "(/usr/share/texlive/texmf-dist/tex/latex/fncychap/fncychap.sty) (./sphinx.sty\r\n",
      "(/usr/share/texlive/texmf-dist/tex/latex/fancyhdr/fancyhdr.sty)\r\n",
      "(/usr/share/texlive/texmf-dist/tex/latex/base/textcomp.sty\r\n",
      "(/usr/share/texlive/texmf-dist/tex/latex/base/ts1enc.def))\r\n",
      "(/usr/share/texlive/texmf-dist/tex/latex/titlesec/titlesec.sty)\r\n",
      "\r\n",
      " Package Sphinx Info: \r\n",
      " **** titlesec 2.10.1 successfully patched for bugfix ****\r\n",
      "\r\n",
      "(/usr/share/texlive/texmf-dist/tex/latex/tabulary/tabulary.sty\r\n",
      "(/usr/share/texlive/texmf-dist/tex/latex/tools/array.sty))\r\n",
      "(/usr/share/texlive/texmf-dist/tex/latex/tools/longtable.sty)\r\n",
      "(/usr/share/texlive/texmf-dist/tex/latex/varwidth/varwidth.sty)\r\n",
      "(./sphinxmulticell.sty)\r\n",
      "(/usr/share/texlive/texmf-dist/tex/latex/base/makeidx.sty)\r\n",
      "(/usr/share/texlive/texmf-dist/tex/latex/framed/framed.sty)\r\n",
      "(/usr/share/texlive/texmf-dist/tex/latex/xcolor/xcolor.sty\r\n",
      "(/usr/share/texlive/texmf-dist/tex/latex/latexconfig/color.cfg))\r\n",
      "(/usr/share/texlive/texmf-dist/tex/latex/fancyvrb/fancyvrb.sty\r\n",
      "Style option: `fancyvrb' v2.7a, with DG/SPQR fixes, and firstline=lastline fix \r\n",
      "<2008/02/07> (tvz)"
     ]
    },
    {
     "name": "stdout",
     "output_type": "stream",
     "text": [
      ") (./footnotehyper-sphinx.sty)\r\n",
      "(/usr/share/texlive/texmf-dist/tex/latex/float/float.sty)\r\n",
      "(/usr/share/texlive/texmf-dist/tex/latex/wrapfig/wrapfig.sty)\r\n",
      "(/usr/share/texlive/texmf-dist/tex/latex/parskip/parskip.sty)\r\n",
      "(/usr/share/texlive/texmf-dist/tex/latex/base/alltt.sty)\r\n",
      "(/usr/share/texlive/texmf-dist/tex/latex/upquote/upquote.sty)\r\n",
      "(/usr/share/texlive/texmf-dist/tex/latex/capt-of/capt-of.sty)\r\n",
      "(/usr/share/texlive/texmf-dist/tex/latex/needspace/needspace.sty)\r\n",
      "(/usr/share/texlive/texmf-dist/tex/latex/carlisle/remreset.sty)\r\n",
      "(./sphinxhighlight.sty)\r\n",
      "(/usr/share/texlive/texmf-dist/tex/latex/oberdiek/kvoptions.sty\r\n",
      "(/usr/share/texlive/texmf-dist/tex/generic/oberdiek/kvsetkeys.sty\r\n",
      "(/usr/share/texlive/texmf-dist/tex/generic/oberdiek/etexcmds.sty))))\r\n",
      "(/usr/share/texlive/texmf-dist/tex/latex/geometry/geometry.sty\r\n",
      "(/usr/share/texlive/texmf-dist/tex/generic/oberdiek/ifpdf.sty)\r\n",
      "(/usr/share/texlive/texmf-dist/tex/generic/oberdiek/ifvtex.sty))\r\n",
      "(/usr/share/texlive/texmf-dist/tex/latex/hyperref/hyperref.sty\r\n",
      "(/usr/share/texlive/texmf-dist/tex/generic/oberdiek/hobsub-hyperref.sty\r\n",
      "(/usr/share/texlive/texmf-dist/tex/generic/oberdiek/hobsub-generic.sty))\r\n",
      "(/usr/share/texlive/texmf-dist/tex/latex/oberdiek/auxhook.sty)\r\n",
      "(/usr/share/texlive/texmf-dist/tex/latex/hyperref/pd1enc.def)\r\n",
      "(/usr/share/texlive/texmf-dist/tex/latex/latexconfig/hyperref.cfg)\r\n",
      "(/usr/share/texlive/texmf-dist/tex/latex/hyperref/puenc.def"
     ]
    },
    {
     "name": "stdout",
     "output_type": "stream",
     "text": [
      ")\r\n",
      "(/usr/share/texlive/texmf-dist/tex/latex/url/url.sty))\r\n",
      "\r\n",
      "Package hyperref Message: Driver (autodetected): hxetex.\r\n",
      "\r\n",
      "(/usr/share/texlive/texmf-dist/tex/latex/hyperref/hxetex.def\r\n",
      "(/usr/share/texlive/texmf-dist/tex/generic/oberdiek/stringenc.sty)\r\n",
      "(/usr/share/texlive/texmf-dist/tex/latex/oberdiek/rerunfilecheck.sty))\r\n",
      "(/usr/share/texlive/texmf-dist/tex/latex/oberdiek/hypcap.sty)\r\n",
      "(./sphinxmessages.sty)\r\n",
      "(/usr/share/texlive/texmf-dist/tex/latex/blindtext/blindtext.sty\r\n",
      "(/usr/share/texlive/texmf-dist/tex/latex/tools/xspace.sty))\r\n",
      "(/usr/share/texlive/texmf-dist/tex/latex/natbib/natbib.sty)\r\n",
      "(/usr/share/texlive/texmf-dist/tex/latex/minted/minted.sty\r\n",
      "(/usr/share/texlive/texmf-dist/tex/latex/base/ifthen.sty)\r\n",
      "(/usr/share/texlive/texmf-dist/tex/latex/tools/calc.sty)\r\n",
      "(/usr/share/texlive/texmf-dist/tex/latex/ifplatform/ifplatform.sty\r\n",
      "(/usr/share/texlive/texmf-dist/tex/generic/oberdiek/catchfile.sty)\r\n",
      "\r\n",
      "Package ifplatform Warning: \r\n",
      "    shell escape is disabled, so I can only detect \\ifwindows.\r\n",
      "\r\n",
      ") (/usr/share/texlive/texmf-dist/tex/generic/xstring/xstring.sty\r\n",
      "(/usr/share/texlive/texmf-dist/tex/generic/xstring/xstring.tex))\r\n",
      "(/usr/share/texlive/texmf-dist/tex/latex/lineno/lineno.sty)"
     ]
    },
    {
     "name": "stdout",
     "output_type": "stream",
     "text": [
      ")\r\n",
      "Writing index file deply-demo.idx\r\n",
      "(./deply-demo.aux) (/usr/share/texmf/tex/latex/tipa/t3cmr.fd)\r\n",
      "(/usr/share/texlive/texmf-dist/tex/latex/base/ts1cmr.fd)\r\n",
      "*geometry* driver: auto-detecting\r\n",
      "*geometry* detected driver: xetex\r\n",
      "(/usr/share/texlive/texmf-dist/tex/latex/hyperref/nameref.sty\r\n",
      "(/usr/share/texlive/texmf-dist/tex/generic/oberdiek/gettitlestring.sty))\r\n",
      "(./deply-demo.out) (./deply-demo.out)\r\n",
      "(/usr/share/texlive/texmf-dist/tex/latex/amsfonts/umsa.fd)\r\n",
      "(/usr/share/texlive/texmf-dist/tex/latex/amsfonts/umsb.fd) [1] [2]\r\n",
      "(./deply-demo.toc) [1] [2] [1] [2]"
     ]
    },
    {
     "name": "stdout",
     "output_type": "stream",
     "text": [
      "\r\n",
      "Chapter 1.\r\n",
      "(./deply-demo.ind) [3] (./deply-demo.aux) )\r\n"
     ]
    },
    {
     "name": "stdout",
     "output_type": "stream",
     "text": [
      "(see the transcript file for additional information)\r\n",
      "Output written on deply-demo.pdf (7 pages).\r\n",
      "Transcript written on deply-demo.log.\r\n"
     ]
    },
    {
     "name": "stdout",
     "output_type": "stream",
     "text": [
      "Latexmk: Index file 'deply-demo.idx' was written\r\n",
      "Latexmk: Log file says output to 'deply-demo.pdf'\r\n"
     ]
    },
    {
     "name": "stdout",
     "output_type": "stream",
     "text": [
      "Latexmk: applying rule 'pdflatex'...\r\n",
      "Rule 'pdflatex': File changes, etc:\r\n",
      "   Changed files, or newly in use since previous run(s):\r\n",
      "      'deply-demo.out'\r\n",
      "      'deply-demo.toc'\r\n",
      "------------\r\n",
      "Run number 3 of rule 'pdflatex'\r\n",
      "------------\r\n",
      "------------\r\n",
      "Running 'xelatex   -recorder  \"deply-demo.tex\"'\r\n",
      "------------\r\n"
     ]
    },
    {
     "name": "stdout",
     "output_type": "stream",
     "text": [
      "This is XeTeX, Version 3.14159265-2.6-0.99992 (TeX Live 2015/Debian) (preloaded format=xelatex)\r\n",
      " restricted \\write18 enabled.\r\n"
     ]
    },
    {
     "name": "stdout",
     "output_type": "stream",
     "text": [
      "entering extended mode\r\n",
      "(./deply-demo.tex\r\n",
      "LaTeX2e <2016/02/01>\r\n",
      "Babel <3.9q> and hyphenation patterns for 81 language(s) loaded.\r\n",
      "(./sphinxmanual.cls\r\n",
      "Document Class: sphinxmanual 2019/12/01 v2.3.0 Document class (Sphinx manual)\r\n",
      "(/usr/share/texlive/texmf-dist/tex/latex/base/report.cls\r\n",
      "Document Class: report 2014/09/29 v1.4h Standard LaTeX document class\r\n",
      "(/usr/share/texlive/texmf-dist/tex/latex/base/size11.clo)))\r\n",
      "(/usr/share/texlive/texmf-dist/tex/latex/cmap/cmap.sty\r\n",
      "\r\n",
      "Package cmap Warning: pdftex not detected - exiting.\r\n",
      "\r\n",
      ") (/usr/share/texlive/texmf-dist/tex/latex/fontspec/fontspec.sty\r\n",
      "(/usr/share/texlive/texmf-dist/tex/latex/l3kernel/expl3.sty\r\n",
      "(/usr/share/texlive/texmf-dist/tex/latex/l3kernel/expl3-code.tex"
     ]
    },
    {
     "name": "stdout",
     "output_type": "stream",
     "text": [
      ")\r\n",
      "(/usr/share/texlive/texmf-dist/tex/latex/l3kernel/l3xdvipdfmx.def))\r\n",
      "(/usr/share/texlive/texmf-dist/tex/latex/l3packages/xparse/xparse.sty)\r\n",
      "(/usr/share/texlive/texmf-dist/tex/latex/fontspec/fontspec-xetex.sty\r\n",
      "(/usr/share/texlive/texmf-dist/tex/latex/base/fontenc.sty\r\n",
      "(/usr/share/texlive/texmf-dist/tex/latex/euenc/eu1enc.def)\r\n",
      "(/usr/share/texlive/texmf-dist/tex/latex/euenc/eu1lmr.fd))\r\n",
      "(/usr/share/texlive/texmf-dist/tex/xelatex/xunicode/xunicode.sty\r\n",
      "(/usr/share/texmf/tex/latex/tipa/t3enc.def\r\n",
      "(/usr/share/texlive/texmf-dist/tex/latex/euenc/eu1lmss.fd))"
     ]
    },
    {
     "name": "stdout",
     "output_type": "stream",
     "text": [
      "\r\n",
      "(/usr/share/texlive/texmf-dist/tex/latex/graphics/graphicx.sty\r\n",
      "(/usr/share/texlive/texmf-dist/tex/latex/graphics/keyval.sty)\r\n",
      "(/usr/share/texlive/texmf-dist/tex/latex/graphics/graphics.sty\r\n",
      "(/usr/share/texlive/texmf-dist/tex/latex/graphics/trig.sty)\r\n",
      "(/usr/share/texlive/texmf-dist/tex/latex/latexconfig/graphics.cfg)\r\n",
      "(/usr/share/texlive/texmf-dist/tex/xelatex/xetex-def/xetex.def\r\n",
      "(/usr/share/texlive/texmf-dist/tex/generic/oberdiek/infwarerr.sty)\r\n",
      "(/usr/share/texlive/texmf-dist/tex/generic/oberdiek/ltxcmds.sty)))))"
     ]
    },
    {
     "name": "stdout",
     "output_type": "stream",
     "text": [
      "\r\n",
      "(/usr/share/texlive/texmf-dist/tex/latex/fontspec/fontspec.cfg))"
     ]
    },
    {
     "name": "stdout",
     "output_type": "stream",
     "text": [
      ")\r\n",
      "(/usr/share/texlive/texmf-dist/tex/latex/amsmath/amsmath.sty\r\n",
      "For additional information on amsmath, use the `?' option.\r\n",
      "(/usr/share/texlive/texmf-dist/tex/latex/amsmath/amstext.sty\r\n",
      "(/usr/share/texlive/texmf-dist/tex/latex/amsmath/amsgen.sty))\r\n",
      "(/usr/share/texlive/texmf-dist/tex/latex/amsmath/amsbsy.sty)\r\n",
      "(/usr/share/texlive/texmf-dist/tex/latex/amsmath/amsopn.sty))\r\n",
      "(/usr/share/texlive/texmf-dist/tex/latex/amsfonts/amssymb.sty\r\n",
      "(/usr/share/texlive/texmf-dist/tex/latex/amsfonts/amsfonts.sty))\r\n",
      "(/usr/share/texlive/texmf-dist/tex/latex/polyglossia/polyglossia.sty\r\n",
      "(/usr/share/texlive/texmf-dist/tex/latex/etoolbox/etoolbox.sty)\r\n",
      "(/usr/share/texlive/texmf-dist/tex/latex/makecmds/makecmds.sty)\r\n",
      "(/usr/share/texlive/texmf-dist/tex/latex/xkeyval/xkeyval.sty\r\n",
      "(/usr/share/texlive/texmf-dist/tex/generic/xkeyval/xkeyval.tex\r\n",
      "(/usr/share/texlive/texmf-dist/tex/generic/xkeyval/xkvutils.tex)))\r\n",
      "(/usr/share/texlive/texmf-dist/tex/generic/oberdiek/ifluatex.sty)\r\n",
      "(/usr/share/texlive/texmf-dist/tex/generic/ifxetex/ifxetex.sty))\r\n",
      "(/usr/share/texlive/texmf-dist/tex/latex/polyglossia/gloss-english.ldf)"
     ]
    },
    {
     "name": "stdout",
     "output_type": "stream",
     "text": [
      "\r\n",
      "(/usr/share/texlive/texmf-dist/tex/latex/fncychap/fncychap.sty) (./sphinx.sty\r\n",
      "(/usr/share/texlive/texmf-dist/tex/latex/fancyhdr/fancyhdr.sty)\r\n",
      "(/usr/share/texlive/texmf-dist/tex/latex/base/textcomp.sty\r\n",
      "(/usr/share/texlive/texmf-dist/tex/latex/base/ts1enc.def))\r\n",
      "(/usr/share/texlive/texmf-dist/tex/latex/titlesec/titlesec.sty)\r\n",
      "\r\n",
      " Package Sphinx Info: \r\n",
      " **** titlesec 2.10.1 successfully patched for bugfix ****\r\n",
      "\r\n",
      "(/usr/share/texlive/texmf-dist/tex/latex/tabulary/tabulary.sty\r\n",
      "(/usr/share/texlive/texmf-dist/tex/latex/tools/array.sty))\r\n",
      "(/usr/share/texlive/texmf-dist/tex/latex/tools/longtable.sty)\r\n",
      "(/usr/share/texlive/texmf-dist/tex/latex/varwidth/varwidth.sty)\r\n",
      "(./sphinxmulticell.sty)\r\n",
      "(/usr/share/texlive/texmf-dist/tex/latex/base/makeidx.sty)\r\n",
      "(/usr/share/texlive/texmf-dist/tex/latex/framed/framed.sty)\r\n",
      "(/usr/share/texlive/texmf-dist/tex/latex/xcolor/xcolor.sty\r\n",
      "(/usr/share/texlive/texmf-dist/tex/latex/latexconfig/color.cfg))\r\n",
      "(/usr/share/texlive/texmf-dist/tex/latex/fancyvrb/fancyvrb.sty\r\n",
      "Style option: `fancyvrb' v2.7a, with DG/SPQR fixes, and firstline=lastline fix \r\n",
      "<2008/02/07> (tvz)) (./footnotehyper-sphinx.sty)\r\n",
      "(/usr/share/texlive/texmf-dist/tex/latex/float/float.sty)\r\n",
      "(/usr/share/texlive/texmf-dist/tex/latex/wrapfig/wrapfig.sty)\r\n",
      "(/usr/share/texlive/texmf-dist/tex/latex/parskip/parskip.sty)\r\n",
      "(/usr/share/texlive/texmf-dist/tex/latex/base/alltt.sty)\r\n",
      "(/usr/share/texlive/texmf-dist/tex/latex/upquote/upquote.sty)\r\n",
      "(/usr/share/texlive/texmf-dist/tex/latex/capt-of/capt-of.sty)\r\n",
      "(/usr/share/texlive/texmf-dist/tex/latex/needspace/needspace.sty)\r\n",
      "(/usr/share/texlive/texmf-dist/tex/latex/carlisle/remreset.sty)\r\n",
      "(./sphinxhighlight.sty)\r\n",
      "(/usr/share/texlive/texmf-dist/tex/latex/oberdiek/kvoptions.sty\r\n",
      "(/usr/share/texlive/texmf-dist/tex/generic/oberdiek/kvsetkeys.sty\r\n",
      "(/usr/share/texlive/texmf-dist/tex/generic/oberdiek/etexcmds.sty)))"
     ]
    },
    {
     "name": "stdout",
     "output_type": "stream",
     "text": [
      ")\r\n",
      "(/usr/share/texlive/texmf-dist/tex/latex/geometry/geometry.sty\r\n",
      "(/usr/share/texlive/texmf-dist/tex/generic/oberdiek/ifpdf.sty)\r\n",
      "(/usr/share/texlive/texmf-dist/tex/generic/oberdiek/ifvtex.sty))\r\n",
      "(/usr/share/texlive/texmf-dist/tex/latex/hyperref/hyperref.sty\r\n",
      "(/usr/share/texlive/texmf-dist/tex/generic/oberdiek/hobsub-hyperref.sty\r\n",
      "(/usr/share/texlive/texmf-dist/tex/generic/oberdiek/hobsub-generic.sty))\r\n",
      "(/usr/share/texlive/texmf-dist/tex/latex/oberdiek/auxhook.sty)\r\n",
      "(/usr/share/texlive/texmf-dist/tex/latex/hyperref/pd1enc.def)\r\n",
      "(/usr/share/texlive/texmf-dist/tex/latex/latexconfig/hyperref.cfg)\r\n",
      "(/usr/share/texlive/texmf-dist/tex/latex/hyperref/puenc.def)\r\n",
      "(/usr/share/texlive/texmf-dist/tex/latex/url/url.sty)"
     ]
    },
    {
     "name": "stdout",
     "output_type": "stream",
     "text": [
      ")\r\n",
      "\r\n",
      "Package hyperref Message: Driver (autodetected): hxetex.\r\n",
      "\r\n",
      "(/usr/share/texlive/texmf-dist/tex/latex/hyperref/hxetex.def\r\n",
      "(/usr/share/texlive/texmf-dist/tex/generic/oberdiek/stringenc.sty)\r\n",
      "(/usr/share/texlive/texmf-dist/tex/latex/oberdiek/rerunfilecheck.sty))\r\n",
      "(/usr/share/texlive/texmf-dist/tex/latex/oberdiek/hypcap.sty)\r\n",
      "(./sphinxmessages.sty)\r\n",
      "(/usr/share/texlive/texmf-dist/tex/latex/blindtext/blindtext.sty\r\n",
      "(/usr/share/texlive/texmf-dist/tex/latex/tools/xspace.sty))\r\n",
      "(/usr/share/texlive/texmf-dist/tex/latex/natbib/natbib.sty)\r\n",
      "(/usr/share/texlive/texmf-dist/tex/latex/minted/minted.sty\r\n",
      "(/usr/share/texlive/texmf-dist/tex/latex/base/ifthen.sty)\r\n",
      "(/usr/share/texlive/texmf-dist/tex/latex/tools/calc.sty)\r\n",
      "(/usr/share/texlive/texmf-dist/tex/latex/ifplatform/ifplatform.sty\r\n",
      "(/usr/share/texlive/texmf-dist/tex/generic/oberdiek/catchfile.sty)\r\n",
      "\r\n",
      "Package ifplatform Warning: \r\n",
      "    shell escape is disabled, so I can only detect \\ifwindows.\r\n",
      "\r\n",
      ") (/usr/share/texlive/texmf-dist/tex/generic/xstring/xstring.sty\r\n",
      "(/usr/share/texlive/texmf-dist/tex/generic/xstring/xstring.tex))\r\n",
      "(/usr/share/texlive/texmf-dist/tex/latex/lineno/lineno.sty))\r\n",
      "Writing index file deply-demo.idx\r\n",
      "(./deply-demo.aux) (/usr/share/texmf/tex/latex/tipa/t3cmr.fd)\r\n",
      "(/usr/share/texlive/texmf-dist/tex/latex/base/ts1cmr.fd)"
     ]
    },
    {
     "name": "stdout",
     "output_type": "stream",
     "text": [
      "\r\n",
      "*geometry* driver: auto-detecting\r\n",
      "*geometry* detected driver: xetex\r\n",
      "(/usr/share/texlive/texmf-dist/tex/latex/hyperref/nameref.sty\r\n",
      "(/usr/share/texlive/texmf-dist/tex/generic/oberdiek/gettitlestring.sty))\r\n",
      "(./deply-demo.out) (./deply-demo.out)\r\n",
      "(/usr/share/texlive/texmf-dist/tex/latex/amsfonts/umsa.fd)\r\n",
      "(/usr/share/texlive/texmf-dist/tex/latex/amsfonts/umsb.fd) [1] [2]\r\n",
      "(./deply-demo.toc) [1] [2] [1] [2]\r\n",
      "Chapter 1.\r\n",
      "(./deply-demo.ind) [3] (./deply-demo.aux) )\r\n"
     ]
    },
    {
     "name": "stdout",
     "output_type": "stream",
     "text": [
      "(see the transcript file for additional information)\r\n",
      "Output written on deply-demo.pdf (7 pages).\r\n",
      "Transcript written on deply-demo.log.\r\n"
     ]
    },
    {
     "name": "stdout",
     "output_type": "stream",
     "text": [
      "Latexmk: Index file 'deply-demo.idx' was written\r\n",
      "Latexmk: Log file says output to 'deply-demo.pdf'\r\n",
      "Latexmk: All targets (deply-demo.pdf) are up-to-date\r\n",
      "[d2lbook:build.py:L244] INFO   \"d2lbook build pdf\" finished in 00:00:04\r\n"
     ]
    }
   ],
   "source": [
    "!cd deploy; d2lbook build html pdf"
   ]
  },
  {
   "cell_type": "markdown",
   "metadata": {},
   "source": [
    "To deploy to Github, you need to have your machine's [SSH key imported to Github](https://github.com/settings/keys). Otherwise, you may need to type in your account and password. When it is done, you can assess the results online in one or two minutes. For this example, the URL is [/d2l-ai.github.io/d2l-book-deploy-demo/](https://d2l-ai.github.io/d2l-book-deploy-demo/)."
   ]
  },
  {
   "cell_type": "code",
   "execution_count": 6,
   "metadata": {},
   "outputs": [
    {
     "name": "stdout",
     "output_type": "stream",
     "text": [
      "[d2lbook:config.py:L12] INFO   Load configure from config.ini\r\n",
      "[d2lbook:utils.py:L124] INFO   Run \"cp -r _build/html/* _build/github_deploy\"\r\n"
     ]
    },
    {
     "name": "stdout",
     "output_type": "stream",
     "text": [
      "[d2lbook:utils.py:L124] INFO   Run \"bash /var/lib/jenkins/miniconda3/envs/d2l-book-build/lib/python3.8/site-packages/d2lbook/upload_github.sh _build/github_deploy d2l-ai/d2l-book-deploy-demo\"\r\n",
      "Cloning into '/var/lib/jenkins/workspace/d2l-book/docs/_build/eval/user/deploy/_build/github_deploy-git'...\r\n"
     ]
    },
    {
     "name": "stdout",
     "output_type": "stream",
     "text": [
      "remote: Enumerating objects: 462, done.\u001b[K\r\n",
      "remote: Counting objects:   0% (1/462)\u001b[K\r",
      "remote: Counting objects:   1% (5/462)\u001b[K\r",
      "remote: Counting objects:   2% (10/462)\u001b[K\r",
      "remote: Counting objects:   3% (14/462)\u001b[K\r",
      "remote: Counting objects:   4% (19/462)\u001b[K\r",
      "remote: Counting objects:   5% (24/462)\u001b[K\r",
      "remote: Counting objects:   6% (28/462)\u001b[K\r",
      "remote: Counting objects:   7% (33/462)\u001b[K\r",
      "remote: Counting objects:   8% (37/462)\u001b[K\r",
      "remote: Counting objects:   9% (42/462)\u001b[K\r",
      "remote: Counting objects:  10% (47/462)\u001b[K\r",
      "remote: Counting objects:  11% (51/462)\u001b[K\r",
      "remote: Counting objects:  12% (56/462)\u001b[K\r",
      "remote: Counting objects:  13% (61/462)\u001b[K\r",
      "remote: Counting objects:  14% (65/462)\u001b[K\r",
      "remote: Counting objects:  15% (70/462)\u001b[K\r",
      "remote: Counting objects:  16% (74/462)\u001b[K\r",
      "remote: Counting objects:  17% (79/462)\u001b[K\r",
      "remote: Counting objects:  18% (84/462)\u001b[K\r",
      "remote: Counting objects:  19% (88/462)\u001b[K\r",
      "remote: Counting objects:  20% (93/462)\u001b[K\r",
      "remote: Counting objects:  21% (98/462)\u001b[K\r",
      "remote: Counting objects:  22% (102/462)\u001b[K\r",
      "remote: Counting objects:  23% (107/462)\u001b[K\r",
      "remote: Counting objects:  24% (111/462)\u001b[K\r",
      "remote: Counting objects:  25% (116/462)\u001b[K\r",
      "remote: Counting objects:  26% (121/462)\u001b[K\r",
      "remote: Counting objects:  27% (125/462)\u001b[K\r",
      "remote: Counting objects:  28% (130/462)\u001b[K\r",
      "remote: Counting objects:  29% (134/462)\u001b[K\r",
      "remote: Counting objects:  30% (139/462)\u001b[K\r",
      "remote: Counting objects:  31% (144/462)\u001b[K\r",
      "remote: Counting objects:  32% (148/462)\u001b[K\r",
      "remote: Counting objects:  33% (153/462)\u001b[K\r",
      "remote: Counting objects:  34% (158/462)\u001b[K\r",
      "remote: Counting objects:  35% (162/462)\u001b[K\r",
      "remote: Counting objects:  36% (167/462)\u001b[K\r",
      "remote: Counting objects:  37% (171/462)\u001b[K\r",
      "remote: Counting objects:  38% (176/462)\u001b[K\r",
      "remote: Counting objects:  39% (181/462)\u001b[K\r",
      "remote: Counting objects:  40% (185/462)\u001b[K\r",
      "remote: Counting objects:  41% (190/462)\u001b[K\r",
      "remote: Counting objects:  42% (195/462)\u001b[K\r",
      "remote: Counting objects:  43% (199/462)\u001b[K\r",
      "remote: Counting objects:  44% (204/462)\u001b[K\r",
      "remote: Counting objects:  45% (208/462)\u001b[K\r",
      "remote: Counting objects:  46% (213/462)\u001b[K\r",
      "remote: Counting objects:  47% (218/462)\u001b[K\r",
      "remote: Counting objects:  48% (222/462)\u001b[K\r",
      "remote: Counting objects:  49% (227/462)\u001b[K\r",
      "remote: Counting objects:  50% (231/462)\u001b[K\r",
      "remote: Counting objects:  51% (236/462)\u001b[K\r",
      "remote: Counting objects:  52% (241/462)\u001b[K\r",
      "remote: Counting objects:  53% (245/462)\u001b[K\r",
      "remote: Counting objects:  54% (250/462)\u001b[K\r",
      "remote: Counting objects:  55% (255/462)\u001b[K\r",
      "remote: Counting objects:  56% (259/462)\u001b[K\r",
      "remote: Counting objects:  57% (264/462)\u001b[K\r",
      "remote: Counting objects:  58% (268/462)\u001b[K\r",
      "remote: Counting objects:  59% (273/462)\u001b[K\r",
      "remote: Counting objects:  60% (278/462)\u001b[K\r",
      "remote: Counting objects:  61% (282/462)\u001b[K\r",
      "remote: Counting objects:  62% (287/462)\u001b[K\r",
      "remote: Counting objects:  63% (292/462)\u001b[K\r",
      "remote: Counting objects:  64% (296/462)\u001b[K\r",
      "remote: Counting objects:  65% (301/462)\u001b[K\r",
      "remote: Counting objects:  66% (305/462)\u001b[K\r",
      "remote: Counting objects:  67% (310/462)\u001b[K\r",
      "remote: Counting objects:  68% (315/462)\u001b[K\r",
      "remote: Counting objects:  69% (319/462)\u001b[K\r",
      "remote: Counting objects:  70% (324/462)\u001b[K\r",
      "remote: Counting objects:  71% (329/462)\u001b[K\r",
      "remote: Counting objects:  72% (333/462)\u001b[K\r",
      "remote: Counting objects:  73% (338/462)\u001b[K\r",
      "remote: Counting objects:  74% (342/462)\u001b[K\r",
      "remote: Counting objects:  75% (347/462)\u001b[K\r",
      "remote: Counting objects:  76% (352/462)\u001b[K\r",
      "remote: Counting objects:  77% (356/462)\u001b[K\r",
      "remote: Counting objects:  78% (361/462)\u001b[K\r",
      "remote: Counting objects:  79% (365/462)\u001b[K\r",
      "remote: Counting objects:  80% (370/462)\u001b[K\r",
      "remote: Counting objects:  81% (375/462)\u001b[K\r",
      "remote: Counting objects:  82% (379/462)\u001b[K\r",
      "remote: Counting objects:  83% (384/462)\u001b[K\r",
      "remote: Counting objects:  84% (389/462)\u001b[K\r",
      "remote: Counting objects:  85% (393/462)\u001b[K\r",
      "remote: Counting objects:  86% (398/462)\u001b[K\r",
      "remote: Counting objects:  87% (402/462)\u001b[K\r",
      "remote: Counting objects:  88% (407/462)\u001b[K\r",
      "remote: Counting objects:  89% (412/462)\u001b[K\r",
      "remote: Counting objects:  90% (416/462)\u001b[K\r",
      "remote: Counting objects:  91% (421/462)\u001b[K\r",
      "remote: Counting objects:  92% (426/462)\u001b[K\r",
      "remote: Counting objects:  93% (430/462)\u001b[K\r",
      "remote: Counting objects:  94% (435/462)\u001b[K\r",
      "remote: Counting objects:  95% (439/462)\u001b[K\r",
      "remote: Counting objects:  96% (444/462)\u001b[K\r",
      "remote: Counting objects:  97% (449/462)\u001b[K\r",
      "remote: Counting objects:  98% (453/462)\u001b[K\r",
      "remote: Counting objects:  99% (458/462)\u001b[K\r",
      "remote: Counting objects: 100% (462/462)\u001b[K\r",
      "remote: Counting objects: 100% (462/462), done.\u001b[K\r\n",
      "remote: Compressing objects:   0% (1/152)\u001b[K\r",
      "remote: Compressing objects:   1% (2/152)\u001b[K\r",
      "remote: Compressing objects:   2% (4/152)\u001b[K\r",
      "remote: Compressing objects:   3% (5/152)\u001b[K\r",
      "remote: Compressing objects:   4% (7/152)\u001b[K\r",
      "remote: Compressing objects:   5% (8/152)\u001b[K\r",
      "remote: Compressing objects:   6% (10/152)\u001b[K\r",
      "remote: Compressing objects:   7% (11/152)\u001b[K\r",
      "remote: Compressing objects:   8% (13/152)\u001b[K\r",
      "remote: Compressing objects:   9% (14/152)\u001b[K\r",
      "remote: Compressing objects:  10% (16/152)\u001b[K\r",
      "remote: Compressing objects:  11% (17/152)\u001b[K\r",
      "remote: Compressing objects:  12% (19/152)\u001b[K\r",
      "remote: Compressing objects:  13% (20/152)\u001b[K\r",
      "remote: Compressing objects:  14% (22/152)\u001b[K\r"
     ]
    },
    {
     "name": "stdout",
     "output_type": "stream",
     "text": [
      "remote: Compressing objects:  15% (23/152)\u001b[K\r",
      "remote: Compressing objects:  16% (25/152)\u001b[K\r",
      "remote: Compressing objects:  17% (26/152)\u001b[K\r",
      "remote: Compressing objects:  18% (28/152)\u001b[K\r",
      "remote: Compressing objects:  19% (29/152)\u001b[K\r",
      "remote: Compressing objects:  20% (31/152)\u001b[K\r",
      "remote: Compressing objects:  21% (32/152)\u001b[K\r",
      "remote: Compressing objects:  22% (34/152)\u001b[K\r",
      "remote: Compressing objects:  23% (35/152)\u001b[K\r",
      "remote: Compressing objects:  24% (37/152)\u001b[K\r",
      "remote: Compressing objects:  25% (38/152)\u001b[K\r",
      "remote: Compressing objects:  26% (40/152)\u001b[K\r",
      "remote: Compressing objects:  27% (42/152)\u001b[K\r",
      "remote: Compressing objects:  28% (43/152)\u001b[K\r",
      "remote: Compressing objects:  29% (45/152)\u001b[K\r",
      "remote: Compressing objects:  30% (46/152)\u001b[K\r",
      "remote: Compressing objects:  31% (48/152)\u001b[K\r",
      "remote: Compressing objects:  32% (49/152)\u001b[K\r",
      "remote: Compressing objects:  33% (51/152)\u001b[K\r",
      "remote: Compressing objects:  34% (52/152)\u001b[K\r",
      "remote: Compressing objects:  35% (54/152)\u001b[K\r",
      "remote: Compressing objects:  36% (55/152)\u001b[K\r",
      "remote: Compressing objects:  37% (57/152)\u001b[K\r",
      "remote: Compressing objects:  38% (58/152)\u001b[K\r",
      "remote: Compressing objects:  39% (60/152)\u001b[K\r",
      "remote: Compressing objects:  40% (61/152)\u001b[K\r",
      "remote: Compressing objects:  41% (63/152)\u001b[K\r",
      "remote: Compressing objects:  42% (64/152)\u001b[K\r",
      "remote: Compressing objects:  43% (66/152)\u001b[K\r",
      "remote: Compressing objects:  44% (67/152)\u001b[K\r",
      "remote: Compressing objects:  45% (69/152)\u001b[K\r",
      "remote: Compressing objects:  46% (70/152)\u001b[K\r",
      "remote: Compressing objects:  47% (72/152)\u001b[K\r"
     ]
    },
    {
     "name": "stdout",
     "output_type": "stream",
     "text": [
      "remote: Compressing objects:  48% (73/152)\u001b[K\r",
      "remote: Compressing objects:  49% (75/152)\u001b[K\r",
      "remote: Compressing objects:  50% (76/152)\u001b[K\r",
      "remote: Compressing objects:  51% (78/152)\u001b[K\r",
      "remote: Compressing objects:  52% (80/152)\u001b[K\r",
      "remote: Compressing objects:  53% (81/152)\u001b[K\r",
      "remote: Compressing objects:  54% (83/152)\u001b[K\r",
      "remote: Compressing objects:  55% (84/152)\u001b[K\r",
      "remote: Compressing objects:  56% (86/152)\u001b[K\r",
      "remote: Compressing objects:  57% (87/152)\u001b[K\r",
      "remote: Compressing objects:  58% (89/152)\u001b[K\r",
      "remote: Compressing objects:  59% (90/152)\u001b[K\r",
      "remote: Compressing objects:  60% (92/152)\u001b[K\r",
      "remote: Compressing objects:  61% (93/152)\u001b[K\r",
      "remote: Compressing objects:  62% (95/152)\u001b[K\r",
      "remote: Compressing objects:  63% (96/152)\u001b[K\r",
      "remote: Compressing objects:  64% (98/152)\u001b[K\r",
      "remote: Compressing objects:  65% (99/152)\u001b[K\r",
      "remote: Compressing objects:  66% (101/152)\u001b[K\r",
      "remote: Compressing objects:  67% (102/152)\u001b[K\r",
      "remote: Compressing objects:  68% (104/152)\u001b[K\r",
      "remote: Compressing objects:  69% (105/152)\u001b[K\r",
      "remote: Compressing objects:  70% (107/152)\u001b[K\r",
      "remote: Compressing objects:  71% (108/152)\u001b[K\r",
      "remote: Compressing objects:  72% (110/152)\u001b[K\r",
      "remote: Compressing objects:  73% (111/152)\u001b[K\r",
      "remote: Compressing objects:  74% (113/152)\u001b[K\r",
      "remote: Compressing objects:  75% (114/152)\u001b[K\r",
      "remote: Compressing objects:  76% (116/152)\u001b[K\r",
      "remote: Compressing objects:  77% (118/152)\u001b[K\r",
      "remote: Compressing objects:  78% (119/152)\u001b[K\r",
      "remote: Compressing objects:  79% (121/152)\u001b[K\r",
      "remote: Compressing objects:  80% (122/152)\u001b[K\r",
      "remote: Compressing objects:  81% (124/152)\u001b[K\r",
      "remote: Compressing objects:  82% (125/152)\u001b[K\r",
      "remote: Compressing objects:  83% (127/152)\u001b[K\r",
      "remote: Compressing objects:  84% (128/152)\u001b[K\r",
      "remote: Compressing objects:  85% (130/152)\u001b[K\r",
      "remote: Compressing objects:  86% (131/152)\u001b[K\r",
      "remote: Compressing objects:  87% (133/152)\u001b[K\r",
      "remote: Compressing objects:  88% (134/152)\u001b[K\r",
      "remote: Compressing objects:  89% (136/152)\u001b[K\r",
      "remote: Compressing objects:  90% (137/152)\u001b[K\r",
      "remote: Compressing objects:  91% (139/152)\u001b[K\r",
      "remote: Compressing objects:  92% (140/152)\u001b[K\r",
      "remote: Compressing objects:  93% (142/152)\u001b[K\r",
      "remote: Compressing objects:  94% (143/152)\u001b[K\r",
      "remote: Compressing objects:  95% (145/152)\u001b[K\r",
      "remote: Compressing objects:  96% (146/152)\u001b[K\r",
      "remote: Compressing objects:  97% (148/152)\u001b[K\r",
      "remote: Compressing objects:  98% (149/152)\u001b[K\r",
      "remote: Compressing objects:  99% (151/152)\u001b[K\r",
      "remote: Compressing objects: 100% (152/152)\u001b[K\r",
      "remote: Compressing objects: 100% (152/152), done.\u001b[K\r\n",
      "Receiving objects:   0% (1/462)   \r",
      "Receiving objects:   1% (5/462)   \r",
      "Receiving objects:   2% (10/462)   \r",
      "Receiving objects:   3% (14/462)   \r",
      "Receiving objects:   4% (19/462)   \r",
      "Receiving objects:   5% (24/462)   \r",
      "Receiving objects:   6% (28/462)   \r",
      "Receiving objects:   7% (33/462)   \r",
      "Receiving objects:   8% (37/462)   \r",
      "Receiving objects:   9% (42/462)   \r",
      "Receiving objects:  10% (47/462)   \r"
     ]
    },
    {
     "name": "stdout",
     "output_type": "stream",
     "text": [
      "Receiving objects:  11% (51/462)   \r",
      "Receiving objects:  12% (56/462)   \r"
     ]
    },
    {
     "name": "stdout",
     "output_type": "stream",
     "text": [
      "Receiving objects:  13% (61/462)   \r",
      "Receiving objects:  14% (65/462)   \r",
      "Receiving objects:  15% (70/462)   \r",
      "Receiving objects:  16% (74/462)   \r",
      "Receiving objects:  17% (79/462)   \r",
      "Receiving objects:  18% (84/462)   \r",
      "Receiving objects:  19% (88/462)   \r",
      "Receiving objects:  20% (93/462)   \r",
      "Receiving objects:  21% (98/462)   \r",
      "Receiving objects:  22% (102/462)   \r",
      "Receiving objects:  23% (107/462)   \r",
      "Receiving objects:  24% (111/462)   \r",
      "Receiving objects:  25% (116/462)   \r",
      "Receiving objects:  26% (121/462)   \r",
      "Receiving objects:  27% (125/462)   \r",
      "Receiving objects:  28% (130/462)   \r",
      "Receiving objects:  29% (134/462)   \r",
      "Receiving objects:  30% (139/462)   \r",
      "Receiving objects:  31% (144/462)   \r",
      "Receiving objects:  32% (148/462)   \r",
      "Receiving objects:  33% (153/462)   \r",
      "Receiving objects:  34% (158/462)   \r",
      "Receiving objects:  35% (162/462)   \r",
      "Receiving objects:  36% (167/462)   \r",
      "Receiving objects:  37% (171/462)   \r"
     ]
    },
    {
     "name": "stdout",
     "output_type": "stream",
     "text": [
      "Receiving objects:  38% (176/462)   \r",
      "Receiving objects:  39% (181/462)   \r",
      "Receiving objects:  40% (185/462)   \r",
      "Receiving objects:  41% (190/462)   \r",
      "Receiving objects:  42% (195/462)   \r",
      "Receiving objects:  43% (199/462)   \r",
      "Receiving objects:  44% (204/462)   \r",
      "Receiving objects:  45% (208/462)   \r",
      "Receiving objects:  46% (213/462)   \r",
      "Receiving objects:  47% (218/462)   \r",
      "Receiving objects:  48% (222/462)   \r",
      "Receiving objects:  49% (227/462)   \r",
      "Receiving objects:  50% (231/462)   \r",
      "Receiving objects:  51% (236/462)   \r",
      "Receiving objects:  52% (241/462)   \r",
      "Receiving objects:  53% (245/462)   \r",
      "Receiving objects:  54% (250/462)   \r",
      "Receiving objects:  55% (255/462)   \r",
      "Receiving objects:  56% (259/462)   \r",
      "Receiving objects:  57% (264/462)   \r",
      "Receiving objects:  58% (268/462)   \r",
      "Receiving objects:  59% (273/462)   \r",
      "Receiving objects:  60% (278/462)   \r",
      "Receiving objects:  61% (282/462)   \r",
      "Receiving objects:  62% (287/462)   \r",
      "Receiving objects:  63% (292/462)   \r",
      "Receiving objects:  64% (296/462)   \r",
      "Receiving objects:  65% (301/462)   \r",
      "Receiving objects:  66% (305/462)   \r",
      "Receiving objects:  67% (310/462)   \r",
      "Receiving objects:  68% (315/462)   \r",
      "Receiving objects:  69% (319/462)   \r",
      "Receiving objects:  70% (324/462)   \r",
      "Receiving objects:  71% (329/462)   \r",
      "Receiving objects:  72% (333/462)   \r",
      "Receiving objects:  73% (338/462)   \r",
      "Receiving objects:  74% (342/462)   \r",
      "Receiving objects:  75% (347/462)   \r",
      "Receiving objects:  76% (352/462)   \r",
      "Receiving objects:  77% (356/462)   \r",
      "Receiving objects:  78% (361/462)   \r",
      "Receiving objects:  79% (365/462)   \r",
      "Receiving objects:  80% (370/462)   \r",
      "Receiving objects:  81% (375/462)   \r",
      "Receiving objects:  82% (379/462)   \r"
     ]
    },
    {
     "name": "stdout",
     "output_type": "stream",
     "text": [
      "Receiving objects:  83% (384/462)   \r",
      "Receiving objects:  84% (389/462)   \r",
      "Receiving objects:  85% (393/462)   \r",
      "Receiving objects:  86% (398/462)   \r",
      "Receiving objects:  87% (402/462)   \r",
      "Receiving objects:  88% (407/462)   \r",
      "Receiving objects:  89% (412/462)   \r",
      "Receiving objects:  90% (416/462)   \r",
      "Receiving objects:  91% (421/462)   \r",
      "Receiving objects:  92% (426/462)   \r",
      "Receiving objects:  93% (430/462)   \r"
     ]
    },
    {
     "name": "stdout",
     "output_type": "stream",
     "text": [
      "Receiving objects:  94% (435/462)   \r",
      "Receiving objects:  95% (439/462)   \r",
      "Receiving objects:  96% (444/462)   \r",
      "remote: Total 462 (delta 330), reused 433 (delta 304), pack-reused 0\u001b[K\r\n",
      "Receiving objects:  97% (449/462)   \r",
      "Receiving objects:  98% (453/462)   \r",
      "Receiving objects:  99% (458/462)   \r",
      "Receiving objects: 100% (462/462)   \r",
      "Receiving objects: 100% (462/462), 2.96 MiB | 0 bytes/s, done.\r\n",
      "Resolving deltas:   0% (0/330)   \r",
      "Resolving deltas:   6% (20/330)   \r",
      "Resolving deltas:   7% (24/330)   \r",
      "Resolving deltas:   8% (27/330)   \r",
      "Resolving deltas:  10% (34/330)   \r",
      "Resolving deltas:  32% (107/330)   \r",
      "Resolving deltas:  47% (157/330)   \r",
      "Resolving deltas:  59% (196/330)   \r",
      "Resolving deltas:  60% (200/330)   \r",
      "Resolving deltas:  80% (267/330)   \r",
      "Resolving deltas:  83% (275/330)   \r",
      "Resolving deltas:  90% (299/330)   \r",
      "Resolving deltas:  91% (302/330)   \r",
      "Resolving deltas:  95% (315/330)   \r",
      "Resolving deltas:  96% (317/330)   \r",
      "Resolving deltas:  97% (321/330)   \r",
      "Resolving deltas:  98% (326/330)   \r",
      "Resolving deltas: 100% (330/330)   \r",
      "Resolving deltas: 100% (330/330), done.\r\n"
     ]
    },
    {
     "name": "stdout",
     "output_type": "stream",
     "text": [
      "Checking connectivity... done.\r\n"
     ]
    },
    {
     "name": "stdout",
     "output_type": "stream",
     "text": [
      "[master b2738ee] Uploaded by d2lbook\r\n",
      " 1 file changed, 0 insertions(+), 0 deletions(-)\r\n",
      " rewrite deply-demo.pdf (72%)\r\n"
     ]
    },
    {
     "name": "stdout",
     "output_type": "stream",
     "text": [
      "Counting objects: 3, done.\r\n",
      "Delta compression using up to 32 threads.\r\n",
      "Compressing objects:  33% (1/3)   \r",
      "Compressing objects:  66% (2/3)   \r",
      "Compressing objects: 100% (3/3)   \r",
      "Compressing objects: 100% (3/3), done.\r\n",
      "Writing objects:  33% (1/3)   \r",
      "Writing objects:  66% (2/3)   \r",
      "Writing objects: 100% (3/3)   \r",
      "Writing objects: 100% (3/3), 13.19 KiB | 0 bytes/s, done.\r\n",
      "Total 3 (delta 1), reused 0 (delta 0)\r\n"
     ]
    },
    {
     "name": "stdout",
     "output_type": "stream",
     "text": [
      "remote: Resolving deltas:   0% (0/1)\u001b[K\r",
      "remote: Resolving deltas: 100% (1/1)\u001b[K\r",
      "remote: Resolving deltas: 100% (1/1), completed with 1 local object.\u001b[K\r\n"
     ]
    },
    {
     "name": "stdout",
     "output_type": "stream",
     "text": [
      "To git@github.com:d2l-ai/d2l-book-deploy-demo.git\r\n",
      "   aa4adbd..b2738ee  master -> master\r\n"
     ]
    }
   ],
   "source": [
    "!cd deploy; d2lbook deploy html pdf"
   ]
  },
  {
   "cell_type": "markdown",
   "metadata": {},
   "source": [
    "Lastly, let's clean our workspace."
   ]
  },
  {
   "cell_type": "code",
   "execution_count": 7,
   "metadata": {},
   "outputs": [],
   "source": [
    "!rm -rf deploy"
   ]
  },
  {
   "cell_type": "markdown",
   "metadata": {},
   "source": [
    "## Deploying Through AWS\n",
    "\n",
    "Another supported option is deploying through AWS. This option provide more flexibility but require you to know the basic usage of AWS.\n",
    "\n",
    "We recommend the following procedure for the deployment:\n",
    "\n",
    "1. Copying results into [S3](https://aws.amazon.com/s3/).\n",
    "2. Serving with a [CDN](https://en.wikipedia.org/wiki/Content_delivery_network) by using [CloudFront](https://aws.amazon.com/cloudfront/) to reduce the latency.\n",
    "3. Buying and adding a customized domain at [Route 53](https://aws.amazon.com/route53/)\n",
    "\n",
    "Now let's walk through these three steps one-by-one. Before getting started, you need to have a valid AWS account and typing in your [AWS access key](https://docs.aws.amazon.com/IAM/latest/UserGuide/id_credentials_access-keys.html) by running `aws configure`.\n",
    "\n",
    "First, create a S3 bucket. You can use the targeted domain name as your bucket name. For example, this site is deployed at book.d2l.ai, then we created a bucket with the name `book.d2l.ai`. In addition, we need to disable the blocking public access through ACLs when creating this bucket, see :numref:`fig_s3-acl` and enable static website hosting, see :numref:`fig_s3-web-hosting`. Then you will get a URL to access this bucket. In our example, it's http://book.d2l.ai.s3-website-us-west-2.amazonaws.com/.\n",
    "\n",
    "![Disable blocking public access through ACLs](../img/s3-acl.png)\n",
    "\n",
    ":label:`fig_s3-acl`\n",
    ":width:`500px`\n",
    "\n",
    "![Enable static web hosting](../img/s3-web-hosting.png)\n",
    "\n",
    ":label:`fig_s3-web-hosting`\n",
    ":width:`500px`\n",
    "\n",
    "Second, create a new CloudFront distribution, by specifying the following options:\n",
    "- Origin Domain Name: the previous S3 URL without `http://`, e.g. `book.d2l.ai.s3-website-us-west-2.amazonaws.com`\n",
    "- Default Root Object: `index.html`\n",
    "- [optional] Alternate Domain Names (CNAMEs): your target domain name, e.g. `book.d2l.ai`\n",
    "- [optional] SSL Certificate: you can create one in [Certificate Manager](https://aws.amazon.com/certificate-manager/) and then select it.\n",
    "\n",
    "After a few minute, we will obtain the domain name such as `d1y0wi2ibwmzrt.cloudfront.net`.\n",
    "\n",
    "Third, you can either buying a domain at Route 53 or adding Route 53's DNS into your existing domain. After it, create a \"Hosted Zone\" and then a Type-A Record Set with the CoundFront domain name as the alias target, see :numref:`fig_record-set` for an example.\n",
    "\n",
    "![Create a Record Set](../img/record-set.png)\n",
    "\n",
    ":label:`fig_record-set`\n",
    ":width:`350px`\n",
    "\n",
    "Once you are done, then specify your S3 bucket name in the following `config.ini` entry."
   ]
  },
  {
   "cell_type": "markdown",
   "metadata": {},
   "source": [
    "```bash\n",
    "[deploy]\n",
    "s3_bucket = s3://book.d2l.ai\n",
    "```\n"
   ]
  },
  {
   "cell_type": "markdown",
   "metadata": {},
   "source": [
    "Each time you run `d2lbook deploy`, all results will be synchronized to this bucket and deployed automatically. Note that since we enabled a CDN, any new change may take a while to be shown in your URL (e.g. http://book.d2l.ai). But you can check the S3 bucket URL (e.g. http://book.d2l.ai.s3-website-us-west-2.amazonaws.com) to review the changes immediately."
   ]
  }
 ],
 "metadata": {
  "kernelspec": {
   "display_name": "conda_python3",
   "name": "conda_python3"
  },
  "language_info": {
   "name": "python"
  }
 },
 "nbformat": 4,
 "nbformat_minor": 2
}