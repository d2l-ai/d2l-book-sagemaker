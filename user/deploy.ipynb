{
 "cells": [
  {
   "cell_type": "markdown",
   "metadata": {},
   "source": [
    "# Deploying\n",
    "\n",
    "You can copy the built result to any your favorite place that can server contents online. Otherwise `d2lbook` provides two ways to deploy your build results: deploying through [Github](http://github.com/) or through [AWS](https://aws.amazon.com/).\n",
    "\n",
    "## Deploying Through Github\n",
    "\n",
    "[Github Pages](https://pages.github.com/) allow us to host a website through a Github repo. To do so, we first need to create a github repo, for example we created [d2l-ai/d2l-book-deploy-demo](https://github.com/d2l-ai/d2l-book-deploy-demo) for this example. Then enable serving from the master branch in `Settings -> GitHub Pages`. You will get a URL to access it. It is [d2l-ai.github.io/d2l-book-deploy-demo](https://d2l-ai.github.io/d2l-book-deploy-demo/) for this example. You can add anything to `README.md`, which will not show on the website.\n",
    "\n",
    "![Enable serving from master branch at Github](../img/github_pages.png)\n",
    "\n",
    ":width:`400px`\n",
    "\n",
    "\n",
    "Now let's create a project with `[deploy] github_repo` specified and build both HTML and PDF. You will see a large amount of logging information thanks to LaTeX,  more exactly, `xelatex`."
   ]
  },
  {
   "cell_type": "code",
   "execution_count": 1,
   "metadata": {},
   "outputs": [],
   "source": [
    "!mkdir -p deploy"
   ]
  },
  {
   "cell_type": "code",
   "execution_count": 2,
   "metadata": {},
   "outputs": [
    {
     "name": "stdout",
     "output_type": "stream",
     "text": [
      "Writing deploy/index.md\n"
     ]
    }
   ],
   "source": [
    "%%writefile deploy/index.md\n",
    "# Deploying Demo for d2lbook\n",
    "\n",
    "This is a demo to deploy on Github.\n",
    "\n",
    "````toc\n",
    "get_started\n",
    "````"
   ]
  },
  {
   "cell_type": "code",
   "execution_count": 3,
   "metadata": {},
   "outputs": [
    {
     "name": "stdout",
     "output_type": "stream",
     "text": [
      "Writing deploy/get_started.md\n"
     ]
    }
   ],
   "source": [
    "%%writefile deploy/get_started.md\n",
    "# Getting Started\n",
    "\n",
    "Please first install my favorite package `numpy`."
   ]
  },
  {
   "cell_type": "code",
   "execution_count": 4,
   "metadata": {},
   "outputs": [
    {
     "name": "stdout",
     "output_type": "stream",
     "text": [
      "Writing deploy/config.ini\n"
     ]
    }
   ],
   "source": [
    "%%writefile deploy/config.ini\n",
    "[project]\n",
    "name = deply-demo\n",
    "\n",
    "[html]\n",
    "header_links = PDF, https://https://d2l-ai.github.io/d2l-book-deploy-demo/deply-demo.pdf, fas fa-file-pdf\n",
    "\n",
    "[deploy]\n",
    "github_repo = d2l-ai/d2l-book-deploy-demo"
   ]
  },
  {
   "cell_type": "code",
   "execution_count": 5,
   "metadata": {},
   "outputs": [
    {
     "name": "stdout",
     "output_type": "stream",
     "text": [
      "[d2lbook:config.py:L12] INFO   Load configure from config.ini\r\n",
      "[d2lbook:build.py:L98] INFO   2 notebooks are outdated\r\n",
      "[d2lbook:build.py:L100] INFO   [1] ./get_started.md\r\n",
      "[d2lbook:build.py:L100] INFO   [2] ./index.md\r\n",
      "[d2lbook:build.py:L105] INFO   [1/2, 00:00:00] Evaluating ./get_started.md, save as _build/eval/get_started.ipynb\r\n"
     ]
    },
    {
     "name": "stdout",
     "output_type": "stream",
     "text": [
      "[d2lbook:execute.py:L404] INFO   Executing notebook with kernel: python\r\n"
     ]
    },
    {
     "name": "stdout",
     "output_type": "stream",
     "text": [
      "[d2lbook:build.py:L112] INFO   Finished in 00:00:01\r\n",
      "[d2lbook:build.py:L105] INFO   [2/2, 00:00:01] Evaluating ./index.md, save as _build/eval/index.ipynb\r\n"
     ]
    },
    {
     "name": "stdout",
     "output_type": "stream",
     "text": [
      "[d2lbook:execute.py:L404] INFO   Executing notebook with kernel: python\r\n"
     ]
    },
    {
     "name": "stdout",
     "output_type": "stream",
     "text": [
      "[d2lbook:build.py:L112] INFO   Finished in 00:00:00\r\n",
      "[d2lbook:build.py:L120] INFO   \"d2lbook build eval\" finished in 00:00:01\r\n",
      "[d2lbook:build.py:L177] INFO   2 rst files are outdated\r\n",
      "[d2lbook:build.py:L179] INFO   Convert _build/eval/get_started.ipynb to _build/rst/get_started.rst\r\n"
     ]
    },
    {
     "name": "stdout",
     "output_type": "stream",
     "text": [
      "[d2lbook:build.py:L179] INFO   Convert _build/eval/index.ipynb to _build/rst/index.rst\r\n"
     ]
    },
    {
     "name": "stdout",
     "output_type": "stream",
     "text": [
      "[d2lbook:utils.py:L124] INFO   Run \"sphinx-build _build/rst _build/html -b html -c _build/rst -j 4\"\r\n"
     ]
    },
    {
     "name": "stdout",
     "output_type": "stream",
     "text": [
      "\u001b[01mRunning Sphinx v2.3.0\u001b[39;49;00m\r\n"
     ]
    },
    {
     "name": "stdout",
     "output_type": "stream",
     "text": [
      "\u001b[01mmaking output directory... \u001b[39;49;00mdone\r\n",
      "\u001b[01mbuilding [mo]: \u001b[39;49;00mtargets for 0 po files that are out of date\r\n",
      "\u001b[01mbuilding [html]: \u001b[39;49;00mtargets for 2 source files that are out of date\r\n"
     ]
    },
    {
     "name": "stdout",
     "output_type": "stream",
     "text": [
      "\u001b[01mupdating environment: \u001b[39;49;00m[new config] 2 added, 0 changed, 0 removed\r\n",
      "\u001b[01mreading sources... \u001b[39;49;00m[ 50%] \u001b[35mget_started\u001b[39;49;00m                                           \r",
      "\u001b[01mreading sources... \u001b[39;49;00m[100%] \u001b[35mindex\u001b[39;49;00m                                                 \r",
      "\r\n",
      "\u001b[01mlooking for now-outdated files... \u001b[39;49;00mnone found\r\n",
      "\u001b[01mpickling environment... \u001b[39;49;00mdone\r\n",
      "\u001b[01mchecking consistency... \u001b[39;49;00mdone\r\n",
      "\u001b[01mpreparing documents... \u001b[39;49;00mdone\r\n"
     ]
    },
    {
     "name": "stdout",
     "output_type": "stream",
     "text": [
      "\u001b[01mwriting output... \u001b[39;49;00m[100%] \u001b[32mindex\u001b[39;49;00m                                                  \r",
      "\r\n",
      "\u001b[01mwaiting for workers...\u001b[39;49;00m\r\n"
     ]
    },
    {
     "name": "stdout",
     "output_type": "stream",
     "text": [
      "\u001b[01mgenerating indices... \u001b[39;49;00m genindexdone\r\n",
      "\u001b[01mwriting additional pages... \u001b[39;49;00m search"
     ]
    },
    {
     "name": "stdout",
     "output_type": "stream",
     "text": [
      "done\r\n",
      "\u001b[01mcopying static files... ... \u001b[39;49;00m"
     ]
    },
    {
     "name": "stdout",
     "output_type": "stream",
     "text": [
      "done\r\n",
      "\u001b[01mcopying extra files... \u001b[39;49;00mdone\r\n",
      "\u001b[01mdumping search index in English (code: en)... \u001b[39;49;00mdone\r\n",
      "\u001b[01mdumping object inventory... \u001b[39;49;00mdone\r\n",
      "\u001b[01mbuild succeeded.\u001b[39;49;00m\r\n",
      "\r\n",
      "The HTML pages are in _build/html.\r\n"
     ]
    },
    {
     "name": "stdout",
     "output_type": "stream",
     "text": [
      "[d2lbook:build.py:L204] INFO   \"d2lbook build html\" finished in 00:00:02\r\n",
      "[d2lbook:utils.py:L124] INFO   Run \"sphinx-build  _build/rst _build/pdf -b latex -c _build/rst -j 4\"\r\n"
     ]
    },
    {
     "name": "stdout",
     "output_type": "stream",
     "text": [
      "\u001b[01mRunning Sphinx v2.3.0\u001b[39;49;00m\r\n"
     ]
    },
    {
     "name": "stdout",
     "output_type": "stream",
     "text": [
      "\u001b[01mmaking output directory... \u001b[39;49;00mdone\r\n"
     ]
    },
    {
     "name": "stdout",
     "output_type": "stream",
     "text": [
      "\u001b[01mbuilding [mo]: \u001b[39;49;00mtargets for 0 po files that are out of date\r\n",
      "\u001b[01mbuilding [latex]: \u001b[39;49;00mall documents\r\n",
      "\u001b[01mupdating environment: \u001b[39;49;00m[new config] 2 added, 0 changed, 0 removed\r\n",
      "\u001b[01mreading sources... \u001b[39;49;00m[ 50%] \u001b[35mget_started\u001b[39;49;00m                                           \r",
      "\u001b[01mreading sources... \u001b[39;49;00m[100%] \u001b[35mindex\u001b[39;49;00m                                                 \r",
      "\r\n",
      "\u001b[01mlooking for now-outdated files... \u001b[39;49;00mnone found\r\n",
      "\u001b[01mpickling environment... \u001b[39;49;00mdone\r\n",
      "\u001b[01mchecking consistency... \u001b[39;49;00mdone\r\n",
      "\u001b[01mprocessing deply-demo.tex... \u001b[39;49;00m\u001b[32mindex\u001b[39;49;00m \u001b[32mget_started\u001b[39;49;00m \r\n",
      "resolving references...\r\n",
      "done\r\n",
      "\u001b[01mwriting... \u001b[39;49;00m"
     ]
    },
    {
     "name": "stdout",
     "output_type": "stream",
     "text": [
      "done\r\n",
      "\u001b[01mcopying TeX support files... \u001b[39;49;00m\u001b[01mcopying TeX support files...\u001b[39;49;00m\r\n",
      "done\r\n",
      "\u001b[01mbuild succeeded.\u001b[39;49;00m\r\n",
      "\r\n",
      "The LaTeX files are in _build/pdf.\r\n",
      "Run 'make' in that directory to run these through (pdf)latex\r\n",
      "(use `make latexpdf' here to do that automatically).\r\n"
     ]
    },
    {
     "name": "stdout",
     "output_type": "stream",
     "text": [
      "[d2lbook:utils.py:L124] INFO   Run \"cd _build/pdf && make\"\r\n",
      "latexmk -pdf -dvi- -ps-  'deply-demo.tex'\r\n"
     ]
    },
    {
     "name": "stdout",
     "output_type": "stream",
     "text": [
      "Latexmk: This is Latexmk, John Collins, 1 January 2015, version: 4.41.\r\n",
      "Latexmk: applying rule 'pdflatex'...\r\n",
      "Rule 'pdflatex': Rules & subrules not known to be previously run:\r\n",
      "   pdflatex\r\n",
      "Rule 'pdflatex': The following rules & subrules became out-of-date:\r\n",
      "      'pdflatex'\r\n",
      "------------\r\n",
      "Run number 1 of rule 'pdflatex'\r\n",
      "------------\r\n",
      "------------\r\n",
      "Running 'xelatex   -recorder  \"deply-demo.tex\"'\r\n",
      "------------\r\n"
     ]
    },
    {
     "name": "stdout",
     "output_type": "stream",
     "text": [
      "This is XeTeX, Version 3.14159265-2.6-0.99992 (TeX Live 2015/Debian) (preloaded format=xelatex)\r\n",
      " restricted \\write18 enabled.\r\n"
     ]
    },
    {
     "name": "stdout",
     "output_type": "stream",
     "text": [
      "entering extended mode\r\n",
      "(./deply-demo.tex\r\n",
      "LaTeX2e <2016/02/01>\r\n",
      "Babel <3.9q> and hyphenation patterns for 81 language(s) loaded.\r\n",
      "(./sphinxmanual.cls\r\n",
      "Document Class: sphinxmanual 2019/12/01 v2.3.0 Document class (Sphinx manual)\r\n",
      "(/usr/share/texlive/texmf-dist/tex/latex/base/report.cls"
     ]
    },
    {
     "name": "stdout",
     "output_type": "stream",
     "text": [
      "\r\n",
      "Document Class: report 2014/09/29 v1.4h Standard LaTeX document class\r\n",
      "(/usr/share/texlive/texmf-dist/tex/latex/base/size11.clo)))\r\n",
      "(/usr/share/texlive/texmf-dist/tex/latex/cmap/cmap.sty\r\n",
      "\r\n",
      "Package cmap Warning: pdftex not detected - exiting.\r\n",
      "\r\n",
      ") (/usr/share/texlive/texmf-dist/tex/latex/fontspec/fontspec.sty\r\n",
      "(/usr/share/texlive/texmf-dist/tex/latex/l3kernel/expl3.sty\r\n",
      "(/usr/share/texlive/texmf-dist/tex/latex/l3kernel/expl3-code.tex"
     ]
    },
    {
     "name": "stdout",
     "output_type": "stream",
     "text": [
      ")\r\n",
      "(/usr/share/texlive/texmf-dist/tex/latex/l3kernel/l3xdvipdfmx.def))\r\n",
      "(/usr/share/texlive/texmf-dist/tex/latex/l3packages/xparse/xparse.sty)\r\n",
      "(/usr/share/texlive/texmf-dist/tex/latex/fontspec/fontspec-xetex.sty\r\n",
      "(/usr/share/texlive/texmf-dist/tex/latex/base/fontenc.sty\r\n",
      "(/usr/share/texlive/texmf-dist/tex/latex/euenc/eu1enc.def)\r\n",
      "(/usr/share/texlive/texmf-dist/tex/latex/euenc/eu1lmr.fd)"
     ]
    },
    {
     "name": "stdout",
     "output_type": "stream",
     "text": [
      ")\r\n",
      "(/usr/share/texlive/texmf-dist/tex/xelatex/xunicode/xunicode.sty\r\n",
      "(/usr/share/texmf/tex/latex/tipa/t3enc.def\r\n",
      "(/usr/share/texlive/texmf-dist/tex/latex/euenc/eu1lmss.fd))\r\n",
      "(/usr/share/texlive/texmf-dist/tex/latex/graphics/graphicx.sty\r\n",
      "(/usr/share/texlive/texmf-dist/tex/latex/graphics/keyval.sty)\r\n",
      "(/usr/share/texlive/texmf-dist/tex/latex/graphics/graphics.sty\r\n",
      "(/usr/share/texlive/texmf-dist/tex/latex/graphics/trig.sty)\r\n",
      "(/usr/share/texlive/texmf-dist/tex/latex/latexconfig/graphics.cfg)\r\n",
      "(/usr/share/texlive/texmf-dist/tex/xelatex/xetex-def/xetex.def\r\n",
      "(/usr/share/texlive/texmf-dist/tex/generic/oberdiek/infwarerr.sty)\r\n",
      "(/usr/share/texlive/texmf-dist/tex/generic/oberdiek/ltxcmds.sty)))))"
     ]
    },
    {
     "name": "stdout",
     "output_type": "stream",
     "text": [
      "\r\n",
      "(/usr/share/texlive/texmf-dist/tex/latex/fontspec/fontspec.cfg)))\r\n",
      "(/usr/share/texlive/texmf-dist/tex/latex/amsmath/amsmath.sty\r\n",
      "For additional information on amsmath, use the `?' option.\r\n",
      "(/usr/share/texlive/texmf-dist/tex/latex/amsmath/amstext.sty\r\n",
      "(/usr/share/texlive/texmf-dist/tex/latex/amsmath/amsgen.sty))\r\n",
      "(/usr/share/texlive/texmf-dist/tex/latex/amsmath/amsbsy.sty)\r\n",
      "(/usr/share/texlive/texmf-dist/tex/latex/amsmath/amsopn.sty))\r\n",
      "(/usr/share/texlive/texmf-dist/tex/latex/amsfonts/amssymb.sty\r\n",
      "(/usr/share/texlive/texmf-dist/tex/latex/amsfonts/amsfonts.sty))\r\n",
      "(/usr/share/texlive/texmf-dist/tex/latex/polyglossia/polyglossia.sty\r\n",
      "(/usr/share/texlive/texmf-dist/tex/latex/etoolbox/etoolbox.sty)\r\n",
      "(/usr/share/texlive/texmf-dist/tex/latex/makecmds/makecmds.sty)\r\n",
      "(/usr/share/texlive/texmf-dist/tex/latex/xkeyval/xkeyval.sty\r\n",
      "(/usr/share/texlive/texmf-dist/tex/generic/xkeyval/xkeyval.tex\r\n",
      "(/usr/share/texlive/texmf-dist/tex/generic/xkeyval/xkvutils.tex)))\r\n",
      "(/usr/share/texlive/texmf-dist/tex/generic/oberdiek/ifluatex.sty)\r\n",
      "(/usr/share/texlive/texmf-dist/tex/generic/ifxetex/ifxetex.sty))\r\n",
      "(/usr/share/texlive/texmf-dist/tex/latex/polyglossia/gloss-english.ldf)"
     ]
    },
    {
     "name": "stdout",
     "output_type": "stream",
     "text": [
      "\r\n",
      "(/usr/share/texlive/texmf-dist/tex/latex/fncychap/fncychap.sty) (./sphinx.sty\r\n",
      "(/usr/share/texlive/texmf-dist/tex/latex/fancyhdr/fancyhdr.sty)\r\n",
      "(/usr/share/texlive/texmf-dist/tex/latex/base/textcomp.sty\r\n",
      "(/usr/share/texlive/texmf-dist/tex/latex/base/ts1enc.def))\r\n",
      "(/usr/share/texlive/texmf-dist/tex/latex/titlesec/titlesec.sty)\r\n",
      "\r\n",
      " Package Sphinx Info: \r\n",
      " **** titlesec 2.10.1 successfully patched for bugfix ****\r\n",
      "\r\n",
      "(/usr/share/texlive/texmf-dist/tex/latex/tabulary/tabulary.sty\r\n",
      "(/usr/share/texlive/texmf-dist/tex/latex/tools/array.sty))\r\n",
      "(/usr/share/texlive/texmf-dist/tex/latex/tools/longtable.sty)\r\n",
      "(/usr/share/texlive/texmf-dist/tex/latex/varwidth/varwidth.sty)\r\n",
      "(./sphinxmulticell.sty)\r\n",
      "(/usr/share/texlive/texmf-dist/tex/latex/base/makeidx.sty)\r\n",
      "(/usr/share/texlive/texmf-dist/tex/latex/framed/framed.sty)\r\n",
      "(/usr/share/texlive/texmf-dist/tex/latex/xcolor/xcolor.sty\r\n",
      "(/usr/share/texlive/texmf-dist/tex/latex/latexconfig/color.cfg))"
     ]
    },
    {
     "name": "stdout",
     "output_type": "stream",
     "text": [
      "\r\n",
      "(/usr/share/texlive/texmf-dist/tex/latex/fancyvrb/fancyvrb.sty\r\n",
      "Style option: `fancyvrb' v2.7a, with DG/SPQR fixes, and firstline=lastline fix \r\n",
      "<2008/02/07> (tvz)) (./footnotehyper-sphinx.sty)\r\n",
      "(/usr/share/texlive/texmf-dist/tex/latex/float/float.sty)\r\n",
      "(/usr/share/texlive/texmf-dist/tex/latex/wrapfig/wrapfig.sty)\r\n",
      "(/usr/share/texlive/texmf-dist/tex/latex/parskip/parskip.sty)\r\n",
      "(/usr/share/texlive/texmf-dist/tex/latex/base/alltt.sty)\r\n",
      "(/usr/share/texlive/texmf-dist/tex/latex/upquote/upquote.sty)\r\n",
      "(/usr/share/texlive/texmf-dist/tex/latex/capt-of/capt-of.sty)\r\n",
      "(/usr/share/texlive/texmf-dist/tex/latex/needspace/needspace.sty)\r\n",
      "(/usr/share/texlive/texmf-dist/tex/latex/carlisle/remreset.sty)\r\n",
      "(./sphinxhighlight.sty)\r\n",
      "(/usr/share/texlive/texmf-dist/tex/latex/oberdiek/kvoptions.sty\r\n",
      "(/usr/share/texlive/texmf-dist/tex/generic/oberdiek/kvsetkeys.sty\r\n",
      "(/usr/share/texlive/texmf-dist/tex/generic/oberdiek/etexcmds.sty))))\r\n",
      "(/usr/share/texlive/texmf-dist/tex/latex/geometry/geometry.sty\r\n",
      "(/usr/share/texlive/texmf-dist/tex/generic/oberdiek/ifpdf.sty)\r\n",
      "(/usr/share/texlive/texmf-dist/tex/generic/oberdiek/ifvtex.sty))\r\n",
      "(/usr/share/texlive/texmf-dist/tex/latex/hyperref/hyperref.sty\r\n",
      "(/usr/share/texlive/texmf-dist/tex/generic/oberdiek/hobsub-hyperref.sty\r\n",
      "(/usr/share/texlive/texmf-dist/tex/generic/oberdiek/hobsub-generic.sty))\r\n",
      "(/usr/share/texlive/texmf-dist/tex/latex/oberdiek/auxhook.sty)\r\n",
      "(/usr/share/texlive/texmf-dist/tex/latex/hyperref/pd1enc.def)\r\n",
      "(/usr/share/texlive/texmf-dist/tex/latex/latexconfig/hyperref.cfg)"
     ]
    },
    {
     "name": "stdout",
     "output_type": "stream",
     "text": [
      "\r\n",
      "(/usr/share/texlive/texmf-dist/tex/latex/hyperref/puenc.def)\r\n",
      "(/usr/share/texlive/texmf-dist/tex/latex/url/url.sty))\r\n",
      "\r\n",
      "Package hyperref Message: Driver (autodetected): hxetex.\r\n",
      "\r\n",
      "(/usr/share/texlive/texmf-dist/tex/latex/hyperref/hxetex.def\r\n",
      "(/usr/share/texlive/texmf-dist/tex/generic/oberdiek/stringenc.sty)\r\n",
      "(/usr/share/texlive/texmf-dist/tex/latex/oberdiek/rerunfilecheck.sty))\r\n",
      "(/usr/share/texlive/texmf-dist/tex/latex/oberdiek/hypcap.sty)\r\n",
      "(./sphinxmessages.sty)\r\n",
      "(/usr/share/texlive/texmf-dist/tex/latex/blindtext/blindtext.sty\r\n",
      "(/usr/share/texlive/texmf-dist/tex/latex/tools/xspace.sty))\r\n",
      "(/usr/share/texlive/texmf-dist/tex/latex/natbib/natbib.sty)\r\n",
      "(/usr/share/texlive/texmf-dist/tex/latex/minted/minted.sty\r\n",
      "(/usr/share/texlive/texmf-dist/tex/latex/base/ifthen.sty)\r\n",
      "(/usr/share/texlive/texmf-dist/tex/latex/tools/calc.sty)\r\n",
      "(/usr/share/texlive/texmf-dist/tex/latex/ifplatform/ifplatform.sty\r\n",
      "(/usr/share/texlive/texmf-dist/tex/generic/oberdiek/catchfile.sty)\r\n",
      "\r\n",
      "Package ifplatform Warning: \r\n",
      "    shell escape is disabled, so I can only detect \\ifwindows.\r\n",
      "\r\n",
      ") (/usr/share/texlive/texmf-dist/tex/generic/xstring/xstring.sty\r\n",
      "(/usr/share/texlive/texmf-dist/tex/generic/xstring/xstring.tex))\r\n",
      "(/usr/share/texlive/texmf-dist/tex/latex/lineno/lineno.sty"
     ]
    },
    {
     "name": "stdout",
     "output_type": "stream",
     "text": [
      "))\r\n",
      "Writing index file deply-demo.idx\r\n",
      "(./deply-demo.aux) (/usr/share/texmf/tex/latex/tipa/t3cmr.fd)\r\n",
      "(/usr/share/texlive/texmf-dist/tex/latex/base/ts1cmr.fd)\r\n",
      "*geometry* driver: auto-detecting\r\n",
      "*geometry* detected driver: xetex\r\n",
      "(/usr/share/texlive/texmf-dist/tex/latex/hyperref/nameref.sty\r\n",
      "(/usr/share/texlive/texmf-dist/tex/generic/oberdiek/gettitlestring.sty))\r\n",
      "\r\n",
      "Package hyperref Warning: Rerun to get /PageLabels entry.\r\n",
      "\r\n",
      "(/usr/share/texlive/texmf-dist/tex/latex/amsfonts/umsa.fd)\r\n",
      "(/usr/share/texlive/texmf-dist/tex/latex/amsfonts/umsb.fd) [1] [2] [1] [2]\r\n",
      "[1] [2]\r\n",
      "Chapter 1.\r\n",
      "No file deply-demo.ind.\r\n",
      "[3"
     ]
    },
    {
     "name": "stdout",
     "output_type": "stream",
     "text": [
      "] (./deply-demo.aux)\r\n",
      "\r\n",
      "LaTeX Warning: Label(s) may have changed. Rerun to get cross-references right.\r\n",
      "\r\n",
      " )\r\n"
     ]
    },
    {
     "name": "stdout",
     "output_type": "stream",
     "text": [
      "(see the transcript file for additional information)\r\n",
      "Output written on deply-demo.pdf (7 pages).\r\n",
      "Transcript written on deply-demo.log.\r\n"
     ]
    },
    {
     "name": "stdout",
     "output_type": "stream",
     "text": [
      "Latexmk: Index file 'deply-demo.idx' was written\r\n",
      "Latexmk: References changed.\r\n",
      "Latexmk: Missing input file: 'deply-demo.ind' from line\r\n",
      "  'No file deply-demo.ind.'\r\n",
      "Latexmk: References changed.\r\n",
      "Latexmk: Log file says output to 'deply-demo.pdf'\r\n"
     ]
    },
    {
     "name": "stdout",
     "output_type": "stream",
     "text": [
      "Latexmk: applying rule 'makeindex deply-demo.idx'...\r\n",
      "Rule 'makeindex deply-demo.idx': File changes, etc:\r\n",
      "   Non-existent destination files:\r\n",
      "      'deply-demo.ind'\r\n",
      "------------\r\n",
      "Run number 1 of rule 'makeindex deply-demo.idx'\r\n",
      "------------\r\n",
      "------------\r\n",
      "Running 'internal xindy -L english -C utf8  -M sphinx.xdy  -o \"deply-demo.ind\" \"deply-demo.idx\"'\r\n",
      "------------\r\n",
      "Latexmk: calling xindy( -L english -C utf8 -M sphinx.xdy -o deply-demo.ind deply-demo.idx )\r\n",
      "Latexmk: applying rule 'pdflatex'...\r\n",
      "Rule 'pdflatex': File changes, etc:\r\n",
      "   Changed files, or newly in use since previous run(s):\r\n",
      "      'deply-demo.aux'\r\n",
      "      'deply-demo.ind'\r\n",
      "------------\r\n",
      "Run number 2 of rule 'pdflatex'\r\n",
      "------------\r\n",
      "------------\r\n",
      "Running 'xelatex   -recorder  \"deply-demo.tex\"'\r\n",
      "------------\r\n"
     ]
    },
    {
     "name": "stdout",
     "output_type": "stream",
     "text": [
      "This is XeTeX, Version 3.14159265-2.6-0.99992 (TeX Live 2015/Debian) (preloaded format=xelatex)\r\n",
      " restricted \\write18 enabled.\r\n"
     ]
    },
    {
     "name": "stdout",
     "output_type": "stream",
     "text": [
      "entering extended mode\r\n",
      "(./deply-demo.tex\r\n",
      "LaTeX2e <2016/02/01>\r\n",
      "Babel <3.9q> and hyphenation patterns for 81 language(s) loaded.\r\n",
      "(./sphinxmanual.cls\r\n",
      "Document Class: sphinxmanual 2019/12/01 v2.3.0 Document class (Sphinx manual)\r\n",
      "(/usr/share/texlive/texmf-dist/tex/latex/base/report.cls\r\n",
      "Document Class: report 2014/09/29 v1.4h Standard LaTeX document class\r\n",
      "(/usr/share/texlive/texmf-dist/tex/latex/base/size11.clo)))\r\n",
      "(/usr/share/texlive/texmf-dist/tex/latex/cmap/cmap.sty\r\n",
      "\r\n",
      "Package cmap Warning: pdftex not detected - exiting.\r\n",
      "\r\n",
      ") (/usr/share/texlive/texmf-dist/tex/latex/fontspec/fontspec.sty\r\n",
      "(/usr/share/texlive/texmf-dist/tex/latex/l3kernel/expl3.sty\r\n",
      "(/usr/share/texlive/texmf-dist/tex/latex/l3kernel/expl3-code.tex"
     ]
    },
    {
     "name": "stdout",
     "output_type": "stream",
     "text": [
      ")\r\n",
      "(/usr/share/texlive/texmf-dist/tex/latex/l3kernel/l3xdvipdfmx.def))\r\n",
      "(/usr/share/texlive/texmf-dist/tex/latex/l3packages/xparse/xparse.sty)\r\n",
      "(/usr/share/texlive/texmf-dist/tex/latex/fontspec/fontspec-xetex.sty\r\n",
      "(/usr/share/texlive/texmf-dist/tex/latex/base/fontenc.sty\r\n",
      "(/usr/share/texlive/texmf-dist/tex/latex/euenc/eu1enc.def)\r\n",
      "(/usr/share/texlive/texmf-dist/tex/latex/euenc/eu1lmr.fd))\r\n",
      "(/usr/share/texlive/texmf-dist/tex/xelatex/xunicode/xunicode.sty\r\n",
      "(/usr/share/texmf/tex/latex/tipa/t3enc.def\r\n",
      "(/usr/share/texlive/texmf-dist/tex/latex/euenc/eu1lmss.fd)"
     ]
    },
    {
     "name": "stdout",
     "output_type": "stream",
     "text": [
      ")\r\n",
      "(/usr/share/texlive/texmf-dist/tex/latex/graphics/graphicx.sty\r\n",
      "(/usr/share/texlive/texmf-dist/tex/latex/graphics/keyval.sty)\r\n",
      "(/usr/share/texlive/texmf-dist/tex/latex/graphics/graphics.sty\r\n",
      "(/usr/share/texlive/texmf-dist/tex/latex/graphics/trig.sty)\r\n",
      "(/usr/share/texlive/texmf-dist/tex/latex/latexconfig/graphics.cfg)\r\n",
      "(/usr/share/texlive/texmf-dist/tex/xelatex/xetex-def/xetex.def\r\n",
      "(/usr/share/texlive/texmf-dist/tex/generic/oberdiek/infwarerr.sty)\r\n",
      "(/usr/share/texlive/texmf-dist/tex/generic/oberdiek/ltxcmds.sty)))))"
     ]
    },
    {
     "name": "stdout",
     "output_type": "stream",
     "text": [
      "\r\n",
      "(/usr/share/texlive/texmf-dist/tex/latex/fontspec/fontspec.cfg)))\r\n",
      "(/usr/share/texlive/texmf-dist/tex/latex/amsmath/amsmath.sty\r\n",
      "For additional information on amsmath, use the `?' option.\r\n",
      "(/usr/share/texlive/texmf-dist/tex/latex/amsmath/amstext.sty\r\n",
      "(/usr/share/texlive/texmf-dist/tex/latex/amsmath/amsgen.sty))\r\n",
      "(/usr/share/texlive/texmf-dist/tex/latex/amsmath/amsbsy.sty)\r\n",
      "(/usr/share/texlive/texmf-dist/tex/latex/amsmath/amsopn.sty))\r\n",
      "(/usr/share/texlive/texmf-dist/tex/latex/amsfonts/amssymb.sty\r\n",
      "(/usr/share/texlive/texmf-dist/tex/latex/amsfonts/amsfonts.sty))\r\n",
      "(/usr/share/texlive/texmf-dist/tex/latex/polyglossia/polyglossia.sty\r\n",
      "(/usr/share/texlive/texmf-dist/tex/latex/etoolbox/etoolbox.sty)\r\n",
      "(/usr/share/texlive/texmf-dist/tex/latex/makecmds/makecmds.sty)\r\n",
      "(/usr/share/texlive/texmf-dist/tex/latex/xkeyval/xkeyval.sty\r\n",
      "(/usr/share/texlive/texmf-dist/tex/generic/xkeyval/xkeyval.tex\r\n",
      "(/usr/share/texlive/texmf-dist/tex/generic/xkeyval/xkvutils.tex)))\r\n",
      "(/usr/share/texlive/texmf-dist/tex/generic/oberdiek/ifluatex.sty)\r\n",
      "(/usr/share/texlive/texmf-dist/tex/generic/ifxetex/ifxetex.sty))\r\n",
      "(/usr/share/texlive/texmf-dist/tex/latex/polyglossia/gloss-english.ldf)"
     ]
    },
    {
     "name": "stdout",
     "output_type": "stream",
     "text": [
      "\r\n",
      "(/usr/share/texlive/texmf-dist/tex/latex/fncychap/fncychap.sty) (./sphinx.sty\r\n",
      "(/usr/share/texlive/texmf-dist/tex/latex/fancyhdr/fancyhdr.sty)\r\n",
      "(/usr/share/texlive/texmf-dist/tex/latex/base/textcomp.sty\r\n",
      "(/usr/share/texlive/texmf-dist/tex/latex/base/ts1enc.def))\r\n",
      "(/usr/share/texlive/texmf-dist/tex/latex/titlesec/titlesec.sty)\r\n",
      "\r\n",
      " Package Sphinx Info: \r\n",
      " **** titlesec 2.10.1 successfully patched for bugfix ****\r\n",
      "\r\n",
      "(/usr/share/texlive/texmf-dist/tex/latex/tabulary/tabulary.sty\r\n",
      "(/usr/share/texlive/texmf-dist/tex/latex/tools/array.sty))\r\n",
      "(/usr/share/texlive/texmf-dist/tex/latex/tools/longtable.sty)\r\n",
      "(/usr/share/texlive/texmf-dist/tex/latex/varwidth/varwidth.sty)\r\n",
      "(./sphinxmulticell.sty)\r\n",
      "(/usr/share/texlive/texmf-dist/tex/latex/base/makeidx.sty)\r\n",
      "(/usr/share/texlive/texmf-dist/tex/latex/framed/framed.sty)\r\n",
      "(/usr/share/texlive/texmf-dist/tex/latex/xcolor/xcolor.sty\r\n",
      "(/usr/share/texlive/texmf-dist/tex/latex/latexconfig/color.cfg))\r\n",
      "(/usr/share/texlive/texmf-dist/tex/latex/fancyvrb/fancyvrb.sty\r\n",
      "Style option: `fancyvrb' v2.7a, with DG/SPQR fixes, and firstline=lastline fix \r\n",
      "<2008/02/07> (tvz)) (./footnotehyper-sphinx.sty)\r\n",
      "(/usr/share/texlive/texmf-dist/tex/latex/float/float.sty"
     ]
    },
    {
     "name": "stdout",
     "output_type": "stream",
     "text": [
      ")\r\n",
      "(/usr/share/texlive/texmf-dist/tex/latex/wrapfig/wrapfig.sty)\r\n",
      "(/usr/share/texlive/texmf-dist/tex/latex/parskip/parskip.sty)\r\n",
      "(/usr/share/texlive/texmf-dist/tex/latex/base/alltt.sty)\r\n",
      "(/usr/share/texlive/texmf-dist/tex/latex/upquote/upquote.sty)\r\n",
      "(/usr/share/texlive/texmf-dist/tex/latex/capt-of/capt-of.sty)\r\n",
      "(/usr/share/texlive/texmf-dist/tex/latex/needspace/needspace.sty)\r\n",
      "(/usr/share/texlive/texmf-dist/tex/latex/carlisle/remreset.sty)\r\n",
      "(./sphinxhighlight.sty)\r\n",
      "(/usr/share/texlive/texmf-dist/tex/latex/oberdiek/kvoptions.sty\r\n",
      "(/usr/share/texlive/texmf-dist/tex/generic/oberdiek/kvsetkeys.sty\r\n",
      "(/usr/share/texlive/texmf-dist/tex/generic/oberdiek/etexcmds.sty))))\r\n",
      "(/usr/share/texlive/texmf-dist/tex/latex/geometry/geometry.sty\r\n",
      "(/usr/share/texlive/texmf-dist/tex/generic/oberdiek/ifpdf.sty)\r\n",
      "(/usr/share/texlive/texmf-dist/tex/generic/oberdiek/ifvtex.sty))\r\n",
      "(/usr/share/texlive/texmf-dist/tex/latex/hyperref/hyperref.sty\r\n",
      "(/usr/share/texlive/texmf-dist/tex/generic/oberdiek/hobsub-hyperref.sty\r\n",
      "(/usr/share/texlive/texmf-dist/tex/generic/oberdiek/hobsub-generic.sty))\r\n",
      "(/usr/share/texlive/texmf-dist/tex/latex/oberdiek/auxhook.sty)\r\n",
      "(/usr/share/texlive/texmf-dist/tex/latex/hyperref/pd1enc.def)\r\n",
      "(/usr/share/texlive/texmf-dist/tex/latex/latexconfig/hyperref.cfg)\r\n",
      "(/usr/share/texlive/texmf-dist/tex/latex/hyperref/puenc.def"
     ]
    },
    {
     "name": "stdout",
     "output_type": "stream",
     "text": [
      ")\r\n",
      "(/usr/share/texlive/texmf-dist/tex/latex/url/url.sty))\r\n",
      "\r\n",
      "Package hyperref Message: Driver (autodetected): hxetex.\r\n",
      "\r\n",
      "(/usr/share/texlive/texmf-dist/tex/latex/hyperref/hxetex.def\r\n",
      "(/usr/share/texlive/texmf-dist/tex/generic/oberdiek/stringenc.sty)\r\n",
      "(/usr/share/texlive/texmf-dist/tex/latex/oberdiek/rerunfilecheck.sty))\r\n",
      "(/usr/share/texlive/texmf-dist/tex/latex/oberdiek/hypcap.sty)\r\n",
      "(./sphinxmessages.sty)\r\n",
      "(/usr/share/texlive/texmf-dist/tex/latex/blindtext/blindtext.sty\r\n",
      "(/usr/share/texlive/texmf-dist/tex/latex/tools/xspace.sty))\r\n",
      "(/usr/share/texlive/texmf-dist/tex/latex/natbib/natbib.sty)\r\n",
      "(/usr/share/texlive/texmf-dist/tex/latex/minted/minted.sty\r\n",
      "(/usr/share/texlive/texmf-dist/tex/latex/base/ifthen.sty)\r\n",
      "(/usr/share/texlive/texmf-dist/tex/latex/tools/calc.sty)\r\n",
      "(/usr/share/texlive/texmf-dist/tex/latex/ifplatform/ifplatform.sty\r\n",
      "(/usr/share/texlive/texmf-dist/tex/generic/oberdiek/catchfile.sty)\r\n",
      "\r\n",
      "Package ifplatform Warning: \r\n",
      "    shell escape is disabled, so I can only detect \\ifwindows.\r\n",
      "\r\n",
      ") (/usr/share/texlive/texmf-dist/tex/generic/xstring/xstring.sty\r\n",
      "(/usr/share/texlive/texmf-dist/tex/generic/xstring/xstring.tex))\r\n",
      "(/usr/share/texlive/texmf-dist/tex/latex/lineno/lineno.sty)"
     ]
    },
    {
     "name": "stdout",
     "output_type": "stream",
     "text": [
      ")\r\n",
      "Writing index file deply-demo.idx\r\n",
      "(./deply-demo.aux) (/usr/share/texmf/tex/latex/tipa/t3cmr.fd)\r\n",
      "(/usr/share/texlive/texmf-dist/tex/latex/base/ts1cmr.fd)\r\n",
      "*geometry* driver: auto-detecting\r\n",
      "*geometry* detected driver: xetex\r\n",
      "(/usr/share/texlive/texmf-dist/tex/latex/hyperref/nameref.sty\r\n",
      "(/usr/share/texlive/texmf-dist/tex/generic/oberdiek/gettitlestring.sty))\r\n",
      "(./deply-demo.out) (./deply-demo.out)\r\n",
      "(/usr/share/texlive/texmf-dist/tex/latex/amsfonts/umsa.fd)\r\n",
      "(/usr/share/texlive/texmf-dist/tex/latex/amsfonts/umsb.fd) [1] [2]\r\n",
      "(./deply-demo.toc) [1] [2] [1] [2]\r\n",
      "Chapter 1.\r\n",
      "(./deply-demo.ind) [3] (./deply-demo.aux) )\r\n"
     ]
    },
    {
     "name": "stdout",
     "output_type": "stream",
     "text": [
      "(see the transcript file for additional information)\r\n",
      "Output written on deply-demo.pdf (7 pages).\r\n",
      "Transcript written on deply-demo.log.\r\n"
     ]
    },
    {
     "name": "stdout",
     "output_type": "stream",
     "text": [
      "Latexmk: Index file 'deply-demo.idx' was written\r\n",
      "Latexmk: Log file says output to 'deply-demo.pdf'\r\n",
      "Latexmk: applying rule 'pdflatex'...\r\n",
      "Rule 'pdflatex': File changes, etc:\r\n",
      "   Changed files, or newly in use since previous run(s):\r\n"
     ]
    },
    {
     "name": "stdout",
     "output_type": "stream",
     "text": [
      "      'deply-demo.out'\r\n",
      "      'deply-demo.toc'\r\n",
      "------------\r\n",
      "Run number 3 of rule 'pdflatex'\r\n",
      "------------\r\n",
      "------------\r\n",
      "Running 'xelatex   -recorder  \"deply-demo.tex\"'\r\n",
      "------------\r\n"
     ]
    },
    {
     "name": "stdout",
     "output_type": "stream",
     "text": [
      "This is XeTeX, Version 3.14159265-2.6-0.99992 (TeX Live 2015/Debian) (preloaded format=xelatex)\r\n",
      " restricted \\write18 enabled.\r\n"
     ]
    },
    {
     "name": "stdout",
     "output_type": "stream",
     "text": [
      "entering extended mode\r\n",
      "(./deply-demo.tex\r\n",
      "LaTeX2e <2016/02/01>\r\n",
      "Babel <3.9q> and hyphenation patterns for 81 language(s) loaded.\r\n",
      "(./sphinxmanual.cls\r\n",
      "Document Class: sphinxmanual 2019/12/01 v2.3.0 Document class (Sphinx manual)\r\n",
      "(/usr/share/texlive/texmf-dist/tex/latex/base/report.cls\r\n",
      "Document Class: report 2014/09/29 v1.4h Standard LaTeX document class\r\n",
      "(/usr/share/texlive/texmf-dist/tex/latex/base/size11.clo)))\r\n",
      "(/usr/share/texlive/texmf-dist/tex/latex/cmap/cmap.sty\r\n",
      "\r\n",
      "Package cmap Warning: pdftex not detected - exiting.\r\n",
      "\r\n",
      ") (/usr/share/texlive/texmf-dist/tex/latex/fontspec/fontspec.sty\r\n",
      "(/usr/share/texlive/texmf-dist/tex/latex/l3kernel/expl3.sty\r\n",
      "(/usr/share/texlive/texmf-dist/tex/latex/l3kernel/expl3-code.tex"
     ]
    },
    {
     "name": "stdout",
     "output_type": "stream",
     "text": [
      ")\r\n",
      "(/usr/share/texlive/texmf-dist/tex/latex/l3kernel/l3xdvipdfmx.def))\r\n",
      "(/usr/share/texlive/texmf-dist/tex/latex/l3packages/xparse/xparse.sty)\r\n",
      "(/usr/share/texlive/texmf-dist/tex/latex/fontspec/fontspec-xetex.sty"
     ]
    },
    {
     "name": "stdout",
     "output_type": "stream",
     "text": [
      "\r\n",
      "(/usr/share/texlive/texmf-dist/tex/latex/base/fontenc.sty\r\n",
      "(/usr/share/texlive/texmf-dist/tex/latex/euenc/eu1enc.def)\r\n",
      "(/usr/share/texlive/texmf-dist/tex/latex/euenc/eu1lmr.fd))\r\n",
      "(/usr/share/texlive/texmf-dist/tex/xelatex/xunicode/xunicode.sty\r\n",
      "(/usr/share/texmf/tex/latex/tipa/t3enc.def\r\n",
      "(/usr/share/texlive/texmf-dist/tex/latex/euenc/eu1lmss.fd))\r\n",
      "(/usr/share/texlive/texmf-dist/tex/latex/graphics/graphicx.sty\r\n",
      "(/usr/share/texlive/texmf-dist/tex/latex/graphics/keyval.sty)\r\n",
      "(/usr/share/texlive/texmf-dist/tex/latex/graphics/graphics.sty\r\n",
      "(/usr/share/texlive/texmf-dist/tex/latex/graphics/trig.sty)\r\n",
      "(/usr/share/texlive/texmf-dist/tex/latex/latexconfig/graphics.cfg)\r\n",
      "(/usr/share/texlive/texmf-dist/tex/xelatex/xetex-def/xetex.def\r\n",
      "(/usr/share/texlive/texmf-dist/tex/generic/oberdiek/infwarerr.sty)\r\n",
      "(/usr/share/texlive/texmf-dist/tex/generic/oberdiek/ltxcmds.sty)))))"
     ]
    },
    {
     "name": "stdout",
     "output_type": "stream",
     "text": [
      "\r\n",
      "(/usr/share/texlive/texmf-dist/tex/latex/fontspec/fontspec.cfg)))\r\n",
      "(/usr/share/texlive/texmf-dist/tex/latex/amsmath/amsmath.sty\r\n",
      "For additional information on amsmath, use the `?' option.\r\n",
      "(/usr/share/texlive/texmf-dist/tex/latex/amsmath/amstext.sty\r\n",
      "(/usr/share/texlive/texmf-dist/tex/latex/amsmath/amsgen.sty))\r\n",
      "(/usr/share/texlive/texmf-dist/tex/latex/amsmath/amsbsy.sty)\r\n",
      "(/usr/share/texlive/texmf-dist/tex/latex/amsmath/amsopn.sty))\r\n",
      "(/usr/share/texlive/texmf-dist/tex/latex/amsfonts/amssymb.sty\r\n",
      "(/usr/share/texlive/texmf-dist/tex/latex/amsfonts/amsfonts.sty))\r\n",
      "(/usr/share/texlive/texmf-dist/tex/latex/polyglossia/polyglossia.sty\r\n",
      "(/usr/share/texlive/texmf-dist/tex/latex/etoolbox/etoolbox.sty)\r\n",
      "(/usr/share/texlive/texmf-dist/tex/latex/makecmds/makecmds.sty)\r\n",
      "(/usr/share/texlive/texmf-dist/tex/latex/xkeyval/xkeyval.sty\r\n",
      "(/usr/share/texlive/texmf-dist/tex/generic/xkeyval/xkeyval.tex\r\n",
      "(/usr/share/texlive/texmf-dist/tex/generic/xkeyval/xkvutils.tex)))\r\n",
      "(/usr/share/texlive/texmf-dist/tex/generic/oberdiek/ifluatex.sty)\r\n",
      "(/usr/share/texlive/texmf-dist/tex/generic/ifxetex/ifxetex.sty)"
     ]
    },
    {
     "name": "stdout",
     "output_type": "stream",
     "text": [
      ")\r\n",
      "(/usr/share/texlive/texmf-dist/tex/latex/polyglossia/gloss-english.ldf)\r\n",
      "(/usr/share/texlive/texmf-dist/tex/latex/fncychap/fncychap.sty) (./sphinx.sty\r\n",
      "(/usr/share/texlive/texmf-dist/tex/latex/fancyhdr/fancyhdr.sty)\r\n",
      "(/usr/share/texlive/texmf-dist/tex/latex/base/textcomp.sty\r\n",
      "(/usr/share/texlive/texmf-dist/tex/latex/base/ts1enc.def))\r\n",
      "(/usr/share/texlive/texmf-dist/tex/latex/titlesec/titlesec.sty"
     ]
    },
    {
     "name": "stdout",
     "output_type": "stream",
     "text": [
      ")\r\n",
      "\r\n",
      " Package Sphinx Info: \r\n",
      " **** titlesec 2.10.1 successfully patched for bugfix ****\r\n",
      "\r\n",
      "(/usr/share/texlive/texmf-dist/tex/latex/tabulary/tabulary.sty\r\n",
      "(/usr/share/texlive/texmf-dist/tex/latex/tools/array.sty))\r\n",
      "(/usr/share/texlive/texmf-dist/tex/latex/tools/longtable.sty)\r\n",
      "(/usr/share/texlive/texmf-dist/tex/latex/varwidth/varwidth.sty)\r\n",
      "(./sphinxmulticell.sty)\r\n",
      "(/usr/share/texlive/texmf-dist/tex/latex/base/makeidx.sty)\r\n",
      "(/usr/share/texlive/texmf-dist/tex/latex/framed/framed.sty)\r\n",
      "(/usr/share/texlive/texmf-dist/tex/latex/xcolor/xcolor.sty\r\n",
      "(/usr/share/texlive/texmf-dist/tex/latex/latexconfig/color.cfg))\r\n",
      "(/usr/share/texlive/texmf-dist/tex/latex/fancyvrb/fancyvrb.sty\r\n",
      "Style option: `fancyvrb' v2.7a, with DG/SPQR fixes, and firstline=lastline fix \r\n",
      "<2008/02/07> (tvz)) (./footnotehyper-sphinx.sty)\r\n",
      "(/usr/share/texlive/texmf-dist/tex/latex/float/float.sty)\r\n",
      "(/usr/share/texlive/texmf-dist/tex/latex/wrapfig/wrapfig.sty)\r\n",
      "(/usr/share/texlive/texmf-dist/tex/latex/parskip/parskip.sty)\r\n",
      "(/usr/share/texlive/texmf-dist/tex/latex/base/alltt.sty)\r\n",
      "(/usr/share/texlive/texmf-dist/tex/latex/upquote/upquote.sty)\r\n",
      "(/usr/share/texlive/texmf-dist/tex/latex/capt-of/capt-of.sty)\r\n",
      "(/usr/share/texlive/texmf-dist/tex/latex/needspace/needspace.sty)\r\n",
      "(/usr/share/texlive/texmf-dist/tex/latex/carlisle/remreset.sty)\r\n",
      "(./sphinxhighlight.sty)\r\n",
      "(/usr/share/texlive/texmf-dist/tex/latex/oberdiek/kvoptions.sty\r\n",
      "(/usr/share/texlive/texmf-dist/tex/generic/oberdiek/kvsetkeys.sty\r\n",
      "(/usr/share/texlive/texmf-dist/tex/generic/oberdiek/etexcmds.sty))))\r\n",
      "(/usr/share/texlive/texmf-dist/tex/latex/geometry/geometry.sty\r\n",
      "(/usr/share/texlive/texmf-dist/tex/generic/oberdiek/ifpdf.sty)\r\n",
      "(/usr/share/texlive/texmf-dist/tex/generic/oberdiek/ifvtex.sty))\r\n",
      "(/usr/share/texlive/texmf-dist/tex/latex/hyperref/hyperref.sty\r\n",
      "(/usr/share/texlive/texmf-dist/tex/generic/oberdiek/hobsub-hyperref.sty\r\n",
      "(/usr/share/texlive/texmf-dist/tex/generic/oberdiek/hobsub-generic.sty"
     ]
    },
    {
     "name": "stdout",
     "output_type": "stream",
     "text": [
      "))\r\n",
      "(/usr/share/texlive/texmf-dist/tex/latex/oberdiek/auxhook.sty)\r\n",
      "(/usr/share/texlive/texmf-dist/tex/latex/hyperref/pd1enc.def)\r\n",
      "(/usr/share/texlive/texmf-dist/tex/latex/latexconfig/hyperref.cfg)\r\n",
      "(/usr/share/texlive/texmf-dist/tex/latex/hyperref/puenc.def)\r\n",
      "(/usr/share/texlive/texmf-dist/tex/latex/url/url.sty))\r\n",
      "\r\n",
      "Package hyperref Message: Driver (autodetected): hxetex.\r\n",
      "\r\n",
      "(/usr/share/texlive/texmf-dist/tex/latex/hyperref/hxetex.def\r\n",
      "(/usr/share/texlive/texmf-dist/tex/generic/oberdiek/stringenc.sty)\r\n",
      "(/usr/share/texlive/texmf-dist/tex/latex/oberdiek/rerunfilecheck.sty))\r\n",
      "(/usr/share/texlive/texmf-dist/tex/latex/oberdiek/hypcap.sty)\r\n",
      "(./sphinxmessages.sty)\r\n",
      "(/usr/share/texlive/texmf-dist/tex/latex/blindtext/blindtext.sty\r\n",
      "(/usr/share/texlive/texmf-dist/tex/latex/tools/xspace.sty))"
     ]
    },
    {
     "name": "stdout",
     "output_type": "stream",
     "text": [
      "\r\n",
      "(/usr/share/texlive/texmf-dist/tex/latex/natbib/natbib.sty)\r\n",
      "(/usr/share/texlive/texmf-dist/tex/latex/minted/minted.sty\r\n",
      "(/usr/share/texlive/texmf-dist/tex/latex/base/ifthen.sty)\r\n",
      "(/usr/share/texlive/texmf-dist/tex/latex/tools/calc.sty)\r\n",
      "(/usr/share/texlive/texmf-dist/tex/latex/ifplatform/ifplatform.sty\r\n",
      "(/usr/share/texlive/texmf-dist/tex/generic/oberdiek/catchfile.sty)\r\n",
      "\r\n",
      "Package ifplatform Warning: \r\n",
      "    shell escape is disabled, so I can only detect \\ifwindows.\r\n",
      "\r\n",
      ") (/usr/share/texlive/texmf-dist/tex/generic/xstring/xstring.sty\r\n",
      "(/usr/share/texlive/texmf-dist/tex/generic/xstring/xstring.tex))\r\n",
      "(/usr/share/texlive/texmf-dist/tex/latex/lineno/lineno.sty))\r\n",
      "Writing index file deply-demo.idx\r\n",
      "(./deply-demo.aux) (/usr/share/texmf/tex/latex/tipa/t3cmr.fd)\r\n",
      "(/usr/share/texlive/texmf-dist/tex/latex/base/ts1cmr.fd)\r\n",
      "*geometry* driver: auto-detecting\r\n",
      "*geometry* detected driver: xetex\r\n",
      "(/usr/share/texlive/texmf-dist/tex/latex/hyperref/nameref.sty\r\n",
      "(/usr/share/texlive/texmf-dist/tex/generic/oberdiek/gettitlestring.sty))\r\n",
      "(./deply-demo.out) (./deply-demo.out)"
     ]
    },
    {
     "name": "stdout",
     "output_type": "stream",
     "text": [
      "\r\n",
      "(/usr/share/texlive/texmf-dist/tex/latex/amsfonts/umsa.fd)\r\n",
      "(/usr/share/texlive/texmf-dist/tex/latex/amsfonts/umsb.fd) [1] [2]\r\n",
      "(./deply-demo.toc) [1] [2] [1] [2]\r\n",
      "Chapter 1.\r\n",
      "(./deply-demo.ind) [3] (./deply-demo.aux) )\r\n"
     ]
    },
    {
     "name": "stdout",
     "output_type": "stream",
     "text": [
      "(see the transcript file for additional information)\r\n",
      "Output written on deply-demo.pdf (7 pages).\r\n",
      "Transcript written on deply-demo.log.\r\n"
     ]
    },
    {
     "name": "stdout",
     "output_type": "stream",
     "text": [
      "Latexmk: Index file 'deply-demo.idx' was written\r\n",
      "Latexmk: Log file says output to 'deply-demo.pdf'\r\n",
      "Latexmk: All targets (deply-demo.pdf) are up-to-date\r\n",
      "[d2lbook:build.py:L244] INFO   \"d2lbook build pdf\" finished in 00:00:04\r\n"
     ]
    }
   ],
   "source": [
    "!cd deploy; d2lbook build html pdf"
   ]
  },
  {
   "cell_type": "markdown",
   "metadata": {},
   "source": [
    "To deploy to Github, you need to have your machine's [SSH key imported to Github](https://github.com/settings/keys). Otherwise, you may need to type in your account and password. When it is done, you can assess the results online in one or two minutes. For this example, the URL is [/d2l-ai.github.io/d2l-book-deploy-demo/](https://d2l-ai.github.io/d2l-book-deploy-demo/)."
   ]
  },
  {
   "cell_type": "code",
   "execution_count": 6,
   "metadata": {},
   "outputs": [
    {
     "name": "stdout",
     "output_type": "stream",
     "text": [
      "[d2lbook:config.py:L12] INFO   Load configure from config.ini\r\n",
      "[d2lbook:utils.py:L124] INFO   Run \"cp -r _build/html/* _build/github_deploy\"\r\n"
     ]
    },
    {
     "name": "stdout",
     "output_type": "stream",
     "text": [
      "[d2lbook:utils.py:L124] INFO   Run \"bash /var/lib/jenkins/miniconda3/envs/d2l-book-build/lib/python3.8/site-packages/d2lbook/upload_github.sh _build/github_deploy d2l-ai/d2l-book-deploy-demo\"\r\n",
      "Cloning into '/var/lib/jenkins/workspace/d2l-book/docs/_build/eval/user/deploy/_build/github_deploy-git'...\r\n"
     ]
    },
    {
     "name": "stdout",
     "output_type": "stream",
     "text": [
      "remote: Enumerating objects: 453, done.\u001b[K\r\n",
      "remote: Counting objects:   0% (1/453)\u001b[K\r",
      "remote: Counting objects:   1% (5/453)\u001b[K\r",
      "remote: Counting objects:   2% (10/453)\u001b[K\r",
      "remote: Counting objects:   3% (14/453)\u001b[K\r",
      "remote: Counting objects:   4% (19/453)\u001b[K\r",
      "remote: Counting objects:   5% (23/453)\u001b[K\r",
      "remote: Counting objects:   6% (28/453)\u001b[K\r",
      "remote: Counting objects:   7% (32/453)\u001b[K\r",
      "remote: Counting objects:   8% (37/453)\u001b[K\r",
      "remote: Counting objects:   9% (41/453)\u001b[K\r",
      "remote: Counting objects:  10% (46/453)\u001b[K\r",
      "remote: Counting objects:  11% (50/453)\u001b[K\r",
      "remote: Counting objects:  12% (55/453)\u001b[K\r",
      "remote: Counting objects:  13% (59/453)\u001b[K\r",
      "remote: Counting objects:  14% (64/453)\u001b[K\r",
      "remote: Counting objects:  15% (68/453)\u001b[K\r",
      "remote: Counting objects:  16% (73/453)\u001b[K\r",
      "remote: Counting objects:  17% (78/453)\u001b[K\r",
      "remote: Counting objects:  18% (82/453)\u001b[K\r",
      "remote: Counting objects:  19% (87/453)\u001b[K\r",
      "remote: Counting objects:  20% (91/453)\u001b[K\r",
      "remote: Counting objects:  21% (96/453)\u001b[K\r",
      "remote: Counting objects:  22% (100/453)\u001b[K\r",
      "remote: Counting objects:  23% (105/453)\u001b[K\r",
      "remote: Counting objects:  24% (109/453)\u001b[K\r",
      "remote: Counting objects:  25% (114/453)\u001b[K\r",
      "remote: Counting objects:  26% (118/453)\u001b[K\r",
      "remote: Counting objects:  27% (123/453)\u001b[K\r",
      "remote: Counting objects:  28% (127/453)\u001b[K\r",
      "remote: Counting objects:  29% (132/453)\u001b[K\r",
      "remote: Counting objects:  30% (136/453)\u001b[K\r",
      "remote: Counting objects:  31% (141/453)\u001b[K\r",
      "remote: Counting objects:  32% (145/453)\u001b[K\r",
      "remote: Counting objects:  33% (150/453)\u001b[K\r",
      "remote: Counting objects:  34% (155/453)\u001b[K\r",
      "remote: Counting objects:  35% (159/453)\u001b[K\r",
      "remote: Counting objects:  36% (164/453)\u001b[K\r",
      "remote: Counting objects:  37% (168/453)\u001b[K\r",
      "remote: Counting objects:  38% (173/453)\u001b[K\r",
      "remote: Counting objects:  39% (177/453)\u001b[K\r",
      "remote: Counting objects:  40% (182/453)\u001b[K\r",
      "remote: Counting objects:  41% (186/453)\u001b[K\r",
      "remote: Counting objects:  42% (191/453)\u001b[K\r",
      "remote: Counting objects:  43% (195/453)\u001b[K\r",
      "remote: Counting objects:  44% (200/453)\u001b[K\r",
      "remote: Counting objects:  45% (204/453)\u001b[K\r",
      "remote: Counting objects:  46% (209/453)\u001b[K\r",
      "remote: Counting objects:  47% (213/453)\u001b[K\r",
      "remote: Counting objects:  48% (218/453)\u001b[K\r",
      "remote: Counting objects:  49% (222/453)\u001b[K\r",
      "remote: Counting objects:  50% (227/453)\u001b[K\r",
      "remote: Counting objects:  51% (232/453)\u001b[K\r",
      "remote: Counting objects:  52% (236/453)\u001b[K\r",
      "remote: Counting objects:  53% (241/453)\u001b[K\r",
      "remote: Counting objects:  54% (245/453)\u001b[K\r",
      "remote: Counting objects:  55% (250/453)\u001b[K\r",
      "remote: Counting objects:  56% (254/453)\u001b[K\r",
      "remote: Counting objects:  57% (259/453)\u001b[K\r",
      "remote: Counting objects:  58% (263/453)\u001b[K\r",
      "remote: Counting objects:  59% (268/453)\u001b[K\r",
      "remote: Counting objects:  60% (272/453)\u001b[K\r",
      "remote: Counting objects:  61% (277/453)\u001b[K\r",
      "remote: Counting objects:  62% (281/453)\u001b[K\r",
      "remote: Counting objects:  63% (286/453)\u001b[K\r",
      "remote: Counting objects:  64% (290/453)\u001b[K\r",
      "remote: Counting objects:  65% (295/453)\u001b[K\r",
      "remote: Counting objects:  66% (299/453)\u001b[K\r",
      "remote: Counting objects:  67% (304/453)\u001b[K\r",
      "remote: Counting objects:  68% (309/453)\u001b[K\r",
      "remote: Counting objects:  69% (313/453)\u001b[K\r",
      "remote: Counting objects:  70% (318/453)\u001b[K\r",
      "remote: Counting objects:  71% (322/453)\u001b[K\r",
      "remote: Counting objects:  72% (327/453)\u001b[K\r",
      "remote: Counting objects:  73% (331/453)\u001b[K\r",
      "remote: Counting objects:  74% (336/453)\u001b[K\r",
      "remote: Counting objects:  75% (340/453)\u001b[K\r",
      "remote: Counting objects:  76% (345/453)\u001b[K\r",
      "remote: Counting objects:  77% (349/453)\u001b[K\r",
      "remote: Counting objects:  78% (354/453)\u001b[K\r",
      "remote: Counting objects:  79% (358/453)\u001b[K\r",
      "remote: Counting objects:  80% (363/453)\u001b[K\r",
      "remote: Counting objects:  81% (367/453)\u001b[K\r",
      "remote: Counting objects:  82% (372/453)\u001b[K\r",
      "remote: Counting objects:  83% (376/453)\u001b[K\r",
      "remote: Counting objects:  84% (381/453)\u001b[K\r",
      "remote: Counting objects:  85% (386/453)\u001b[K\r",
      "remote: Counting objects:  86% (390/453)\u001b[K\r",
      "remote: Counting objects:  87% (395/453)\u001b[K\r",
      "remote: Counting objects:  88% (399/453)\u001b[K\r",
      "remote: Counting objects:  89% (404/453)\u001b[K\r",
      "remote: Counting objects:  90% (408/453)\u001b[K\r",
      "remote: Counting objects:  91% (413/453)\u001b[K\r",
      "remote: Counting objects:  92% (417/453)\u001b[K\r",
      "remote: Counting objects:  93% (422/453)\u001b[K\r",
      "remote: Counting objects:  94% (426/453)\u001b[K\r",
      "remote: Counting objects:  95% (431/453)\u001b[K\r",
      "remote: Counting objects:  96% (435/453)\u001b[K\r",
      "remote: Counting objects:  97% (440/453)\u001b[K\r",
      "remote: Counting objects:  98% (444/453)\u001b[K\r",
      "remote: Counting objects:  99% (449/453)\u001b[K\r",
      "remote: Counting objects: 100% (453/453)\u001b[K\r",
      "remote: Counting objects: 100% (453/453), done.\u001b[K\r\n",
      "remote: Compressing objects:   0% (1/144)\u001b[K\r",
      "remote: Compressing objects:   1% (2/144)\u001b[K\r",
      "remote: Compressing objects:   2% (3/144)\u001b[K\r",
      "remote: Compressing objects:   3% (5/144)\u001b[K\r",
      "remote: Compressing objects:   4% (6/144)\u001b[K\r",
      "remote: Compressing objects:   5% (8/144)\u001b[K\r",
      "remote: Compressing objects:   6% (9/144)\u001b[K\r",
      "remote: Compressing objects:   7% (11/144)\u001b[K\r",
      "remote: Compressing objects:   8% (12/144)\u001b[K\r",
      "remote: Compressing objects:   9% (13/144)\u001b[K\r",
      "remote: Compressing objects:  10% (15/144)\u001b[K\r",
      "remote: Compressing objects:  11% (16/144)\u001b[K\r",
      "remote: Compressing objects:  12% (18/144)\u001b[K\r",
      "remote: Compressing objects:  13% (19/144)\u001b[K\r",
      "remote: Compressing objects:  14% (21/144)\u001b[K\r",
      "remote: Compressing objects:  15% (22/144)\u001b[K\r",
      "remote: Compressing objects:  16% (24/144)\u001b[K\r",
      "remote: Compressing objects:  17% (25/144)\u001b[K\r",
      "remote: Compressing objects:  18% (26/144)\u001b[K\r",
      "remote: Compressing objects:  19% (28/144)\u001b[K\r",
      "remote: Compressing objects:  20% (29/144)\u001b[K\r",
      "remote: Compressing objects:  21% (31/144)\u001b[K\r",
      "remote: Compressing objects:  22% (32/144)\u001b[K\r",
      "remote: Compressing objects:  23% (34/144)\u001b[K\r",
      "remote: Compressing objects:  24% (35/144)\u001b[K\r",
      "remote: Compressing objects:  25% (36/144)\u001b[K\r",
      "remote: Compressing objects:  26% (38/144)\u001b[K\r",
      "remote: Compressing objects:  27% (39/144)\u001b[K\r",
      "remote: Compressing objects:  28% (41/144)\u001b[K\r",
      "remote: Compressing objects:  29% (42/144)\u001b[K\r",
      "remote: Compressing objects:  30% (44/144)\u001b[K\r",
      "remote: Compressing objects:  31% (45/144)\u001b[K\r",
      "remote: Compressing objects:  32% (47/144)\u001b[K\r",
      "remote: Compressing objects:  33% (48/144)\u001b[K\r",
      "remote: Compressing objects:  34% (49/144)\u001b[K\r",
      "remote: Compressing objects:  35% (51/144)\u001b[K\r",
      "remote: Compressing objects:  36% (52/144)\u001b[K\r",
      "remote: Compressing objects:  37% (54/144)\u001b[K\r",
      "remote: Compressing objects:  38% (55/144)\u001b[K\r",
      "remote: Compressing objects:  39% (57/144)\u001b[K\r",
      "remote: Compressing objects:  40% (58/144)\u001b[K\r",
      "remote: Compressing objects:  41% (60/144)\u001b[K\r",
      "remote: Compressing objects:  42% (61/144)\u001b[K\r",
      "remote: Compressing objects:  43% (62/144)\u001b[K\r",
      "remote: Compressing objects:  44% (64/144)\u001b[K\r",
      "remote: Compressing objects:  45% (65/144)\u001b[K\r"
     ]
    },
    {
     "name": "stdout",
     "output_type": "stream",
     "text": [
      "remote: Compressing objects:  46% (67/144)\u001b[K\r",
      "remote: Compressing objects:  47% (68/144)\u001b[K\r",
      "remote: Compressing objects:  48% (70/144)\u001b[K\r",
      "remote: Compressing objects:  49% (71/144)\u001b[K\r",
      "remote: Compressing objects:  50% (72/144)\u001b[K\r",
      "remote: Compressing objects:  51% (74/144)\u001b[K\r",
      "remote: Compressing objects:  52% (75/144)\u001b[K\r",
      "remote: Compressing objects:  53% (77/144)\u001b[K\r",
      "remote: Compressing objects:  54% (78/144)\u001b[K\r",
      "remote: Compressing objects:  55% (80/144)\u001b[K\r",
      "remote: Compressing objects:  56% (81/144)\u001b[K\r",
      "remote: Compressing objects:  57% (83/144)\u001b[K\r",
      "remote: Compressing objects:  58% (84/144)\u001b[K\r",
      "remote: Compressing objects:  59% (85/144)\u001b[K\r",
      "remote: Compressing objects:  60% (87/144)\u001b[K\r",
      "remote: Compressing objects:  61% (88/144)\u001b[K\r",
      "remote: Compressing objects:  62% (90/144)\u001b[K\r",
      "remote: Compressing objects:  63% (91/144)\u001b[K\r",
      "remote: Compressing objects:  64% (93/144)\u001b[K\r",
      "remote: Compressing objects:  65% (94/144)\u001b[K\r",
      "remote: Compressing objects:  66% (96/144)\u001b[K\r",
      "remote: Compressing objects:  67% (97/144)\u001b[K\r",
      "remote: Compressing objects:  68% (98/144)\u001b[K\r",
      "remote: Compressing objects:  69% (100/144)\u001b[K\r",
      "remote: Compressing objects:  70% (101/144)\u001b[K\r",
      "remote: Compressing objects:  71% (103/144)\u001b[K\r",
      "remote: Compressing objects:  72% (104/144)\u001b[K\r",
      "remote: Compressing objects:  73% (106/144)\u001b[K\r",
      "remote: Compressing objects:  74% (107/144)\u001b[K\r",
      "remote: Compressing objects:  75% (108/144)\u001b[K\r",
      "remote: Compressing objects:  76% (110/144)\u001b[K\r",
      "remote: Compressing objects:  77% (111/144)\u001b[K\r",
      "remote: Compressing objects:  78% (113/144)\u001b[K\r",
      "remote: Compressing objects:  79% (114/144)\u001b[K\r",
      "remote: Compressing objects:  80% (116/144)\u001b[K\r",
      "remote: Compressing objects:  81% (117/144)\u001b[K\r",
      "remote: Compressing objects:  82% (119/144)\u001b[K\r",
      "remote: Compressing objects:  83% (120/144)\u001b[K\r",
      "remote: Compressing objects:  84% (121/144)\u001b[K\r",
      "remote: Compressing objects:  85% (123/144)\u001b[K\r",
      "remote: Compressing objects:  86% (124/144)\u001b[K\r",
      "remote: Compressing objects:  87% (126/144)\u001b[K\r",
      "remote: Compressing objects:  88% (127/144)\u001b[K\r",
      "remote: Compressing objects:  89% (129/144)\u001b[K\r",
      "remote: Compressing objects:  90% (130/144)\u001b[K\r",
      "remote: Compressing objects:  91% (132/144)\u001b[K\r",
      "remote: Compressing objects:  92% (133/144)\u001b[K\r",
      "remote: Compressing objects:  93% (134/144)\u001b[K\r",
      "remote: Compressing objects:  94% (136/144)\u001b[K\r",
      "remote: Compressing objects:  95% (137/144)\u001b[K\r",
      "remote: Compressing objects:  96% (139/144)\u001b[K\r",
      "remote: Compressing objects:  97% (140/144)\u001b[K\r",
      "remote: Compressing objects:  98% (142/144)\u001b[K\r",
      "remote: Compressing objects:  99% (143/144)\u001b[K\r",
      "remote: Compressing objects: 100% (144/144)\u001b[K\r",
      "remote: Compressing objects: 100% (144/144), done.\u001b[K\r\n"
     ]
    },
    {
     "name": "stdout",
     "output_type": "stream",
     "text": [
      "Receiving objects:   0% (1/453)   \r",
      "Receiving objects:   1% (5/453)   \r",
      "Receiving objects:   2% (10/453)   \r",
      "Receiving objects:   3% (14/453)   \r",
      "Receiving objects:   4% (19/453)   \r",
      "Receiving objects:   5% (23/453)   \r",
      "Receiving objects:   6% (28/453)   \r",
      "Receiving objects:   7% (32/453)   \r",
      "Receiving objects:   8% (37/453)   \r",
      "Receiving objects:   9% (41/453)   \r",
      "Receiving objects:  10% (46/453)   \r",
      "Receiving objects:  11% (50/453)   \r"
     ]
    },
    {
     "name": "stdout",
     "output_type": "stream",
     "text": [
      "Receiving objects:  12% (55/453)   \r",
      "Receiving objects:  13% (59/453)   \r",
      "Receiving objects:  14% (64/453)   \r",
      "Receiving objects:  15% (68/453)   \r",
      "Receiving objects:  16% (73/453)   \r",
      "Receiving objects:  17% (78/453)   \r",
      "Receiving objects:  18% (82/453)   \r",
      "Receiving objects:  19% (87/453)   \r",
      "Receiving objects:  20% (91/453)   \r",
      "Receiving objects:  21% (96/453)   \r",
      "Receiving objects:  22% (100/453)   \r",
      "Receiving objects:  23% (105/453)   \r",
      "Receiving objects:  24% (109/453)   \r",
      "Receiving objects:  25% (114/453)   \r"
     ]
    },
    {
     "name": "stdout",
     "output_type": "stream",
     "text": [
      "Receiving objects:  26% (118/453)   \r",
      "Receiving objects:  27% (123/453)   \r",
      "Receiving objects:  28% (127/453)   \r",
      "Receiving objects:  29% (132/453)   \r",
      "Receiving objects:  30% (136/453)   \r",
      "Receiving objects:  31% (141/453)   \r",
      "Receiving objects:  32% (145/453)   \r",
      "Receiving objects:  33% (150/453)   \r",
      "Receiving objects:  34% (155/453)   \r",
      "Receiving objects:  35% (159/453)   \r",
      "Receiving objects:  36% (164/453)   \r",
      "Receiving objects:  37% (168/453)   \r",
      "Receiving objects:  38% (173/453)   \r",
      "Receiving objects:  39% (177/453)   \r",
      "Receiving objects:  40% (182/453)   \r",
      "Receiving objects:  41% (186/453)   \r",
      "Receiving objects:  42% (191/453)   \r",
      "Receiving objects:  43% (195/453)   \r",
      "Receiving objects:  44% (200/453)   \r",
      "Receiving objects:  45% (204/453)   \r",
      "Receiving objects:  46% (209/453)   \r",
      "Receiving objects:  47% (213/453)   \r",
      "Receiving objects:  48% (218/453)   \r",
      "Receiving objects:  49% (222/453)   \r",
      "Receiving objects:  50% (227/453)   \r",
      "Receiving objects:  51% (232/453)   \r",
      "Receiving objects:  52% (236/453)   \r",
      "Receiving objects:  53% (241/453)   \r",
      "Receiving objects:  54% (245/453)   \r",
      "Receiving objects:  55% (250/453)   \r",
      "Receiving objects:  56% (254/453)   \r",
      "Receiving objects:  57% (259/453)   \r",
      "Receiving objects:  58% (263/453)   \r",
      "Receiving objects:  59% (268/453)   \r",
      "Receiving objects:  60% (272/453)   \r",
      "Receiving objects:  61% (277/453)   \r",
      "Receiving objects:  62% (281/453)   \r",
      "Receiving objects:  63% (286/453)   \r",
      "Receiving objects:  64% (290/453)   \r",
      "Receiving objects:  65% (295/453)   \r",
      "Receiving objects:  66% (299/453)   \r",
      "Receiving objects:  67% (304/453)   \r",
      "Receiving objects:  68% (309/453)   \r",
      "Receiving objects:  69% (313/453)   \r",
      "Receiving objects:  70% (318/453)   \r",
      "Receiving objects:  71% (322/453)   \r",
      "Receiving objects:  72% (327/453)   \r",
      "Receiving objects:  73% (331/453)   \r",
      "Receiving objects:  74% (336/453)   \r",
      "Receiving objects:  75% (340/453)   \r",
      "Receiving objects:  76% (345/453)   \r",
      "Receiving objects:  77% (349/453)   \r",
      "Receiving objects:  78% (354/453)   \r",
      "Receiving objects:  79% (358/453)   \r",
      "Receiving objects:  80% (363/453)   \r",
      "Receiving objects:  81% (367/453)   \r",
      "Receiving objects:  82% (372/453)   \r",
      "Receiving objects:  83% (376/453)   \r"
     ]
    },
    {
     "name": "stdout",
     "output_type": "stream",
     "text": [
      "Receiving objects:  84% (381/453)   \r",
      "Receiving objects:  85% (386/453)   \r"
     ]
    },
    {
     "name": "stdout",
     "output_type": "stream",
     "text": [
      "Receiving objects:  86% (390/453)   \r",
      "Receiving objects:  87% (395/453)   \r",
      "Receiving objects:  88% (399/453)   \r",
      "Receiving objects:  89% (404/453)   \r",
      "Receiving objects:  90% (408/453)   \r",
      "Receiving objects:  91% (413/453)   \r",
      "Receiving objects:  92% (417/453)   \r",
      "Receiving objects:  93% (422/453)   \r",
      "Receiving objects:  94% (426/453)   \r",
      "Receiving objects:  95% (431/453)   \r",
      "Receiving objects:  96% (435/453)   \r",
      "remote: Total 453 (delta 328), reused 424 (delta 303), pack-reused 0\u001b[K\r\n",
      "Receiving objects:  97% (440/453)   \r",
      "Receiving objects:  98% (444/453)   \r",
      "Receiving objects:  99% (449/453)   \r",
      "Receiving objects: 100% (453/453)   \r",
      "Receiving objects: 100% (453/453), 2.92 MiB | 0 bytes/s, done.\r\n",
      "Resolving deltas:   0% (0/328)   \r",
      "Resolving deltas:   5% (17/328)   \r",
      "Resolving deltas:   6% (22/328)   \r",
      "Resolving deltas:   7% (23/328)   \r",
      "Resolving deltas:  10% (33/328)   \r",
      "Resolving deltas:  31% (103/328)   \r",
      "Resolving deltas:  48% (158/328)   \r",
      "Resolving deltas:  59% (196/328)   \r",
      "Resolving deltas:  60% (200/328)   \r",
      "Resolving deltas:  79% (261/328)   \r"
     ]
    },
    {
     "name": "stdout",
     "output_type": "stream",
     "text": [
      "Resolving deltas:  82% (269/328)   \r",
      "Resolving deltas:  89% (295/328)   \r",
      "Resolving deltas:  90% (296/328)   \r",
      "Resolving deltas:  94% (309/328)   \r",
      "Resolving deltas:  95% (314/328)   \r",
      "Resolving deltas:  96% (317/328)   \r",
      "Resolving deltas:  98% (324/328)   \r",
      "Resolving deltas: 100% (328/328)   \r",
      "Resolving deltas: 100% (328/328), done.\r\n",
      "Checking connectivity... done.\r\n"
     ]
    },
    {
     "name": "stdout",
     "output_type": "stream",
     "text": [
      "[master 785840f] Uploaded by d2lbook\r\n",
      " 6 files changed, 8 insertions(+), 5 deletions(-)\r\n",
      " rewrite deply-demo.pdf (92%)\r\n"
     ]
    },
    {
     "name": "stdout",
     "output_type": "stream",
     "text": [
      "Counting objects: 10, done.\r\n",
      "Delta compression using up to 32 threads.\r\n",
      "Compressing objects:  10% (1/10)   \r",
      "Compressing objects:  20% (2/10)   \r",
      "Compressing objects:  30% (3/10)   \r",
      "Compressing objects:  40% (4/10)   \r",
      "Compressing objects:  50% (5/10)   \r",
      "Compressing objects:  60% (6/10)   \r",
      "Compressing objects:  70% (7/10)   \r",
      "Compressing objects:  80% (8/10)   \r",
      "Compressing objects:  90% (9/10)   \r",
      "Compressing objects: 100% (10/10)   \r",
      "Compressing objects: 100% (10/10), done.\r\n",
      "Writing objects:  10% (1/10)   \r",
      "Writing objects:  20% (2/10)   \r",
      "Writing objects:  30% (3/10)   \r",
      "Writing objects:  40% (4/10)   \r",
      "Writing objects:  50% (5/10)   \r",
      "Writing objects:  60% (6/10)   \r",
      "Writing objects:  70% (7/10)   \r",
      "Writing objects:  80% (8/10)   \r",
      "Writing objects:  90% (9/10)   \r",
      "Writing objects: 100% (10/10)   \r",
      "Writing objects: 100% (10/10), 13.99 KiB | 0 bytes/s, done.\r\n",
      "Total 10 (delta 6), reused 2 (delta 0)\r\n"
     ]
    },
    {
     "name": "stdout",
     "output_type": "stream",
     "text": [
      "remote: Resolving deltas:   0% (0/6)\u001b[K\r",
      "remote: Resolving deltas:  16% (1/6)\u001b[K\r",
      "remote: Resolving deltas:  33% (2/6)\u001b[K\r",
      "remote: Resolving deltas:  50% (3/6)\u001b[K\r",
      "remote: Resolving deltas:  66% (4/6)\u001b[K\r",
      "remote: Resolving deltas:  83% (5/6)\u001b[K\r",
      "remote: Resolving deltas: 100% (6/6)\u001b[K\r",
      "remote: Resolving deltas: 100% (6/6), completed with 6 local objects.\u001b[K\r\n"
     ]
    },
    {
     "name": "stdout",
     "output_type": "stream",
     "text": [
      "To git@github.com:d2l-ai/d2l-book-deploy-demo.git\r\n",
      "   e3b40ce..785840f  master -> master\r\n"
     ]
    }
   ],
   "source": [
    "!cd deploy; d2lbook deploy html pdf"
   ]
  },
  {
   "cell_type": "markdown",
   "metadata": {},
   "source": [
    "Lastly, let's clean our workspace."
   ]
  },
  {
   "cell_type": "code",
   "execution_count": 7,
   "metadata": {},
   "outputs": [],
   "source": [
    "!rm -rf deploy"
   ]
  },
  {
   "cell_type": "markdown",
   "metadata": {},
   "source": [
    "## Deploying Through AWS\n",
    "\n",
    "Another supported option is deploying through AWS. This option provide more flexibility but require you to know the basic usage of AWS.\n",
    "\n",
    "We recommend the following procedure for the deployment:\n",
    "\n",
    "1. Copying results into [S3](https://aws.amazon.com/s3/).\n",
    "2. Serving with a [CDN](https://en.wikipedia.org/wiki/Content_delivery_network) by using [CloudFront](https://aws.amazon.com/cloudfront/) to reduce the latency.\n",
    "3. Buying and adding a customized domain at [Route 53](https://aws.amazon.com/route53/)\n",
    "\n",
    "Now let's walk through these three steps one-by-one. Before getting started, you need to have a valid AWS account and typing in your [AWS access key](https://docs.aws.amazon.com/IAM/latest/UserGuide/id_credentials_access-keys.html) by running `aws configure`.\n",
    "\n",
    "First, create a S3 bucket. You can use the targeted domain name as your bucket name. For example, this site is deployed at book.d2l.ai, then we created a bucket with the name `book.d2l.ai`. In addition, we need to disable the blocking public access through ACLs when creating this bucket, see :numref:`fig_s3-acl` and enable static website hosting, see :numref:`fig_s3-web-hosting`. Then you will get a URL to access this bucket. In our example, it's http://book.d2l.ai.s3-website-us-west-2.amazonaws.com/.\n",
    "\n",
    "![Disable blocking public access through ACLs](../img/s3-acl.png)\n",
    "\n",
    ":label:`fig_s3-acl`\n",
    ":width:`500px`\n",
    "\n",
    "![Enable static web hosting](../img/s3-web-hosting.png)\n",
    "\n",
    ":label:`fig_s3-web-hosting`\n",
    ":width:`500px`\n",
    "\n",
    "Second, create a new CloudFront distribution, by specifying the following options:\n",
    "- Origin Domain Name: the previous S3 URL without `http://`, e.g. `book.d2l.ai.s3-website-us-west-2.amazonaws.com`\n",
    "- Default Root Object: `index.html`\n",
    "- [optional] Alternate Domain Names (CNAMEs): your target domain name, e.g. `book.d2l.ai`\n",
    "- [optional] SSL Certificate: you can create one in [Certificate Manager](https://aws.amazon.com/certificate-manager/) and then select it.\n",
    "\n",
    "After a few minute, we will obtain the domain name such as `d1y0wi2ibwmzrt.cloudfront.net`.\n",
    "\n",
    "Third, you can either buying a domain at Route 53 or adding Route 53's DNS into your existing domain. After it, create a \"Hosted Zone\" and then a Type-A Record Set with the CoundFront domain name as the alias target, see :numref:`fig_record-set` for an example.\n",
    "\n",
    "![Create a Record Set](../img/record-set.png)\n",
    "\n",
    ":label:`fig_record-set`\n",
    ":width:`350px`\n",
    "\n",
    "Once you are done, then specify your S3 bucket name in the following `config.ini` entry."
   ]
  },
  {
   "cell_type": "markdown",
   "metadata": {},
   "source": [
    "```bash\n",
    "[deploy]\n",
    "s3_bucket = s3://book.d2l.ai\n",
    "```\n"
   ]
  },
  {
   "cell_type": "markdown",
   "metadata": {},
   "source": [
    "Each time you run `d2lbook deploy`, all results will be synchronized to this bucket and deployed automatically. Note that since we enabled a CDN, any new change may take a while to be shown in your URL (e.g. http://book.d2l.ai). But you can check the S3 bucket URL (e.g. http://book.d2l.ai.s3-website-us-west-2.amazonaws.com) to review the changes immediately."
   ]
  }
 ],
 "metadata": {
  "kernelspec": {
   "display_name": "Python 3",
   "name": "python3"
  },
  "language_info": {
   "name": "python"
  }
 },
 "nbformat": 4,
 "nbformat_minor": 2
}