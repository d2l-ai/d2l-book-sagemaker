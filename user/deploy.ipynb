{
 "cells": [
  {
   "cell_type": "markdown",
   "metadata": {},
   "source": [
    "# Deploying\n",
    "\n",
    "You can copy the built result to any your favorite place that can server contents online. Otherwise `d2lbook` provides two ways to deploy your build results: deploying through [Github](http://github.com/) or through [AWS](https://aws.amazon.com/).\n",
    "\n",
    "## Deploying Through Github\n",
    "\n",
    "[Github Pages](https://pages.github.com/) allow us to host a website through a Github repo. To do so, we first need to create a github repo, for example we created [d2l-ai/d2l-book-deploy-demo](https://github.com/d2l-ai/d2l-book-deploy-demo) for this example. Then enable serving from the master branch in `Settings -> GitHub Pages`. You will get a URL to access it. It is [d2l-ai.github.io/d2l-book-deploy-demo](https://d2l-ai.github.io/d2l-book-deploy-demo/) for this example. You can add anything to `README.md`, which will not show on the website.\n",
    "\n",
    "![Enable serving from master branch at Github](../img/github_pages.png)\n",
    "\n",
    ":width:`400px`\n",
    "\n",
    "\n",
    "Now let's create a project with `[deploy] github_repo` specified and build both HTML and PDF. You will see a large amount of logging information thanks to LaTeX,  more exactly, `xelatex`."
   ]
  },
  {
   "cell_type": "code",
   "execution_count": 1,
   "metadata": {},
   "outputs": [],
   "source": [
    "!mkdir -p deploy"
   ]
  },
  {
   "cell_type": "code",
   "execution_count": 2,
   "metadata": {},
   "outputs": [
    {
     "name": "stdout",
     "output_type": "stream",
     "text": [
      "Writing deploy/index.md\n"
     ]
    }
   ],
   "source": [
    "%%writefile deploy/index.md\n",
    "# Deploying Demo for d2lbook\n",
    "\n",
    "This is a demo to deploy on Github.\n",
    "\n",
    "````toc\n",
    "get_started\n",
    "````"
   ]
  },
  {
   "cell_type": "code",
   "execution_count": 3,
   "metadata": {},
   "outputs": [
    {
     "name": "stdout",
     "output_type": "stream",
     "text": [
      "Writing deploy/get_started.md\n"
     ]
    }
   ],
   "source": [
    "%%writefile deploy/get_started.md\n",
    "# Getting Started\n",
    "\n",
    "Please first install my favorite package `numpy`."
   ]
  },
  {
   "cell_type": "code",
   "execution_count": 4,
   "metadata": {},
   "outputs": [
    {
     "name": "stdout",
     "output_type": "stream",
     "text": [
      "Writing deploy/config.ini\n"
     ]
    }
   ],
   "source": [
    "%%writefile deploy/config.ini\n",
    "[project]\n",
    "name = deply-demo\n",
    "\n",
    "[html]\n",
    "header_links = PDF, https://https://d2l-ai.github.io/d2l-book-deploy-demo/deply-demo.pdf, fas fa-file-pdf\n",
    "\n",
    "[deploy]\n",
    "github_repo = d2l-ai/d2l-book-deploy-demo"
   ]
  },
  {
   "cell_type": "code",
   "execution_count": 5,
   "metadata": {},
   "outputs": [
    {
     "name": "stdout",
     "output_type": "stream",
     "text": [
      "[d2lbook:config.py:L12] INFO   Load configure from config.ini\r\n",
      "[d2lbook:build.py:L98] INFO   2 notebooks are outdated\r\n",
      "[d2lbook:build.py:L100] INFO   [1] ./get_started.md\r\n",
      "[d2lbook:build.py:L100] INFO   [2] ./index.md\r\n",
      "[d2lbook:build.py:L107] INFO   [1/2, 00:00:00] Evaluating ./get_started.md, save as _build/eval/get_started.ipynb\r\n"
     ]
    },
    {
     "name": "stdout",
     "output_type": "stream",
     "text": [
      "[d2lbook:execute.py:L252] INFO   Executing notebook with kernel: python\r\n"
     ]
    },
    {
     "name": "stdout",
     "output_type": "stream",
     "text": [
      "[d2lbook:build.py:L112] INFO   Finished in 00:00:01\r\n",
      "[d2lbook:build.py:L107] INFO   [2/2, 00:00:01] Evaluating ./index.md, save as _build/eval/index.ipynb\r\n",
      "[d2lbook:execute.py:L252] INFO   Executing notebook with kernel: python\r\n"
     ]
    },
    {
     "name": "stdout",
     "output_type": "stream",
     "text": [
      "[d2lbook:build.py:L112] INFO   Finished in 00:00:01\r\n",
      "[d2lbook:build.py:L121] INFO   \"d2lbook build eval\" finished in 00:00:02\r\n",
      "[d2lbook:build.py:L177] INFO   2 rst files are outdated\r\n",
      "[d2lbook:build.py:L179] INFO   Convert _build/eval/get_started.ipynb to _build/rst/get_started.rst\r\n"
     ]
    },
    {
     "name": "stdout",
     "output_type": "stream",
     "text": [
      "[d2lbook:build.py:L179] INFO   Convert _build/eval/index.ipynb to _build/rst/index.rst\r\n"
     ]
    },
    {
     "name": "stdout",
     "output_type": "stream",
     "text": [
      "[d2lbook:utils.py:L124] INFO   Run \"sphinx-build _build/rst _build/html -b html -c _build/rst -j 4\"\r\n"
     ]
    },
    {
     "name": "stdout",
     "output_type": "stream",
     "text": [
      "\u001b[01mRunning Sphinx v2.2.2\u001b[39;49;00m\r\n"
     ]
    },
    {
     "name": "stdout",
     "output_type": "stream",
     "text": [
      "\u001b[01mmaking output directory... \u001b[39;49;00mdone\r\n",
      "\u001b[01mbuilding [mo]: \u001b[39;49;00mtargets for 0 po files that are out of date\r\n",
      "\u001b[01mbuilding [html]\u001b[39;49;00m: targets for 2 source files that are out of date\r\n",
      "\u001b[01mupdating environment: \u001b[39;49;00m[new config] 2 added, 0 changed, 0 removed\r\n",
      "\u001b[01mreading sources... \u001b[39;49;00m[ 50%] \u001b[35mget_started\u001b[39;49;00m                                           \r"
     ]
    },
    {
     "name": "stdout",
     "output_type": "stream",
     "text": [
      "\u001b[01mreading sources... \u001b[39;49;00m[100%] \u001b[35mindex\u001b[39;49;00m                                                 \r",
      "\r\n",
      "\u001b[01mlooking for now-outdated files... \u001b[39;49;00mnone found\r\n",
      "\u001b[01mpickling environment... \u001b[39;49;00mdone\r\n",
      "\u001b[01mchecking consistency... \u001b[39;49;00mdone\r\n",
      "\u001b[01mpreparing documents... \u001b[39;49;00mdone\r\n"
     ]
    },
    {
     "name": "stdout",
     "output_type": "stream",
     "text": [
      "\u001b[01mwriting output... \u001b[39;49;00m[100%] \u001b[32mindex\u001b[39;49;00m                                                  \r"
     ]
    },
    {
     "name": "stdout",
     "output_type": "stream",
     "text": [
      "\r\n",
      "\u001b[01mwaiting for workers...\u001b[39;49;00m\r\n",
      "\u001b[01mgenerating indices... \u001b[39;49;00m genindexdone\r\n"
     ]
    },
    {
     "name": "stdout",
     "output_type": "stream",
     "text": [
      "\u001b[01mwriting additional pages... \u001b[39;49;00m searchdone\r\n",
      "\u001b[01mcopying static files... ... \u001b[39;49;00m"
     ]
    },
    {
     "name": "stdout",
     "output_type": "stream",
     "text": [
      "done\r\n",
      "\u001b[01mcopying extra files... \u001b[39;49;00mdone\r\n",
      "\u001b[01mdumping search index in English (code: en)... \u001b[39;49;00mdone\r\n",
      "\u001b[01mdumping object inventory... \u001b[39;49;00m"
     ]
    },
    {
     "name": "stdout",
     "output_type": "stream",
     "text": [
      "done\r\n",
      "\u001b[01mbuild succeeded.\u001b[39;49;00m\r\n",
      "\r\n",
      "The HTML pages are in _build/html.\r\n"
     ]
    },
    {
     "name": "stdout",
     "output_type": "stream",
     "text": [
      "[d2lbook:build.py:L204] INFO   \"d2lbook build html\" finished in 00:00:03\r\n",
      "[d2lbook:utils.py:L124] INFO   Run \"sphinx-build  _build/rst _build/pdf -b latex -c _build/rst -j 4\"\r\n"
     ]
    },
    {
     "name": "stdout",
     "output_type": "stream",
     "text": [
      "\u001b[01mRunning Sphinx v2.2.2\u001b[39;49;00m\r\n"
     ]
    },
    {
     "name": "stdout",
     "output_type": "stream",
     "text": [
      "\u001b[01mmaking output directory... \u001b[39;49;00mdone\r\n",
      "\u001b[01mbuilding [mo]: \u001b[39;49;00mtargets for 0 po files that are out of date\r\n",
      "\u001b[01mbuilding [latex]\u001b[39;49;00m: all documents\r\n",
      "\u001b[01mupdating environment: \u001b[39;49;00m[new config] 2 added, 0 changed, 0 removed\r\n",
      "\u001b[01mreading sources... \u001b[39;49;00m[ 50%] \u001b[35mget_started\u001b[39;49;00m                                           \r"
     ]
    },
    {
     "name": "stdout",
     "output_type": "stream",
     "text": [
      "\u001b[01mreading sources... \u001b[39;49;00m[100%] \u001b[35mindex\u001b[39;49;00m                                                 \r",
      "\r\n",
      "\u001b[01mlooking for now-outdated files... \u001b[39;49;00mnone found\r\n",
      "\u001b[01mpickling environment... \u001b[39;49;00mdone\r\n",
      "\u001b[01mchecking consistency... \u001b[39;49;00mdone\r\n",
      "\u001b[01mprocessing deply-demo.tex... \u001b[39;49;00m\u001b[32mindex\u001b[39;49;00m \u001b[32mget_started\u001b[39;49;00m \r\n",
      "resolving references...\r\n",
      "done\r\n",
      "\u001b[01mwriting... \u001b[39;49;00mdone\r\n",
      "\u001b[01mcopying TeX support files... \u001b[39;49;00m\u001b[01mcopying TeX support files...\u001b[39;49;00m\r\n",
      "done\r\n",
      "\u001b[01mbuild succeeded.\u001b[39;49;00m\r\n",
      "\r\n",
      "The LaTeX files are in _build/pdf.\r\n",
      "Run 'make' in that directory to run these through (pdf)latex\r\n",
      "(use `make latexpdf' here to do that automatically).\r\n"
     ]
    },
    {
     "name": "stdout",
     "output_type": "stream",
     "text": [
      "[d2lbook:utils.py:L124] INFO   Run \"cd _build/pdf && make\"\r\n",
      "latexmk -pdf -dvi- -ps-  'deply-demo.tex'\r\n"
     ]
    },
    {
     "name": "stdout",
     "output_type": "stream",
     "text": [
      "Latexmk: This is Latexmk, John Collins, 17 Jan. 2018, version: 4.55.\r\n",
      "Latexmk: applying rule 'pdflatex'...\r\n",
      "Rule 'pdflatex': Rules & subrules not known to be previously run:\r\n",
      "   pdflatex\r\n",
      "Rule 'pdflatex': The following rules & subrules became out-of-date:\r\n",
      "      'pdflatex'\r\n",
      "------------\r\n",
      "Run number 1 of rule 'pdflatex'\r\n",
      "------------\r\n",
      "------------\r\n",
      "Running 'xelatex   -recorder  \"deply-demo.tex\"'\r\n",
      "------------\r\n"
     ]
    },
    {
     "name": "stdout",
     "output_type": "stream",
     "text": [
      "This is XeTeX, Version 3.14159265-2.6-0.99999 (TeX Live 2018) (preloaded format=xelatex)\r\n",
      " restricted \\write18 enabled.\r\n"
     ]
    },
    {
     "name": "stdout",
     "output_type": "stream",
     "text": [
      "entering extended mode\r\n",
      "(./deply-demo.tex\r\n",
      "LaTeX2e <2018-04-01> patch level 2\r\n",
      "Babel <3.18> and hyphenation patterns for 84 language(s) loaded.\r\n",
      "(./sphinxmanual.cls\r\n",
      "Document Class: sphinxmanual 2018/12/23 v2.0 Document class (Sphinx manual)\r\n",
      "(/usr/local/texlive/2018/texmf-dist/tex/latex/base/report.cls\r\n",
      "Document Class: report 2014/09/29 v1.4h Standard LaTeX document class\r\n",
      "(/usr/local/texlive/2018/texmf-dist/tex/latex/base/size11.clo)))\r\n",
      "(/usr/local/texlive/2018/texmf-dist/tex/latex/cmap/cmap.sty\r\n",
      "\r\n",
      "Package cmap Warning: pdftex not detected - exiting.\r\n",
      "\r\n",
      ") (/usr/local/texlive/2018/texmf-dist/tex/latex/fontspec/fontspec.sty\r\n",
      "(/usr/local/texlive/2018/texmf-dist/tex/latex/l3packages/xparse/xparse.sty\r\n",
      "(/usr/local/texlive/2018/texmf-dist/tex/latex/l3kernel/expl3.sty\r\n",
      "(/usr/local/texlive/2018/texmf-dist/tex/latex/l3kernel/expl3-code.tex"
     ]
    },
    {
     "name": "stdout",
     "output_type": "stream",
     "text": [
      ")\r\n",
      "(/usr/local/texlive/2018/texmf-dist/tex/latex/l3kernel/l3xdvipdfmx.def)))\r\n",
      "(/usr/local/texlive/2018/texmf-dist/tex/latex/fontspec/fontspec-xetex.sty\r\n",
      "(/usr/local/texlive/2018/texmf-dist/tex/latex/base/fontenc.sty\r\n",
      "(/usr/local/texlive/2018/texmf-dist/tex/latex/base/tuenc.def))"
     ]
    },
    {
     "name": "stdout",
     "output_type": "stream",
     "text": [
      "\r\n",
      "(/usr/local/texlive/2018/texmf-dist/tex/latex/fontspec/fontspec.cfg)))\r\n",
      "(/usr/local/texlive/2018/texmf-dist/tex/latex/amsmath/amsmath.sty\r\n",
      "For additional information on amsmath, use the `?' option.\r\n",
      "(/usr/local/texlive/2018/texmf-dist/tex/latex/amsmath/amstext.sty\r\n",
      "(/usr/local/texlive/2018/texmf-dist/tex/latex/amsmath/amsgen.sty))\r\n",
      "(/usr/local/texlive/2018/texmf-dist/tex/latex/amsmath/amsbsy.sty)\r\n",
      "(/usr/local/texlive/2018/texmf-dist/tex/latex/amsmath/amsopn.sty))\r\n",
      "(/usr/local/texlive/2018/texmf-dist/tex/latex/amsfonts/amssymb.sty\r\n",
      "(/usr/local/texlive/2018/texmf-dist/tex/latex/amsfonts/amsfonts.sty))\r\n",
      "(/usr/local/texlive/2018/texmf-dist/tex/latex/polyglossia/polyglossia.sty\r\n",
      "(/usr/local/texlive/2018/texmf-dist/tex/latex/etoolbox/etoolbox.sty)\r\n",
      "(/usr/local/texlive/2018/texmf-dist/tex/latex/makecmds/makecmds.sty)\r\n",
      "(/usr/local/texlive/2018/texmf-dist/tex/latex/xkeyval/xkeyval.sty\r\n",
      "(/usr/local/texlive/2018/texmf-dist/tex/generic/xkeyval/xkeyval.tex\r\n",
      "(/usr/local/texlive/2018/texmf-dist/tex/generic/xkeyval/xkvutils.tex\r\n",
      "(/usr/local/texlive/2018/texmf-dist/tex/generic/xkeyval/keyval.tex))))\r\n",
      "(/usr/local/texlive/2018/texmf-dist/tex/generic/oberdiek/ifluatex.sty)\r\n",
      "(/usr/local/texlive/2018/texmf-dist/tex/generic/ifxetex/ifxetex.sty))"
     ]
    },
    {
     "name": "stdout",
     "output_type": "stream",
     "text": [
      "\r\n",
      "(/usr/local/texlive/2018/texmf-dist/tex/latex/polyglossia/gloss-english.ldf)\r\n",
      "(/usr/local/texlive/2018/texmf-dist/tex/latex/fncychap/fncychap.sty)\r\n",
      "(./sphinx.sty\r\n",
      "(/usr/local/texlive/2018/texmf-dist/tex/generic/oberdiek/ltxcmds.sty)\r\n",
      "(/usr/local/texlive/2018/texmf-dist/tex/latex/graphics/graphicx.sty\r\n",
      "(/usr/local/texlive/2018/texmf-dist/tex/latex/graphics/graphics.sty\r\n",
      "(/usr/local/texlive/2018/texmf-dist/tex/latex/graphics/trig.sty)\r\n",
      "(/usr/local/texlive/2018/texmf-dist/tex/latex/graphics-cfg/graphics.cfg)\r\n",
      "(/usr/local/texlive/2018/texmf-dist/tex/latex/graphics-def/xetex.def)))\r\n",
      "(/usr/local/texlive/2018/texmf-dist/tex/latex/fancyhdr/fancyhdr.sty)\r\n",
      "(/usr/local/texlive/2018/texmf-dist/tex/latex/base/textcomp.sty\r\n",
      "(/usr/local/texlive/2018/texmf-dist/tex/latex/base/ts1enc.def))\r\n",
      "(/usr/local/texlive/2018/texmf-dist/tex/latex/titlesec/titlesec.sty"
     ]
    },
    {
     "name": "stdout",
     "output_type": "stream",
     "text": [
      ")\r\n",
      "(/usr/local/texlive/2018/texmf-dist/tex/latex/tabulary/tabulary.sty\r\n",
      "(/usr/local/texlive/2018/texmf-dist/tex/latex/tools/array.sty))\r\n",
      "(/usr/local/texlive/2018/texmf-dist/tex/latex/tools/longtable.sty)\r\n",
      "(/usr/local/texlive/2018/texmf-dist/tex/latex/varwidth/varwidth.sty)\r\n",
      "(./sphinxmulticell.sty)\r\n",
      "(/usr/local/texlive/2018/texmf-dist/tex/latex/base/makeidx.sty)\r\n",
      "(/usr/local/texlive/2018/texmf-dist/tex/latex/framed/framed.sty)\r\n",
      "(/usr/local/texlive/2018/texmf-dist/tex/latex/xcolor/xcolor.sty\r\n",
      "(/usr/local/texlive/2018/texmf-dist/tex/latex/graphics-cfg/color.cfg))\r\n",
      "(/usr/local/texlive/2018/texmf-dist/tex/latex/fancyvrb/fancyvrb.sty\r\n",
      "Style option: `fancyvrb' v2.7a, with DG/SPQR fixes, and firstline=lastline fix \r\n",
      "<2008/02/07> (tvz)) (./footnotehyper-sphinx.sty)\r\n",
      "(/usr/local/texlive/2018/texmf-dist/tex/latex/float/float.sty)\r\n",
      "(/usr/local/texlive/2018/texmf-dist/tex/latex/wrapfig/wrapfig.sty)\r\n",
      "(/usr/local/texlive/2018/texmf-dist/tex/latex/parskip/parskip.sty)\r\n",
      "(/usr/local/texlive/2018/texmf-dist/tex/latex/base/alltt.sty)\r\n",
      "(/usr/local/texlive/2018/texmf-dist/tex/latex/upquote/upquote.sty)\r\n",
      "(/usr/local/texlive/2018/texmf-dist/tex/latex/capt-of/capt-of.sty)\r\n",
      "(/usr/local/texlive/2018/texmf-dist/tex/latex/needspace/needspace.sty)\r\n",
      "(./sphinxhighlight.sty)\r\n",
      "(/usr/local/texlive/2018/texmf-dist/tex/latex/oberdiek/kvoptions.sty\r\n",
      "(/usr/local/texlive/2018/texmf-dist/tex/generic/oberdiek/kvsetkeys.sty\r\n",
      "(/usr/local/texlive/2018/texmf-dist/tex/generic/oberdiek/infwarerr.sty)\r\n",
      "(/usr/local/texlive/2018/texmf-dist/tex/generic/oberdiek/etexcmds.sty))))\r\n",
      "(/usr/local/texlive/2018/texmf-dist/tex/latex/geometry/geometry.sty\r\n",
      "(/usr/local/texlive/2018/texmf-dist/tex/generic/oberdiek/ifpdf.sty)\r\n",
      "(/usr/local/texlive/2018/texmf-dist/tex/generic/oberdiek/ifvtex.sty))\r\n",
      "(/usr/local/texlive/2018/texmf-dist/tex/latex/hyperref/hyperref.sty\r\n",
      "(/usr/local/texlive/2018/texmf-dist/tex/generic/oberdiek/hobsub-hyperref.sty\r\n",
      "(/usr/local/texlive/2018/texmf-dist/tex/generic/oberdiek/hobsub-generic.sty))\r\n",
      "(/usr/local/texlive/2018/texmf-dist/tex/latex/oberdiek/auxhook.sty)\r\n",
      "(/usr/local/texlive/2018/texmf-dist/tex/latex/hyperref/pd1enc.def)"
     ]
    },
    {
     "name": "stdout",
     "output_type": "stream",
     "text": [
      "\r\n",
      "(/usr/local/texlive/2018/texmf-dist/tex/latex/latexconfig/hyperref.cfg)\r\n",
      "(/usr/local/texlive/2018/texmf-dist/tex/latex/hyperref/puenc.def)\r\n",
      "(/usr/local/texlive/2018/texmf-dist/tex/latex/url/url.sty))\r\n",
      "(/usr/local/texlive/2018/texmf-dist/tex/latex/hyperref/hxetex.def\r\n",
      "(/usr/local/texlive/2018/texmf-dist/tex/generic/oberdiek/stringenc.sty)\r\n",
      "(/usr/local/texlive/2018/texmf-dist/tex/latex/oberdiek/rerunfilecheck.sty))\r\n",
      "(/usr/local/texlive/2018/texmf-dist/tex/latex/oberdiek/hypcap.sty)\r\n",
      "(./sphinxmessages.sty)\r\n",
      "(/usr/local/texlive/2018/texmf-dist/tex/latex/blindtext/blindtext.sty\r\n",
      "(/usr/local/texlive/2018/texmf-dist/tex/latex/tools/xspace.sty))\r\n",
      "(/usr/local/texlive/2018/texmf-dist/tex/latex/natbib/natbib.sty)\r\n",
      "(/usr/local/texlive/2018/texmf-dist/tex/latex/minted/minted.sty\r\n",
      "(/usr/local/texlive/2018/texmf-dist/tex/latex/fvextra/fvextra.sty\r\n",
      "(/usr/local/texlive/2018/texmf-dist/tex/latex/base/ifthen.sty)\r\n",
      "(/usr/local/texlive/2018/texmf-dist/tex/latex/lineno/lineno.sty))\r\n",
      "(/usr/local/texlive/2018/texmf-dist/tex/latex/tools/calc.sty)\r\n",
      "(/usr/local/texlive/2018/texmf-dist/tex/latex/tools/shellesc.sty)\r\n",
      "(/usr/local/texlive/2018/texmf-dist/tex/latex/ifplatform/ifplatform.sty\r\n",
      "(/usr/local/texlive/2018/texmf-dist/tex/generic/oberdiek/catchfile.sty)\r\n",
      "\r\n",
      "Package ifplatform Warning: \r\n",
      "    shell escape is disabled, so I can only detect \\ifwindows.\r\n",
      "\r\n",
      ")"
     ]
    },
    {
     "name": "stdout",
     "output_type": "stream",
     "text": [
      " (/usr/local/texlive/2018/texmf-dist/tex/generic/xstring/xstring.sty\r\n",
      "(/usr/local/texlive/2018/texmf-dist/tex/generic/xstring/xstring.tex)))\r\n",
      "Writing index file deply-demo.idx\r\n",
      "(./deply-demo.aux) (/usr/local/texlive/2018/texmf-dist/tex/latex/base/ts1cmr.fd\r\n",
      ")\r\n",
      "*geometry* driver: auto-detecting\r\n",
      "*geometry* detected driver: xetex\r\n",
      "(/usr/local/texlive/2018/texmf-dist/tex/latex/hyperref/nameref.sty\r\n",
      "(/usr/local/texlive/2018/texmf-dist/tex/generic/oberdiek/gettitlestring.sty))\r\n",
      "\r\n",
      "Package hyperref Warning: Rerun to get /PageLabels entry.\r\n",
      "\r\n",
      "(/usr/local/texlive/2018/texmf-dist/tex/latex/amsfonts/umsa.fd)\r\n",
      "(/usr/local/texlive/2018/texmf-dist/tex/latex/amsfonts/umsb.fd) [1] [2]\r\n",
      "[1] [2] [1] [2]\r\n",
      "Chapter 1.\r\n",
      "No file deply-demo.ind.\r\n",
      "[3] (./deply-demo.aux)\r\n",
      "\r\n",
      "Package rerunfilecheck Warning: File `deply-demo.out' has changed.\r\n",
      "(rerunfilecheck)                Rerun to get outlines right\r\n",
      "(rerunfilecheck)                or use package `bookmark'.\r\n",
      "\r\n",
      "\r\n",
      "LaTeX Warning: Label(s) may have changed. Rerun to get cross-references right.\r\n",
      "\r\n",
      " )\r\n"
     ]
    },
    {
     "name": "stdout",
     "output_type": "stream",
     "text": [
      "(see the transcript file for additional information)\r\n",
      "Output written on deply-demo.pdf (7 pages).\r\n",
      "Transcript written on deply-demo.log.\r\n"
     ]
    },
    {
     "name": "stdout",
     "output_type": "stream",
     "text": [
      "=== TeX engine is 'XeTeX'\r\n"
     ]
    },
    {
     "name": "stdout",
     "output_type": "stream",
     "text": [
      "Latexmk: Index file 'deply-demo.idx' was written\r\n",
      "Latexmk: References changed.\r\n",
      "===========Latexmk: Missing input file: 'deply-demo.ind' from line\r\n",
      "  'No file deply-demo.ind.'\r\n",
      "Latexmk: Missing input file: 'deply-demo.ind' from line\r\n",
      "  'No file deply-demo.ind.'\r\n",
      "Latexmk: References changed.\r\n",
      "Latexmk: References changed.\r\n",
      "Latexmk: Log file says output to 'deply-demo.pdf'\r\n"
     ]
    },
    {
     "name": "stdout",
     "output_type": "stream",
     "text": [
      "Latexmk: applying rule 'makeindex deply-demo.idx'...\r\n",
      "Rule 'makeindex deply-demo.idx': File changes, etc:\r\n",
      "   Changed files, or newly in use since previous run(s):\r\n",
      "      'deply-demo.idx'\r\n",
      "   Non-existent destination files:\r\n",
      "      'deply-demo.ind'\r\n",
      "------------\r\n",
      "Run number 1 of rule 'makeindex deply-demo.idx'\r\n",
      "------------\r\n",
      "------------\r\n",
      "Running 'internal xindy -L english -C utf8  -M sphinx.xdy  -o \"deply-demo.ind\" \"deply-demo.idx\"'\r\n",
      "------------\r\n",
      "Latexmk: calling xindy( -L english -C utf8  -M sphinx.xdy  -o \"deply-demo.ind\" \"deply-demo.idx\" )\r\n",
      "Latexmk: applying rule 'pdflatex'...\r\n",
      "Rule 'pdflatex': File changes, etc:\r\n",
      "   Changed files, or newly in use since previous run(s):\r\n",
      "      'deply-demo.aux'\r\n",
      "      'deply-demo.ind'\r\n",
      "      'deply-demo.out'\r\n",
      "------------\r\n",
      "Run number 2 of rule 'pdflatex'\r\n",
      "------------\r\n",
      "------------\r\n",
      "Running 'xelatex   -recorder  \"deply-demo.tex\"'\r\n",
      "------------\r\n"
     ]
    },
    {
     "name": "stdout",
     "output_type": "stream",
     "text": [
      "This is XeTeX, Version 3.14159265-2.6-0.99999 (TeX Live 2018) (preloaded format=xelatex)\r\n",
      " restricted \\write18 enabled.\r\n"
     ]
    },
    {
     "name": "stdout",
     "output_type": "stream",
     "text": [
      "entering extended mode\r\n",
      "(./deply-demo.tex\r\n",
      "LaTeX2e <2018-04-01> patch level 2\r\n",
      "Babel <3.18> and hyphenation patterns for 84 language(s) loaded.\r\n",
      "(./sphinxmanual.cls\r\n",
      "Document Class: sphinxmanual 2018/12/23 v2.0 Document class (Sphinx manual)\r\n",
      "(/usr/local/texlive/2018/texmf-dist/tex/latex/base/report.cls\r\n",
      "Document Class: report 2014/09/29 v1.4h Standard LaTeX document class\r\n",
      "(/usr/local/texlive/2018/texmf-dist/tex/latex/base/size11.clo)))\r\n",
      "(/usr/local/texlive/2018/texmf-dist/tex/latex/cmap/cmap.sty\r\n",
      "\r\n",
      "Package cmap Warning: pdftex not detected - exiting.\r\n",
      "\r\n",
      ") (/usr/local/texlive/2018/texmf-dist/tex/latex/fontspec/fontspec.sty\r\n",
      "(/usr/local/texlive/2018/texmf-dist/tex/latex/l3packages/xparse/xparse.sty\r\n",
      "(/usr/local/texlive/2018/texmf-dist/tex/latex/l3kernel/expl3.sty\r\n",
      "(/usr/local/texlive/2018/texmf-dist/tex/latex/l3kernel/expl3-code.tex"
     ]
    },
    {
     "name": "stdout",
     "output_type": "stream",
     "text": [
      ")\r\n",
      "(/usr/local/texlive/2018/texmf-dist/tex/latex/l3kernel/l3xdvipdfmx.def)))\r\n",
      "(/usr/local/texlive/2018/texmf-dist/tex/latex/fontspec/fontspec-xetex.sty\r\n",
      "(/usr/local/texlive/2018/texmf-dist/tex/latex/base/fontenc.sty\r\n",
      "(/usr/local/texlive/2018/texmf-dist/tex/latex/base/tuenc.def))"
     ]
    },
    {
     "name": "stdout",
     "output_type": "stream",
     "text": [
      "\r\n",
      "(/usr/local/texlive/2018/texmf-dist/tex/latex/fontspec/fontspec.cfg)))\r\n",
      "(/usr/local/texlive/2018/texmf-dist/tex/latex/amsmath/amsmath.sty\r\n",
      "For additional information on amsmath, use the `?' option.\r\n",
      "(/usr/local/texlive/2018/texmf-dist/tex/latex/amsmath/amstext.sty\r\n",
      "(/usr/local/texlive/2018/texmf-dist/tex/latex/amsmath/amsgen.sty))\r\n",
      "(/usr/local/texlive/2018/texmf-dist/tex/latex/amsmath/amsbsy.sty)\r\n",
      "(/usr/local/texlive/2018/texmf-dist/tex/latex/amsmath/amsopn.sty))\r\n",
      "(/usr/local/texlive/2018/texmf-dist/tex/latex/amsfonts/amssymb.sty\r\n",
      "(/usr/local/texlive/2018/texmf-dist/tex/latex/amsfonts/amsfonts.sty))\r\n",
      "(/usr/local/texlive/2018/texmf-dist/tex/latex/polyglossia/polyglossia.sty\r\n",
      "(/usr/local/texlive/2018/texmf-dist/tex/latex/etoolbox/etoolbox.sty)\r\n",
      "(/usr/local/texlive/2018/texmf-dist/tex/latex/makecmds/makecmds.sty)\r\n",
      "(/usr/local/texlive/2018/texmf-dist/tex/latex/xkeyval/xkeyval.sty\r\n",
      "(/usr/local/texlive/2018/texmf-dist/tex/generic/xkeyval/xkeyval.tex\r\n",
      "(/usr/local/texlive/2018/texmf-dist/tex/generic/xkeyval/xkvutils.tex\r\n",
      "(/usr/local/texlive/2018/texmf-dist/tex/generic/xkeyval/keyval.tex))))\r\n",
      "(/usr/local/texlive/2018/texmf-dist/tex/generic/oberdiek/ifluatex.sty)\r\n",
      "(/usr/local/texlive/2018/texmf-dist/tex/generic/ifxetex/ifxetex.sty))\r\n",
      "(/usr/local/texlive/2018/texmf-dist/tex/latex/polyglossia/gloss-english.ldf)"
     ]
    },
    {
     "name": "stdout",
     "output_type": "stream",
     "text": [
      "\r\n",
      "(/usr/local/texlive/2018/texmf-dist/tex/latex/fncychap/fncychap.sty)\r\n",
      "(./sphinx.sty\r\n",
      "(/usr/local/texlive/2018/texmf-dist/tex/generic/oberdiek/ltxcmds.sty)\r\n",
      "(/usr/local/texlive/2018/texmf-dist/tex/latex/graphics/graphicx.sty\r\n",
      "(/usr/local/texlive/2018/texmf-dist/tex/latex/graphics/graphics.sty\r\n",
      "(/usr/local/texlive/2018/texmf-dist/tex/latex/graphics/trig.sty)\r\n",
      "(/usr/local/texlive/2018/texmf-dist/tex/latex/graphics-cfg/graphics.cfg)\r\n",
      "(/usr/local/texlive/2018/texmf-dist/tex/latex/graphics-def/xetex.def)))\r\n",
      "(/usr/local/texlive/2018/texmf-dist/tex/latex/fancyhdr/fancyhdr.sty)\r\n",
      "(/usr/local/texlive/2018/texmf-dist/tex/latex/base/textcomp.sty\r\n",
      "(/usr/local/texlive/2018/texmf-dist/tex/latex/base/ts1enc.def))\r\n",
      "(/usr/local/texlive/2018/texmf-dist/tex/latex/titlesec/titlesec.sty)\r\n",
      "(/usr/local/texlive/2018/texmf-dist/tex/latex/tabulary/tabulary.sty\r\n",
      "(/usr/local/texlive/2018/texmf-dist/tex/latex/tools/array.sty))\r\n",
      "(/usr/local/texlive/2018/texmf-dist/tex/latex/tools/longtable.sty)\r\n",
      "(/usr/local/texlive/2018/texmf-dist/tex/latex/varwidth/varwidth.sty)\r\n",
      "(./sphinxmulticell.sty)\r\n",
      "(/usr/local/texlive/2018/texmf-dist/tex/latex/base/makeidx.sty)\r\n",
      "(/usr/local/texlive/2018/texmf-dist/tex/latex/framed/framed.sty)\r\n",
      "(/usr/local/texlive/2018/texmf-dist/tex/latex/xcolor/xcolor.sty\r\n",
      "(/usr/local/texlive/2018/texmf-dist/tex/latex/graphics-cfg/color.cfg))\r\n",
      "(/usr/local/texlive/2018/texmf-dist/tex/latex/fancyvrb/fancyvrb.sty\r\n",
      "Style option: `fancyvrb' v2.7a, with DG/SPQR fixes, and firstline=lastline fix \r\n",
      "<2008/02/07> (tvz)"
     ]
    },
    {
     "name": "stdout",
     "output_type": "stream",
     "text": [
      ") (./footnotehyper-sphinx.sty)\r\n",
      "(/usr/local/texlive/2018/texmf-dist/tex/latex/float/float.sty)\r\n",
      "(/usr/local/texlive/2018/texmf-dist/tex/latex/wrapfig/wrapfig.sty)\r\n",
      "(/usr/local/texlive/2018/texmf-dist/tex/latex/parskip/parskip.sty)\r\n",
      "(/usr/local/texlive/2018/texmf-dist/tex/latex/base/alltt.sty)\r\n",
      "(/usr/local/texlive/2018/texmf-dist/tex/latex/upquote/upquote.sty)\r\n",
      "(/usr/local/texlive/2018/texmf-dist/tex/latex/capt-of/capt-of.sty)\r\n",
      "(/usr/local/texlive/2018/texmf-dist/tex/latex/needspace/needspace.sty)\r\n",
      "(./sphinxhighlight.sty)\r\n",
      "(/usr/local/texlive/2018/texmf-dist/tex/latex/oberdiek/kvoptions.sty\r\n",
      "(/usr/local/texlive/2018/texmf-dist/tex/generic/oberdiek/kvsetkeys.sty\r\n",
      "(/usr/local/texlive/2018/texmf-dist/tex/generic/oberdiek/infwarerr.sty)\r\n",
      "(/usr/local/texlive/2018/texmf-dist/tex/generic/oberdiek/etexcmds.sty))))\r\n",
      "(/usr/local/texlive/2018/texmf-dist/tex/latex/geometry/geometry.sty\r\n",
      "(/usr/local/texlive/2018/texmf-dist/tex/generic/oberdiek/ifpdf.sty)\r\n",
      "(/usr/local/texlive/2018/texmf-dist/tex/generic/oberdiek/ifvtex.sty))\r\n",
      "(/usr/local/texlive/2018/texmf-dist/tex/latex/hyperref/hyperref.sty\r\n",
      "(/usr/local/texlive/2018/texmf-dist/tex/generic/oberdiek/hobsub-hyperref.sty\r\n",
      "(/usr/local/texlive/2018/texmf-dist/tex/generic/oberdiek/hobsub-generic.sty))\r\n",
      "(/usr/local/texlive/2018/texmf-dist/tex/latex/oberdiek/auxhook.sty)\r\n",
      "(/usr/local/texlive/2018/texmf-dist/tex/latex/hyperref/pd1enc.def)\r\n",
      "(/usr/local/texlive/2018/texmf-dist/tex/latex/latexconfig/hyperref.cfg)\r\n",
      "(/usr/local/texlive/2018/texmf-dist/tex/latex/hyperref/puenc.def"
     ]
    },
    {
     "name": "stdout",
     "output_type": "stream",
     "text": [
      ")\r\n",
      "(/usr/local/texlive/2018/texmf-dist/tex/latex/url/url.sty))\r\n",
      "(/usr/local/texlive/2018/texmf-dist/tex/latex/hyperref/hxetex.def\r\n",
      "(/usr/local/texlive/2018/texmf-dist/tex/generic/oberdiek/stringenc.sty)\r\n",
      "(/usr/local/texlive/2018/texmf-dist/tex/latex/oberdiek/rerunfilecheck.sty))\r\n",
      "(/usr/local/texlive/2018/texmf-dist/tex/latex/oberdiek/hypcap.sty)\r\n",
      "(./sphinxmessages.sty)\r\n",
      "(/usr/local/texlive/2018/texmf-dist/tex/latex/blindtext/blindtext.sty\r\n",
      "(/usr/local/texlive/2018/texmf-dist/tex/latex/tools/xspace.sty))\r\n",
      "(/usr/local/texlive/2018/texmf-dist/tex/latex/natbib/natbib.sty)\r\n",
      "(/usr/local/texlive/2018/texmf-dist/tex/latex/minted/minted.sty\r\n",
      "(/usr/local/texlive/2018/texmf-dist/tex/latex/fvextra/fvextra.sty\r\n",
      "(/usr/local/texlive/2018/texmf-dist/tex/latex/base/ifthen.sty)\r\n",
      "(/usr/local/texlive/2018/texmf-dist/tex/latex/lineno/lineno.sty))\r\n",
      "(/usr/local/texlive/2018/texmf-dist/tex/latex/tools/calc.sty)\r\n",
      "(/usr/local/texlive/2018/texmf-dist/tex/latex/tools/shellesc.sty)\r\n",
      "(/usr/local/texlive/2018/texmf-dist/tex/latex/ifplatform/ifplatform.sty\r\n",
      "(/usr/local/texlive/2018/texmf-dist/tex/generic/oberdiek/catchfile.sty)\r\n",
      "\r\n",
      "Package ifplatform Warning: \r\n",
      "    shell escape is disabled, so I can only detect \\ifwindows.\r\n",
      "\r\n",
      ") (/usr/local/texlive/2018/texmf-dist/tex/generic/xstring/xstring.sty\r\n",
      "(/usr/local/texlive/2018/texmf-dist/tex/generic/xstring/xstring.tex)))\r\n",
      "Writing index file deply-demo.idx\r\n",
      "(./deply-demo.aux) (/usr/local/texlive/2018/texmf-dist/tex/latex/base/ts1cmr.fd\r\n",
      ")"
     ]
    },
    {
     "name": "stdout",
     "output_type": "stream",
     "text": [
      "\r\n",
      "*geometry* driver: auto-detecting\r\n",
      "*geometry* detected driver: xetex\r\n",
      "(/usr/local/texlive/2018/texmf-dist/tex/latex/hyperref/nameref.sty\r\n",
      "(/usr/local/texlive/2018/texmf-dist/tex/generic/oberdiek/gettitlestring.sty))\r\n",
      "(./deply-demo.out) (./deply-demo.out)\r\n",
      "(/usr/local/texlive/2018/texmf-dist/tex/latex/amsfonts/umsa.fd)\r\n",
      "(/usr/local/texlive/2018/texmf-dist/tex/latex/amsfonts/umsb.fd) [1] [2]\r\n",
      "(./deply-demo.toc) [1] [2] [1] [2]\r\n",
      "Chapter 1.\r\n",
      "(./deply-demo.ind) [3] (./deply-demo.aux) )\r\n"
     ]
    },
    {
     "name": "stdout",
     "output_type": "stream",
     "text": [
      "(see the transcript file for additional information)\r\n",
      "Output written on deply-demo.pdf (7 pages).\r\n",
      "Transcript written on deply-demo.log.\r\n",
      "=== TeX engine is 'XeTeX'\r\n"
     ]
    },
    {
     "name": "stdout",
     "output_type": "stream",
     "text": [
      "Latexmk: Index file 'deply-demo.idx' was written\r\n",
      "Latexmk: Log file says output to 'deply-demo.pdf'\r\n"
     ]
    },
    {
     "name": "stdout",
     "output_type": "stream",
     "text": [
      "Latexmk: applying rule 'pdflatex'...\r\n",
      "Rule 'pdflatex': File changes, etc:\r\n",
      "   Changed files, or newly in use since previous run(s):\r\n",
      "      'deply-demo.toc'\r\n",
      "------------\r\n",
      "Run number 3 of rule 'pdflatex'\r\n",
      "------------\r\n",
      "------------\r\n",
      "Running 'xelatex   -recorder  \"deply-demo.tex\"'\r\n",
      "------------\r\n"
     ]
    },
    {
     "name": "stdout",
     "output_type": "stream",
     "text": [
      "This is XeTeX, Version 3.14159265-2.6-0.99999 (TeX Live 2018) (preloaded format=xelatex)\r\n",
      " restricted \\write18 enabled.\r\n"
     ]
    },
    {
     "name": "stdout",
     "output_type": "stream",
     "text": [
      "entering extended mode\r\n",
      "(./deply-demo.tex\r\n",
      "LaTeX2e <2018-04-01> patch level 2\r\n",
      "Babel <3.18> and hyphenation patterns for 84 language(s) loaded.\r\n",
      "(./sphinxmanual.cls\r\n",
      "Document Class: sphinxmanual 2018/12/23 v2.0 Document class (Sphinx manual)\r\n",
      "(/usr/local/texlive/2018/texmf-dist/tex/latex/base/report.cls\r\n",
      "Document Class: report 2014/09/29 v1.4h Standard LaTeX document class\r\n",
      "(/usr/local/texlive/2018/texmf-dist/tex/latex/base/size11.clo)))\r\n",
      "(/usr/local/texlive/2018/texmf-dist/tex/latex/cmap/cmap.sty\r\n",
      "\r\n",
      "Package cmap Warning: pdftex not detected - exiting.\r\n",
      "\r\n",
      ") (/usr/local/texlive/2018/texmf-dist/tex/latex/fontspec/fontspec.sty\r\n",
      "(/usr/local/texlive/2018/texmf-dist/tex/latex/l3packages/xparse/xparse.sty\r\n",
      "(/usr/local/texlive/2018/texmf-dist/tex/latex/l3kernel/expl3.sty\r\n",
      "(/usr/local/texlive/2018/texmf-dist/tex/latex/l3kernel/expl3-code.tex"
     ]
    },
    {
     "name": "stdout",
     "output_type": "stream",
     "text": [
      ")\r\n",
      "(/usr/local/texlive/2018/texmf-dist/tex/latex/l3kernel/l3xdvipdfmx.def)))\r\n",
      "(/usr/local/texlive/2018/texmf-dist/tex/latex/fontspec/fontspec-xetex.sty\r\n",
      "(/usr/local/texlive/2018/texmf-dist/tex/latex/base/fontenc.sty\r\n",
      "(/usr/local/texlive/2018/texmf-dist/tex/latex/base/tuenc.def))"
     ]
    },
    {
     "name": "stdout",
     "output_type": "stream",
     "text": [
      "\r\n",
      "(/usr/local/texlive/2018/texmf-dist/tex/latex/fontspec/fontspec.cfg)))\r\n",
      "(/usr/local/texlive/2018/texmf-dist/tex/latex/amsmath/amsmath.sty\r\n",
      "For additional information on amsmath, use the `?' option.\r\n",
      "(/usr/local/texlive/2018/texmf-dist/tex/latex/amsmath/amstext.sty\r\n",
      "(/usr/local/texlive/2018/texmf-dist/tex/latex/amsmath/amsgen.sty))\r\n",
      "(/usr/local/texlive/2018/texmf-dist/tex/latex/amsmath/amsbsy.sty"
     ]
    },
    {
     "name": "stdout",
     "output_type": "stream",
     "text": [
      ")\r\n",
      "(/usr/local/texlive/2018/texmf-dist/tex/latex/amsmath/amsopn.sty))\r\n",
      "(/usr/local/texlive/2018/texmf-dist/tex/latex/amsfonts/amssymb.sty\r\n",
      "(/usr/local/texlive/2018/texmf-dist/tex/latex/amsfonts/amsfonts.sty))\r\n",
      "(/usr/local/texlive/2018/texmf-dist/tex/latex/polyglossia/polyglossia.sty\r\n",
      "(/usr/local/texlive/2018/texmf-dist/tex/latex/etoolbox/etoolbox.sty)\r\n",
      "(/usr/local/texlive/2018/texmf-dist/tex/latex/makecmds/makecmds.sty)\r\n",
      "(/usr/local/texlive/2018/texmf-dist/tex/latex/xkeyval/xkeyval.sty\r\n",
      "(/usr/local/texlive/2018/texmf-dist/tex/generic/xkeyval/xkeyval.tex\r\n",
      "(/usr/local/texlive/2018/texmf-dist/tex/generic/xkeyval/xkvutils.tex\r\n",
      "(/usr/local/texlive/2018/texmf-dist/tex/generic/xkeyval/keyval.tex))))\r\n",
      "(/usr/local/texlive/2018/texmf-dist/tex/generic/oberdiek/ifluatex.sty)\r\n",
      "(/usr/local/texlive/2018/texmf-dist/tex/generic/ifxetex/ifxetex.sty))\r\n",
      "(/usr/local/texlive/2018/texmf-dist/tex/latex/polyglossia/gloss-english.ldf)"
     ]
    },
    {
     "name": "stdout",
     "output_type": "stream",
     "text": [
      "\r\n",
      "(/usr/local/texlive/2018/texmf-dist/tex/latex/fncychap/fncychap.sty)\r\n",
      "(./sphinx.sty\r\n",
      "(/usr/local/texlive/2018/texmf-dist/tex/generic/oberdiek/ltxcmds.sty)\r\n",
      "(/usr/local/texlive/2018/texmf-dist/tex/latex/graphics/graphicx.sty\r\n",
      "(/usr/local/texlive/2018/texmf-dist/tex/latex/graphics/graphics.sty\r\n",
      "(/usr/local/texlive/2018/texmf-dist/tex/latex/graphics/trig.sty)\r\n",
      "(/usr/local/texlive/2018/texmf-dist/tex/latex/graphics-cfg/graphics.cfg)\r\n",
      "(/usr/local/texlive/2018/texmf-dist/tex/latex/graphics-def/xetex.def)))\r\n",
      "(/usr/local/texlive/2018/texmf-dist/tex/latex/fancyhdr/fancyhdr.sty)\r\n",
      "(/usr/local/texlive/2018/texmf-dist/tex/latex/base/textcomp.sty\r\n",
      "(/usr/local/texlive/2018/texmf-dist/tex/latex/base/ts1enc.def))\r\n",
      "(/usr/local/texlive/2018/texmf-dist/tex/latex/titlesec/titlesec.sty)\r\n",
      "(/usr/local/texlive/2018/texmf-dist/tex/latex/tabulary/tabulary.sty\r\n",
      "(/usr/local/texlive/2018/texmf-dist/tex/latex/tools/array.sty))\r\n",
      "(/usr/local/texlive/2018/texmf-dist/tex/latex/tools/longtable.sty)\r\n",
      "(/usr/local/texlive/2018/texmf-dist/tex/latex/varwidth/varwidth.sty)\r\n",
      "(./sphinxmulticell.sty)\r\n",
      "(/usr/local/texlive/2018/texmf-dist/tex/latex/base/makeidx.sty)\r\n",
      "(/usr/local/texlive/2018/texmf-dist/tex/latex/framed/framed.sty)\r\n",
      "(/usr/local/texlive/2018/texmf-dist/tex/latex/xcolor/xcolor.sty\r\n",
      "(/usr/local/texlive/2018/texmf-dist/tex/latex/graphics-cfg/color.cfg))\r\n",
      "(/usr/local/texlive/2018/texmf-dist/tex/latex/fancyvrb/fancyvrb.sty\r\n",
      "Style option: `fancyvrb' v2.7a, with DG/SPQR fixes, and firstline=lastline fix \r\n",
      "<2008/02/07> (tvz)) (./footnotehyper-sphinx.sty)\r\n",
      "(/usr/local/texlive/2018/texmf-dist/tex/latex/float/float.sty)\r\n",
      "(/usr/local/texlive/2018/texmf-dist/tex/latex/wrapfig/wrapfig.sty)\r\n",
      "(/usr/local/texlive/2018/texmf-dist/tex/latex/parskip/parskip.sty)\r\n",
      "(/usr/local/texlive/2018/texmf-dist/tex/latex/base/alltt.sty)\r\n",
      "(/usr/local/texlive/2018/texmf-dist/tex/latex/upquote/upquote.sty)\r\n",
      "(/usr/local/texlive/2018/texmf-dist/tex/latex/capt-of/capt-of.sty)\r\n",
      "(/usr/local/texlive/2018/texmf-dist/tex/latex/needspace/needspace.sty)\r\n",
      "(./sphinxhighlight.sty)\r\n",
      "(/usr/local/texlive/2018/texmf-dist/tex/latex/oberdiek/kvoptions.sty\r\n",
      "(/usr/local/texlive/2018/texmf-dist/tex/generic/oberdiek/kvsetkeys.sty\r\n",
      "(/usr/local/texlive/2018/texmf-dist/tex/generic/oberdiek/infwarerr.sty)\r\n",
      "(/usr/local/texlive/2018/texmf-dist/tex/generic/oberdiek/etexcmds.sty))))\r\n",
      "(/usr/local/texlive/2018/texmf-dist/tex/latex/geometry/geometry.sty\r\n",
      "(/usr/local/texlive/2018/texmf-dist/tex/generic/oberdiek/ifpdf.sty)\r\n",
      "(/usr/local/texlive/2018/texmf-dist/tex/generic/oberdiek/ifvtex.sty))\r\n",
      "(/usr/local/texlive/2018/texmf-dist/tex/latex/hyperref/hyperref.sty\r\n",
      "(/usr/local/texlive/2018/texmf-dist/tex/generic/oberdiek/hobsub-hyperref.sty\r\n",
      "(/usr/local/texlive/2018/texmf-dist/tex/generic/oberdiek/hobsub-generic.sty"
     ]
    },
    {
     "name": "stdout",
     "output_type": "stream",
     "text": [
      "))\r\n",
      "(/usr/local/texlive/2018/texmf-dist/tex/latex/oberdiek/auxhook.sty)\r\n",
      "(/usr/local/texlive/2018/texmf-dist/tex/latex/hyperref/pd1enc.def)\r\n",
      "(/usr/local/texlive/2018/texmf-dist/tex/latex/latexconfig/hyperref.cfg)\r\n",
      "(/usr/local/texlive/2018/texmf-dist/tex/latex/hyperref/puenc.def)\r\n",
      "(/usr/local/texlive/2018/texmf-dist/tex/latex/url/url.sty))\r\n",
      "(/usr/local/texlive/2018/texmf-dist/tex/latex/hyperref/hxetex.def\r\n",
      "(/usr/local/texlive/2018/texmf-dist/tex/generic/oberdiek/stringenc.sty)\r\n",
      "(/usr/local/texlive/2018/texmf-dist/tex/latex/oberdiek/rerunfilecheck.sty))\r\n",
      "(/usr/local/texlive/2018/texmf-dist/tex/latex/oberdiek/hypcap.sty)\r\n",
      "(./sphinxmessages.sty)\r\n",
      "(/usr/local/texlive/2018/texmf-dist/tex/latex/blindtext/blindtext.sty\r\n",
      "(/usr/local/texlive/2018/texmf-dist/tex/latex/tools/xspace.sty))\r\n",
      "(/usr/local/texlive/2018/texmf-dist/tex/latex/natbib/natbib.sty)\r\n",
      "(/usr/local/texlive/2018/texmf-dist/tex/latex/minted/minted.sty\r\n",
      "(/usr/local/texlive/2018/texmf-dist/tex/latex/fvextra/fvextra.sty\r\n",
      "(/usr/local/texlive/2018/texmf-dist/tex/latex/base/ifthen.sty)\r\n",
      "(/usr/local/texlive/2018/texmf-dist/tex/latex/lineno/lineno.sty"
     ]
    },
    {
     "name": "stdout",
     "output_type": "stream",
     "text": [
      "))\r\n",
      "(/usr/local/texlive/2018/texmf-dist/tex/latex/tools/calc.sty)\r\n",
      "(/usr/local/texlive/2018/texmf-dist/tex/latex/tools/shellesc.sty)\r\n",
      "(/usr/local/texlive/2018/texmf-dist/tex/latex/ifplatform/ifplatform.sty\r\n",
      "(/usr/local/texlive/2018/texmf-dist/tex/generic/oberdiek/catchfile.sty)\r\n",
      "\r\n",
      "Package ifplatform Warning: \r\n",
      "    shell escape is disabled, so I can only detect \\ifwindows.\r\n",
      "\r\n",
      ") (/usr/local/texlive/2018/texmf-dist/tex/generic/xstring/xstring.sty\r\n",
      "(/usr/local/texlive/2018/texmf-dist/tex/generic/xstring/xstring.tex)))\r\n",
      "Writing index file deply-demo.idx\r\n",
      "(./deply-demo.aux) (/usr/local/texlive/2018/texmf-dist/tex/latex/base/ts1cmr.fd\r\n",
      ")\r\n",
      "*geometry* driver: auto-detecting\r\n",
      "*geometry* detected driver: xetex\r\n",
      "(/usr/local/texlive/2018/texmf-dist/tex/latex/hyperref/nameref.sty\r\n",
      "(/usr/local/texlive/2018/texmf-dist/tex/generic/oberdiek/gettitlestring.sty))\r\n",
      "(./deply-demo.out) (./deply-demo.out)\r\n",
      "(/usr/local/texlive/2018/texmf-dist/tex/latex/amsfonts/umsa.fd)\r\n",
      "(/usr/local/texlive/2018/texmf-dist/tex/latex/amsfonts/umsb.fd) [1] [2]\r\n",
      "(./deply-demo.toc"
     ]
    },
    {
     "name": "stdout",
     "output_type": "stream",
     "text": [
      ") [1] [2] [1] [2]\r\n",
      "Chapter 1.\r\n",
      "(./deply-demo.ind) [3] (./deply-demo.aux) )\r\n"
     ]
    },
    {
     "name": "stdout",
     "output_type": "stream",
     "text": [
      "(see the transcript file for additional information)\r\n",
      "Output written on deply-demo.pdf (7 pages).\r\n",
      "Transcript written on deply-demo.log.\r\n"
     ]
    },
    {
     "name": "stdout",
     "output_type": "stream",
     "text": [
      "=== TeX engine is 'XeTeX'\r\n"
     ]
    },
    {
     "name": "stdout",
     "output_type": "stream",
     "text": [
      "Latexmk: Index file 'deply-demo.idx' was written\r\n",
      "Latexmk: Log file says output to 'deply-demo.pdf'\r\n",
      "Latexmk: All targets (deply-demo.pdf) are up-to-date\r\n",
      "[d2lbook:build.py:L236] INFO   \"d2lbook build pdf\" finished in 00:00:04\r\n"
     ]
    }
   ],
   "source": [
    "!cd deploy; d2lbook build html pdf"
   ]
  },
  {
   "cell_type": "markdown",
   "metadata": {},
   "source": [
    "To deploy to Github, you need to have your machine's [SSH key imported to Github](https://github.com/settings/keys). Otherwise, you may need to type in your account and password. When it is done, you can assess the results online in one or two minutes. For this example, the URL is [/d2l-ai.github.io/d2l-book-deploy-demo/](https://d2l-ai.github.io/d2l-book-deploy-demo/)."
   ]
  },
  {
   "cell_type": "code",
   "execution_count": 6,
   "metadata": {},
   "outputs": [
    {
     "name": "stdout",
     "output_type": "stream",
     "text": [
      "[d2lbook:config.py:L12] INFO   Load configure from config.ini\r\n",
      "[d2lbook:utils.py:L124] INFO   Run \"cp -r _build/html/* _build/github_deploy\"\r\n"
     ]
    },
    {
     "name": "stdout",
     "output_type": "stream",
     "text": [
      "[d2lbook:utils.py:L124] INFO   Run \"bash /Users/mli/d2l-book/d2lbook/upload_github.sh _build/github_deploy d2l-ai/d2l-book-deploy-demo\"\r\n",
      "Cloning into '/Users/mli/d2l-book/docs/_build/eval/user/deploy/_build/github_deploy-git'...\r\n"
     ]
    },
    {
     "name": "stdout",
     "output_type": "stream",
     "text": [
      "remote: Enumerating objects: 449, done.\u001b[K\r\n",
      "remote: Counting objects:   0% (1/449)\u001b[K\r",
      "remote: Counting objects:   1% (5/449)\u001b[K\r",
      "remote: Counting objects:   2% (9/449)\u001b[K\r",
      "remote: Counting objects:   3% (14/449)\u001b[K\r",
      "remote: Counting objects:   4% (18/449)\u001b[K\r",
      "remote: Counting objects:   5% (23/449)\u001b[K\r",
      "remote: Counting objects:   6% (27/449)\u001b[K\r",
      "remote: Counting objects:   7% (32/449)\u001b[K\r",
      "remote: Counting objects:   8% (36/449)\u001b[K\r",
      "remote: Counting objects:   9% (41/449)\u001b[K\r",
      "remote: Counting objects:  10% (45/449)\u001b[K\r",
      "remote: Counting objects:  11% (50/449)\u001b[K\r",
      "remote: Counting objects:  12% (54/449)\u001b[K\r",
      "remote: Counting objects:  13% (59/449)\u001b[K\r",
      "remote: Counting objects:  14% (63/449)\u001b[K\r",
      "remote: Counting objects:  15% (68/449)\u001b[K\r",
      "remote: Counting objects:  16% (72/449)\u001b[K\r",
      "remote: Counting objects:  17% (77/449)\u001b[K\r",
      "remote: Counting objects:  18% (81/449)\u001b[K\r",
      "remote: Counting objects:  19% (86/449)\u001b[K\r",
      "remote: Counting objects:  20% (90/449)\u001b[K\r",
      "remote: Counting objects:  21% (95/449)\u001b[K\r",
      "remote: Counting objects:  22% (99/449)\u001b[K\r",
      "remote: Counting objects:  23% (104/449)\r",
      "remote: Counting objects:  24% (108/449)\u001b[K\r",
      "remote: Counting objects:  25% (113/449)\u001b[K\r",
      "remote: Counting objects:  26% (117/449)\u001b[K\r",
      "remote: Counting objects:  27% (122/449)\u001b[K\r",
      "remote: Counting objects:  28% (126/449)\u001b[K\r",
      "remote: Counting objects:  29% (131/449)\u001b[K\r",
      "remote: Counting objects:  30% (135/449)\u001b[K\r",
      "remote: Counting objects:  31% (140/449)\u001b[K\r",
      "remote: Counting objects:  32% (144/449)\u001b[K\r",
      "remote: Counting objects:  33% (149/449)\u001b[K\r",
      "remote: Counting objects:  34% (153/449)\u001b[K\r",
      "remote: Counting objects:  35% (158/449)\u001b[K\r",
      "remote: Counting objects:  36% (162/449)\u001b[K\r",
      "remote: Counting objects:  37% (167/449)\u001b[K\r",
      "remote: Counting objects:  38% (171/449)\u001b[K\r",
      "remote: Counting objects:  39% (176/449)\u001b[K\r",
      "remote: Counting objects:  40% (180/449)\u001b[K\r",
      "remote: Counting objects:  41% (185/449)\u001b[K\r",
      "remote: Counting objects:  42% (189/449)\u001b[K\r",
      "remote: Counting objects:  43% (194/449)\u001b[K\r",
      "remote: Counting objects:  44% (198/449)\u001b[K\r",
      "remote: Counting objects:  45% (203/449)\u001b[K\r",
      "remote: Counting objects:  46% (207/449)\u001b[K\r",
      "remote: Counting objects:  47% (212/449)\u001b[K\r",
      "remote: Counting objects:  48% (216/449)\u001b[K\r",
      "remote: Counting objects:  49% (221/449)\u001b[K\r",
      "remote: Counting objects:  50% (225/449)\u001b[K\r",
      "remote: Counting objects:  51% (229/449)\u001b[K\r",
      "remote: Counting objects:  52% (234/449)\u001b[K\r",
      "remote: Counting objects:  53% (238/449)\u001b[K\r",
      "remote: Counting objects:  54% (243/449)\u001b[K\r",
      "remote: Counting objects:  55% (247/449)\u001b[K\r",
      "remote: Counting objects:  56% (252/449)\u001b[K\r",
      "remote: Counting objects:  57% (256/449)\u001b[K\r",
      "remote: Counting objects:  58% (261/449)\u001b[K\r",
      "remote: Counting objects:  59% (265/449)\u001b[K\r",
      "remote: Counting objects:  60% (270/449)\u001b[K\r",
      "remote: Counting objects:  61% (274/449)\u001b[K\r",
      "remote: Counting objects:  62% (279/449)\u001b[K\r",
      "remote: Counting objects:  63% (283/449)\u001b[K\r",
      "remote: Counting objects:  64% (288/449)\u001b[K\r",
      "remote: Counting objects:  65% (292/449)\u001b[K\r",
      "remote: Counting objects:  66% (297/449)\u001b[K\r",
      "remote: Counting objects:  67% (301/449)\u001b[K\r",
      "remote: Counting objects:  68% (306/449)\u001b[K\r",
      "remote: Counting objects:  69% (310/449)\u001b[K\r",
      "remote: Counting objects:  70% (315/449)\u001b[K\r",
      "remote: Counting objects:  71% (319/449)\u001b[K\r",
      "remote: Counting objects:  72% (324/449)\u001b[K\r",
      "remote: Counting objects:  73% (328/449)\u001b[K\r",
      "remote: Counting objects:  74% (333/449)\u001b[K\r",
      "remote: Counting objects:  75% (337/449)\u001b[K\r",
      "remote: Counting objects:  76% (342/449)\u001b[K\r",
      "remote: Counting objects:  77% (346/449)\u001b[K\r",
      "remote: Counting objects:  78% (351/449)\u001b[K\r",
      "remote: Counting objects:  79% (355/449)\u001b[K\r",
      "remote: Counting objects:  80% (360/449)\u001b[K\r",
      "remote: Counting objects:  81% (364/449)\u001b[K\r",
      "remote: Counting objects:  82% (369/449)\u001b[K\r",
      "remote: Counting objects:  83% (373/449)\u001b[K\r",
      "remote: Counting objects:  84% (378/449)\u001b[K\r",
      "remote: Counting objects:  85% (382/449)\u001b[K\r",
      "remote: Counting objects:  86% (387/449)\u001b[K\r",
      "remote: Counting objects:  87% (391/449)\u001b[K\r",
      "remote: Counting objects:  88% (396/449)\u001b[K\r",
      "remote: Counting objects:  89% (400/449)\u001b[K\r",
      "remote: Counting objects:  90% (405/449)\u001b[K\r",
      "remote: Counting objects:  91% (409/449)\u001b[K\r",
      "remote: Counting objects:  92% (414/449)\u001b[K\r",
      "remote: Counting objects:  93% (418/449)\u001b[K\r",
      "remote: Counting objects:  94% (423/449)\u001b[K\r",
      "remote: Counting objects:  95% (427/449)\u001b[K\r",
      "remote: Counting objects:  96% (432/449)\u001b[K\r",
      "remote: Counting objects:  97% (436/449)\u001b[K\r",
      "remote: Counting objects:  98% (441/449)\u001b[K\r",
      "remote: Counting objects:  99% (445/449)\u001b[K\r",
      "remote: Counting objects: 100% (449/449)\u001b[K\r"
     ]
    },
    {
     "name": "stdout",
     "output_type": "stream",
     "text": [
      "remote: Counting objects: 100% (449/449), done.\u001b[K\r\n",
      "remote: Compressing objects:   0% (1/139)\u001b[K\r",
      "remote: Compressing objects:   1% (2/139)\u001b[K\r",
      "remote: Compressing objects:   2% (3/139)\u001b[K\r",
      "remote: Compressing objects:   3% (5/139)\u001b[K\r",
      "remote: Compressing objects:   4% (6/139)\u001b[K\r",
      "remote: Compressing objects:   5% (7/139)\u001b[K\r",
      "remote: Compressing objects:   6% (9/139)\u001b[K\r",
      "remote: Compressing objects:   7% (10/139)\u001b[K\r",
      "remote: Compressing objects:   8% (12/139)\u001b[K\r",
      "remote: Compressing objects:   9% (13/139)\u001b[K\r",
      "remote: Compressing objects:  10% (14/139)\u001b[K\r",
      "remote: Compressing objects:  11% (16/139)\u001b[K\r",
      "remote: Compressing objects:  12% (17/139)\u001b[K\r",
      "remote: Compressing objects:  13% (19/139)\u001b[K\r",
      "remote: Compressing objects:  14% (20/139)\u001b[K\r",
      "remote: Compressing objects:  15% (21/139)\u001b[K\r",
      "remote: Compressing objects:  16% (23/139)\u001b[K\r",
      "remote: Compressing objects:  17% (24/139)\u001b[K\r",
      "remote: Compressing objects:  18% (26/139)\u001b[K\r",
      "remote: Compressing objects:  19% (27/139)\u001b[K\r",
      "remote: Compressing objects:  20% (28/139)\u001b[K\r",
      "remote: Compressing objects:  21% (30/139)\u001b[K\r",
      "remote: Compressing objects:  22% (31/139)\u001b[K\r",
      "remote: Compressing objects:  23% (32/139)\u001b[K\r",
      "remote: Compressing objects:  24% (34/139)\u001b[K\r",
      "remote: Compressing objects:  25% (35/139)\u001b[K\r",
      "remote: Compressing objects:  26% (37/139)\u001b[K\r",
      "remote: Compressing objects:  27% (38/139)\u001b[K\r",
      "remote: Compressing objects:  28% (39/139)\u001b[K\r",
      "remote: Compressing objects:  29% (41/139)\u001b[K\r",
      "remote: Compressing objects:  30% (42/139)\u001b[K\r",
      "remote: Compressing objects:  31% (44/139)\u001b[K\r",
      "remote: Compressing objects:  32% (45/139)\u001b[K\r",
      "remote: Compressing objects:  33% (46/139)\u001b[K\r",
      "remote: Compressing objects:  34% (48/139)\u001b[K\r",
      "remote: Compressing objects:  35% (49/139)\u001b[K\r",
      "remote: Compressing objects:  36% (51/139)\u001b[K\r",
      "remote: Compressing objects:  37% (52/139)\u001b[K\r",
      "remote: Compressing objects:  38% (53/139)\u001b[K\r",
      "remote: Compressing objects:  39% (55/139)\u001b[K\r",
      "remote: Compressing objects:  40% (56/139)\u001b[K\r",
      "remote: Compressing objects:  41% (57/139)\r",
      "remote: Compressing objects:  42% (59/139)\u001b[K\r",
      "remote: Compressing objects:  43% (60/139)\u001b[K\r",
      "remote: Compressing objects:  44% (62/139)\u001b[K\r",
      "remote: Compressing objects:  45% (63/139)\u001b[K\r",
      "remote: Compressing objects:  46% (64/139)\u001b[K\r",
      "remote: Compressing objects:  47% (66/139)\u001b[K\r",
      "remote: Compressing objects:  48% (67/139)\u001b[K\r",
      "remote: Compressing objects:  49% (69/139)\u001b[K\r",
      "remote: Compressing objects:  50% (70/139)\u001b[K\r",
      "remote: Compressing objects:  51% (71/139)\u001b[K\r",
      "remote: Compressing objects:  52% (73/139)\u001b[K\r",
      "remote: Compressing objects:  53% (74/139)\u001b[K\r",
      "remote: Compressing objects:  54% (76/139)\u001b[K\r",
      "remote: Compressing objects:  55% (77/139)\u001b[K\r",
      "remote: Compressing objects:  56% (78/139)\u001b[K\r"
     ]
    },
    {
     "name": "stdout",
     "output_type": "stream",
     "text": [
      "remote: Compressing objects:  57% (80/139)\u001b[K\r",
      "remote: Compressing objects:  58% (81/139)\u001b[K\r",
      "remote: Compressing objects:  59% (83/139)\u001b[K\r",
      "remote: Compressing objects:  60% (84/139)\u001b[K\r",
      "remote: Compressing objects:  61% (85/139)\u001b[K\r",
      "remote: Compressing objects:  62% (87/139)\u001b[K\r",
      "remote: Compressing objects:  63% (88/139)\u001b[K\r",
      "remote: Compressing objects:  64% (89/139)\u001b[K\r",
      "remote: Compressing objects:  65% (91/139)\u001b[K\r",
      "remote: Compressing objects:  66% (92/139)\u001b[K\r",
      "remote: Compressing objects:  67% (94/139)\u001b[K\r",
      "remote: Compressing objects:  68% (95/139)\u001b[K\r",
      "remote: Compressing objects:  69% (96/139)\u001b[K\r",
      "remote: Compressing objects:  70% (98/139)\u001b[K\r",
      "remote: Compressing objects:  71% (99/139)\u001b[K\r",
      "remote: Compressing objects:  72% (101/139)\u001b[K\r",
      "remote: Compressing objects:  73% (102/139)\u001b[K\r",
      "remote: Compressing objects:  74% (103/139)\u001b[K\r",
      "remote: Compressing objects:  75% (105/139)\u001b[K\r",
      "remote: Compressing objects:  76% (106/139)\u001b[K\r",
      "remote: Compressing objects:  77% (108/139)\u001b[K\r",
      "remote: Compressing objects:  78% (109/139)\u001b[K\r",
      "remote: Compressing objects:  79% (110/139)\u001b[K\r",
      "remote: Compressing objects:  80% (112/139)\u001b[K\r",
      "remote: Compressing objects:  81% (113/139)\u001b[K\r",
      "remote: Compressing objects:  82% (114/139)\u001b[K\r",
      "remote: Compressing objects:  83% (116/139)\u001b[K\r",
      "remote: Compressing objects:  84% (117/139)\u001b[K\r",
      "remote: Compressing objects:  85% (119/139)\u001b[K\r",
      "remote: Compressing objects:  86% (120/139)\u001b[K\r",
      "remote: Compressing objects:  87% (121/139)\u001b[K\r",
      "remote: Compressing objects:  88% (123/139)\u001b[K\r",
      "remote: Compressing objects:  89% (124/139)\u001b[K\r",
      "remote: Compressing objects:  90% (126/139)\u001b[K\r",
      "remote: Compressing objects:  91% (127/139)\u001b[K\r",
      "remote: Compressing objects:  92% (128/139)\u001b[K\r",
      "remote: Compressing objects:  93% (130/139)\u001b[K\r",
      "remote: Compressing objects:  94% (131/139)\u001b[K\r",
      "remote: Compressing objects:  95% (133/139)\u001b[K\r",
      "remote: Compressing objects:  96% (134/139)\u001b[K\r",
      "remote: Compressing objects:  97% (135/139)\u001b[K\r",
      "remote: Compressing objects:  98% (137/139)\u001b[K\r",
      "remote: Compressing objects:  99% (138/139)\u001b[K\r",
      "remote: Compressing objects: 100% (139/139)\u001b[K\r",
      "remote: Compressing objects: 100% (139/139), done.\u001b[K\r\n",
      "Receiving objects:   0% (1/449)   \r",
      "Receiving objects:   1% (5/449)   \r",
      "Receiving objects:   2% (9/449)   \r",
      "Receiving objects:   3% (14/449)   \r",
      "Receiving objects:   4% (18/449)   \r",
      "Receiving objects:   5% (23/449)   \r",
      "Receiving objects:   6% (27/449)   \r",
      "Receiving objects:   7% (32/449)   \r",
      "Receiving objects:   8% (36/449)   \r",
      "Receiving objects:   9% (41/449)   \r"
     ]
    },
    {
     "name": "stdout",
     "output_type": "stream",
     "text": [
      "Receiving objects:  10% (45/449)   \r"
     ]
    },
    {
     "name": "stdout",
     "output_type": "stream",
     "text": [
      "Receiving objects:  11% (50/449)   \r",
      "Receiving objects:  12% (54/449)   \r"
     ]
    },
    {
     "name": "stdout",
     "output_type": "stream",
     "text": [
      "Receiving objects:  13% (59/449), 484.00 KiB | 844.00 KiB/s   \r"
     ]
    },
    {
     "name": "stdout",
     "output_type": "stream",
     "text": [
      "Receiving objects:  14% (63/449), 484.00 KiB | 844.00 KiB/s   \r",
      "Receiving objects:  15% (68/449), 484.00 KiB | 844.00 KiB/s   \r"
     ]
    },
    {
     "name": "stdout",
     "output_type": "stream",
     "text": [
      "Receiving objects:  16% (72/449), 484.00 KiB | 844.00 KiB/s   \r",
      "Receiving objects:  17% (77/449), 484.00 KiB | 844.00 KiB/s   \r",
      "Receiving objects:  18% (81/449), 484.00 KiB | 844.00 KiB/s   \r",
      "Receiving objects:  19% (86/449), 484.00 KiB | 844.00 KiB/s   \r",
      "Receiving objects:  20% (90/449), 484.00 KiB | 844.00 KiB/s   \r",
      "Receiving objects:  21% (95/449), 484.00 KiB | 844.00 KiB/s   \r",
      "Receiving objects:  22% (99/449), 484.00 KiB | 844.00 KiB/s   \r",
      "Receiving objects:  23% (104/449), 484.00 KiB | 844.00 KiB/s   \r"
     ]
    },
    {
     "name": "stdout",
     "output_type": "stream",
     "text": [
      "Receiving objects:  24% (108/449), 484.00 KiB | 844.00 KiB/s   \r",
      "Receiving objects:  25% (113/449), 484.00 KiB | 844.00 KiB/s   \r",
      "Receiving objects:  26% (117/449), 484.00 KiB | 844.00 KiB/s   \r",
      "Receiving objects:  27% (122/449), 484.00 KiB | 844.00 KiB/s   \r",
      "Receiving objects:  28% (126/449), 484.00 KiB | 844.00 KiB/s   \r",
      "Receiving objects:  29% (131/449), 484.00 KiB | 844.00 KiB/s   \r",
      "Receiving objects:  30% (135/449), 484.00 KiB | 844.00 KiB/s   \r",
      "Receiving objects:  31% (140/449), 484.00 KiB | 844.00 KiB/s   \r",
      "Receiving objects:  32% (144/449), 484.00 KiB | 844.00 KiB/s   \r",
      "Receiving objects:  33% (149/449), 484.00 KiB | 844.00 KiB/s   \r"
     ]
    },
    {
     "name": "stdout",
     "output_type": "stream",
     "text": [
      "Receiving objects:  34% (153/449), 484.00 KiB | 844.00 KiB/s   \r",
      "Receiving objects:  35% (158/449), 484.00 KiB | 844.00 KiB/s   \r",
      "Receiving objects:  36% (162/449), 484.00 KiB | 844.00 KiB/s   \r",
      "Receiving objects:  37% (167/449), 484.00 KiB | 844.00 KiB/s   \r",
      "Receiving objects:  38% (171/449), 484.00 KiB | 844.00 KiB/s   \r",
      "Receiving objects:  39% (176/449), 484.00 KiB | 844.00 KiB/s   \r",
      "Receiving objects:  40% (180/449), 484.00 KiB | 844.00 KiB/s   \r",
      "Receiving objects:  41% (185/449), 484.00 KiB | 844.00 KiB/s   \r",
      "Receiving objects:  42% (189/449), 484.00 KiB | 844.00 KiB/s   \r",
      "Receiving objects:  43% (194/449), 484.00 KiB | 844.00 KiB/s   \r",
      "Receiving objects:  44% (198/449), 484.00 KiB | 844.00 KiB/s   \r",
      "Receiving objects:  45% (203/449), 484.00 KiB | 844.00 KiB/s   \r",
      "Receiving objects:  46% (207/449), 484.00 KiB | 844.00 KiB/s   \r",
      "Receiving objects:  47% (212/449), 484.00 KiB | 844.00 KiB/s   \r",
      "Receiving objects:  48% (216/449), 484.00 KiB | 844.00 KiB/s   \r",
      "Receiving objects:  49% (221/449), 484.00 KiB | 844.00 KiB/s   \r",
      "Receiving objects:  50% (225/449), 484.00 KiB | 844.00 KiB/s   \r"
     ]
    },
    {
     "name": "stdout",
     "output_type": "stream",
     "text": [
      "Receiving objects:  51% (229/449), 484.00 KiB | 844.00 KiB/s   \r",
      "Receiving objects:  52% (234/449), 484.00 KiB | 844.00 KiB/s   \r",
      "Receiving objects:  53% (238/449), 484.00 KiB | 844.00 KiB/s   \r",
      "Receiving objects:  54% (243/449), 484.00 KiB | 844.00 KiB/s   \r",
      "Receiving objects:  55% (247/449), 484.00 KiB | 844.00 KiB/s   \r",
      "Receiving objects:  56% (252/449), 484.00 KiB | 844.00 KiB/s   \r",
      "Receiving objects:  57% (256/449), 484.00 KiB | 844.00 KiB/s   \r",
      "Receiving objects:  58% (261/449), 484.00 KiB | 844.00 KiB/s   \r",
      "Receiving objects:  59% (265/449), 484.00 KiB | 844.00 KiB/s   \r",
      "Receiving objects:  60% (270/449), 484.00 KiB | 844.00 KiB/s   \r",
      "Receiving objects:  61% (274/449), 484.00 KiB | 844.00 KiB/s   \r",
      "Receiving objects:  62% (279/449), 484.00 KiB | 844.00 KiB/s   \r",
      "Receiving objects:  63% (283/449), 484.00 KiB | 844.00 KiB/s   \r"
     ]
    },
    {
     "name": "stdout",
     "output_type": "stream",
     "text": [
      "Receiving objects:  63% (287/449), 484.00 KiB | 844.00 KiB/s   \r",
      "Receiving objects:  64% (288/449), 484.00 KiB | 844.00 KiB/s   \r",
      "Receiving objects:  65% (292/449), 484.00 KiB | 844.00 KiB/s   \r",
      "Receiving objects:  66% (297/449), 484.00 KiB | 844.00 KiB/s   \r",
      "Receiving objects:  67% (301/449), 484.00 KiB | 844.00 KiB/s   \r",
      "Receiving objects:  68% (306/449), 484.00 KiB | 844.00 KiB/s   \r",
      "Receiving objects:  69% (310/449), 484.00 KiB | 844.00 KiB/s   \r",
      "Receiving objects:  70% (315/449), 484.00 KiB | 844.00 KiB/s   \r",
      "Receiving objects:  71% (319/449), 484.00 KiB | 844.00 KiB/s   \r",
      "Receiving objects:  72% (324/449), 484.00 KiB | 844.00 KiB/s   \r",
      "Receiving objects:  73% (328/449), 484.00 KiB | 844.00 KiB/s   \r",
      "Receiving objects:  74% (333/449), 484.00 KiB | 844.00 KiB/s   \r",
      "Receiving objects:  75% (337/449), 484.00 KiB | 844.00 KiB/s   \r",
      "Receiving objects:  76% (342/449), 484.00 KiB | 844.00 KiB/s   \r",
      "Receiving objects:  77% (346/449), 484.00 KiB | 844.00 KiB/s   \r",
      "Receiving objects:  78% (351/449), 484.00 KiB | 844.00 KiB/s   \r",
      "Receiving objects:  79% (355/449), 484.00 KiB | 844.00 KiB/s   \r",
      "Receiving objects:  80% (360/449), 484.00 KiB | 844.00 KiB/s   \r",
      "Receiving objects:  81% (364/449), 484.00 KiB | 844.00 KiB/s   \r"
     ]
    },
    {
     "name": "stdout",
     "output_type": "stream",
     "text": [
      "Receiving objects:  82% (369/449), 1.25 MiB | 1.16 MiB/s   \r"
     ]
    },
    {
     "name": "stdout",
     "output_type": "stream",
     "text": [
      "Receiving objects:  83% (373/449), 1.25 MiB | 1.16 MiB/s   \r"
     ]
    },
    {
     "name": "stdout",
     "output_type": "stream",
     "text": [
      "Receiving objects:  84% (378/449), 1.25 MiB | 1.16 MiB/s   \r"
     ]
    },
    {
     "name": "stdout",
     "output_type": "stream",
     "text": [
      "Receiving objects:  85% (382/449), 1.25 MiB | 1.16 MiB/s   \r"
     ]
    },
    {
     "name": "stdout",
     "output_type": "stream",
     "text": [
      "Receiving objects:  86% (387/449), 2.19 MiB | 1.35 MiB/s   \r"
     ]
    },
    {
     "name": "stdout",
     "output_type": "stream",
     "text": [
      "Receiving objects:  87% (391/449), 2.19 MiB | 1.35 MiB/s   \r",
      "Receiving objects:  88% (396/449), 2.19 MiB | 1.35 MiB/s   \r",
      "Receiving objects:  89% (400/449), 2.19 MiB | 1.35 MiB/s   \r",
      "Receiving objects:  90% (405/449), 2.19 MiB | 1.35 MiB/s   \r",
      "Receiving objects:  91% (409/449), 2.19 MiB | 1.35 MiB/s   \r",
      "Receiving objects:  92% (414/449), 2.19 MiB | 1.35 MiB/s   \r",
      "Receiving objects:  93% (418/449), 2.19 MiB | 1.35 MiB/s   \r",
      "Receiving objects:  94% (423/449), 2.19 MiB | 1.35 MiB/s   \r",
      "Receiving objects:  95% (427/449), 2.19 MiB | 1.35 MiB/s   \r",
      "Receiving objects:  96% (432/449), 2.19 MiB | 1.35 MiB/s   \r",
      "Receiving objects:  97% (436/449), 2.19 MiB | 1.35 MiB/s   \r",
      "Receiving objects:  98% (441/449), 2.19 MiB | 1.35 MiB/s   \r",
      "remote: Total 449 (delta 325), reused 425 (delta 304), pack-reused 0\u001b[K\r\n",
      "Receiving objects:  99% (445/449), 2.19 MiB | 1.35 MiB/s   \r",
      "Receiving objects: 100% (449/449), 2.19 MiB | 1.35 MiB/s   \r",
      "Receiving objects: 100% (449/449), 2.91 MiB | 1.59 MiB/s, done.\r\n",
      "Resolving deltas:   0% (0/325)   \r",
      "Resolving deltas:   1% (5/325)   \r",
      "Resolving deltas:   2% (8/325)   \r",
      "Resolving deltas:   3% (11/325)   \r",
      "Resolving deltas:   6% (22/325)   \r",
      "Resolving deltas:   7% (23/325)   \r"
     ]
    },
    {
     "name": "stdout",
     "output_type": "stream",
     "text": [
      "Resolving deltas:  36% (117/325)   \r",
      "Resolving deltas:  46% (151/325)   \r",
      "Resolving deltas:  56% (184/325)   \r",
      "Resolving deltas:  58% (189/325)   \r",
      "Resolving deltas:  84% (274/325)   \r",
      "Resolving deltas:  87% (283/325)   \r",
      "Resolving deltas:  92% (302/325)   \r",
      "Resolving deltas:  93% (304/325)   \r",
      "Resolving deltas:  97% (316/325)   \r",
      "Resolving deltas:  98% (320/325)   \r",
      "Resolving deltas:  99% (323/325)   \r",
      "Resolving deltas: 100% (325/325)   \r",
      "Resolving deltas: 100% (325/325), done.\r\n"
     ]
    },
    {
     "name": "stdout",
     "output_type": "stream",
     "text": [
      "[master e3b40ce] Uploaded by d2lbook\r\n",
      " 6 files changed, 5 insertions(+), 8 deletions(-)\r\n",
      " rewrite deply-demo.pdf (92%)\r\n"
     ]
    },
    {
     "name": "stdout",
     "output_type": "stream",
     "text": [
      "Enumerating objects: 19, done.\r\n",
      "Counting objects:   5% (1/19)   \r",
      "Counting objects:  10% (2/19)   \r",
      "Counting objects:  15% (3/19)   \r",
      "Counting objects:  21% (4/19)   \r",
      "Counting objects:  26% (5/19)   \r",
      "Counting objects:  31% (6/19)   \r",
      "Counting objects:  36% (7/19)   \r",
      "Counting objects:  42% (8/19)   \r",
      "Counting objects:  47% (9/19)   \r",
      "Counting objects:  52% (10/19)   \r",
      "Counting objects:  57% (11/19)   \r",
      "Counting objects:  63% (12/19)   \r",
      "Counting objects:  68% (13/19)   \r",
      "Counting objects:  73% (14/19)   \r",
      "Counting objects:  78% (15/19)   \r",
      "Counting objects:  84% (16/19)   \r",
      "Counting objects:  89% (17/19)   \r",
      "Counting objects:  94% (18/19)   \r",
      "Counting objects: 100% (19/19)   \r",
      "Counting objects: 100% (19/19), done.\r\n",
      "Delta compression using up to 8 threads\r\n",
      "Compressing objects:  10% (1/10)   \r",
      "Compressing objects:  20% (2/10)   \r",
      "Compressing objects:  30% (3/10)   \r",
      "Compressing objects:  40% (4/10)   \r",
      "Compressing objects:  50% (5/10)   \r",
      "Compressing objects:  60% (6/10)   \r",
      "Compressing objects:  70% (7/10)   \r",
      "Compressing objects:  80% (8/10)   \r",
      "Compressing objects:  90% (9/10)   \r",
      "Compressing objects: 100% (10/10)   \r",
      "Compressing objects: 100% (10/10), done.\r\n",
      "Writing objects:  10% (1/10)   \r",
      "Writing objects:  20% (2/10)   \r",
      "Writing objects:  30% (3/10)   \r",
      "Writing objects:  40% (4/10)   \r",
      "Writing objects:  50% (5/10)   \r",
      "Writing objects:  60% (6/10)   \r",
      "Writing objects:  70% (7/10)   \r",
      "Writing objects:  80% (8/10)   \r",
      "Writing objects:  90% (9/10)   \r",
      "Writing objects: 100% (10/10)   \r",
      "Writing objects: 100% (10/10), 13.82 KiB | 13.82 MiB/s, done.\r\n",
      "Total 10 (delta 7), reused 1 (delta 0)\r\n"
     ]
    },
    {
     "name": "stdout",
     "output_type": "stream",
     "text": [
      "remote: Resolving deltas:   0% (0/7)\u001b[K\r",
      "remote: Resolving deltas:  14% (1/7)\u001b[K\r",
      "remote: Resolving deltas:  28% (2/7)\u001b[K\r",
      "remote: Resolving deltas:  42% (3/7)\u001b[K\r",
      "remote: Resolving deltas:  57% (4/7)\u001b[K\r",
      "remote: Resolving deltas:  71% (5/7)\u001b[K\r",
      "remote: Resolving deltas:  85% (6/7)\u001b[K\r",
      "remote: Resolving deltas: 100% (7/7)\u001b[K\r",
      "remote: Resolving deltas: 100% (7/7), completed with 7 local objects.\u001b[K\r\n"
     ]
    },
    {
     "name": "stdout",
     "output_type": "stream",
     "text": [
      "To github.com:d2l-ai/d2l-book-deploy-demo.git\r\n",
      "   258d400..e3b40ce  master -> master\r\n"
     ]
    }
   ],
   "source": [
    "!cd deploy; d2lbook deploy html pdf"
   ]
  },
  {
   "cell_type": "markdown",
   "metadata": {},
   "source": [
    "Lastly, let's clean our workspace."
   ]
  },
  {
   "cell_type": "code",
   "execution_count": 7,
   "metadata": {},
   "outputs": [],
   "source": [
    "!rm -rf deploy"
   ]
  },
  {
   "cell_type": "markdown",
   "metadata": {},
   "source": [
    "## Deploying Through AWS\n",
    "\n",
    "Another supported option is deploying through AWS. This option provide more flexibility but require you to know the basic usage of AWS.\n",
    "\n",
    "We recommend the following procedure for the deployment:\n",
    "\n",
    "1. Copying results into [S3](https://aws.amazon.com/s3/).\n",
    "2. Serving with a [CDN](https://en.wikipedia.org/wiki/Content_delivery_network) by using [CloudFront](https://aws.amazon.com/cloudfront/) to reduce the latency.\n",
    "3. Buying and adding a customized domain at [Route 53](https://aws.amazon.com/route53/)\n",
    "\n",
    "Now let's walk through these three steps one-by-one. Before getting started, you need to have a valid AWS account and typing in your [AWS access key](https://docs.aws.amazon.com/IAM/latest/UserGuide/id_credentials_access-keys.html) by running `aws configure`.\n",
    "\n",
    "First, create a S3 bucket. You can use the targeted domain name as your bucket name. For example, this site is deployed at book.d2l.ai, then we created a bucket with the name `book.d2l.ai`. In addition, we need to disable the blocking public access through ACLs when creating this bucket, see :numref:`fig_s3-acl` and enable static website hosting, see :numref:`fig_s3-web-hosting`. Then you will get a URL to access this bucket. In our example, it's http://book.d2l.ai.s3-website-us-west-2.amazonaws.com/.\n",
    "\n",
    "![Disable blocking public access through ACLs](../img/s3-acl.png)\n",
    "\n",
    ":label:`fig_s3-acl`\n",
    ":width:`500px`\n",
    "\n",
    "![Enable static web hosting](../img/s3-web-hosting.png)\n",
    "\n",
    ":label:`fig_s3-web-hosting`\n",
    ":width:`500px`\n",
    "\n",
    "Second, create a new CloudFront distribution, by specifying the following options:\n",
    "- Origin Domain Name: the previous S3 URL without `http://`, e.g. `book.d2l.ai.s3-website-us-west-2.amazonaws.com`\n",
    "- Default Root Object: `index.html`\n",
    "- [optional] Alternate Domain Names (CNAMEs): your target domain name, e.g. `book.d2l.ai`\n",
    "- [optional] SSL Certificate: you can create one in [Certificate Manager](https://aws.amazon.com/certificate-manager/) and then select it.\n",
    "\n",
    "After a few minute, we will obtain the domain name such as `d1y0wi2ibwmzrt.cloudfront.net`.\n",
    "\n",
    "Third, you can either buying a domain at Route 53 or adding Route 53's DNS into your existing domain. After it, create a \"Hosted Zone\" and then a Type-A Record Set with the CoundFront domain name as the alias target, see :numref:`fig_record-set` for an example.\n",
    "\n",
    "![Create a Record Set](../img/record-set.png)\n",
    "\n",
    ":label:`fig_record-set`\n",
    ":width:`350px`\n",
    "\n",
    "Once you are done, then specify your S3 bucket name in the following `config.ini` entry."
   ]
  },
  {
   "cell_type": "markdown",
   "metadata": {},
   "source": [
    "```bash\n",
    "[deploy]\n",
    "s3_bucket = s3://book.d2l.ai\n",
    "```\n"
   ]
  },
  {
   "cell_type": "markdown",
   "metadata": {},
   "source": [
    "Each time you run `d2lbook deploy`, all results will be synchronized to this bucket and deployed automatically. Note that since we enabled a CDN, any new change may take a while to be shown in your URL (e.g. http://book.d2l.ai). But you can check the S3 bucket URL (e.g. http://book.d2l.ai.s3-website-us-west-2.amazonaws.com) to review the changes immediately."
   ]
  }
 ],
 "metadata": {
  "kernelspec": {
   "display_name": "Python 3",
   "name": "python3"
  },
  "language_info": {
   "name": "python"
  }
 },
 "nbformat": 4,
 "nbformat_minor": 2
}