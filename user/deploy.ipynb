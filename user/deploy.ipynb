{
 "cells": [
  {
   "cell_type": "markdown",
   "metadata": {},
   "source": [
    "# Deploying\n",
    "\n",
    "You can copy the built result to any your favorite place that can server contents online. Otherwise `d2lbook` provides two ways to deploy your build results: deploying through [Github](http://github.com/) or through [AWS](https://aws.amazon.com/).\n",
    "\n",
    "## Deploying Through Github\n",
    "\n",
    "[Github Pages](https://pages.github.com/) allow us to host a website through a Github repo. To do so, we first need to create a github repo, for example we created [d2l-ai/d2l-book-deploy-demo](https://github.com/d2l-ai/d2l-book-deploy-demo) for this example. Then enable serving from the master branch in `Settings -> GitHub Pages`. You will get a URL to access it. It is [d2l-ai.github.io/d2l-book-deploy-demo](https://d2l-ai.github.io/d2l-book-deploy-demo/) for this example. You can add anything to `README.md`, which will not show on the website.\n",
    "\n",
    "![Enable serving from master branch at Github](../img/github_pages.png)\n",
    "\n",
    ":width:`400px`\n",
    "\n",
    "\n",
    "Now let's create a project with `[deploy] github_repo` specified and build both HTML and PDF. You will see a large amount of logging information thanks to LaTeX,  more exactly, `xelatex`."
   ]
  },
  {
   "cell_type": "code",
   "execution_count": 1,
   "metadata": {},
   "outputs": [],
   "source": [
    "!mkdir -p deploy"
   ]
  },
  {
   "cell_type": "code",
   "execution_count": 2,
   "metadata": {},
   "outputs": [
    {
     "name": "stdout",
     "output_type": "stream",
     "text": [
      "Writing deploy/index.md\n"
     ]
    }
   ],
   "source": [
    "%%writefile deploy/index.md\n",
    "# Deploying Demo for d2lbook\n",
    "\n",
    "This is a demo to deploy on Github.\n",
    "\n",
    "````toc\n",
    "get_started\n",
    "````"
   ]
  },
  {
   "cell_type": "code",
   "execution_count": 3,
   "metadata": {},
   "outputs": [
    {
     "name": "stdout",
     "output_type": "stream",
     "text": [
      "Writing deploy/get_started.md\n"
     ]
    }
   ],
   "source": [
    "%%writefile deploy/get_started.md\n",
    "# Getting Started\n",
    "\n",
    "Please first install my favorite package `numpy`."
   ]
  },
  {
   "cell_type": "code",
   "execution_count": 4,
   "metadata": {},
   "outputs": [
    {
     "name": "stdout",
     "output_type": "stream",
     "text": [
      "Writing deploy/config.ini\n"
     ]
    }
   ],
   "source": [
    "%%writefile deploy/config.ini\n",
    "[project]\n",
    "name = deply-demo\n",
    "\n",
    "[html]\n",
    "header_links = PDF, https://https://d2l-ai.github.io/d2l-book-deploy-demo/deply-demo.pdf, fas fa-file-pdf\n",
    "\n",
    "[deploy]\n",
    "github_repo = d2l-ai/d2l-book-deploy-demo"
   ]
  },
  {
   "cell_type": "code",
   "execution_count": 5,
   "metadata": {},
   "outputs": [
    {
     "name": "stdout",
     "output_type": "stream",
     "text": [
      "[d2lbook:config.py:L12] INFO   Load configure from config.ini\r\n",
      "[d2lbook:build.py:L110] INFO   2 notebooks are outdated\r\n",
      "[d2lbook:build.py:L112] INFO   [1] ./get_started.md\r\n",
      "[d2lbook:build.py:L112] INFO   [2] ./index.md\r\n",
      "[d2lbook:build.py:L117] INFO   [1/2, 00:00:00] Evaluating ./get_started.md, save as _build/eval/get_started.ipynb\r\n"
     ]
    },
    {
     "name": "stdout",
     "output_type": "stream",
     "text": [
      "[d2lbook:execute.py:L404] INFO   Executing notebook with kernel: python\r\n"
     ]
    },
    {
     "name": "stdout",
     "output_type": "stream",
     "text": [
      "[d2lbook:build.py:L117] INFO   [2/2, 00:00:01] Evaluating ./index.md, save as _build/eval/index.ipynb\r\n"
     ]
    },
    {
     "name": "stdout",
     "output_type": "stream",
     "text": [
      "[d2lbook:execute.py:L404] INFO   Executing notebook with kernel: python\r\n"
     ]
    },
    {
     "name": "stdout",
     "output_type": "stream",
     "text": [
      "[d2lbook:build.py:L58] INFO   === Finished \"d2lbook build eval\" in 00:00:01\r\n",
      "[d2lbook:build.py:L183] INFO   2 rst files are outdated\r\n",
      "[d2lbook:build.py:L185] INFO   Convert _build/eval/get_started.ipynb to _build/rst/get_started.rst\r\n"
     ]
    },
    {
     "name": "stdout",
     "output_type": "stream",
     "text": [
      "[d2lbook:build.py:L185] INFO   Convert _build/eval/index.ipynb to _build/rst/index.rst\r\n"
     ]
    },
    {
     "name": "stdout",
     "output_type": "stream",
     "text": [
      "[d2lbook:build.py:L58] INFO   === Finished \"d2lbook build rst\" in 00:00:02\r\n"
     ]
    },
    {
     "name": "stdout",
     "output_type": "stream",
     "text": [
      "[d2lbook:build.py:L58] INFO   === Finished \"d2lbook build ipynb\" in 00:00:00\r\n",
      "[d2lbook:build.py:L58] INFO   === Finished \"d2lbook build colab\" in 00:00:00\r\n",
      "[d2lbook:build.py:L58] INFO   === Finished \"d2lbook build sagemaker\" in 00:00:00\r\n"
     ]
    },
    {
     "name": "stdout",
     "output_type": "stream",
     "text": [
      "\u001b[01mRunning Sphinx v2.3.1\u001b[39;49;00m\r\n"
     ]
    },
    {
     "name": "stdout",
     "output_type": "stream",
     "text": [
      "\u001b[01mmaking output directory... \u001b[39;49;00mdone\r\n",
      "\u001b[01mbuilding [mo]: \u001b[39;49;00mtargets for 0 po files that are out of date\r\n",
      "\u001b[01mbuilding [html]: \u001b[39;49;00mtargets for 2 source files that are out of date\r\n",
      "\u001b[01mupdating environment: \u001b[39;49;00m[new config] 2 added, 0 changed, 0 removed\r\n",
      "\u001b[01mreading sources... \u001b[39;49;00m[ 50%] \u001b[35mget_started\u001b[39;49;00m                                           \r",
      "\u001b[01mreading sources... \u001b[39;49;00m[100%] \u001b[35mindex\u001b[39;49;00m                                                 \r"
     ]
    },
    {
     "name": "stdout",
     "output_type": "stream",
     "text": [
      "\r\n",
      "\u001b[01mlooking for now-outdated files... \u001b[39;49;00mnone found\r\n",
      "\u001b[01mpickling environment... \u001b[39;49;00mdone\r\n",
      "\u001b[01mchecking consistency... \u001b[39;49;00mdone\r\n",
      "\u001b[01mpreparing documents... \u001b[39;49;00mdone\r\n"
     ]
    },
    {
     "name": "stdout",
     "output_type": "stream",
     "text": [
      "\u001b[01mwriting output... \u001b[39;49;00m[100%] \u001b[32mindex\u001b[39;49;00m                                                  \r"
     ]
    },
    {
     "name": "stdout",
     "output_type": "stream",
     "text": [
      "\r\n",
      "\u001b[01mwaiting for workers...\u001b[39;49;00m\r\n",
      "\u001b[01mgenerating indices... \u001b[39;49;00m genindex"
     ]
    },
    {
     "name": "stdout",
     "output_type": "stream",
     "text": [
      "done\r\n",
      "\u001b[01mwriting additional pages... \u001b[39;49;00m searchdone\r\n",
      "\u001b[01mcopying static files... ... \u001b[39;49;00m"
     ]
    },
    {
     "name": "stdout",
     "output_type": "stream",
     "text": [
      "done\r\n",
      "\u001b[01mcopying extra files... \u001b[39;49;00mdone\r\n",
      "\u001b[01mdumping search index in English (code: en)... \u001b[39;49;00mdone\r\n",
      "\u001b[01mdumping object inventory... \u001b[39;49;00m"
     ]
    },
    {
     "name": "stdout",
     "output_type": "stream",
     "text": [
      "done\r\n",
      "\u001b[01mbuild succeeded.\u001b[39;49;00m\r\n",
      "\r\n",
      "The HTML pages are in _build/html.\r\n"
     ]
    },
    {
     "name": "stdout",
     "output_type": "stream",
     "text": [
      "[d2lbook:build.py:L58] INFO   === Finished \"d2lbook build html\" in 00:00:02\r\n"
     ]
    },
    {
     "name": "stdout",
     "output_type": "stream",
     "text": [
      "\u001b[01mRunning Sphinx v2.3.1\u001b[39;49;00m\r\n"
     ]
    },
    {
     "name": "stdout",
     "output_type": "stream",
     "text": [
      "\u001b[01mmaking output directory... \u001b[39;49;00mdone\r\n",
      "\u001b[01mbuilding [mo]: \u001b[39;49;00mtargets for 0 po files that are out of date\r\n",
      "\u001b[01mbuilding [latex]: \u001b[39;49;00mall documents\r\n",
      "\u001b[01mupdating environment: \u001b[39;49;00m[new config] 2 added, 0 changed, 0 removed\r\n",
      "\u001b[01mreading sources... \u001b[39;49;00m[ 50%] \u001b[35mget_started\u001b[39;49;00m                                           \r"
     ]
    },
    {
     "name": "stdout",
     "output_type": "stream",
     "text": [
      "\u001b[01mreading sources... \u001b[39;49;00m[100%] \u001b[35mindex\u001b[39;49;00m                                                 \r",
      "\r\n",
      "\u001b[01mlooking for now-outdated files... \u001b[39;49;00mnone found\r\n",
      "\u001b[01mpickling environment... \u001b[39;49;00mdone\r\n",
      "\u001b[01mchecking consistency... \u001b[39;49;00mdone\r\n",
      "\u001b[01mprocessing deply-demo.tex... \u001b[39;49;00m\u001b[32mindex\u001b[39;49;00m \u001b[32mget_started\u001b[39;49;00m \r\n",
      "resolving references...\r\n",
      "done\r\n",
      "\u001b[01mwriting... \u001b[39;49;00mdone\r\n",
      "\u001b[01mcopying TeX support files... \u001b[39;49;00m\u001b[01mcopying TeX support files...\u001b[39;49;00m\r\n",
      "done\r\n",
      "\u001b[01mbuild succeeded.\u001b[39;49;00m\r\n",
      "\r\n",
      "The LaTeX files are in _build/pdf.\r\n",
      "Run 'make' in that directory to run these through (pdf)latex\r\n",
      "(use `make latexpdf' here to do that automatically).\r\n"
     ]
    },
    {
     "name": "stdout",
     "output_type": "stream",
     "text": [
      "latexmk -pdf -dvi- -ps-  'deply-demo.tex'\r\n"
     ]
    },
    {
     "name": "stdout",
     "output_type": "stream",
     "text": [
      "Latexmk: This is Latexmk, John Collins, 1 January 2015, version: 4.41.\r\n",
      "Latexmk: applying rule 'pdflatex'...\r\n",
      "Rule 'pdflatex': Rules & subrules not known to be previously run:\r\n",
      "   pdflatex\r\n",
      "Rule 'pdflatex': The following rules & subrules became out-of-date:\r\n",
      "      'pdflatex'\r\n",
      "------------\r\n",
      "Run number 1 of rule 'pdflatex'\r\n",
      "------------\r\n",
      "------------\r\n",
      "Running 'xelatex   -recorder  \"deply-demo.tex\"'\r\n",
      "------------\r\n"
     ]
    },
    {
     "name": "stdout",
     "output_type": "stream",
     "text": [
      "This is XeTeX, Version 3.14159265-2.6-0.99992 (TeX Live 2015/Debian) (preloaded format=xelatex)\r\n",
      " restricted \\write18 enabled.\r\n"
     ]
    },
    {
     "name": "stdout",
     "output_type": "stream",
     "text": [
      "entering extended mode\r\n",
      "(./deply-demo.tex\r\n",
      "LaTeX2e <2016/02/01>\r\n",
      "Babel <3.9q> and hyphenation patterns for 81 language(s) loaded.\r\n",
      "(./sphinxmanual.cls\r\n",
      "Document Class: sphinxmanual 2019/12/01 v2.3.0 Document class (Sphinx manual)\r\n",
      "(/usr/share/texlive/texmf-dist/tex/latex/base/report.cls\r\n",
      "Document Class: report 2014/09/29 v1.4h Standard LaTeX document class\r\n",
      "(/usr/share/texlive/texmf-dist/tex/latex/base/size11.clo)))\r\n",
      "(/usr/share/texlive/texmf-dist/tex/latex/cmap/cmap.sty\r\n",
      "\r\n",
      "Package cmap Warning: pdftex not detected - exiting.\r\n",
      "\r\n",
      ") (/usr/share/texlive/texmf-dist/tex/latex/fontspec/fontspec.sty\r\n",
      "(/usr/share/texlive/texmf-dist/tex/latex/l3kernel/expl3.sty\r\n",
      "(/usr/share/texlive/texmf-dist/tex/latex/l3kernel/expl3-code.tex"
     ]
    },
    {
     "name": "stdout",
     "output_type": "stream",
     "text": [
      ")\r\n",
      "(/usr/share/texlive/texmf-dist/tex/latex/l3kernel/l3xdvipdfmx.def))\r\n",
      "(/usr/share/texlive/texmf-dist/tex/latex/l3packages/xparse/xparse.sty)\r\n",
      "(/usr/share/texlive/texmf-dist/tex/latex/fontspec/fontspec-xetex.sty\r\n",
      "(/usr/share/texlive/texmf-dist/tex/latex/base/fontenc.sty\r\n",
      "(/usr/share/texlive/texmf-dist/tex/latex/euenc/eu1enc.def)\r\n",
      "(/usr/share/texlive/texmf-dist/tex/latex/euenc/eu1lmr.fd))\r\n",
      "(/usr/share/texlive/texmf-dist/tex/xelatex/xunicode/xunicode.sty\r\n",
      "(/usr/share/texmf/tex/latex/tipa/t3enc.def\r\n",
      "(/usr/share/texlive/texmf-dist/tex/latex/euenc/eu1lmss.fd))\r\n",
      "(/usr/share/texlive/texmf-dist/tex/latex/graphics/graphicx.sty\r\n",
      "(/usr/share/texlive/texmf-dist/tex/latex/graphics/keyval.sty)\r\n",
      "(/usr/share/texlive/texmf-dist/tex/latex/graphics/graphics.sty\r\n",
      "(/usr/share/texlive/texmf-dist/tex/latex/graphics/trig.sty)\r\n",
      "(/usr/share/texlive/texmf-dist/tex/latex/latexconfig/graphics.cfg)\r\n",
      "(/usr/share/texlive/texmf-dist/tex/xelatex/xetex-def/xetex.def\r\n",
      "(/usr/share/texlive/texmf-dist/tex/generic/oberdiek/infwarerr.sty)\r\n",
      "(/usr/share/texlive/texmf-dist/tex/generic/oberdiek/ltxcmds.sty)"
     ]
    },
    {
     "name": "stdout",
     "output_type": "stream",
     "text": [
      "))))"
     ]
    },
    {
     "name": "stdout",
     "output_type": "stream",
     "text": [
      "\r\n",
      "(/usr/share/texlive/texmf-dist/tex/latex/fontspec/fontspec.cfg)))\r\n",
      "(/usr/share/texlive/texmf-dist/tex/latex/amsmath/amsmath.sty\r\n",
      "For additional information on amsmath, use the `?' option.\r\n",
      "(/usr/share/texlive/texmf-dist/tex/latex/amsmath/amstext.sty\r\n",
      "(/usr/share/texlive/texmf-dist/tex/latex/amsmath/amsgen.sty))\r\n",
      "(/usr/share/texlive/texmf-dist/tex/latex/amsmath/amsbsy.sty)\r\n",
      "(/usr/share/texlive/texmf-dist/tex/latex/amsmath/amsopn.sty)"
     ]
    },
    {
     "name": "stdout",
     "output_type": "stream",
     "text": [
      ")\r\n",
      "(/usr/share/texlive/texmf-dist/tex/latex/amsfonts/amssymb.sty\r\n",
      "(/usr/share/texlive/texmf-dist/tex/latex/amsfonts/amsfonts.sty))\r\n",
      "(/usr/share/texlive/texmf-dist/tex/latex/polyglossia/polyglossia.sty\r\n",
      "(/usr/share/texlive/texmf-dist/tex/latex/etoolbox/etoolbox.sty)\r\n",
      "(/usr/share/texlive/texmf-dist/tex/latex/makecmds/makecmds.sty)\r\n",
      "(/usr/share/texlive/texmf-dist/tex/latex/xkeyval/xkeyval.sty\r\n",
      "(/usr/share/texlive/texmf-dist/tex/generic/xkeyval/xkeyval.tex\r\n",
      "(/usr/share/texlive/texmf-dist/tex/generic/xkeyval/xkvutils.tex)))\r\n",
      "(/usr/share/texlive/texmf-dist/tex/generic/oberdiek/ifluatex.sty)\r\n",
      "(/usr/share/texlive/texmf-dist/tex/generic/ifxetex/ifxetex.sty))\r\n",
      "(/usr/share/texlive/texmf-dist/tex/latex/polyglossia/gloss-english.ldf)"
     ]
    },
    {
     "name": "stdout",
     "output_type": "stream",
     "text": [
      "\r\n",
      "(/usr/share/texlive/texmf-dist/tex/latex/fncychap/fncychap.sty) (./sphinx.sty\r\n",
      "(/usr/share/texlive/texmf-dist/tex/latex/fancyhdr/fancyhdr.sty)\r\n",
      "(/usr/share/texlive/texmf-dist/tex/latex/base/textcomp.sty\r\n",
      "(/usr/share/texlive/texmf-dist/tex/latex/base/ts1enc.def))\r\n",
      "(/usr/share/texlive/texmf-dist/tex/latex/titlesec/titlesec.sty)\r\n",
      "\r\n",
      " Package Sphinx Info: \r\n",
      " **** titlesec 2.10.1 successfully patched for bugfix ****\r\n",
      "\r\n",
      "(/usr/share/texlive/texmf-dist/tex/latex/tabulary/tabulary.sty\r\n",
      "(/usr/share/texlive/texmf-dist/tex/latex/tools/array.sty))\r\n",
      "(/usr/share/texlive/texmf-dist/tex/latex/tools/longtable.sty)\r\n",
      "(/usr/share/texlive/texmf-dist/tex/latex/varwidth/varwidth.sty)\r\n",
      "(./sphinxmulticell.sty)\r\n",
      "(/usr/share/texlive/texmf-dist/tex/latex/base/makeidx.sty)\r\n",
      "(/usr/share/texlive/texmf-dist/tex/latex/framed/framed.sty)\r\n",
      "(/usr/share/texlive/texmf-dist/tex/latex/xcolor/xcolor.sty\r\n",
      "(/usr/share/texlive/texmf-dist/tex/latex/latexconfig/color.cfg))\r\n",
      "(/usr/share/texlive/texmf-dist/tex/latex/fancyvrb/fancyvrb.sty\r\n",
      "Style option: `fancyvrb' v2.7a, with DG/SPQR fixes, and firstline=lastline fix \r\n",
      "<2008/02/07> (tvz)) (./footnotehyper-sphinx.sty)\r\n",
      "(/usr/share/texlive/texmf-dist/tex/latex/float/float.sty)\r\n",
      "(/usr/share/texlive/texmf-dist/tex/latex/wrapfig/wrapfig.sty)\r\n",
      "(/usr/share/texlive/texmf-dist/tex/latex/parskip/parskip.sty)\r\n",
      "(/usr/share/texlive/texmf-dist/tex/latex/base/alltt.sty)\r\n",
      "(/usr/share/texlive/texmf-dist/tex/latex/upquote/upquote.sty)\r\n",
      "(/usr/share/texlive/texmf-dist/tex/latex/capt-of/capt-of.sty)\r\n",
      "(/usr/share/texlive/texmf-dist/tex/latex/needspace/needspace.sty)\r\n",
      "(/usr/share/texlive/texmf-dist/tex/latex/carlisle/remreset.sty)\r\n",
      "(./sphinxhighlight.sty)\r\n",
      "(/usr/share/texlive/texmf-dist/tex/latex/oberdiek/kvoptions.sty\r\n",
      "(/usr/share/texlive/texmf-dist/tex/generic/oberdiek/kvsetkeys.sty\r\n",
      "(/usr/share/texlive/texmf-dist/tex/generic/oberdiek/etexcmds.sty)))"
     ]
    },
    {
     "name": "stdout",
     "output_type": "stream",
     "text": [
      ")\r\n",
      "(/usr/share/texlive/texmf-dist/tex/latex/geometry/geometry.sty\r\n",
      "(/usr/share/texlive/texmf-dist/tex/generic/oberdiek/ifpdf.sty)\r\n",
      "(/usr/share/texlive/texmf-dist/tex/generic/oberdiek/ifvtex.sty))\r\n",
      "(/usr/share/texlive/texmf-dist/tex/latex/hyperref/hyperref.sty\r\n",
      "(/usr/share/texlive/texmf-dist/tex/generic/oberdiek/hobsub-hyperref.sty\r\n",
      "(/usr/share/texlive/texmf-dist/tex/generic/oberdiek/hobsub-generic.sty))\r\n",
      "(/usr/share/texlive/texmf-dist/tex/latex/oberdiek/auxhook.sty)\r\n",
      "(/usr/share/texlive/texmf-dist/tex/latex/hyperref/pd1enc.def)\r\n",
      "(/usr/share/texlive/texmf-dist/tex/latex/latexconfig/hyperref.cfg)\r\n",
      "(/usr/share/texlive/texmf-dist/tex/latex/hyperref/puenc.def)\r\n",
      "(/usr/share/texlive/texmf-dist/tex/latex/url/url.sty))"
     ]
    },
    {
     "name": "stdout",
     "output_type": "stream",
     "text": [
      "\r\n",
      "\r\n",
      "Package hyperref Message: Driver (autodetected): hxetex.\r\n",
      "\r\n",
      "(/usr/share/texlive/texmf-dist/tex/latex/hyperref/hxetex.def\r\n",
      "(/usr/share/texlive/texmf-dist/tex/generic/oberdiek/stringenc.sty)\r\n",
      "(/usr/share/texlive/texmf-dist/tex/latex/oberdiek/rerunfilecheck.sty))\r\n",
      "(/usr/share/texlive/texmf-dist/tex/latex/oberdiek/hypcap.sty)\r\n",
      "(./sphinxmessages.sty)\r\n",
      "(/usr/share/texlive/texmf-dist/tex/latex/blindtext/blindtext.sty\r\n",
      "(/usr/share/texlive/texmf-dist/tex/latex/tools/xspace.sty))\r\n",
      "(/usr/share/texlive/texmf-dist/tex/latex/natbib/natbib.sty)\r\n",
      "(/usr/share/texlive/texmf-dist/tex/latex/minted/minted.sty\r\n",
      "(/usr/share/texlive/texmf-dist/tex/latex/base/ifthen.sty)\r\n",
      "(/usr/share/texlive/texmf-dist/tex/latex/tools/calc.sty)\r\n",
      "(/usr/share/texlive/texmf-dist/tex/latex/ifplatform/ifplatform.sty\r\n",
      "(/usr/share/texlive/texmf-dist/tex/generic/oberdiek/catchfile.sty)\r\n",
      "\r\n",
      "Package ifplatform Warning: \r\n",
      "    shell escape is disabled, so I can only detect \\ifwindows.\r\n",
      "\r\n",
      ") (/usr/share/texlive/texmf-dist/tex/generic/xstring/xstring.sty\r\n",
      "(/usr/share/texlive/texmf-dist/tex/generic/xstring/xstring.tex))\r\n",
      "(/usr/share/texlive/texmf-dist/tex/latex/lineno/lineno.sty))\r\n",
      "Writing index file deply-demo.idx\r\n",
      "(./deply-demo.aux) (/usr/share/texmf/tex/latex/tipa/t3cmr.fd)\r\n",
      "(/usr/share/texlive/texmf-dist/tex/latex/base/ts1cmr.fd)\r\n",
      "*geometry* driver: auto-detecting\r\n",
      "*geometry* detected driver: xetex\r\n"
     ]
    },
    {
     "name": "stdout",
     "output_type": "stream",
     "text": [
      "(/usr/share/texlive/texmf-dist/tex/latex/hyperref/nameref.sty\r\n",
      "(/usr/share/texlive/texmf-dist/tex/generic/oberdiek/gettitlestring.sty))\r\n",
      "\r\n",
      "Package hyperref Warning: Rerun to get /PageLabels entry.\r\n",
      "\r\n",
      "(/usr/share/texlive/texmf-dist/tex/latex/amsfonts/umsa.fd)\r\n",
      "(/usr/share/texlive/texmf-dist/tex/latex/amsfonts/umsb.fd) [1] [2] [1] [2]\r\n",
      "[1] [2]\r\n",
      "Chapter 1.\r\n",
      "No file deply-demo.ind.\r\n",
      "[3] (./deply-demo.aux)\r\n",
      "\r\n",
      "LaTeX Warning: Label(s) may have changed. Rerun to get cross-references right.\r\n",
      "\r\n",
      " )\r\n"
     ]
    },
    {
     "name": "stdout",
     "output_type": "stream",
     "text": [
      "(see the transcript file for additional information)\r\n",
      "Output written on deply-demo.pdf (7 pages).\r\n",
      "Transcript written on deply-demo.log.\r\n"
     ]
    },
    {
     "name": "stdout",
     "output_type": "stream",
     "text": [
      "Latexmk: Index file 'deply-demo.idx' was written\r\n",
      "Latexmk: References changed.\r\n",
      "Latexmk: Missing input file: 'deply-demo.ind' from line\r\n",
      "  'No file deply-demo.ind.'\r\n",
      "Latexmk: References changed.\r\n",
      "Latexmk: Log file says output to 'deply-demo.pdf'\r\n"
     ]
    },
    {
     "name": "stdout",
     "output_type": "stream",
     "text": [
      "Latexmk: applying rule 'makeindex deply-demo.idx'...\r\n",
      "Rule 'makeindex deply-demo.idx': File changes, etc:\r\n",
      "   Non-existent destination files:\r\n",
      "      'deply-demo.ind'\r\n",
      "------------\r\n",
      "Run number 1 of rule 'makeindex deply-demo.idx'\r\n",
      "------------\r\n",
      "------------\r\n",
      "Running 'internal xindy -L english -C utf8  -M sphinx.xdy  -o \"deply-demo.ind\" \"deply-demo.idx\"'\r\n",
      "------------\r\n",
      "Latexmk: calling xindy( -L english -C utf8 -M sphinx.xdy -o deply-demo.ind deply-demo.idx )\r\n",
      "Latexmk: applying rule 'pdflatex'...\r\n",
      "Rule 'pdflatex': File changes, etc:\r\n",
      "   Changed files, or newly in use since previous run(s):\r\n",
      "      'deply-demo.aux'\r\n",
      "      'deply-demo.ind'\r\n",
      "------------\r\n",
      "Run number 2 of rule 'pdflatex'\r\n",
      "------------\r\n",
      "------------\r\n",
      "Running 'xelatex   -recorder  \"deply-demo.tex\"'\r\n",
      "------------\r\n"
     ]
    },
    {
     "name": "stdout",
     "output_type": "stream",
     "text": [
      "This is XeTeX, Version 3.14159265-2.6-0.99992 (TeX Live 2015/Debian) (preloaded format=xelatex)\r\n",
      " restricted \\write18 enabled.\r\n"
     ]
    },
    {
     "name": "stdout",
     "output_type": "stream",
     "text": [
      "entering extended mode\r\n",
      "(./deply-demo.tex\r\n",
      "LaTeX2e <2016/02/01>\r\n",
      "Babel <3.9q> and hyphenation patterns for 81 language(s) loaded.\r\n",
      "(./sphinxmanual.cls\r\n",
      "Document Class: sphinxmanual 2019/12/01 v2.3.0 Document class (Sphinx manual)\r\n",
      "(/usr/share/texlive/texmf-dist/tex/latex/base/report.cls\r\n",
      "Document Class: report 2014/09/29 v1.4h Standard LaTeX document class\r\n",
      "(/usr/share/texlive/texmf-dist/tex/latex/base/size11.clo)))\r\n",
      "(/usr/share/texlive/texmf-dist/tex/latex/cmap/cmap.sty\r\n",
      "\r\n",
      "Package cmap Warning: pdftex not detected - exiting.\r\n",
      "\r\n",
      ") (/usr/share/texlive/texmf-dist/tex/latex/fontspec/fontspec.sty\r\n",
      "(/usr/share/texlive/texmf-dist/tex/latex/l3kernel/expl3.sty\r\n",
      "(/usr/share/texlive/texmf-dist/tex/latex/l3kernel/expl3-code.tex"
     ]
    },
    {
     "name": "stdout",
     "output_type": "stream",
     "text": [
      ")\r\n",
      "(/usr/share/texlive/texmf-dist/tex/latex/l3kernel/l3xdvipdfmx.def"
     ]
    },
    {
     "name": "stdout",
     "output_type": "stream",
     "text": [
      "))\r\n",
      "(/usr/share/texlive/texmf-dist/tex/latex/l3packages/xparse/xparse.sty)\r\n",
      "(/usr/share/texlive/texmf-dist/tex/latex/fontspec/fontspec-xetex.sty\r\n",
      "(/usr/share/texlive/texmf-dist/tex/latex/base/fontenc.sty\r\n",
      "(/usr/share/texlive/texmf-dist/tex/latex/euenc/eu1enc.def)\r\n",
      "(/usr/share/texlive/texmf-dist/tex/latex/euenc/eu1lmr.fd))\r\n",
      "(/usr/share/texlive/texmf-dist/tex/xelatex/xunicode/xunicode.sty\r\n",
      "(/usr/share/texmf/tex/latex/tipa/t3enc.def\r\n",
      "(/usr/share/texlive/texmf-dist/tex/latex/euenc/eu1lmss.fd))\r\n",
      "(/usr/share/texlive/texmf-dist/tex/latex/graphics/graphicx.sty\r\n",
      "(/usr/share/texlive/texmf-dist/tex/latex/graphics/keyval.sty)\r\n",
      "(/usr/share/texlive/texmf-dist/tex/latex/graphics/graphics.sty\r\n",
      "(/usr/share/texlive/texmf-dist/tex/latex/graphics/trig.sty)\r\n",
      "(/usr/share/texlive/texmf-dist/tex/latex/latexconfig/graphics.cfg)\r\n",
      "(/usr/share/texlive/texmf-dist/tex/xelatex/xetex-def/xetex.def\r\n",
      "(/usr/share/texlive/texmf-dist/tex/generic/oberdiek/infwarerr.sty)\r\n",
      "(/usr/share/texlive/texmf-dist/tex/generic/oberdiek/ltxcmds.sty)))))"
     ]
    },
    {
     "name": "stdout",
     "output_type": "stream",
     "text": [
      "\r\n",
      "(/usr/share/texlive/texmf-dist/tex/latex/fontspec/fontspec.cfg)))\r\n",
      "(/usr/share/texlive/texmf-dist/tex/latex/amsmath/amsmath.sty\r\n",
      "For additional information on amsmath, use the `?' option.\r\n",
      "(/usr/share/texlive/texmf-dist/tex/latex/amsmath/amstext.sty\r\n",
      "(/usr/share/texlive/texmf-dist/tex/latex/amsmath/amsgen.sty))\r\n",
      "(/usr/share/texlive/texmf-dist/tex/latex/amsmath/amsbsy.sty)\r\n",
      "(/usr/share/texlive/texmf-dist/tex/latex/amsmath/amsopn.sty))\r\n",
      "(/usr/share/texlive/texmf-dist/tex/latex/amsfonts/amssymb.sty\r\n",
      "(/usr/share/texlive/texmf-dist/tex/latex/amsfonts/amsfonts.sty))\r\n",
      "(/usr/share/texlive/texmf-dist/tex/latex/polyglossia/polyglossia.sty\r\n",
      "(/usr/share/texlive/texmf-dist/tex/latex/etoolbox/etoolbox.sty)\r\n",
      "(/usr/share/texlive/texmf-dist/tex/latex/makecmds/makecmds.sty)"
     ]
    },
    {
     "name": "stdout",
     "output_type": "stream",
     "text": [
      "\r\n",
      "(/usr/share/texlive/texmf-dist/tex/latex/xkeyval/xkeyval.sty\r\n",
      "(/usr/share/texlive/texmf-dist/tex/generic/xkeyval/xkeyval.tex\r\n",
      "(/usr/share/texlive/texmf-dist/tex/generic/xkeyval/xkvutils.tex)))\r\n",
      "(/usr/share/texlive/texmf-dist/tex/generic/oberdiek/ifluatex.sty)\r\n",
      "(/usr/share/texlive/texmf-dist/tex/generic/ifxetex/ifxetex.sty))\r\n",
      "(/usr/share/texlive/texmf-dist/tex/latex/polyglossia/gloss-english.ldf)\r\n",
      "(/usr/share/texlive/texmf-dist/tex/latex/fncychap/fncychap.sty) (./sphinx.sty\r\n",
      "(/usr/share/texlive/texmf-dist/tex/latex/fancyhdr/fancyhdr.sty)\r\n",
      "(/usr/share/texlive/texmf-dist/tex/latex/base/textcomp.sty\r\n",
      "(/usr/share/texlive/texmf-dist/tex/latex/base/ts1enc.def)"
     ]
    },
    {
     "name": "stdout",
     "output_type": "stream",
     "text": [
      ")\r\n",
      "(/usr/share/texlive/texmf-dist/tex/latex/titlesec/titlesec.sty)\r\n",
      "\r\n",
      " Package Sphinx Info: \r\n",
      " **** titlesec 2.10.1 successfully patched for bugfix ****\r\n",
      "\r\n",
      "(/usr/share/texlive/texmf-dist/tex/latex/tabulary/tabulary.sty\r\n",
      "(/usr/share/texlive/texmf-dist/tex/latex/tools/array.sty))\r\n",
      "(/usr/share/texlive/texmf-dist/tex/latex/tools/longtable.sty)\r\n",
      "(/usr/share/texlive/texmf-dist/tex/latex/varwidth/varwidth.sty)\r\n",
      "(./sphinxmulticell.sty)\r\n",
      "(/usr/share/texlive/texmf-dist/tex/latex/base/makeidx.sty)\r\n",
      "(/usr/share/texlive/texmf-dist/tex/latex/framed/framed.sty)\r\n",
      "(/usr/share/texlive/texmf-dist/tex/latex/xcolor/xcolor.sty\r\n",
      "(/usr/share/texlive/texmf-dist/tex/latex/latexconfig/color.cfg))\r\n",
      "(/usr/share/texlive/texmf-dist/tex/latex/fancyvrb/fancyvrb.sty\r\n",
      "Style option: `fancyvrb' v2.7a, with DG/SPQR fixes, and firstline=lastline fix \r\n",
      "<2008/02/07> (tvz)) (./footnotehyper-sphinx.sty)\r\n",
      "(/usr/share/texlive/texmf-dist/tex/latex/float/float.sty)\r\n",
      "(/usr/share/texlive/texmf-dist/tex/latex/wrapfig/wrapfig.sty)\r\n",
      "(/usr/share/texlive/texmf-dist/tex/latex/parskip/parskip.sty)\r\n",
      "(/usr/share/texlive/texmf-dist/tex/latex/base/alltt.sty)\r\n",
      "(/usr/share/texlive/texmf-dist/tex/latex/upquote/upquote.sty)\r\n",
      "(/usr/share/texlive/texmf-dist/tex/latex/capt-of/capt-of.sty)\r\n",
      "(/usr/share/texlive/texmf-dist/tex/latex/needspace/needspace.sty)\r\n",
      "(/usr/share/texlive/texmf-dist/tex/latex/carlisle/remreset.sty)\r\n",
      "(./sphinxhighlight.sty)\r\n",
      "(/usr/share/texlive/texmf-dist/tex/latex/oberdiek/kvoptions.sty\r\n",
      "(/usr/share/texlive/texmf-dist/tex/generic/oberdiek/kvsetkeys.sty\r\n",
      "(/usr/share/texlive/texmf-dist/tex/generic/oberdiek/etexcmds.sty))))\r\n",
      "(/usr/share/texlive/texmf-dist/tex/latex/geometry/geometry.sty\r\n",
      "(/usr/share/texlive/texmf-dist/tex/generic/oberdiek/ifpdf.sty)\r\n",
      "(/usr/share/texlive/texmf-dist/tex/generic/oberdiek/ifvtex.sty))\r\n",
      "(/usr/share/texlive/texmf-dist/tex/latex/hyperref/hyperref.sty\r\n",
      "(/usr/share/texlive/texmf-dist/tex/generic/oberdiek/hobsub-hyperref.sty\r\n",
      "(/usr/share/texlive/texmf-dist/tex/generic/oberdiek/hobsub-generic.sty"
     ]
    },
    {
     "name": "stdout",
     "output_type": "stream",
     "text": [
      "))\r\n",
      "(/usr/share/texlive/texmf-dist/tex/latex/oberdiek/auxhook.sty)\r\n",
      "(/usr/share/texlive/texmf-dist/tex/latex/hyperref/pd1enc.def)\r\n",
      "(/usr/share/texlive/texmf-dist/tex/latex/latexconfig/hyperref.cfg)\r\n",
      "(/usr/share/texlive/texmf-dist/tex/latex/hyperref/puenc.def)\r\n",
      "(/usr/share/texlive/texmf-dist/tex/latex/url/url.sty))\r\n",
      "\r\n",
      "Package hyperref Message: Driver (autodetected): hxetex.\r\n",
      "\r\n",
      "(/usr/share/texlive/texmf-dist/tex/latex/hyperref/hxetex.def\r\n",
      "(/usr/share/texlive/texmf-dist/tex/generic/oberdiek/stringenc.sty)\r\n",
      "(/usr/share/texlive/texmf-dist/tex/latex/oberdiek/rerunfilecheck.sty))\r\n",
      "(/usr/share/texlive/texmf-dist/tex/latex/oberdiek/hypcap.sty)\r\n",
      "(./sphinxmessages.sty)\r\n",
      "(/usr/share/texlive/texmf-dist/tex/latex/blindtext/blindtext.sty\r\n",
      "(/usr/share/texlive/texmf-dist/tex/latex/tools/xspace.sty)"
     ]
    },
    {
     "name": "stdout",
     "output_type": "stream",
     "text": [
      ")\r\n",
      "(/usr/share/texlive/texmf-dist/tex/latex/natbib/natbib.sty)\r\n",
      "(/usr/share/texlive/texmf-dist/tex/latex/minted/minted.sty\r\n",
      "(/usr/share/texlive/texmf-dist/tex/latex/base/ifthen.sty)\r\n",
      "(/usr/share/texlive/texmf-dist/tex/latex/tools/calc.sty)\r\n",
      "(/usr/share/texlive/texmf-dist/tex/latex/ifplatform/ifplatform.sty\r\n",
      "(/usr/share/texlive/texmf-dist/tex/generic/oberdiek/catchfile.sty)\r\n",
      "\r\n",
      "Package ifplatform Warning: \r\n",
      "    shell escape is disabled, so I can only detect \\ifwindows.\r\n",
      "\r\n",
      ") (/usr/share/texlive/texmf-dist/tex/generic/xstring/xstring.sty\r\n",
      "(/usr/share/texlive/texmf-dist/tex/generic/xstring/xstring.tex))\r\n",
      "(/usr/share/texlive/texmf-dist/tex/latex/lineno/lineno.sty))\r\n",
      "Writing index file deply-demo.idx\r\n",
      "(./deply-demo.aux) (/usr/share/texmf/tex/latex/tipa/t3cmr.fd)\r\n",
      "(/usr/share/texlive/texmf-dist/tex/latex/base/ts1cmr.fd)\r\n",
      "*geometry* driver: auto-detecting\r\n",
      "*geometry* detected driver: xetex\r\n",
      "(/usr/share/texlive/texmf-dist/tex/latex/hyperref/nameref.sty\r\n",
      "(/usr/share/texlive/texmf-dist/tex/generic/oberdiek/gettitlestring.sty))\r\n",
      "(./deply-demo.out) (./deply-demo.out)"
     ]
    },
    {
     "name": "stdout",
     "output_type": "stream",
     "text": [
      "\r\n",
      "(/usr/share/texlive/texmf-dist/tex/latex/amsfonts/umsa.fd)\r\n",
      "(/usr/share/texlive/texmf-dist/tex/latex/amsfonts/umsb.fd) [1] [2]\r\n",
      "(./deply-demo.toc) [1] [2] [1] [2]\r\n",
      "Chapter 1.\r\n",
      "(./deply-demo.ind) [3] (./deply-demo.aux) )\r\n"
     ]
    },
    {
     "name": "stdout",
     "output_type": "stream",
     "text": [
      "(see the transcript file for additional information)\r\n",
      "Output written on deply-demo.pdf (7 pages).\r\n",
      "Transcript written on deply-demo.log.\r\n"
     ]
    },
    {
     "name": "stdout",
     "output_type": "stream",
     "text": [
      "Latexmk: Index file 'deply-demo.idx' was written\r\n",
      "Latexmk: Log file says output to 'deply-demo.pdf'\r\n",
      "Latexmk: applying rule 'pdflatex'...\r\n",
      "Rule 'pdflatex': File changes, etc:\r\n",
      "   Changed files, or newly in use since previous run(s):\r\n",
      "      'deply-demo.out'\r\n",
      "      'deply-demo.toc'\r\n",
      "------------\r\n",
      "Run number 3 of rule 'pdflatex'\r\n",
      "------------\r\n",
      "------------\r\n",
      "Running 'xelatex   -recorder  \"deply-demo.tex\"'\r\n",
      "------------\r\n"
     ]
    },
    {
     "name": "stdout",
     "output_type": "stream",
     "text": [
      "This is XeTeX, Version 3.14159265-2.6-0.99992 (TeX Live 2015/Debian) (preloaded format=xelatex)\r\n",
      " restricted \\write18 enabled.\r\n"
     ]
    },
    {
     "name": "stdout",
     "output_type": "stream",
     "text": [
      "entering extended mode\r\n",
      "(./deply-demo.tex\r\n",
      "LaTeX2e <2016/02/01>\r\n",
      "Babel <3.9q> and hyphenation patterns for 81 language(s) loaded.\r\n",
      "(./sphinxmanual.cls\r\n",
      "Document Class: sphinxmanual 2019/12/01 v2.3.0 Document class (Sphinx manual)\r\n",
      "(/usr/share/texlive/texmf-dist/tex/latex/base/report.cls\r\n",
      "Document Class: report 2014/09/29 v1.4h Standard LaTeX document class\r\n",
      "(/usr/share/texlive/texmf-dist/tex/latex/base/size11.clo)))\r\n",
      "(/usr/share/texlive/texmf-dist/tex/latex/cmap/cmap.sty\r\n",
      "\r\n",
      "Package cmap Warning: pdftex not detected - exiting.\r\n",
      "\r\n",
      ") (/usr/share/texlive/texmf-dist/tex/latex/fontspec/fontspec.sty\r\n",
      "(/usr/share/texlive/texmf-dist/tex/latex/l3kernel/expl3.sty\r\n",
      "(/usr/share/texlive/texmf-dist/tex/latex/l3kernel/expl3-code.tex"
     ]
    },
    {
     "name": "stdout",
     "output_type": "stream",
     "text": [
      ")\r\n",
      "(/usr/share/texlive/texmf-dist/tex/latex/l3kernel/l3xdvipdfmx.def))\r\n",
      "(/usr/share/texlive/texmf-dist/tex/latex/l3packages/xparse/xparse.sty)\r\n",
      "(/usr/share/texlive/texmf-dist/tex/latex/fontspec/fontspec-xetex.sty\r\n",
      "(/usr/share/texlive/texmf-dist/tex/latex/base/fontenc.sty\r\n",
      "(/usr/share/texlive/texmf-dist/tex/latex/euenc/eu1enc.def)\r\n",
      "(/usr/share/texlive/texmf-dist/tex/latex/euenc/eu1lmr.fd))\r\n",
      "(/usr/share/texlive/texmf-dist/tex/xelatex/xunicode/xunicode.sty\r\n",
      "(/usr/share/texmf/tex/latex/tipa/t3enc.def\r\n",
      "(/usr/share/texlive/texmf-dist/tex/latex/euenc/eu1lmss.fd))"
     ]
    },
    {
     "name": "stdout",
     "output_type": "stream",
     "text": [
      "\r\n",
      "(/usr/share/texlive/texmf-dist/tex/latex/graphics/graphicx.sty\r\n",
      "(/usr/share/texlive/texmf-dist/tex/latex/graphics/keyval.sty)\r\n",
      "(/usr/share/texlive/texmf-dist/tex/latex/graphics/graphics.sty\r\n",
      "(/usr/share/texlive/texmf-dist/tex/latex/graphics/trig.sty)\r\n",
      "(/usr/share/texlive/texmf-dist/tex/latex/latexconfig/graphics.cfg)\r\n",
      "(/usr/share/texlive/texmf-dist/tex/xelatex/xetex-def/xetex.def\r\n",
      "(/usr/share/texlive/texmf-dist/tex/generic/oberdiek/infwarerr.sty)\r\n",
      "(/usr/share/texlive/texmf-dist/tex/generic/oberdiek/ltxcmds.sty)))))"
     ]
    },
    {
     "name": "stdout",
     "output_type": "stream",
     "text": [
      "\r\n",
      "(/usr/share/texlive/texmf-dist/tex/latex/fontspec/fontspec.cfg)))\r\n",
      "(/usr/share/texlive/texmf-dist/tex/latex/amsmath/amsmath.sty\r\n",
      "For additional information on amsmath, use the `?' option.\r\n",
      "(/usr/share/texlive/texmf-dist/tex/latex/amsmath/amstext.sty\r\n",
      "(/usr/share/texlive/texmf-dist/tex/latex/amsmath/amsgen.sty))\r\n",
      "(/usr/share/texlive/texmf-dist/tex/latex/amsmath/amsbsy.sty)\r\n",
      "(/usr/share/texlive/texmf-dist/tex/latex/amsmath/amsopn.sty))\r\n",
      "(/usr/share/texlive/texmf-dist/tex/latex/amsfonts/amssymb.sty\r\n",
      "(/usr/share/texlive/texmf-dist/tex/latex/amsfonts/amsfonts.sty))\r\n",
      "(/usr/share/texlive/texmf-dist/tex/latex/polyglossia/polyglossia.sty\r\n",
      "(/usr/share/texlive/texmf-dist/tex/latex/etoolbox/etoolbox.sty)\r\n",
      "(/usr/share/texlive/texmf-dist/tex/latex/makecmds/makecmds.sty)\r\n",
      "(/usr/share/texlive/texmf-dist/tex/latex/xkeyval/xkeyval.sty\r\n",
      "(/usr/share/texlive/texmf-dist/tex/generic/xkeyval/xkeyval.tex\r\n",
      "(/usr/share/texlive/texmf-dist/tex/generic/xkeyval/xkvutils.tex)))\r\n",
      "(/usr/share/texlive/texmf-dist/tex/generic/oberdiek/ifluatex.sty)\r\n",
      "(/usr/share/texlive/texmf-dist/tex/generic/ifxetex/ifxetex.sty))\r\n",
      "(/usr/share/texlive/texmf-dist/tex/latex/polyglossia/gloss-english.ldf)"
     ]
    },
    {
     "name": "stdout",
     "output_type": "stream",
     "text": [
      "\r\n",
      "(/usr/share/texlive/texmf-dist/tex/latex/fncychap/fncychap.sty) (./sphinx.sty\r\n",
      "(/usr/share/texlive/texmf-dist/tex/latex/fancyhdr/fancyhdr.sty)\r\n",
      "(/usr/share/texlive/texmf-dist/tex/latex/base/textcomp.sty\r\n",
      "(/usr/share/texlive/texmf-dist/tex/latex/base/ts1enc.def))\r\n",
      "(/usr/share/texlive/texmf-dist/tex/latex/titlesec/titlesec.sty)\r\n",
      "\r\n",
      " Package Sphinx Info: \r\n",
      " **** titlesec 2.10.1 successfully patched for bugfix ****\r\n",
      "\r\n",
      "(/usr/share/texlive/texmf-dist/tex/latex/tabulary/tabulary.sty\r\n",
      "(/usr/share/texlive/texmf-dist/tex/latex/tools/array.sty))\r\n",
      "(/usr/share/texlive/texmf-dist/tex/latex/tools/longtable.sty)\r\n",
      "(/usr/share/texlive/texmf-dist/tex/latex/varwidth/varwidth.sty)\r\n",
      "(./sphinxmulticell.sty)\r\n",
      "(/usr/share/texlive/texmf-dist/tex/latex/base/makeidx.sty)\r\n",
      "(/usr/share/texlive/texmf-dist/tex/latex/framed/framed.sty)\r\n",
      "(/usr/share/texlive/texmf-dist/tex/latex/xcolor/xcolor.sty\r\n",
      "(/usr/share/texlive/texmf-dist/tex/latex/latexconfig/color.cfg))\r\n",
      "(/usr/share/texlive/texmf-dist/tex/latex/fancyvrb/fancyvrb.sty\r\n",
      "Style option: `fancyvrb' v2.7a, with DG/SPQR fixes, and firstline=lastline fix \r\n",
      "<2008/02/07> (tvz)) (./footnotehyper-sphinx.sty)\r\n",
      "(/usr/share/texlive/texmf-dist/tex/latex/float/float.sty)\r\n",
      "(/usr/share/texlive/texmf-dist/tex/latex/wrapfig/wrapfig.sty)\r\n",
      "(/usr/share/texlive/texmf-dist/tex/latex/parskip/parskip.sty)\r\n",
      "(/usr/share/texlive/texmf-dist/tex/latex/base/alltt.sty)\r\n",
      "(/usr/share/texlive/texmf-dist/tex/latex/upquote/upquote.sty)\r\n",
      "(/usr/share/texlive/texmf-dist/tex/latex/capt-of/capt-of.sty"
     ]
    },
    {
     "name": "stdout",
     "output_type": "stream",
     "text": [
      ")\r\n",
      "(/usr/share/texlive/texmf-dist/tex/latex/needspace/needspace.sty)\r\n",
      "(/usr/share/texlive/texmf-dist/tex/latex/carlisle/remreset.sty)\r\n",
      "(./sphinxhighlight.sty)\r\n",
      "(/usr/share/texlive/texmf-dist/tex/latex/oberdiek/kvoptions.sty\r\n",
      "(/usr/share/texlive/texmf-dist/tex/generic/oberdiek/kvsetkeys.sty\r\n",
      "(/usr/share/texlive/texmf-dist/tex/generic/oberdiek/etexcmds.sty))))\r\n",
      "(/usr/share/texlive/texmf-dist/tex/latex/geometry/geometry.sty\r\n",
      "(/usr/share/texlive/texmf-dist/tex/generic/oberdiek/ifpdf.sty)\r\n",
      "(/usr/share/texlive/texmf-dist/tex/generic/oberdiek/ifvtex.sty))\r\n",
      "(/usr/share/texlive/texmf-dist/tex/latex/hyperref/hyperref.sty\r\n",
      "(/usr/share/texlive/texmf-dist/tex/generic/oberdiek/hobsub-hyperref.sty\r\n",
      "(/usr/share/texlive/texmf-dist/tex/generic/oberdiek/hobsub-generic.sty))\r\n",
      "(/usr/share/texlive/texmf-dist/tex/latex/oberdiek/auxhook.sty)\r\n",
      "(/usr/share/texlive/texmf-dist/tex/latex/hyperref/pd1enc.def)\r\n",
      "(/usr/share/texlive/texmf-dist/tex/latex/latexconfig/hyperref.cfg)\r\n",
      "(/usr/share/texlive/texmf-dist/tex/latex/hyperref/puenc.def"
     ]
    },
    {
     "name": "stdout",
     "output_type": "stream",
     "text": [
      ")\r\n",
      "(/usr/share/texlive/texmf-dist/tex/latex/url/url.sty))\r\n",
      "\r\n",
      "Package hyperref Message: Driver (autodetected): hxetex.\r\n",
      "\r\n",
      "(/usr/share/texlive/texmf-dist/tex/latex/hyperref/hxetex.def\r\n",
      "(/usr/share/texlive/texmf-dist/tex/generic/oberdiek/stringenc.sty)\r\n",
      "(/usr/share/texlive/texmf-dist/tex/latex/oberdiek/rerunfilecheck.sty))\r\n",
      "(/usr/share/texlive/texmf-dist/tex/latex/oberdiek/hypcap.sty)\r\n",
      "(./sphinxmessages.sty)\r\n",
      "(/usr/share/texlive/texmf-dist/tex/latex/blindtext/blindtext.sty\r\n",
      "(/usr/share/texlive/texmf-dist/tex/latex/tools/xspace.sty))\r\n",
      "(/usr/share/texlive/texmf-dist/tex/latex/natbib/natbib.sty)\r\n",
      "(/usr/share/texlive/texmf-dist/tex/latex/minted/minted.sty\r\n",
      "(/usr/share/texlive/texmf-dist/tex/latex/base/ifthen.sty)\r\n",
      "(/usr/share/texlive/texmf-dist/tex/latex/tools/calc.sty)\r\n",
      "(/usr/share/texlive/texmf-dist/tex/latex/ifplatform/ifplatform.sty\r\n",
      "(/usr/share/texlive/texmf-dist/tex/generic/oberdiek/catchfile.sty)\r\n",
      "\r\n",
      "Package ifplatform Warning: \r\n",
      "    shell escape is disabled, so I can only detect \\ifwindows.\r\n",
      "\r\n",
      ") (/usr/share/texlive/texmf-dist/tex/generic/xstring/xstring.sty\r\n",
      "(/usr/share/texlive/texmf-dist/tex/generic/xstring/xstring.tex))\r\n",
      "(/usr/share/texlive/texmf-dist/tex/latex/lineno/lineno.sty)"
     ]
    },
    {
     "name": "stdout",
     "output_type": "stream",
     "text": [
      ")\r\n",
      "Writing index file deply-demo.idx\r\n",
      "(./deply-demo.aux) (/usr/share/texmf/tex/latex/tipa/t3cmr.fd)\r\n",
      "(/usr/share/texlive/texmf-dist/tex/latex/base/ts1cmr.fd)\r\n",
      "*geometry* driver: auto-detecting\r\n",
      "*geometry* detected driver: xetex\r\n",
      "(/usr/share/texlive/texmf-dist/tex/latex/hyperref/nameref.sty\r\n",
      "(/usr/share/texlive/texmf-dist/tex/generic/oberdiek/gettitlestring.sty))\r\n",
      "(./deply-demo.out) (./deply-demo.out)\r\n",
      "(/usr/share/texlive/texmf-dist/tex/latex/amsfonts/umsa.fd)\r\n",
      "(/usr/share/texlive/texmf-dist/tex/latex/amsfonts/umsb.fd) [1] [2]\r\n",
      "(./deply-demo.toc) [1] [2] [1] [2]\r\n",
      "Chapter 1.\r\n",
      "(./deply-demo.ind) [3] (./deply-demo.aux) )\r\n"
     ]
    },
    {
     "name": "stdout",
     "output_type": "stream",
     "text": [
      "(see the transcript file for additional information)\r\n",
      "Output written on deply-demo.pdf (7 pages).\r\n",
      "Transcript written on deply-demo.log.\r\n"
     ]
    },
    {
     "name": "stdout",
     "output_type": "stream",
     "text": [
      "Latexmk: Index file 'deply-demo.idx' was written\r\n",
      "Latexmk: Log file says output to 'deply-demo.pdf'\r\n",
      "Latexmk: All targets (deply-demo.pdf) are up-to-date\r\n"
     ]
    },
    {
     "name": "stdout",
     "output_type": "stream",
     "text": [
      "[d2lbook:build.py:L58] INFO   === Finished \"d2lbook build pdf\" in 00:00:04\r\n"
     ]
    }
   ],
   "source": [
    "!cd deploy; d2lbook build html pdf"
   ]
  },
  {
   "cell_type": "markdown",
   "metadata": {},
   "source": [
    "To deploy to Github, you need to have your machine's [SSH key imported to Github](https://github.com/settings/keys). Otherwise, you may need to type in your account and password. When it is done, you can assess the results online in one or two minutes. For this example, the URL is [/d2l-ai.github.io/d2l-book-deploy-demo/](https://d2l-ai.github.io/d2l-book-deploy-demo/)."
   ]
  },
  {
   "cell_type": "code",
   "execution_count": 6,
   "metadata": {},
   "outputs": [
    {
     "name": "stdout",
     "output_type": "stream",
     "text": [
      "[d2lbook:config.py:L12] INFO   Load configure from config.ini\r\n"
     ]
    },
    {
     "name": "stdout",
     "output_type": "stream",
     "text": [
      "Cloning into '/var/lib/jenkins/workspace/d2l-book/docs/_build/eval/user/deploy/_build/github_deploy-git'...\r\n"
     ]
    },
    {
     "name": "stdout",
     "output_type": "stream",
     "text": [
      "remote: Enumerating objects: 468, done.\u001b[K\r\n",
      "remote: Counting objects:   0% (1/468)\u001b[K\r",
      "remote: Counting objects:   1% (5/468)\u001b[K\r",
      "remote: Counting objects:   2% (10/468)\u001b[K\r",
      "remote: Counting objects:   3% (15/468)\u001b[K\r",
      "remote: Counting objects:   4% (19/468)\u001b[K\r",
      "remote: Counting objects:   5% (24/468)\u001b[K\r",
      "remote: Counting objects:   6% (29/468)\u001b[K\r",
      "remote: Counting objects:   7% (33/468)\u001b[K\r",
      "remote: Counting objects:   8% (38/468)\u001b[K\r",
      "remote: Counting objects:   9% (43/468)\u001b[K\r",
      "remote: Counting objects:  10% (47/468)\u001b[K\r",
      "remote: Counting objects:  11% (52/468)\u001b[K\r",
      "remote: Counting objects:  12% (57/468)\u001b[K\r",
      "remote: Counting objects:  13% (61/468)\u001b[K\r",
      "remote: Counting objects:  14% (66/468)\u001b[K\r",
      "remote: Counting objects:  15% (71/468)\u001b[K\r",
      "remote: Counting objects:  16% (75/468)\u001b[K\r",
      "remote: Counting objects:  17% (80/468)\u001b[K\r",
      "remote: Counting objects:  18% (85/468)\u001b[K\r",
      "remote: Counting objects:  19% (89/468)\u001b[K\r",
      "remote: Counting objects:  20% (94/468)\u001b[K\r",
      "remote: Counting objects:  21% (99/468)\u001b[K\r",
      "remote: Counting objects:  22% (103/468)\u001b[K\r",
      "remote: Counting objects:  23% (108/468)\u001b[K\r",
      "remote: Counting objects:  24% (113/468)\u001b[K\r",
      "remote: Counting objects:  25% (117/468)\u001b[K\r",
      "remote: Counting objects:  26% (122/468)\u001b[K\r",
      "remote: Counting objects:  27% (127/468)\u001b[K\r",
      "remote: Counting objects:  28% (132/468)\u001b[K\r",
      "remote: Counting objects:  29% (136/468)\u001b[K\r",
      "remote: Counting objects:  30% (141/468)\u001b[K\r",
      "remote: Counting objects:  31% (146/468)\u001b[K\r",
      "remote: Counting objects:  32% (150/468)\u001b[K\r",
      "remote: Counting objects:  33% (155/468)\u001b[K\r",
      "remote: Counting objects:  34% (160/468)\u001b[K\r",
      "remote: Counting objects:  35% (164/468)\u001b[K\r",
      "remote: Counting objects:  36% (169/468)\u001b[K\r",
      "remote: Counting objects:  37% (174/468)\u001b[K\r",
      "remote: Counting objects:  38% (178/468)\u001b[K\r",
      "remote: Counting objects:  39% (183/468)\u001b[K\r",
      "remote: Counting objects:  40% (188/468)\u001b[K\r",
      "remote: Counting objects:  41% (192/468)\u001b[K\r",
      "remote: Counting objects:  42% (197/468)\u001b[K\r",
      "remote: Counting objects:  43% (202/468)\u001b[K\r",
      "remote: Counting objects:  44% (206/468)\u001b[K\r",
      "remote: Counting objects:  45% (211/468)\u001b[K\r",
      "remote: Counting objects:  46% (216/468)\u001b[K\r",
      "remote: Counting objects:  47% (220/468)\u001b[K\r",
      "remote: Counting objects:  48% (225/468)\u001b[K\r",
      "remote: Counting objects:  49% (230/468)\u001b[K\r",
      "remote: Counting objects:  50% (234/468)\u001b[K\r",
      "remote: Counting objects:  51% (239/468)\u001b[K\r",
      "remote: Counting objects:  52% (244/468)\u001b[K\r",
      "remote: Counting objects:  53% (249/468)\u001b[K\r",
      "remote: Counting objects:  54% (253/468)\u001b[K\r",
      "remote: Counting objects:  55% (258/468)\u001b[K\r",
      "remote: Counting objects:  56% (263/468)\u001b[K\r",
      "remote: Counting objects:  57% (267/468)\u001b[K\r",
      "remote: Counting objects:  58% (272/468)\u001b[K\r",
      "remote: Counting objects:  59% (277/468)\u001b[K\r",
      "remote: Counting objects:  60% (281/468)\u001b[K\r",
      "remote: Counting objects:  61% (286/468)\u001b[K\r",
      "remote: Counting objects:  62% (291/468)\u001b[K\r",
      "remote: Counting objects:  63% (295/468)\u001b[K\r",
      "remote: Counting objects:  64% (300/468)\u001b[K\r",
      "remote: Counting objects:  65% (305/468)\u001b[K\r",
      "remote: Counting objects:  66% (309/468)\u001b[K\r",
      "remote: Counting objects:  67% (314/468)\u001b[K\r",
      "remote: Counting objects:  68% (319/468)\u001b[K\r",
      "remote: Counting objects:  69% (323/468)\u001b[K\r",
      "remote: Counting objects:  70% (328/468)\u001b[K\r",
      "remote: Counting objects:  71% (333/468)\u001b[K\r",
      "remote: Counting objects:  72% (337/468)\u001b[K\r",
      "remote: Counting objects:  73% (342/468)\u001b[K\r",
      "remote: Counting objects:  74% (347/468)\u001b[K\r",
      "remote: Counting objects:  75% (351/468)\u001b[K\r",
      "remote: Counting objects:  76% (356/468)\u001b[K\r",
      "remote: Counting objects:  77% (361/468)\u001b[K\r",
      "remote: Counting objects:  78% (366/468)\u001b[K\r",
      "remote: Counting objects:  79% (370/468)\u001b[K\r",
      "remote: Counting objects:  80% (375/468)\u001b[K\r",
      "remote: Counting objects:  81% (380/468)\u001b[K\r",
      "remote: Counting objects:  82% (384/468)\u001b[K\r",
      "remote: Counting objects:  83% (389/468)\u001b[K\r",
      "remote: Counting objects:  84% (394/468)\u001b[K\r",
      "remote: Counting objects:  85% (398/468)\u001b[K\r",
      "remote: Counting objects:  86% (403/468)\u001b[K\r",
      "remote: Counting objects:  87% (408/468)\u001b[K\r",
      "remote: Counting objects:  88% (412/468)\u001b[K\r",
      "remote: Counting objects:  89% (417/468)\u001b[K\r",
      "remote: Counting objects:  90% (422/468)\u001b[K\r",
      "remote: Counting objects:  91% (426/468)\u001b[K\r",
      "remote: Counting objects:  92% (431/468)\u001b[K\r",
      "remote: Counting objects:  93% (436/468)\u001b[K\r",
      "remote: Counting objects:  94% (440/468)\u001b[K\r",
      "remote: Counting objects:  95% (445/468)\u001b[K\r",
      "remote: Counting objects:  96% (450/468)\u001b[K\r",
      "remote: Counting objects:  97% (454/468)\u001b[K\r",
      "remote: Counting objects:  98% (459/468)\u001b[K\r",
      "remote: Counting objects:  99% (464/468)\u001b[K\r",
      "remote: Counting objects: 100% (468/468)\u001b[K\r",
      "remote: Counting objects: 100% (468/468), done.\u001b[K\r\n",
      "remote: Compressing objects:   0% (1/158)\u001b[K\r",
      "remote: Compressing objects:   1% (2/158)\u001b[K\r",
      "remote: Compressing objects:   2% (4/158)\u001b[K\r",
      "remote: Compressing objects:   3% (5/158)\u001b[K\r",
      "remote: Compressing objects:   4% (7/158)\u001b[K\r",
      "remote: Compressing objects:   5% (8/158)\u001b[K\r",
      "remote: Compressing objects:   6% (10/158)\u001b[K\r",
      "remote: Compressing objects:   7% (12/158)\u001b[K\r",
      "remote: Compressing objects:   8% (13/158)\u001b[K\r",
      "remote: Compressing objects:   9% (15/158)\u001b[K\r",
      "remote: Compressing objects:  10% (16/158)\u001b[K\r",
      "remote: Compressing objects:  11% (18/158)\u001b[K\r",
      "remote: Compressing objects:  12% (19/158)\u001b[K\r",
      "remote: Compressing objects:  13% (21/158)\u001b[K\r",
      "remote: Compressing objects:  14% (23/158)\u001b[K\r",
      "remote: Compressing objects:  15% (24/158)\u001b[K\r",
      "remote: Compressing objects:  16% (26/158)\u001b[K\r",
      "remote: Compressing objects:  17% (27/158)\u001b[K\r",
      "remote: Compressing objects:  18% (29/158)\u001b[K\r",
      "remote: Compressing objects:  19% (31/158)\u001b[K\r",
      "remote: Compressing objects:  20% (32/158)\u001b[K\r",
      "remote: Compressing objects:  21% (34/158)\u001b[K\r",
      "remote: Compressing objects:  22% (35/158)\u001b[K\r",
      "remote: Compressing objects:  23% (37/158)\u001b[K\r",
      "remote: Compressing objects:  24% (38/158)\u001b[K\r",
      "remote: Compressing objects:  25% (40/158)\u001b[K\r",
      "remote: Compressing objects:  26% (42/158)\u001b[K\r"
     ]
    },
    {
     "name": "stdout",
     "output_type": "stream",
     "text": [
      "remote: Compressing objects:  27% (43/158)\u001b[K\r",
      "remote: Compressing objects:  28% (45/158)\u001b[K\r",
      "remote: Compressing objects:  29% (46/158)\u001b[K\r",
      "remote: Compressing objects:  30% (48/158)\u001b[K\r",
      "remote: Compressing objects:  31% (49/158)\u001b[K\r",
      "remote: Compressing objects:  32% (51/158)\u001b[K\r",
      "remote: Compressing objects:  33% (53/158)\u001b[K\r",
      "remote: Compressing objects:  34% (54/158)\u001b[K\r",
      "remote: Compressing objects:  35% (56/158)\u001b[K\r",
      "remote: Compressing objects:  36% (57/158)\u001b[K\r",
      "remote: Compressing objects:  37% (59/158)\u001b[K\r",
      "remote: Compressing objects:  38% (61/158)\u001b[K\r",
      "remote: Compressing objects:  39% (62/158)\u001b[K\r",
      "remote: Compressing objects:  40% (64/158)\u001b[K\r",
      "remote: Compressing objects:  41% (65/158)\u001b[K\r",
      "remote: Compressing objects:  42% (67/158)\u001b[K\r",
      "remote: Compressing objects:  43% (68/158)\u001b[K\r",
      "remote: Compressing objects:  44% (70/158)\u001b[K\r",
      "remote: Compressing objects:  45% (72/158)\u001b[K\r",
      "remote: Compressing objects:  46% (73/158)\u001b[K\r",
      "remote: Compressing objects:  47% (75/158)\u001b[K\r",
      "remote: Compressing objects:  48% (76/158)\u001b[K\r",
      "remote: Compressing objects:  49% (78/158)\u001b[K\r"
     ]
    },
    {
     "name": "stdout",
     "output_type": "stream",
     "text": [
      "remote: Compressing objects:  50% (79/158)\u001b[K\r",
      "remote: Compressing objects:  51% (81/158)\u001b[K\r",
      "remote: Compressing objects:  52% (83/158)\u001b[K\r",
      "remote: Compressing objects:  53% (84/158)\u001b[K\r",
      "remote: Compressing objects:  54% (86/158)\u001b[K\r",
      "remote: Compressing objects:  55% (87/158)\u001b[K\r",
      "remote: Compressing objects:  56% (89/158)\u001b[K\r",
      "remote: Compressing objects:  57% (91/158)\u001b[K\r",
      "remote: Compressing objects:  58% (92/158)\u001b[K\r",
      "remote: Compressing objects:  59% (94/158)\u001b[K\r",
      "remote: Compressing objects:  60% (95/158)\u001b[K\r",
      "remote: Compressing objects:  61% (97/158)\u001b[K\r",
      "remote: Compressing objects:  62% (98/158)\u001b[K\r",
      "remote: Compressing objects:  63% (100/158)\u001b[K\r",
      "remote: Compressing objects:  64% (102/158)\u001b[K\r",
      "remote: Compressing objects:  65% (103/158)\u001b[K\r",
      "remote: Compressing objects:  66% (105/158)\u001b[K\r",
      "remote: Compressing objects:  67% (106/158)\u001b[K\r",
      "remote: Compressing objects:  68% (108/158)\u001b[K\r",
      "remote: Compressing objects:  69% (110/158)\u001b[K\r",
      "remote: Compressing objects:  70% (111/158)\u001b[K\r",
      "remote: Compressing objects:  71% (113/158)\u001b[K\r",
      "remote: Compressing objects:  72% (114/158)\u001b[K\r",
      "remote: Compressing objects:  73% (116/158)\u001b[K\r",
      "remote: Compressing objects:  74% (117/158)\u001b[K\r",
      "remote: Compressing objects:  75% (119/158)\u001b[K\r",
      "remote: Compressing objects:  76% (121/158)\u001b[K\r",
      "remote: Compressing objects:  77% (122/158)\u001b[K\r",
      "remote: Compressing objects:  78% (124/158)\u001b[K\r",
      "remote: Compressing objects:  79% (125/158)\u001b[K\r",
      "remote: Compressing objects:  80% (127/158)\u001b[K\r",
      "remote: Compressing objects:  81% (128/158)\u001b[K\r",
      "remote: Compressing objects:  82% (130/158)\u001b[K\r",
      "remote: Compressing objects:  83% (132/158)\u001b[K\r",
      "remote: Compressing objects:  84% (133/158)\u001b[K\r",
      "remote: Compressing objects:  85% (135/158)\u001b[K\r",
      "remote: Compressing objects:  86% (136/158)\u001b[K\r",
      "remote: Compressing objects:  87% (138/158)\u001b[K\r",
      "remote: Compressing objects:  88% (140/158)\u001b[K\r",
      "remote: Compressing objects:  89% (141/158)\u001b[K\r",
      "remote: Compressing objects:  90% (143/158)\u001b[K\r",
      "remote: Compressing objects:  91% (144/158)\u001b[K\r",
      "remote: Compressing objects:  92% (146/158)\u001b[K\r",
      "remote: Compressing objects:  93% (147/158)\u001b[K\r",
      "remote: Compressing objects:  94% (149/158)\u001b[K\r",
      "remote: Compressing objects:  95% (151/158)\u001b[K\r",
      "remote: Compressing objects:  96% (152/158)\u001b[K\r",
      "remote: Compressing objects:  97% (154/158)\u001b[K\r",
      "remote: Compressing objects:  98% (155/158)\u001b[K\r",
      "remote: Compressing objects:  99% (157/158)\u001b[K\r",
      "remote: Compressing objects: 100% (158/158)\u001b[K\r",
      "remote: Compressing objects: 100% (158/158), done.\u001b[K\r\n",
      "Receiving objects:   0% (1/468)   \r",
      "Receiving objects:   1% (5/468)   \r",
      "Receiving objects:   2% (10/468)   \r",
      "Receiving objects:   3% (15/468)   \r",
      "Receiving objects:   4% (19/468)   \r",
      "Receiving objects:   5% (24/468)   \r",
      "Receiving objects:   6% (29/468)   \r",
      "Receiving objects:   7% (33/468)   \r",
      "Receiving objects:   8% (38/468)   \r",
      "Receiving objects:   9% (43/468)   \r",
      "Receiving objects:  10% (47/468)   \r",
      "Receiving objects:  11% (52/468)   \r"
     ]
    },
    {
     "name": "stdout",
     "output_type": "stream",
     "text": [
      "Receiving objects:  12% (57/468)   \r",
      "Receiving objects:  13% (61/468)   \r",
      "Receiving objects:  14% (66/468)   \r",
      "Receiving objects:  15% (71/468)   \r",
      "Receiving objects:  16% (75/468)   \r",
      "Receiving objects:  17% (80/468)   \r",
      "Receiving objects:  18% (85/468)   \r",
      "Receiving objects:  19% (89/468)   \r",
      "Receiving objects:  20% (94/468)   \r",
      "Receiving objects:  21% (99/468)   \r",
      "Receiving objects:  22% (103/468)   \r",
      "Receiving objects:  23% (108/468)   \r",
      "Receiving objects:  24% (113/468)   \r",
      "Receiving objects:  25% (117/468)   \r",
      "Receiving objects:  26% (122/468)   \r",
      "Receiving objects:  27% (127/468)   \r",
      "Receiving objects:  28% (132/468)   \r",
      "Receiving objects:  29% (136/468)   \r",
      "Receiving objects:  30% (141/468)   \r",
      "Receiving objects:  31% (146/468)   \r",
      "Receiving objects:  32% (150/468)   \r",
      "Receiving objects:  33% (155/468)   \r",
      "Receiving objects:  34% (160/468)   \r",
      "Receiving objects:  35% (164/468)   \r",
      "Receiving objects:  36% (169/468)   \r",
      "Receiving objects:  37% (174/468)   \r",
      "Receiving objects:  38% (178/468)   \r",
      "Receiving objects:  39% (183/468)   \r",
      "Receiving objects:  40% (188/468)   \r",
      "Receiving objects:  41% (192/468)   \r",
      "Receiving objects:  42% (197/468)   \r",
      "Receiving objects:  43% (202/468)   \r",
      "Receiving objects:  44% (206/468)   \r",
      "Receiving objects:  45% (211/468)   \r",
      "Receiving objects:  46% (216/468)   \r",
      "Receiving objects:  47% (220/468)   \r",
      "Receiving objects:  48% (225/468)   \r",
      "Receiving objects:  49% (230/468)   \r",
      "Receiving objects:  50% (234/468)   \r",
      "Receiving objects:  51% (239/468)   \r",
      "Receiving objects:  52% (244/468)   \r",
      "Receiving objects:  53% (249/468)   \r",
      "Receiving objects:  54% (253/468)   \r",
      "Receiving objects:  55% (258/468)   \r",
      "Receiving objects:  56% (263/468)   \r",
      "Receiving objects:  57% (267/468)   \r",
      "Receiving objects:  58% (272/468)   \r",
      "Receiving objects:  59% (277/468)   \r",
      "Receiving objects:  60% (281/468)   \r",
      "Receiving objects:  61% (286/468)   \r",
      "Receiving objects:  62% (291/468)   \r",
      "Receiving objects:  63% (295/468)   \r",
      "Receiving objects:  64% (300/468)   \r",
      "Receiving objects:  65% (305/468)   \r",
      "Receiving objects:  66% (309/468)   \r",
      "Receiving objects:  67% (314/468)   \r",
      "Receiving objects:  68% (319/468)   \r",
      "Receiving objects:  69% (323/468)   \r",
      "Receiving objects:  70% (328/468)   \r",
      "Receiving objects:  71% (333/468)   \r",
      "Receiving objects:  72% (337/468)   \r",
      "Receiving objects:  73% (342/468)   \r",
      "Receiving objects:  74% (347/468)   \r",
      "Receiving objects:  75% (351/468)   \r",
      "Receiving objects:  76% (356/468)   \r",
      "Receiving objects:  77% (361/468)   \r",
      "Receiving objects:  78% (366/468)   \r",
      "Receiving objects:  79% (370/468)   \r",
      "Receiving objects:  80% (375/468)   \r"
     ]
    },
    {
     "name": "stdout",
     "output_type": "stream",
     "text": [
      "Receiving objects:  81% (380/468)   \r",
      "Receiving objects:  82% (384/468)   \r",
      "Receiving objects:  83% (389/468)   \r",
      "Receiving objects:  84% (394/468)   \r",
      "Receiving objects:  85% (398/468)   \r",
      "Receiving objects:  86% (403/468)   \r",
      "Receiving objects:  87% (408/468)   \r",
      "Receiving objects:  88% (412/468)   \r",
      "Receiving objects:  89% (417/468)   \r",
      "Receiving objects:  90% (422/468)   \r",
      "Receiving objects:  91% (426/468)   \r",
      "Receiving objects:  92% (431/468)   \r",
      "Receiving objects:  93% (436/468)   \r",
      "Receiving objects:  94% (440/468)   \r",
      "Receiving objects:  95% (445/468)   \r",
      "Receiving objects:  96% (450/468)   \r",
      "remote: Total 468 (delta 332), reused 437 (delta 304), pack-reused 0\u001b[K\r\n",
      "Receiving objects:  97% (454/468)   \r",
      "Receiving objects:  98% (459/468)   \r",
      "Receiving objects:  99% (464/468)   \r",
      "Receiving objects: 100% (468/468)   \r",
      "Receiving objects: 100% (468/468), 2.99 MiB | 0 bytes/s, done.\r\n",
      "Resolving deltas:   0% (0/332)   \r",
      "Resolving deltas:   6% (22/332)   \r",
      "Resolving deltas:   7% (26/332)   \r",
      "Resolving deltas:   8% (27/332)   \r",
      "Resolving deltas:   9% (30/332)   \r",
      "Resolving deltas:  10% (34/332)   \r",
      "Resolving deltas:  34% (113/332)   \r"
     ]
    },
    {
     "name": "stdout",
     "output_type": "stream",
     "text": [
      "Resolving deltas:  47% (158/332)   \r",
      "Resolving deltas:  59% (197/332)   \r",
      "Resolving deltas:  60% (200/332)   \r",
      "Resolving deltas:  81% (272/332)   \r",
      "Resolving deltas:  84% (280/332)   \r",
      "Resolving deltas:  91% (305/332)   \r",
      "Resolving deltas:  92% (307/332)   \r",
      "Resolving deltas:  96% (320/332)   \r",
      "Resolving deltas:  97% (324/332)   \r",
      "Resolving deltas:  98% (327/332)   \r",
      "Resolving deltas: 100% (332/332)   \r",
      "Resolving deltas: 100% (332/332), done.\r\n",
      "Checking connectivity... done.\r\n"
     ]
    },
    {
     "name": "stdout",
     "output_type": "stream",
     "text": [
      "[master 72d19f1] Uploaded by d2lbook\r\n",
      " 2 files changed, 13 insertions(+), 7 deletions(-)\r\n",
      " rewrite deply-demo.pdf (75%)\r\n"
     ]
    },
    {
     "name": "stdout",
     "output_type": "stream",
     "text": [
      "Counting objects: 5, done.\r\n",
      "Delta compression using up to 32 threads.\r\n",
      "Compressing objects:  20% (1/5)   \r",
      "Compressing objects:  40% (2/5)   \r",
      "Compressing objects:  60% (3/5)   \r",
      "Compressing objects:  80% (4/5)   \r",
      "Compressing objects: 100% (5/5)   \r",
      "Compressing objects: 100% (5/5), done.\r\n",
      "Writing objects:  20% (1/5)   \r",
      "Writing objects:  40% (2/5)   \r",
      "Writing objects:  60% (3/5)   \r",
      "Writing objects:  80% (4/5)   \r",
      "Writing objects: 100% (5/5)   \r",
      "Writing objects: 100% (5/5), 13.61 KiB | 0 bytes/s, done.\r\n",
      "Total 5 (delta 3), reused 0 (delta 0)\r\n"
     ]
    },
    {
     "name": "stdout",
     "output_type": "stream",
     "text": [
      "remote: Resolving deltas:   0% (0/3)\u001b[K\r"
     ]
    },
    {
     "name": "stdout",
     "output_type": "stream",
     "text": [
      "remote: Resolving deltas:  33% (1/3)\u001b[K\r",
      "remote: Resolving deltas:  66% (2/3)\u001b[K\r",
      "remote: Resolving deltas: 100% (3/3)\u001b[K\r",
      "remote: Resolving deltas: 100% (3/3), completed with 3 local objects.\u001b[K\r\n"
     ]
    },
    {
     "name": "stdout",
     "output_type": "stream",
     "text": [
      "To git@github.com:d2l-ai/d2l-book-deploy-demo.git\r\n",
      "   9a509db..72d19f1  master -> master\r\n"
     ]
    }
   ],
   "source": [
    "!cd deploy; d2lbook deploy html pdf"
   ]
  },
  {
   "cell_type": "markdown",
   "metadata": {},
   "source": [
    "Lastly, let's clean our workspace."
   ]
  },
  {
   "cell_type": "code",
   "execution_count": 7,
   "metadata": {},
   "outputs": [],
   "source": [
    "!rm -rf deploy"
   ]
  },
  {
   "cell_type": "markdown",
   "metadata": {},
   "source": [
    "## Deploying Through AWS\n",
    "\n",
    "Another supported option is deploying through AWS. This option provide more flexibility but require you to know the basic usage of AWS.\n",
    "\n",
    "We recommend the following procedure for the deployment:\n",
    "\n",
    "1. Copying results into [S3](https://aws.amazon.com/s3/).\n",
    "2. Serving with a [CDN](https://en.wikipedia.org/wiki/Content_delivery_network) by using [CloudFront](https://aws.amazon.com/cloudfront/) to reduce the latency.\n",
    "3. Buying and adding a customized domain at [Route 53](https://aws.amazon.com/route53/)\n",
    "\n",
    "Now let's walk through these three steps one-by-one. Before getting started, you need to have a valid AWS account and typing in your [AWS access key](https://docs.aws.amazon.com/IAM/latest/UserGuide/id_credentials_access-keys.html) by running `aws configure`.\n",
    "\n",
    "First, create a S3 bucket. You can use the targeted domain name as your bucket name. For example, this site is deployed at book.d2l.ai, then we created a bucket with the name `book.d2l.ai`. In addition, we need to disable the blocking public access through ACLs when creating this bucket, see :numref:`fig_s3-acl` and enable static website hosting, see :numref:`fig_s3-web-hosting`. Then you will get a URL to access this bucket. In our example, it's http://book.d2l.ai.s3-website-us-west-2.amazonaws.com/.\n",
    "\n",
    "![Disable blocking public access through ACLs](../img/s3-acl.png)\n",
    "\n",
    ":label:`fig_s3-acl`\n",
    ":width:`500px`\n",
    "\n",
    "![Enable static web hosting](../img/s3-web-hosting.png)\n",
    "\n",
    ":label:`fig_s3-web-hosting`\n",
    ":width:`500px`\n",
    "\n",
    "Second, create a new CloudFront distribution, by specifying the following options:\n",
    "- Origin Domain Name: the previous S3 URL without `http://`, e.g. `book.d2l.ai.s3-website-us-west-2.amazonaws.com`\n",
    "- Default Root Object: `index.html`\n",
    "- [optional] Alternate Domain Names (CNAMEs): your target domain name, e.g. `book.d2l.ai`\n",
    "- [optional] SSL Certificate: you can create one in [Certificate Manager](https://aws.amazon.com/certificate-manager/) and then select it.\n",
    "\n",
    "After a few minute, we will obtain the domain name such as `d1y0wi2ibwmzrt.cloudfront.net`.\n",
    "\n",
    "Third, you can either buying a domain at Route 53 or adding Route 53's DNS into your existing domain. After it, create a \"Hosted Zone\" and then a Type-A Record Set with the CoundFront domain name as the alias target, see :numref:`fig_record-set` for an example.\n",
    "\n",
    "![Create a Record Set](../img/record-set.png)\n",
    "\n",
    ":label:`fig_record-set`\n",
    ":width:`350px`\n",
    "\n",
    "Once you are done, then specify your S3 bucket name in the following `config.ini` entry."
   ]
  },
  {
   "cell_type": "markdown",
   "metadata": {},
   "source": [
    "```bash\n",
    "[deploy]\n",
    "s3_bucket = s3://book.d2l.ai\n",
    "```\n"
   ]
  },
  {
   "cell_type": "markdown",
   "metadata": {},
   "source": [
    "Each time you run `d2lbook deploy`, all results will be synchronized to this bucket and deployed automatically. Note that since we enabled a CDN, any new change may take a while to be shown in your URL (e.g. http://book.d2l.ai). But you can check the S3 bucket URL (e.g. http://book.d2l.ai.s3-website-us-west-2.amazonaws.com) to review the changes immediately."
   ]
  }
 ],
 "metadata": {
  "kernelspec": {
   "display_name": "conda_python3",
   "name": "conda_python3"
  },
  "language_info": {
   "name": "python"
  }
 },
 "nbformat": 4,
 "nbformat_minor": 2
}