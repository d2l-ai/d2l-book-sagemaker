{
 "cells": [
  {
   "cell_type": "markdown",
   "metadata": {},
   "source": [
    "# User Guide\n",
    "\n",
    "In this part, we will cover\n",
    "\n",
    "1. How to create a project\n",
    "1. How to build and deploy the documents\n",
    "1. Various configuration options\n",
    "1. Markdown and code examples"
   ]
  },
  {
   "cell_type": "markdown",
   "metadata": {},
   "source": [
    "```toc\n",
    ":maxdepth: 2\n",
    "\n",
    "create\n",
    "edit\n",
    "build\n",
    "deploy\n",
    "markdown\n",
    "code\n",
    "colab\n",
    "```\n"
   ]
  }
 ],
 "metadata": {
  "kernelspec": {
   "display_name": "conda_python3",
   "name": "conda_python3"
  },
  "language_info": {
   "name": "python"
  }
 },
 "nbformat": 4,
 "nbformat_minor": 2
}