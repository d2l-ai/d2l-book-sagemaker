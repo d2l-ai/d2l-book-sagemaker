{
 "cells": [
  {
   "cell_type": "markdown",
   "metadata": {},
   "source": [
    "# User Guide\n",
    "\n",
    "In this part, we will cover\n",
    "\n",
    "1. How to create a project\n",
    "1. How to build and deploy the documents\n",
    "1. Various configuration options\n",
    "1. Markdown and code examples"
   ]
  },
  {
   "cell_type": "markdown",
   "metadata": {},
   "source": [
    " - [create](create.ipynb)\n",
    " - [edit](edit.ipynb)\n",
    " - [build](build.ipynb)\n",
    " - [deploy](deploy.ipynb)\n",
    " - [markdown](markdown.ipynb)\n",
    " - [code](code.ipynb)\n",
    " - [colab](colab.ipynb)\n"
   ]
  }
 ],
 "metadata": {
  "kernelspec": {
   "display_name": "conda_python3",
   "name": "conda_python3"
  },
  "language_info": {
   "name": "python"
  }
 },
 "nbformat": 4,
 "nbformat_minor": 2
}