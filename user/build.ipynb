{
 "cells": [
  {
   "cell_type": "markdown",
   "metadata": {},
   "source": [
    "# Building \n",
    "\n",
    "This section we will explain various options to build your projects. This options can be grouped into four categories:\n",
    "\n",
    "1. Sanity check\n",
    "   - `d2lbook build linkcheck` will check if all internal and external links are accessible.  \n",
    "   - `d2lbook build outputcheck` will check if no notebook will contain code outputs\n",
    "1. Building results\n",
    "   - `d2lbook build html`: build the HTML version into `_build/html`\n",
    "   - `d2lbook build pdf`: build the PDF version into `_build/pdf`\n",
    "   - `d2lbook build pkg`: build a zip file contains all `.ipynb` notebooks\n",
    "1. Additional features   \n",
    "   - `d2lbook build colab`: convert all notebooks can be run on Google Colab into `_build/colab`. See more in :numref:`sec_colab`\n",
    "   - `d2lbook build lib`: build a Python package so we can reuse codes in other notebooks. See more in XXX.\n",
    "1. Internal stages, which often are triggered automatically.  \n",
    "   - `d2lbook build eval`: evaluate all notebooks and save them as `.ipynb` notebooks into `_build/eval`\n",
    "   - `d2lbook build rst`: convert all notebooks into `rst` files and create a Sphinx project in `_build/rst`\n",
    "   \n",
    "\n",
    "## Building Cache\n",
    "\n",
    "We encourage you to evaluate your notebooks to obtain code cell results, instead of keeping these results in the source files for two reasons:\n",
    "1. These results make code review difficult, especially when they have randomness either due to numerical precision or random number generators. \n",
    "1. A notebook hasn't evaluated for a while may be broken due to package upgrading. \n",
    "\n",
    "But the evaluation costs additional overhead during building. We recommend to limit the runtime for each notebook within a few minutes. And `d2lbook` will reuse the previous built and only evaluate the modified notebooks.\n",
    "\n",
    "For example, the average runtime of a notebook (section) in [Dive into Deep Learning](https://d2l.ai) is about 2 minutes on a GPU machine, due to training neural networks. It contains more than 100 notebooks, which make the total runtime cost 2-3 hours. In reality, each code change will only modify a few notebooks and therefore the [build time](http://ci.d2l.ai/blue/organizations/jenkins/d2l-en/activity) is often less than 10 minutes. \n",
    "\n",
    "Let's see how it works. First create a project as we did in :numref:`sec_create`."
   ]
  },
  {
   "cell_type": "code",
   "execution_count": 1,
   "metadata": {},
   "outputs": [],
   "source": [
    "!mkdir -p cache"
   ]
  },
  {
   "cell_type": "code",
   "execution_count": 2,
   "metadata": {},
   "outputs": [
    {
     "name": "stdout",
     "output_type": "stream",
     "text": [
      "Writing cache/index.md\n"
     ]
    }
   ],
   "source": [
    "%%writefile cache/index.md\n",
    "# My Book\n",
    "\n",
    "The starting page of my book with `d2lbook`.\n",
    "\n",
    "````toc\n",
    "get_started\n",
    "````"
   ]
  },
  {
   "cell_type": "code",
   "execution_count": 3,
   "metadata": {},
   "outputs": [
    {
     "name": "stdout",
     "output_type": "stream",
     "text": [
      "Writing cache/get_started.md\n"
     ]
    }
   ],
   "source": [
    "%%writefile cache/get_started.md\n",
    "# Getting Started\n",
    "\n",
    "Please first install my favorite package `numpy`."
   ]
  },
  {
   "cell_type": "code",
   "execution_count": 4,
   "metadata": {},
   "outputs": [
    {
     "name": "stdout",
     "output_type": "stream",
     "text": [
      "[d2lbook:build.py:L110] INFO   2 notebooks are outdated\r\n",
      "[d2lbook:build.py:L112] INFO   [1] ./get_started.md\r\n",
      "[d2lbook:build.py:L112] INFO   [2] ./index.md\r\n",
      "[d2lbook:build.py:L117] INFO   [1/2, 00:00:00] Evaluating ./get_started.md, save as _build/eval/get_started.ipynb\r\n"
     ]
    },
    {
     "name": "stdout",
     "output_type": "stream",
     "text": [
      "[d2lbook:execute.py:L404] INFO   Executing notebook with kernel: python\r\n"
     ]
    },
    {
     "name": "stdout",
     "output_type": "stream",
     "text": [
      "[d2lbook:build.py:L117] INFO   [2/2, 00:00:01] Evaluating ./index.md, save as _build/eval/index.ipynb\r\n"
     ]
    },
    {
     "name": "stdout",
     "output_type": "stream",
     "text": [
      "[d2lbook:execute.py:L404] INFO   Executing notebook with kernel: python\r\n"
     ]
    },
    {
     "name": "stdout",
     "output_type": "stream",
     "text": [
      "[d2lbook:build.py:L58] INFO   === Finished \"d2lbook build eval\" in 00:00:01\r\n",
      "[d2lbook:build.py:L183] INFO   2 rst files are outdated\r\n",
      "[d2lbook:build.py:L185] INFO   Convert _build/eval/get_started.ipynb to _build/rst/get_started.rst\r\n"
     ]
    },
    {
     "name": "stdout",
     "output_type": "stream",
     "text": [
      "[d2lbook:build.py:L185] INFO   Convert _build/eval/index.ipynb to _build/rst/index.rst\r\n"
     ]
    },
    {
     "name": "stdout",
     "output_type": "stream",
     "text": [
      "[d2lbook:build.py:L58] INFO   === Finished \"d2lbook build rst\" in 00:00:02\r\n"
     ]
    },
    {
     "name": "stdout",
     "output_type": "stream",
     "text": [
      "[d2lbook:build.py:L58] INFO   === Finished \"d2lbook build ipynb\" in 00:00:00\r\n",
      "[d2lbook:build.py:L58] INFO   === Finished \"d2lbook build colab\" in 00:00:00\r\n",
      "[d2lbook:build.py:L58] INFO   === Finished \"d2lbook build sagemaker\" in 00:00:00\r\n"
     ]
    },
    {
     "name": "stdout",
     "output_type": "stream",
     "text": [
      "\u001b[01mRunning Sphinx v2.3.0\u001b[39;49;00m\r\n"
     ]
    },
    {
     "name": "stdout",
     "output_type": "stream",
     "text": [
      "\u001b[01mmaking output directory... \u001b[39;49;00mdone\r\n",
      "\u001b[01mbuilding [mo]: \u001b[39;49;00mtargets for 0 po files that are out of date\r\n",
      "\u001b[01mbuilding [html]: \u001b[39;49;00mtargets for 2 source files that are out of date\r\n",
      "\u001b[01mupdating environment: \u001b[39;49;00m[new config] 2 added, 0 changed, 0 removed\r\n",
      "\u001b[01mreading sources... \u001b[39;49;00m[ 50%] \u001b[35mget_started\u001b[39;49;00m                                           \r"
     ]
    },
    {
     "name": "stdout",
     "output_type": "stream",
     "text": [
      "\u001b[01mreading sources... \u001b[39;49;00m[100%] \u001b[35mindex\u001b[39;49;00m                                                 \r",
      "\r\n",
      "\u001b[01mlooking for now-outdated files... \u001b[39;49;00mnone found\r\n",
      "\u001b[01mpickling environment... \u001b[39;49;00mdone\r\n",
      "\u001b[01mchecking consistency... \u001b[39;49;00mdone\r\n",
      "\u001b[01mpreparing documents... \u001b[39;49;00mdone\r\n"
     ]
    },
    {
     "name": "stdout",
     "output_type": "stream",
     "text": [
      "\u001b[01mwriting output... \u001b[39;49;00m[100%] \u001b[32mindex\u001b[39;49;00m                                                  \r"
     ]
    },
    {
     "name": "stdout",
     "output_type": "stream",
     "text": [
      "\r\n",
      "\u001b[01mwaiting for workers...\u001b[39;49;00m\r\n",
      "\u001b[01mgenerating indices... \u001b[39;49;00m genindex"
     ]
    },
    {
     "name": "stdout",
     "output_type": "stream",
     "text": [
      "done\r\n",
      "\u001b[01mwriting additional pages... \u001b[39;49;00m searchdone\r\n",
      "\u001b[01mcopying static files... ... \u001b[39;49;00m"
     ]
    },
    {
     "name": "stdout",
     "output_type": "stream",
     "text": [
      "done\r\n",
      "\u001b[01mcopying extra files... \u001b[39;49;00mdone\r\n",
      "\u001b[01mdumping search index in English (code: en)... \u001b[39;49;00mdone\r\n",
      "\u001b[01mdumping object inventory... \u001b[39;49;00mdone\r\n",
      "\u001b[01mbuild succeeded.\u001b[39;49;00m\r\n",
      "\r\n",
      "The HTML pages are in _build/html.\r\n"
     ]
    },
    {
     "name": "stdout",
     "output_type": "stream",
     "text": [
      "[d2lbook:build.py:L58] INFO   === Finished \"d2lbook build html\" in 00:00:02\r\n"
     ]
    }
   ],
   "source": [
    "!cd cache; d2lbook build html"
   ]
  },
  {
   "cell_type": "markdown",
   "metadata": {},
   "source": [
    "You can see `index.md` is evaluated. (Though it doesn't contain codes, it's fine to evaluate it as a Jupyter notebook.)\n",
    "\n",
    "If building again, we will see no notebook will be evaluated."
   ]
  },
  {
   "cell_type": "code",
   "execution_count": 5,
   "metadata": {},
   "outputs": [
    {
     "name": "stdout",
     "output_type": "stream",
     "text": [
      "[d2lbook:build.py:L110] INFO   0 notebooks are outdated\r\n",
      "[d2lbook:build.py:L58] INFO   === Finished \"d2lbook build eval\" in 00:00:00\r\n",
      "[d2lbook:build.py:L183] INFO   0 rst files are outdated\r\n",
      "[d2lbook:build.py:L58] INFO   === Finished \"d2lbook build rst\" in 00:00:00\r\n",
      "[d2lbook:build.py:L58] INFO   === Finished \"d2lbook build ipynb\" in 00:00:00\r\n",
      "[d2lbook:build.py:L58] INFO   === Finished \"d2lbook build colab\" in 00:00:00\r\n",
      "[d2lbook:build.py:L58] INFO   === Finished \"d2lbook build sagemaker\" in 00:00:00\r\n"
     ]
    },
    {
     "name": "stdout",
     "output_type": "stream",
     "text": [
      "\u001b[01mRunning Sphinx v2.3.0\u001b[39;49;00m\r\n"
     ]
    },
    {
     "name": "stdout",
     "output_type": "stream",
     "text": [
      "\u001b[01mloading pickled environment... \u001b[39;49;00mdone\r\n",
      "\u001b[01mbuilding [mo]: \u001b[39;49;00mtargets for 0 po files that are out of date\r\n",
      "\u001b[01mbuilding [html]: \u001b[39;49;00mtargets for 0 source files that are out of date\r\n",
      "\u001b[01mupdating environment: \u001b[39;49;00m0 added, 0 changed, 0 removed\r\n",
      "\u001b[01mlooking for now-outdated files... \u001b[39;49;00m"
     ]
    },
    {
     "name": "stdout",
     "output_type": "stream",
     "text": [
      "none found\r\n",
      "\u001b[01mno targets are out of date.\u001b[39;49;00m\r\n",
      "\u001b[01mbuild succeeded.\u001b[39;49;00m\r\n",
      "\r\n",
      "The HTML pages are in _build/html.\r\n"
     ]
    },
    {
     "name": "stdout",
     "output_type": "stream",
     "text": [
      "[d2lbook:build.py:L58] INFO   === Finished \"d2lbook build html\" in 00:00:00\r\n"
     ]
    }
   ],
   "source": [
    "!cd cache; d2lbook build html"
   ]
  },
  {
   "cell_type": "markdown",
   "metadata": {},
   "source": [
    "Now let's modify `get_started.md`, you will see it will be re-evaluated, but not `index.md`."
   ]
  },
  {
   "cell_type": "code",
   "execution_count": 6,
   "metadata": {},
   "outputs": [
    {
     "name": "stdout",
     "output_type": "stream",
     "text": [
      "Overwriting cache/get_started.md\n"
     ]
    }
   ],
   "source": [
    "%%writefile cache/get_started.md\n",
    "# Getting Started\n",
    "\n",
    "Please first install my favorite package `numpy>=1.18`."
   ]
  },
  {
   "cell_type": "code",
   "execution_count": 7,
   "metadata": {},
   "outputs": [
    {
     "name": "stdout",
     "output_type": "stream",
     "text": [
      "[d2lbook:build.py:L110] INFO   1 notebooks are outdated\r\n",
      "[d2lbook:build.py:L112] INFO   [1] ./get_started.md\r\n",
      "[d2lbook:build.py:L117] INFO   [1/1, 00:00:00] Evaluating ./get_started.md, save as _build/eval/get_started.ipynb\r\n"
     ]
    },
    {
     "name": "stdout",
     "output_type": "stream",
     "text": [
      "[d2lbook:execute.py:L404] INFO   Executing notebook with kernel: python\r\n"
     ]
    },
    {
     "name": "stdout",
     "output_type": "stream",
     "text": [
      "[d2lbook:build.py:L58] INFO   === Finished \"d2lbook build eval\" in 00:00:01\r\n",
      "[d2lbook:build.py:L183] INFO   1 rst files are outdated\r\n",
      "[d2lbook:build.py:L185] INFO   Convert _build/eval/get_started.ipynb to _build/rst/get_started.rst\r\n"
     ]
    },
    {
     "name": "stdout",
     "output_type": "stream",
     "text": [
      "[d2lbook:build.py:L58] INFO   === Finished \"d2lbook build rst\" in 00:00:01\r\n",
      "[d2lbook:build.py:L58] INFO   === Finished \"d2lbook build ipynb\" in 00:00:00\r\n",
      "[d2lbook:build.py:L58] INFO   === Finished \"d2lbook build colab\" in 00:00:00\r\n",
      "[d2lbook:build.py:L58] INFO   === Finished \"d2lbook build sagemaker\" in 00:00:00\r\n"
     ]
    },
    {
     "name": "stdout",
     "output_type": "stream",
     "text": [
      "\u001b[01mRunning Sphinx v2.3.0\u001b[39;49;00m\r\n"
     ]
    },
    {
     "name": "stdout",
     "output_type": "stream",
     "text": [
      "\u001b[01mloading pickled environment... \u001b[39;49;00mdone\r\n"
     ]
    },
    {
     "name": "stdout",
     "output_type": "stream",
     "text": [
      "\u001b[01mbuilding [mo]: \u001b[39;49;00mtargets for 0 po files that are out of date\r\n",
      "\u001b[01mbuilding [html]: \u001b[39;49;00mtargets for 1 source files that are out of date\r\n",
      "\u001b[01mupdating environment: \u001b[39;49;00m0 added, 1 changed, 0 removed\r\n",
      "\u001b[01mreading sources... \u001b[39;49;00m[100%] \u001b[35mget_started\u001b[39;49;00m                                           \r",
      "\r\n",
      "\u001b[01mlooking for now-outdated files... \u001b[39;49;00mnone found\r\n",
      "\u001b[01mpickling environment... \u001b[39;49;00mdone\r\n",
      "\u001b[01mchecking consistency... \u001b[39;49;00mdone\r\n",
      "\u001b[01mpreparing documents... \u001b[39;49;00mdone\r\n"
     ]
    },
    {
     "name": "stdout",
     "output_type": "stream",
     "text": [
      "\u001b[01mwriting output... \u001b[39;49;00m[100%] \u001b[32mindex\u001b[39;49;00m                                                  \r",
      "\r\n",
      "\u001b[01mwaiting for workers...\u001b[39;49;00m\r\n"
     ]
    },
    {
     "name": "stdout",
     "output_type": "stream",
     "text": [
      "\u001b[01mgenerating indices... \u001b[39;49;00m genindexdone\r\n",
      "\u001b[01mwriting additional pages... \u001b[39;49;00m search"
     ]
    },
    {
     "name": "stdout",
     "output_type": "stream",
     "text": [
      "done\r\n",
      "\u001b[01mcopying static files... ... \u001b[39;49;00mdone\r\n",
      "\u001b[01mcopying extra files... \u001b[39;49;00mdone\r\n",
      "\u001b[01mdumping search index in English (code: en)... \u001b[39;49;00mdone\r\n",
      "\u001b[01mdumping object inventory... \u001b[39;49;00mdone\r\n",
      "\u001b[01mbuild succeeded.\u001b[39;49;00m\r\n",
      "\r\n",
      "The HTML pages are in _build/html.\r\n"
     ]
    },
    {
     "name": "stdout",
     "output_type": "stream",
     "text": [
      "[d2lbook:build.py:L58] INFO   === Finished \"d2lbook build html\" in 00:00:01\r\n"
     ]
    }
   ],
   "source": [
    "!cd cache; d2lbook build html"
   ]
  },
  {
   "cell_type": "markdown",
   "metadata": {},
   "source": [
    "One way to trigger the whole built is removing the saved notebooks in `_build/eval`, or simply deleting `_build`. Another way is specifying some dependencies. For example, in the following cell we add `config.ini` into the dependencies. Every time `config.ini` is modified, it will invalid the cache of all notebooks and trigger a build from scratch."
   ]
  },
  {
   "cell_type": "code",
   "execution_count": 8,
   "metadata": {},
   "outputs": [
    {
     "name": "stdout",
     "output_type": "stream",
     "text": [
      "Writing cache/config.ini\n"
     ]
    }
   ],
   "source": [
    "%%writefile cache/config.ini\n",
    "\n",
    "[build]\n",
    "dependencies = config.ini"
   ]
  },
  {
   "cell_type": "code",
   "execution_count": 9,
   "metadata": {},
   "outputs": [
    {
     "name": "stdout",
     "output_type": "stream",
     "text": [
      "[d2lbook:config.py:L12] INFO   Load configure from config.ini\r\n",
      "[d2lbook:build.py:L110] INFO   2 notebooks are outdated\r\n",
      "[d2lbook:build.py:L112] INFO   [1] ./get_started.md\r\n",
      "[d2lbook:build.py:L112] INFO   [2] ./index.md\r\n",
      "[d2lbook:build.py:L117] INFO   [1/2, 00:00:00] Evaluating ./get_started.md, save as _build/eval/get_started.ipynb\r\n"
     ]
    },
    {
     "name": "stdout",
     "output_type": "stream",
     "text": [
      "[d2lbook:execute.py:L404] INFO   Executing notebook with kernel: python\r\n"
     ]
    },
    {
     "name": "stdout",
     "output_type": "stream",
     "text": [
      "[d2lbook:build.py:L117] INFO   [2/2, 00:00:01] Evaluating ./index.md, save as _build/eval/index.ipynb\r\n"
     ]
    },
    {
     "name": "stdout",
     "output_type": "stream",
     "text": [
      "[d2lbook:execute.py:L404] INFO   Executing notebook with kernel: python\r\n"
     ]
    },
    {
     "name": "stdout",
     "output_type": "stream",
     "text": [
      "[d2lbook:build.py:L58] INFO   === Finished \"d2lbook build eval\" in 00:00:01\r\n",
      "[d2lbook:build.py:L183] INFO   2 rst files are outdated\r\n",
      "[d2lbook:build.py:L185] INFO   Convert _build/eval/get_started.ipynb to _build/rst/get_started.rst\r\n"
     ]
    },
    {
     "name": "stdout",
     "output_type": "stream",
     "text": [
      "[d2lbook:build.py:L185] INFO   Convert _build/eval/index.ipynb to _build/rst/index.rst\r\n"
     ]
    },
    {
     "name": "stdout",
     "output_type": "stream",
     "text": [
      "[d2lbook:build.py:L58] INFO   === Finished \"d2lbook build rst\" in 00:00:02\r\n",
      "[d2lbook:build.py:L58] INFO   === Finished \"d2lbook build ipynb\" in 00:00:00\r\n",
      "[d2lbook:build.py:L58] INFO   === Finished \"d2lbook build colab\" in 00:00:00\r\n",
      "[d2lbook:build.py:L58] INFO   === Finished \"d2lbook build sagemaker\" in 00:00:00\r\n"
     ]
    },
    {
     "name": "stdout",
     "output_type": "stream",
     "text": [
      "\u001b[01mRunning Sphinx v2.3.0\u001b[39;49;00m\r\n"
     ]
    },
    {
     "name": "stdout",
     "output_type": "stream",
     "text": [
      "\u001b[01mloading pickled environment... \u001b[39;49;00mdone\r\n",
      "\u001b[01mbuilding [mo]: \u001b[39;49;00mtargets for 0 po files that are out of date\r\n",
      "\u001b[01mbuilding [html]: \u001b[39;49;00mtargets for 2 source files that are out of date\r\n",
      "\u001b[01mupdating environment: \u001b[39;49;00m0 added, 2 changed, 0 removed\r\n",
      "\u001b[01mreading sources... \u001b[39;49;00m[ 50%] \u001b[35mget_started\u001b[39;49;00m                                           \r"
     ]
    },
    {
     "name": "stdout",
     "output_type": "stream",
     "text": [
      "\u001b[01mreading sources... \u001b[39;49;00m[100%] \u001b[35mindex\u001b[39;49;00m                                                 \r",
      "\r\n",
      "\u001b[01mlooking for now-outdated files... \u001b[39;49;00mnone found\r\n",
      "\u001b[01mpickling environment... \u001b[39;49;00mdone\r\n",
      "\u001b[01mchecking consistency... \u001b[39;49;00mdone\r\n",
      "\u001b[01mpreparing documents... \u001b[39;49;00mdone\r\n"
     ]
    },
    {
     "name": "stdout",
     "output_type": "stream",
     "text": [
      "\u001b[01mwriting output... \u001b[39;49;00m[100%] \u001b[32mindex\u001b[39;49;00m                                                  \r"
     ]
    },
    {
     "name": "stdout",
     "output_type": "stream",
     "text": [
      "\r\n",
      "\u001b[01mwaiting for workers...\u001b[39;49;00m\r\n",
      "\u001b[01mgenerating indices... \u001b[39;49;00m genindex"
     ]
    },
    {
     "name": "stdout",
     "output_type": "stream",
     "text": [
      "done\r\n",
      "\u001b[01mwriting additional pages... \u001b[39;49;00m searchdone\r\n",
      "\u001b[01mcopying static files... ... \u001b[39;49;00mdone\r\n",
      "\u001b[01mcopying extra files... \u001b[39;49;00mdone\r\n",
      "\u001b[01mdumping search index in English (code: en)... \u001b[39;49;00mdone\r\n",
      "\u001b[01mdumping object inventory... \u001b[39;49;00mdone\r\n",
      "\u001b[01mbuild succeeded.\u001b[39;49;00m\r\n",
      "\r\n",
      "The HTML pages are in _build/html.\r\n"
     ]
    },
    {
     "name": "stdout",
     "output_type": "stream",
     "text": [
      "[d2lbook:build.py:L58] INFO   === Finished \"d2lbook build html\" in 00:00:02\r\n"
     ]
    }
   ],
   "source": [
    "!cd cache; d2lbook build html"
   ]
  },
  {
   "cell_type": "markdown",
   "metadata": {},
   "source": [
    "Last, let's clean our workspace."
   ]
  },
  {
   "cell_type": "code",
   "execution_count": 10,
   "metadata": {},
   "outputs": [],
   "source": [
    "!rm -rf cache"
   ]
  }
 ],
 "metadata": {
  "kernelspec": {
   "display_name": "conda_python3",
   "name": "conda_python3"
  },
  "language_info": {
   "name": "python"
  }
 },
 "nbformat": 4,
 "nbformat_minor": 2
}