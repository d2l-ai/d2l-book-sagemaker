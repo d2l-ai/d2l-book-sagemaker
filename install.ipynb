{
 "cells": [
  {
   "cell_type": "markdown",
   "metadata": {},
   "source": [
    "# Installation\n",
    "\n",
    "The `d2lbook` package is tested under macOS and Linux. (You are welcome to\n",
    "contribute a Windows release).\n",
    "\n",
    "First make sure you have [pip](https://pip.pypa.io/en/stable/) available. In\n",
    "option, we recommend [conda](https://docs.conda.io/en/latest/miniconda.html) for\n",
    "libraries that `pip` doesn't support.\n",
    "\n",
    "Now install the command-line interface."
   ]
  },
  {
   "cell_type": "markdown",
   "metadata": {},
   "source": [
    "```sh\n",
    "pip install git+https://github.com/d2l-ai/d2l-book\n",
    "```\n"
   ]
  },
  {
   "cell_type": "markdown",
   "metadata": {},
   "source": [
    "This is a [d2lbook pip package](https://pypi.org/project/d2lbook/), but we\n",
    "recommend you to install latest version at Github directly since it's under fast\n",
    "developing.\n",
    "\n",
    "To build HTML results, we need [pandoc](https://pandoc.org/). You can install it\n",
    "through `conda install pandoc`.\n",
    "\n",
    "Building the PDF version requires\n",
    "[LibRsvg](https://wiki.gnome.org/Projects/LibRsvg) to convert your SVG images\n",
    "(our recommend format), e.g. `conda install librsvg`, and of course, you need to\n",
    "have a LaTeX distribution, e.g. [Tex Live](https://www.tug.org/texlive/), available,"
   ]
  }
 ],
 "metadata": {
  "kernelspec": {
   "display_name": "conda_python3",
   "name": "conda_python3"
  },
  "language_info": {
   "name": "python"
  }
 },
 "nbformat": 4,
 "nbformat_minor": 4
}