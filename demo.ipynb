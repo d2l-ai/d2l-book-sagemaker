{
 "cells": [
  {
   "cell_type": "markdown",
   "metadata": {},
   "source": [
    "# Building this Website\n",
    "\n",
    "You may find building this website is a good starting point for your\n",
    "project. The source codes of this site is available under\n",
    "[demo/](https://github.com/d2l-ai/d2l-book/tree/master/demo).\n",
    "\n",
    "Please make sure you have `git` (e.g. `conda install git`),  `numpy` and\n",
    "`matplotlib` (e.g. `pip install numpy matplotlib`) installed.\n",
    "The following command will download the source codes, evaluate all notebooks and generate outputs in\n",
    "`ipynb`, `html` and `pdf` format."
   ]
  },
  {
   "cell_type": "markdown",
   "metadata": {},
   "source": [
    "```sh\n",
    "git clone https://github.com/d2l-ai/d2l-book\n",
    "cd d2l-book/demo\n",
    "d2lbook build all\n",
    "```\n"
   ]
  },
  {
   "cell_type": "markdown",
   "metadata": {},
   "source": [
    "Once finished, you can check the results in the `_build` folder. For example, this page is in `_build/html/index.html`, the PDF version is at `_build/pdf/d2l-book.pdf`, all evaluated notebooks are under `_build/eval/`.\n",
    "\n",
    "You can build a particular format:"
   ]
  },
  {
   "cell_type": "markdown",
   "metadata": {},
   "source": [
    "```sh\n",
    "d2lbook build eval  # evaluate noteboks and save in .ipynb formats\n",
    "d2lbook build html  # build the HTML version\n",
    "d2lbook build pdf   # build the PDF version\n",
    "```\n"
   ]
  }
 ],
 "metadata": {
  "kernelspec": {
   "display_name": "conda_python3",
   "name": "conda_python3"
  },
  "language_info": {
   "name": "python"
  }
 },
 "nbformat": 4,
 "nbformat_minor": 4
}