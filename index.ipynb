{
 "cells": [
  {
   "cell_type": "markdown",
   "metadata": {},
   "source": [
    "# D2L-Book: A Toolkit for Hands-on Books\n",
    "\n",
    "The D2L Book (`d2lbook`) package helps you build and publish **a book\n",
    "with Python codes**, or **Python package documents with tutorials**. You can\n",
    "check [Dive into Deep Learning](https://d2l.ai/) for a book\n",
    "example and [AutoGluon](https://autogluon.mxnet.io/) for a package document site\n",
    "example.\n",
    "\n",
    "The `d2lbook` is designed to meet the following two requirements:\n",
    "\n",
    "- Your book may contain **a large amount of Python codes** and you\n",
    "  expect your readers to run them. Or your package documents have **multiple\n",
    "  tutorials** to walk readers through your package usage through examples.\n",
    "  These codes should be runnable and maintainable.\n",
    "\n",
    "- You would like to publish **both a HTML website and a printable PDF\n",
    "  version**. You expect the website should be modern, searchable and mobile\n",
    "  friendly, and the PDF version should be at the same quality as written using LaTeX.\n",
    "\n",
    "\n",
    "To achieve the above goals, `d2lbook` combines\n",
    "[Jupyter Notebook](https://jupyter.org/), the widely used interactive\n",
    "environment in Python, and [Sphinx](http://www.sphinx-doc.org/en/master/), the\n",
    "de facto document building system for Python packages. In particular, its main\n",
    "features include:\n",
    "\n",
    "- Using [markdown](https://daringfireball.net/projects/markdown/) for your contents.\n",
    "- A minimal configuration file to customize the building so you can focus on the\n",
    "  contents.\n",
    "- Evaluating all codes to obtain their output before publishing to validate the\n",
    "  correctness. We only evaluate the updated codes to save cost.\n",
    "- Being able to reference sections, figure, tables, equations, function, and\n",
    "  class.\n",
    "- Pipelines to publish your website through Github or AWS.\n",
    "\n",
    "If `d2lbook` does not fit your requirements, you may check the following tools:\n",
    "\n",
    "- [Jupyter book](https://jupyterbook.org/intro): very similar to `d2lbook` for\n",
    "  publishing Jupyter notebooks. Two main design differences are 1) `d2lbook`\n",
    "  encourage you to use markdown file format and remove all code outputs before\n",
    "  saving notebooks. 2) `d2lbook` uses Sphinx instead of Jekyll adopted by\n",
    "  Jupyter book to build the document.\n",
    "  Jekyll is easier to customize the theme, while Sphinx has better supports for PDF and analyzing Python codes.\n",
    "- [gitbook](https://www.gitbook.com/): very convenient to push a book written\n",
    "  with markdown if you don't need to run them as Jupyter notebooks.\n",
    "- [sphinx-gallery](https://sphinx-gallery.github.io/stable/index.html), a Sphinx\n",
    "  plugin to evaluate and publish your tutorials. It requires you to know how\n",
    "  to use Sphinx and write your tutorials in `.py` format with the `rst` style."
   ]
  },
  {
   "cell_type": "markdown",
   "metadata": {},
   "source": [
    "```eval_rst\n",
    ".. only:: html\n",
    "\n",
    "   Table of Contents\n",
    "   -----------------\n",
    "```\n"
   ]
  },
  {
   "cell_type": "markdown",
   "metadata": {},
   "source": [
    " - [install](install.ipynb)\n",
    " - [user/index](user/index.ipynb)\n",
    " - [develop/index](develop/index.ipynb)\n"
   ]
  }
 ],
 "metadata": {
  "kernelspec": {
   "display_name": "conda_python3",
   "name": "conda_python3"
  },
  "language_info": {
   "name": "python"
  }
 },
 "nbformat": 4,
 "nbformat_minor": 4
}